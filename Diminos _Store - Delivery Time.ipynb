{
 "cells": [
  {
   "cell_type": "markdown",
   "id": "3f3d96ae",
   "metadata": {},
   "source": [
    "## Importing Required Libraries"
   ]
  },
  {
   "cell_type": "code",
   "execution_count": 473,
   "id": "0b22be15",
   "metadata": {},
   "outputs": [],
   "source": [
    "import pandas as pd\n",
    "import numpy as np\n",
    "import warnings\n",
    "warnings.filterwarnings(\"ignore\")"
   ]
  },
  {
   "cell_type": "markdown",
   "id": "4d80b459",
   "metadata": {},
   "source": [
    "## Read DataFrame"
   ]
  },
  {
   "cell_type": "code",
   "execution_count": 452,
   "id": "00680a53",
   "metadata": {},
   "outputs": [
    {
     "data": {
      "text/html": [
       "<div>\n",
       "<style scoped>\n",
       "    .dataframe tbody tr th:only-of-type {\n",
       "        vertical-align: middle;\n",
       "    }\n",
       "\n",
       "    .dataframe tbody tr th {\n",
       "        vertical-align: top;\n",
       "    }\n",
       "\n",
       "    .dataframe thead th {\n",
       "        text-align: right;\n",
       "    }\n",
       "</style>\n",
       "<table border=\"1\" class=\"dataframe\">\n",
       "  <thead>\n",
       "    <tr style=\"text-align: right;\">\n",
       "      <th></th>\n",
       "      <th>order_id</th>\n",
       "      <th>order_placed_at</th>\n",
       "      <th>order_delivered_at</th>\n",
       "    </tr>\n",
       "  </thead>\n",
       "  <tbody>\n",
       "    <tr>\n",
       "      <th>0</th>\n",
       "      <td>1523111</td>\n",
       "      <td>2023-03-01 00:00:59</td>\n",
       "      <td>2023-03-01 00:18:07.443132</td>\n",
       "    </tr>\n",
       "    <tr>\n",
       "      <th>1</th>\n",
       "      <td>1523112</td>\n",
       "      <td>2023-03-01 00:03:59</td>\n",
       "      <td>2023-03-01 00:19:34.925241</td>\n",
       "    </tr>\n",
       "    <tr>\n",
       "      <th>2</th>\n",
       "      <td>1523113</td>\n",
       "      <td>2023-03-01 00:07:22</td>\n",
       "      <td>2023-03-01 00:22:28.291385</td>\n",
       "    </tr>\n",
       "    <tr>\n",
       "      <th>3</th>\n",
       "      <td>1523114</td>\n",
       "      <td>2023-03-01 00:07:47</td>\n",
       "      <td>2023-03-01 00:46:19.019399</td>\n",
       "    </tr>\n",
       "    <tr>\n",
       "      <th>4</th>\n",
       "      <td>1523115</td>\n",
       "      <td>2023-03-01 00:09:03</td>\n",
       "      <td>2023-03-01 00:25:13.619056</td>\n",
       "    </tr>\n",
       "  </tbody>\n",
       "</table>\n",
       "</div>"
      ],
      "text/plain": [
       "   order_id      order_placed_at          order_delivered_at\n",
       "0   1523111  2023-03-01 00:00:59  2023-03-01 00:18:07.443132\n",
       "1   1523112  2023-03-01 00:03:59  2023-03-01 00:19:34.925241\n",
       "2   1523113  2023-03-01 00:07:22  2023-03-01 00:22:28.291385\n",
       "3   1523114  2023-03-01 00:07:47  2023-03-01 00:46:19.019399\n",
       "4   1523115  2023-03-01 00:09:03  2023-03-01 00:25:13.619056"
      ]
     },
     "execution_count": 452,
     "metadata": {},
     "output_type": "execute_result"
    }
   ],
   "source": [
    "df=pd.read_csv(r\"C:\\Users\\Irfan\\Downloads\\diminos_data.csv\")\n",
    "df.head()"
   ]
  },
  {
   "cell_type": "markdown",
   "id": "cf97db0e",
   "metadata": {},
   "source": [
    "## Basic Exploration"
   ]
  },
  {
   "cell_type": "code",
   "execution_count": 481,
   "id": "a25db774",
   "metadata": {},
   "outputs": [
    {
     "name": "stdout",
     "output_type": "stream",
     "text": [
      "<class 'pandas.core.frame.DataFrame'>\n",
      "RangeIndex: 15000 entries, 0 to 14999\n",
      "Data columns (total 5 columns):\n",
      " #   Column                Non-Null Count  Dtype         \n",
      "---  ------                --------------  -----         \n",
      " 0   order_id              15000 non-null  int64         \n",
      " 1   order_placed_time     15000 non-null  datetime64[ns]\n",
      " 2   order_delivered_time  15000 non-null  datetime64[ns]\n",
      " 3   weak_of_day           15000 non-null  object        \n",
      " 4   delivery_in_time      15000 non-null  float64       \n",
      "dtypes: datetime64[ns](2), float64(1), int64(1), object(1)\n",
      "memory usage: 586.1+ KB\n"
     ]
    }
   ],
   "source": [
    "df.info()"
   ]
  },
  {
   "cell_type": "code",
   "execution_count": 453,
   "id": "9438d8c2",
   "metadata": {},
   "outputs": [],
   "source": [
    "df['order_placed_time']=df['order_placed_at'].apply(lambda x:str(x).split()[1])"
   ]
  },
  {
   "cell_type": "code",
   "execution_count": 454,
   "id": "95a1eff5",
   "metadata": {},
   "outputs": [],
   "source": [
    "df['order_delivered_time']=df['order_delivered_at'].apply(lambda x:str(x).split()[1])"
   ]
  },
  {
   "cell_type": "code",
   "execution_count": 455,
   "id": "8f12083c",
   "metadata": {},
   "outputs": [
    {
     "data": {
      "text/html": [
       "<div>\n",
       "<style scoped>\n",
       "    .dataframe tbody tr th:only-of-type {\n",
       "        vertical-align: middle;\n",
       "    }\n",
       "\n",
       "    .dataframe tbody tr th {\n",
       "        vertical-align: top;\n",
       "    }\n",
       "\n",
       "    .dataframe thead th {\n",
       "        text-align: right;\n",
       "    }\n",
       "</style>\n",
       "<table border=\"1\" class=\"dataframe\">\n",
       "  <thead>\n",
       "    <tr style=\"text-align: right;\">\n",
       "      <th></th>\n",
       "      <th>order_id</th>\n",
       "      <th>order_placed_at</th>\n",
       "      <th>order_delivered_at</th>\n",
       "      <th>order_placed_time</th>\n",
       "      <th>order_delivered_time</th>\n",
       "    </tr>\n",
       "  </thead>\n",
       "  <tbody>\n",
       "    <tr>\n",
       "      <th>0</th>\n",
       "      <td>1523111</td>\n",
       "      <td>2023-03-01 00:00:59</td>\n",
       "      <td>2023-03-01 00:18:07.443132</td>\n",
       "      <td>00:00:59</td>\n",
       "      <td>00:18:07.443132</td>\n",
       "    </tr>\n",
       "    <tr>\n",
       "      <th>1</th>\n",
       "      <td>1523112</td>\n",
       "      <td>2023-03-01 00:03:59</td>\n",
       "      <td>2023-03-01 00:19:34.925241</td>\n",
       "      <td>00:03:59</td>\n",
       "      <td>00:19:34.925241</td>\n",
       "    </tr>\n",
       "    <tr>\n",
       "      <th>2</th>\n",
       "      <td>1523113</td>\n",
       "      <td>2023-03-01 00:07:22</td>\n",
       "      <td>2023-03-01 00:22:28.291385</td>\n",
       "      <td>00:07:22</td>\n",
       "      <td>00:22:28.291385</td>\n",
       "    </tr>\n",
       "    <tr>\n",
       "      <th>3</th>\n",
       "      <td>1523114</td>\n",
       "      <td>2023-03-01 00:07:47</td>\n",
       "      <td>2023-03-01 00:46:19.019399</td>\n",
       "      <td>00:07:47</td>\n",
       "      <td>00:46:19.019399</td>\n",
       "    </tr>\n",
       "    <tr>\n",
       "      <th>4</th>\n",
       "      <td>1523115</td>\n",
       "      <td>2023-03-01 00:09:03</td>\n",
       "      <td>2023-03-01 00:25:13.619056</td>\n",
       "      <td>00:09:03</td>\n",
       "      <td>00:25:13.619056</td>\n",
       "    </tr>\n",
       "  </tbody>\n",
       "</table>\n",
       "</div>"
      ],
      "text/plain": [
       "   order_id      order_placed_at          order_delivered_at  \\\n",
       "0   1523111  2023-03-01 00:00:59  2023-03-01 00:18:07.443132   \n",
       "1   1523112  2023-03-01 00:03:59  2023-03-01 00:19:34.925241   \n",
       "2   1523113  2023-03-01 00:07:22  2023-03-01 00:22:28.291385   \n",
       "3   1523114  2023-03-01 00:07:47  2023-03-01 00:46:19.019399   \n",
       "4   1523115  2023-03-01 00:09:03  2023-03-01 00:25:13.619056   \n",
       "\n",
       "  order_placed_time order_delivered_time  \n",
       "0          00:00:59      00:18:07.443132  \n",
       "1          00:03:59      00:19:34.925241  \n",
       "2          00:07:22      00:22:28.291385  \n",
       "3          00:07:47      00:46:19.019399  \n",
       "4          00:09:03      00:25:13.619056  "
      ]
     },
     "execution_count": 455,
     "metadata": {},
     "output_type": "execute_result"
    }
   ],
   "source": [
    "df.head()"
   ]
  },
  {
   "cell_type": "markdown",
   "id": "805217e4",
   "metadata": {},
   "source": [
    "## Cleaning and Type casting"
   ]
  },
  {
   "cell_type": "code",
   "execution_count": 456,
   "id": "0445fef1",
   "metadata": {},
   "outputs": [
    {
     "data": {
      "text/plain": [
       "0    2023-03-01 23:00:00\n",
       "1    2023-02-28 24:00:00\n",
       "dtype: object"
      ]
     },
     "execution_count": 456,
     "metadata": {},
     "output_type": "execute_result"
    }
   ],
   "source": [
    "import datetime\n",
    "s = pd.Series(['2015-12-01 23:00:00', '2015-12-01 00:00:00'])\n",
    "s = pd.Series(['2023-03-01 23:00:00', '2023-03-01 00:00:00'])\n",
    "s = pd.to_datetime(s)\n",
    "s.where(s.dt.time != datetime.time(0),\n",
    "        ((s-pd.to_timedelta('1day'))\n",
    "         .dt.strftime('%Y-%m-%d %H:%M:%S')\n",
    "         .str.replace('00:00:00', '24:00:00')\n",
    "        )\n",
    "       )\n"
   ]
  },
  {
   "cell_type": "code",
   "execution_count": 457,
   "id": "8f87a9ef",
   "metadata": {},
   "outputs": [],
   "source": [
    "df['order_placed_at'] = pd.to_datetime(df['order_placed_at'])\n",
    "df['order_placed_at'] = df['order_placed_at'].where(df['order_placed_at'].dt.time != datetime.time(0),\n",
    "                              (df['order_placed_at']-pd.to_timedelta('1s'))\n",
    "                             )\n",
    "df['weak_of_day'] = df['order_placed_at'].dt.day_name()\n"
   ]
  },
  {
   "cell_type": "code",
   "execution_count": 458,
   "id": "f02411ea",
   "metadata": {},
   "outputs": [
    {
     "name": "stdout",
     "output_type": "stream",
     "text": [
      "<class 'pandas.core.frame.DataFrame'>\n",
      "RangeIndex: 15000 entries, 0 to 14999\n",
      "Data columns (total 6 columns):\n",
      " #   Column                Non-Null Count  Dtype         \n",
      "---  ------                --------------  -----         \n",
      " 0   order_id              15000 non-null  int64         \n",
      " 1   order_placed_at       15000 non-null  datetime64[ns]\n",
      " 2   order_delivered_at    15000 non-null  object        \n",
      " 3   order_placed_time     15000 non-null  object        \n",
      " 4   order_delivered_time  15000 non-null  object        \n",
      " 5   weak_of_day           15000 non-null  object        \n",
      "dtypes: datetime64[ns](1), int64(1), object(4)\n",
      "memory usage: 703.2+ KB\n"
     ]
    }
   ],
   "source": [
    "df.info()"
   ]
  },
  {
   "cell_type": "code",
   "execution_count": 459,
   "id": "949be51e",
   "metadata": {},
   "outputs": [],
   "source": [
    "df['order_placed_time']=pd.to_datetime(df['order_placed_time'])\n",
    "df['order_delivered_time']=pd.to_datetime(df['order_delivered_time'])\n",
    "df['order_delivered_at']=pd.to_datetime(df['order_delivered_at'])\n"
   ]
  },
  {
   "cell_type": "code",
   "execution_count": 460,
   "id": "d97772a6",
   "metadata": {},
   "outputs": [],
   "source": [
    "df['delivery_in_time']=(df[\"order_placed_at\"]-df[\"order_delivered_at\"]).dt.total_seconds()/-60"
   ]
  },
  {
   "cell_type": "code",
   "execution_count": 461,
   "id": "24735f5b",
   "metadata": {},
   "outputs": [
    {
     "data": {
      "text/html": [
       "<div>\n",
       "<style scoped>\n",
       "    .dataframe tbody tr th:only-of-type {\n",
       "        vertical-align: middle;\n",
       "    }\n",
       "\n",
       "    .dataframe tbody tr th {\n",
       "        vertical-align: top;\n",
       "    }\n",
       "\n",
       "    .dataframe thead th {\n",
       "        text-align: right;\n",
       "    }\n",
       "</style>\n",
       "<table border=\"1\" class=\"dataframe\">\n",
       "  <thead>\n",
       "    <tr style=\"text-align: right;\">\n",
       "      <th></th>\n",
       "      <th>order_id</th>\n",
       "      <th>order_placed_at</th>\n",
       "      <th>order_delivered_at</th>\n",
       "      <th>order_placed_time</th>\n",
       "      <th>order_delivered_time</th>\n",
       "      <th>weak_of_day</th>\n",
       "      <th>delivery_in_time</th>\n",
       "    </tr>\n",
       "  </thead>\n",
       "  <tbody>\n",
       "    <tr>\n",
       "      <th>0</th>\n",
       "      <td>1523111</td>\n",
       "      <td>2023-03-01 00:00:59</td>\n",
       "      <td>2023-03-01 00:18:07.443132</td>\n",
       "      <td>2023-03-30 00:00:59</td>\n",
       "      <td>2023-03-30 00:18:07.443132</td>\n",
       "      <td>Wednesday</td>\n",
       "      <td>17.140719</td>\n",
       "    </tr>\n",
       "    <tr>\n",
       "      <th>1</th>\n",
       "      <td>1523112</td>\n",
       "      <td>2023-03-01 00:03:59</td>\n",
       "      <td>2023-03-01 00:19:34.925241</td>\n",
       "      <td>2023-03-30 00:03:59</td>\n",
       "      <td>2023-03-30 00:19:34.925241</td>\n",
       "      <td>Wednesday</td>\n",
       "      <td>15.598754</td>\n",
       "    </tr>\n",
       "    <tr>\n",
       "      <th>2</th>\n",
       "      <td>1523113</td>\n",
       "      <td>2023-03-01 00:07:22</td>\n",
       "      <td>2023-03-01 00:22:28.291385</td>\n",
       "      <td>2023-03-30 00:07:22</td>\n",
       "      <td>2023-03-30 00:22:28.291385</td>\n",
       "      <td>Wednesday</td>\n",
       "      <td>15.104856</td>\n",
       "    </tr>\n",
       "    <tr>\n",
       "      <th>3</th>\n",
       "      <td>1523114</td>\n",
       "      <td>2023-03-01 00:07:47</td>\n",
       "      <td>2023-03-01 00:46:19.019399</td>\n",
       "      <td>2023-03-30 00:07:47</td>\n",
       "      <td>2023-03-30 00:46:19.019399</td>\n",
       "      <td>Wednesday</td>\n",
       "      <td>38.533657</td>\n",
       "    </tr>\n",
       "    <tr>\n",
       "      <th>4</th>\n",
       "      <td>1523115</td>\n",
       "      <td>2023-03-01 00:09:03</td>\n",
       "      <td>2023-03-01 00:25:13.619056</td>\n",
       "      <td>2023-03-30 00:09:03</td>\n",
       "      <td>2023-03-30 00:25:13.619056</td>\n",
       "      <td>Wednesday</td>\n",
       "      <td>16.176984</td>\n",
       "    </tr>\n",
       "  </tbody>\n",
       "</table>\n",
       "</div>"
      ],
      "text/plain": [
       "   order_id     order_placed_at         order_delivered_at  \\\n",
       "0   1523111 2023-03-01 00:00:59 2023-03-01 00:18:07.443132   \n",
       "1   1523112 2023-03-01 00:03:59 2023-03-01 00:19:34.925241   \n",
       "2   1523113 2023-03-01 00:07:22 2023-03-01 00:22:28.291385   \n",
       "3   1523114 2023-03-01 00:07:47 2023-03-01 00:46:19.019399   \n",
       "4   1523115 2023-03-01 00:09:03 2023-03-01 00:25:13.619056   \n",
       "\n",
       "    order_placed_time       order_delivered_time weak_of_day  delivery_in_time  \n",
       "0 2023-03-30 00:00:59 2023-03-30 00:18:07.443132   Wednesday         17.140719  \n",
       "1 2023-03-30 00:03:59 2023-03-30 00:19:34.925241   Wednesday         15.598754  \n",
       "2 2023-03-30 00:07:22 2023-03-30 00:22:28.291385   Wednesday         15.104856  \n",
       "3 2023-03-30 00:07:47 2023-03-30 00:46:19.019399   Wednesday         38.533657  \n",
       "4 2023-03-30 00:09:03 2023-03-30 00:25:13.619056   Wednesday         16.176984  "
      ]
     },
     "execution_count": 461,
     "metadata": {},
     "output_type": "execute_result"
    }
   ],
   "source": [
    "df.head()"
   ]
  },
  {
   "cell_type": "code",
   "execution_count": 462,
   "id": "c12723b2",
   "metadata": {},
   "outputs": [],
   "source": [
    "df.drop(['order_placed_at', 'order_delivered_at'], axis=1,inplace=True)"
   ]
  },
  {
   "cell_type": "code",
   "execution_count": 463,
   "id": "15b56a26",
   "metadata": {},
   "outputs": [
    {
     "name": "stdout",
     "output_type": "stream",
     "text": [
      "<class 'pandas.core.frame.DataFrame'>\n",
      "RangeIndex: 15000 entries, 0 to 14999\n",
      "Data columns (total 5 columns):\n",
      " #   Column                Non-Null Count  Dtype         \n",
      "---  ------                --------------  -----         \n",
      " 0   order_id              15000 non-null  int64         \n",
      " 1   order_placed_time     15000 non-null  datetime64[ns]\n",
      " 2   order_delivered_time  15000 non-null  datetime64[ns]\n",
      " 3   weak_of_day           15000 non-null  object        \n",
      " 4   delivery_in_time      15000 non-null  float64       \n",
      "dtypes: datetime64[ns](2), float64(1), int64(1), object(1)\n",
      "memory usage: 586.1+ KB\n"
     ]
    }
   ],
   "source": [
    "df.info()"
   ]
  },
  {
   "cell_type": "markdown",
   "id": "bcb8e587",
   "metadata": {},
   "source": [
    "## cheacking Null values"
   ]
  },
  {
   "cell_type": "code",
   "execution_count": 464,
   "id": "7539c142",
   "metadata": {},
   "outputs": [
    {
     "data": {
      "text/plain": [
       "order_id                0\n",
       "order_placed_time       0\n",
       "order_delivered_time    0\n",
       "weak_of_day             0\n",
       "delivery_in_time        0\n",
       "dtype: int64"
      ]
     },
     "execution_count": 464,
     "metadata": {},
     "output_type": "execute_result"
    }
   ],
   "source": [
    "df.isnull().sum()"
   ]
  },
  {
   "cell_type": "code",
   "execution_count": 465,
   "id": "4f0aaed0",
   "metadata": {},
   "outputs": [
    {
     "data": {
      "text/plain": [
       "0"
      ]
     },
     "execution_count": 465,
     "metadata": {},
     "output_type": "execute_result"
    }
   ],
   "source": [
    "## drop duplicates\n",
    "df.duplicated().sum()"
   ]
  },
  {
   "cell_type": "code",
   "execution_count": 482,
   "id": "792d7369",
   "metadata": {},
   "outputs": [],
   "source": [
    "## outliers detection & treatments"
   ]
  },
  {
   "cell_type": "code",
   "execution_count": 466,
   "id": "a80074c6",
   "metadata": {},
   "outputs": [
    {
     "data": {
      "text/plain": [
       "<AxesSubplot:>"
      ]
     },
     "execution_count": 466,
     "metadata": {},
     "output_type": "execute_result"
    },
    {
     "data": {
      "image/png": "[encoded data removed]",
      "text/plain": [
       "<Figure size 1296x720 with 1 Axes>"
      ]
     },
     "metadata": {
      "needs_background": "light"
     },
     "output_type": "display_data"
    }
   ],
   "source": [
    "df['delivery_in_time'].plot(kind='box',figsize=(18,10))"
   ]
  },
  {
   "cell_type": "code",
   "execution_count": 467,
   "id": "58210fac",
   "metadata": {},
   "outputs": [
    {
     "data": {
      "text/plain": [
       "count    15000.000000\n",
       "mean        20.499389\n",
       "std         96.160362\n",
       "min         15.000010\n",
       "50%         15.797986\n",
       "90%         21.156905\n",
       "95%         27.261044\n",
       "96.0%       30.047378\n",
       "max       7299.831375\n",
       "Name: delivery_in_time, dtype: float64"
      ]
     },
     "execution_count": 467,
     "metadata": {},
     "output_type": "execute_result"
    }
   ],
   "source": [
    "df['delivery_in_time'].describe(percentiles=[0.90,0.95,0.9598])"
   ]
  },
  {
   "cell_type": "code",
   "execution_count": 468,
   "id": "d964d2c1",
   "metadata": {},
   "outputs": [
    {
     "data": {
      "text/plain": [
       "<AxesSubplot:>"
      ]
     },
     "execution_count": 468,
     "metadata": {},
     "output_type": "execute_result"
    },
    {
     "data": {
      "image/png": "[encoded data removed]",
      "text/plain": [
       "<Figure size 1296x720 with 1 Axes>"
      ]
     },
     "metadata": {
      "needs_background": "light"
     },
     "output_type": "display_data"
    }
   ],
   "source": [
    "clean_df=df[df.delivery_in_time<=120]\n",
    "clean_df['delivery_in_time'].plot(kind='box',figsize=(18,10))"
   ]
  },
  {
   "cell_type": "code",
   "execution_count": 469,
   "id": "7ce7e71b",
   "metadata": {},
   "outputs": [
    {
     "data": {
      "text/html": [
       "<div>\n",
       "<style scoped>\n",
       "    .dataframe tbody tr th:only-of-type {\n",
       "        vertical-align: middle;\n",
       "    }\n",
       "\n",
       "    .dataframe tbody tr th {\n",
       "        vertical-align: top;\n",
       "    }\n",
       "\n",
       "    .dataframe thead th {\n",
       "        text-align: right;\n",
       "    }\n",
       "</style>\n",
       "<table border=\"1\" class=\"dataframe\">\n",
       "  <thead>\n",
       "    <tr style=\"text-align: right;\">\n",
       "      <th></th>\n",
       "      <th>order_id</th>\n",
       "      <th>order_placed_time</th>\n",
       "      <th>order_delivered_time</th>\n",
       "      <th>weak_of_day</th>\n",
       "      <th>delivery_in_time</th>\n",
       "    </tr>\n",
       "  </thead>\n",
       "  <tbody>\n",
       "    <tr>\n",
       "      <th>0</th>\n",
       "      <td>1523111</td>\n",
       "      <td>2023-03-30 00:00:59</td>\n",
       "      <td>2023-03-30 00:18:07.443132</td>\n",
       "      <td>Wednesday</td>\n",
       "      <td>17.140719</td>\n",
       "    </tr>\n",
       "    <tr>\n",
       "      <th>1</th>\n",
       "      <td>1523112</td>\n",
       "      <td>2023-03-30 00:03:59</td>\n",
       "      <td>2023-03-30 00:19:34.925241</td>\n",
       "      <td>Wednesday</td>\n",
       "      <td>15.598754</td>\n",
       "    </tr>\n",
       "    <tr>\n",
       "      <th>2</th>\n",
       "      <td>1523113</td>\n",
       "      <td>2023-03-30 00:07:22</td>\n",
       "      <td>2023-03-30 00:22:28.291385</td>\n",
       "      <td>Wednesday</td>\n",
       "      <td>15.104856</td>\n",
       "    </tr>\n",
       "    <tr>\n",
       "      <th>3</th>\n",
       "      <td>1523114</td>\n",
       "      <td>2023-03-30 00:07:47</td>\n",
       "      <td>2023-03-30 00:46:19.019399</td>\n",
       "      <td>Wednesday</td>\n",
       "      <td>38.533657</td>\n",
       "    </tr>\n",
       "    <tr>\n",
       "      <th>4</th>\n",
       "      <td>1523115</td>\n",
       "      <td>2023-03-30 00:09:03</td>\n",
       "      <td>2023-03-30 00:25:13.619056</td>\n",
       "      <td>Wednesday</td>\n",
       "      <td>16.176984</td>\n",
       "    </tr>\n",
       "    <tr>\n",
       "      <th>...</th>\n",
       "      <td>...</td>\n",
       "      <td>...</td>\n",
       "      <td>...</td>\n",
       "      <td>...</td>\n",
       "      <td>...</td>\n",
       "    </tr>\n",
       "    <tr>\n",
       "      <th>14995</th>\n",
       "      <td>1538106</td>\n",
       "      <td>2023-03-30 23:37:05</td>\n",
       "      <td>2023-03-30 23:52:37.409378</td>\n",
       "      <td>Monday</td>\n",
       "      <td>15.540156</td>\n",
       "    </tr>\n",
       "    <tr>\n",
       "      <th>14996</th>\n",
       "      <td>1538107</td>\n",
       "      <td>2023-03-30 23:47:38</td>\n",
       "      <td>2023-03-30 00:04:22.672912</td>\n",
       "      <td>Monday</td>\n",
       "      <td>16.744549</td>\n",
       "    </tr>\n",
       "    <tr>\n",
       "      <th>14997</th>\n",
       "      <td>1538108</td>\n",
       "      <td>2023-03-30 23:50:16</td>\n",
       "      <td>2023-03-30 00:05:40.676238</td>\n",
       "      <td>Monday</td>\n",
       "      <td>15.411271</td>\n",
       "    </tr>\n",
       "    <tr>\n",
       "      <th>14998</th>\n",
       "      <td>1538109</td>\n",
       "      <td>2023-03-30 23:52:44</td>\n",
       "      <td>2023-03-30 00:08:41.810358</td>\n",
       "      <td>Monday</td>\n",
       "      <td>15.963506</td>\n",
       "    </tr>\n",
       "    <tr>\n",
       "      <th>14999</th>\n",
       "      <td>1538110</td>\n",
       "      <td>2023-03-30 23:58:20</td>\n",
       "      <td>2023-03-30 00:13:42.499311</td>\n",
       "      <td>Monday</td>\n",
       "      <td>15.374989</td>\n",
       "    </tr>\n",
       "  </tbody>\n",
       "</table>\n",
       "<p>14931 rows × 5 columns</p>\n",
       "</div>"
      ],
      "text/plain": [
       "       order_id   order_placed_time       order_delivered_time weak_of_day  \\\n",
       "0       1523111 2023-03-30 00:00:59 2023-03-30 00:18:07.443132   Wednesday   \n",
       "1       1523112 2023-03-30 00:03:59 2023-03-30 00:19:34.925241   Wednesday   \n",
       "2       1523113 2023-03-30 00:07:22 2023-03-30 00:22:28.291385   Wednesday   \n",
       "3       1523114 2023-03-30 00:07:47 2023-03-30 00:46:19.019399   Wednesday   \n",
       "4       1523115 2023-03-30 00:09:03 2023-03-30 00:25:13.619056   Wednesday   \n",
       "...         ...                 ...                        ...         ...   \n",
       "14995   1538106 2023-03-30 23:37:05 2023-03-30 23:52:37.409378      Monday   \n",
       "14996   1538107 2023-03-30 23:47:38 2023-03-30 00:04:22.672912      Monday   \n",
       "14997   1538108 2023-03-30 23:50:16 2023-03-30 00:05:40.676238      Monday   \n",
       "14998   1538109 2023-03-30 23:52:44 2023-03-30 00:08:41.810358      Monday   \n",
       "14999   1538110 2023-03-30 23:58:20 2023-03-30 00:13:42.499311      Monday   \n",
       "\n",
       "       delivery_in_time  \n",
       "0             17.140719  \n",
       "1             15.598754  \n",
       "2             15.104856  \n",
       "3             38.533657  \n",
       "4             16.176984  \n",
       "...                 ...  \n",
       "14995         15.540156  \n",
       "14996         16.744549  \n",
       "14997         15.411271  \n",
       "14998         15.963506  \n",
       "14999         15.374989  \n",
       "\n",
       "[14931 rows x 5 columns]"
      ]
     },
     "execution_count": 469,
     "metadata": {},
     "output_type": "execute_result"
    }
   ],
   "source": [
    "clean_df"
   ]
  },
  {
   "cell_type": "code",
   "execution_count": 470,
   "id": "9e9f9532",
   "metadata": {},
   "outputs": [
    {
     "data": {
      "text/html": [
       "<div>\n",
       "<style scoped>\n",
       "    .dataframe tbody tr th:only-of-type {\n",
       "        vertical-align: middle;\n",
       "    }\n",
       "\n",
       "    .dataframe tbody tr th {\n",
       "        vertical-align: top;\n",
       "    }\n",
       "\n",
       "    .dataframe thead th {\n",
       "        text-align: right;\n",
       "    }\n",
       "</style>\n",
       "<table border=\"1\" class=\"dataframe\">\n",
       "  <thead>\n",
       "    <tr style=\"text-align: right;\">\n",
       "      <th>weak_of_day</th>\n",
       "      <th>Friday</th>\n",
       "      <th>Monday</th>\n",
       "      <th>Saturday</th>\n",
       "      <th>Sunday</th>\n",
       "      <th>Thursday</th>\n",
       "      <th>Tuesday</th>\n",
       "      <th>Wednesday</th>\n",
       "    </tr>\n",
       "  </thead>\n",
       "  <tbody>\n",
       "    <tr>\n",
       "      <th>delivery_in_time</th>\n",
       "      <td>17.536175</td>\n",
       "      <td>17.814426</td>\n",
       "      <td>17.878277</td>\n",
       "      <td>17.595514</td>\n",
       "      <td>17.82027</td>\n",
       "      <td>17.983598</td>\n",
       "      <td>17.756675</td>\n",
       "    </tr>\n",
       "  </tbody>\n",
       "</table>\n",
       "</div>"
      ],
      "text/plain": [
       "weak_of_day          Friday     Monday   Saturday     Sunday  Thursday  \\\n",
       "delivery_in_time  17.536175  17.814426  17.878277  17.595514  17.82027   \n",
       "\n",
       "weak_of_day         Tuesday  Wednesday  \n",
       "delivery_in_time  17.983598  17.756675  "
      ]
     },
     "execution_count": 470,
     "metadata": {},
     "output_type": "execute_result"
    }
   ],
   "source": [
    "table = pd.pivot_table(clean_df, values=['delivery_in_time'], columns=['weak_of_day'],aggfunc={'delivery_in_time': np.mean})\n",
    "table"
   ]
  },
  {
   "cell_type": "code",
   "execution_count": 471,
   "id": "3f1d15fa",
   "metadata": {},
   "outputs": [
    {
     "data": {
      "text/html": [
       "<div>\n",
       "<style scoped>\n",
       "    .dataframe tbody tr th:only-of-type {\n",
       "        vertical-align: middle;\n",
       "    }\n",
       "\n",
       "    .dataframe tbody tr th {\n",
       "        vertical-align: top;\n",
       "    }\n",
       "\n",
       "    .dataframe thead th {\n",
       "        text-align: right;\n",
       "    }\n",
       "</style>\n",
       "<table border=\"1\" class=\"dataframe\">\n",
       "  <thead>\n",
       "    <tr style=\"text-align: right;\">\n",
       "      <th>weak_of_day</th>\n",
       "      <th>Friday</th>\n",
       "      <th>Monday</th>\n",
       "      <th>Saturday</th>\n",
       "      <th>Sunday</th>\n",
       "      <th>Thursday</th>\n",
       "      <th>Tuesday</th>\n",
       "      <th>Wednesday</th>\n",
       "    </tr>\n",
       "  </thead>\n",
       "  <tbody>\n",
       "    <tr>\n",
       "      <th>delivery_in_time</th>\n",
       "      <td>6.072956</td>\n",
       "      <td>6.765252</td>\n",
       "      <td>8.078968</td>\n",
       "      <td>6.655645</td>\n",
       "      <td>7.792529</td>\n",
       "      <td>7.034612</td>\n",
       "      <td>7.359572</td>\n",
       "    </tr>\n",
       "  </tbody>\n",
       "</table>\n",
       "</div>"
      ],
      "text/plain": [
       "weak_of_day         Friday    Monday  Saturday    Sunday  Thursday   Tuesday  \\\n",
       "delivery_in_time  6.072956  6.765252  8.078968  6.655645  7.792529  7.034612   \n",
       "\n",
       "weak_of_day       Wednesday  \n",
       "delivery_in_time   7.359572  "
      ]
     },
     "execution_count": 471,
     "metadata": {},
     "output_type": "execute_result"
    }
   ],
   "source": [
    "table1 = pd.pivot_table(clean_df, values=['delivery_in_time'], columns=['weak_of_day'],aggfunc={'delivery_in_time': np.std})\n",
    "table1"
   ]
  },
  {
   "cell_type": "code",
   "execution_count": 472,
   "id": "ad75f31f",
   "metadata": {},
   "outputs": [
    {
     "data": {
      "image/png": "[encoded data removed]",
      "text/plain": [
       "<Figure size 1440x432 with 1 Axes>"
      ]
     },
     "metadata": {
      "needs_background": "light"
     },
     "output_type": "display_data"
    },
    {
     "data": {
      "image/png": "[encoded data removed]",
      "text/plain": [
       "<Figure size 1440x432 with 1 Axes>"
      ]
     },
     "metadata": {
      "needs_background": "light"
     },
     "output_type": "display_data"
    }
   ],
   "source": [
    "table.plot(kind='barh',figsize=(20,6),title='Mean',grid=True)\n",
    "table1.plot(kind='barh',figsize=(20,6),title='Standard deviation',grid=True);"
   ]
  },
  {
   "cell_type": "markdown",
   "id": "94385e31",
   "metadata": {},
   "source": [
    "# Observation:\n",
    "        - By observing the above graphs we can conclude that avg delivery time for all week_of_days is approximately equal \n",
    "        and  spread is less for Friday so that on friday the performance of delivery executives is best."
   ]
  },
  {
   "cell_type": "code",
   "execution_count": 474,
   "id": "6090397e",
   "metadata": {},
   "outputs": [],
   "source": [
    "clean_df[\"Delivered_Status\"] = (clean_df['delivery_in_time']).apply(lambda n: \"Free_Pizza\" if n > 30 else (\"Delivered_In_Time\"))"
   ]
  },
  {
   "cell_type": "code",
   "execution_count": 340,
   "id": "49840dc3",
   "metadata": {},
   "outputs": [
    {
     "data": {
      "text/html": [
       "<div>\n",
       "<style scoped>\n",
       "    .dataframe tbody tr th:only-of-type {\n",
       "        vertical-align: middle;\n",
       "    }\n",
       "\n",
       "    .dataframe tbody tr th {\n",
       "        vertical-align: top;\n",
       "    }\n",
       "\n",
       "    .dataframe thead th {\n",
       "        text-align: right;\n",
       "    }\n",
       "</style>\n",
       "<table border=\"1\" class=\"dataframe\">\n",
       "  <thead>\n",
       "    <tr style=\"text-align: right;\">\n",
       "      <th></th>\n",
       "      <th>order_id</th>\n",
       "      <th>order_placed_time</th>\n",
       "      <th>order_delivered_time</th>\n",
       "      <th>weak_of_day</th>\n",
       "      <th>delivery_in_time</th>\n",
       "      <th>Delivered_Status</th>\n",
       "    </tr>\n",
       "  </thead>\n",
       "  <tbody>\n",
       "    <tr>\n",
       "      <th>0</th>\n",
       "      <td>1523111</td>\n",
       "      <td>2023-03-30 00:00:59</td>\n",
       "      <td>2023-03-30 00:18:07.443132</td>\n",
       "      <td>Wednesday</td>\n",
       "      <td>17.140719</td>\n",
       "      <td>Delivered_In_Time</td>\n",
       "    </tr>\n",
       "    <tr>\n",
       "      <th>1</th>\n",
       "      <td>1523112</td>\n",
       "      <td>2023-03-30 00:03:59</td>\n",
       "      <td>2023-03-30 00:19:34.925241</td>\n",
       "      <td>Wednesday</td>\n",
       "      <td>15.598754</td>\n",
       "      <td>Delivered_In_Time</td>\n",
       "    </tr>\n",
       "    <tr>\n",
       "      <th>2</th>\n",
       "      <td>1523113</td>\n",
       "      <td>2023-03-30 00:07:22</td>\n",
       "      <td>2023-03-30 00:22:28.291385</td>\n",
       "      <td>Wednesday</td>\n",
       "      <td>15.104856</td>\n",
       "      <td>Delivered_In_Time</td>\n",
       "    </tr>\n",
       "    <tr>\n",
       "      <th>3</th>\n",
       "      <td>1523114</td>\n",
       "      <td>2023-03-30 00:07:47</td>\n",
       "      <td>2023-03-30 00:46:19.019399</td>\n",
       "      <td>Wednesday</td>\n",
       "      <td>38.533657</td>\n",
       "      <td>Free_Pizza</td>\n",
       "    </tr>\n",
       "    <tr>\n",
       "      <th>4</th>\n",
       "      <td>1523115</td>\n",
       "      <td>2023-03-30 00:09:03</td>\n",
       "      <td>2023-03-30 00:25:13.619056</td>\n",
       "      <td>Wednesday</td>\n",
       "      <td>16.176984</td>\n",
       "      <td>Delivered_In_Time</td>\n",
       "    </tr>\n",
       "  </tbody>\n",
       "</table>\n",
       "</div>"
      ],
      "text/plain": [
       "   order_id   order_placed_time       order_delivered_time weak_of_day  \\\n",
       "0   1523111 2023-03-30 00:00:59 2023-03-30 00:18:07.443132   Wednesday   \n",
       "1   1523112 2023-03-30 00:03:59 2023-03-30 00:19:34.925241   Wednesday   \n",
       "2   1523113 2023-03-30 00:07:22 2023-03-30 00:22:28.291385   Wednesday   \n",
       "3   1523114 2023-03-30 00:07:47 2023-03-30 00:46:19.019399   Wednesday   \n",
       "4   1523115 2023-03-30 00:09:03 2023-03-30 00:25:13.619056   Wednesday   \n",
       "\n",
       "   delivery_in_time   Delivered_Status  \n",
       "0         17.140719  Delivered_In_Time  \n",
       "1         15.598754  Delivered_In_Time  \n",
       "2         15.104856  Delivered_In_Time  \n",
       "3         38.533657         Free_Pizza  \n",
       "4         16.176984  Delivered_In_Time  "
      ]
     },
     "execution_count": 340,
     "metadata": {},
     "output_type": "execute_result"
    }
   ],
   "source": [
    "clean_df.head()"
   ]
  },
  {
   "cell_type": "code",
   "execution_count": 341,
   "id": "66dd5676",
   "metadata": {},
   "outputs": [
    {
     "data": {
      "text/html": [
       "<div>\n",
       "<style scoped>\n",
       "    .dataframe tbody tr th:only-of-type {\n",
       "        vertical-align: middle;\n",
       "    }\n",
       "\n",
       "    .dataframe tbody tr th {\n",
       "        vertical-align: top;\n",
       "    }\n",
       "\n",
       "    .dataframe thead th {\n",
       "        text-align: right;\n",
       "    }\n",
       "</style>\n",
       "<table border=\"1\" class=\"dataframe\">\n",
       "  <thead>\n",
       "    <tr style=\"text-align: right;\">\n",
       "      <th></th>\n",
       "      <th>order_id</th>\n",
       "      <th>order_placed_time</th>\n",
       "      <th>order_delivered_time</th>\n",
       "      <th>weak_of_day</th>\n",
       "      <th>delivery_in_time</th>\n",
       "      <th>Delivered_Status</th>\n",
       "    </tr>\n",
       "  </thead>\n",
       "  <tbody>\n",
       "    <tr>\n",
       "      <th>3</th>\n",
       "      <td>1523114</td>\n",
       "      <td>2023-03-30 00:07:47</td>\n",
       "      <td>2023-03-30 00:46:19.019399</td>\n",
       "      <td>Wednesday</td>\n",
       "      <td>38.533657</td>\n",
       "      <td>Free_Pizza</td>\n",
       "    </tr>\n",
       "    <tr>\n",
       "      <th>6</th>\n",
       "      <td>1523117</td>\n",
       "      <td>2023-03-30 00:11:09</td>\n",
       "      <td>2023-03-30 00:41:54.245295</td>\n",
       "      <td>Wednesday</td>\n",
       "      <td>30.754088</td>\n",
       "      <td>Free_Pizza</td>\n",
       "    </tr>\n",
       "    <tr>\n",
       "      <th>47</th>\n",
       "      <td>1523158</td>\n",
       "      <td>2023-03-30 01:57:16</td>\n",
       "      <td>2023-03-30 02:30:19.851911</td>\n",
       "      <td>Wednesday</td>\n",
       "      <td>33.064199</td>\n",
       "      <td>Free_Pizza</td>\n",
       "    </tr>\n",
       "    <tr>\n",
       "      <th>76</th>\n",
       "      <td>1523187</td>\n",
       "      <td>2023-03-30 03:05:16</td>\n",
       "      <td>2023-03-30 03:35:47.166291</td>\n",
       "      <td>Wednesday</td>\n",
       "      <td>30.519438</td>\n",
       "      <td>Free_Pizza</td>\n",
       "    </tr>\n",
       "    <tr>\n",
       "      <th>174</th>\n",
       "      <td>1523285</td>\n",
       "      <td>2023-03-30 07:22:11</td>\n",
       "      <td>2023-03-30 08:12:51.906470</td>\n",
       "      <td>Wednesday</td>\n",
       "      <td>50.681774</td>\n",
       "      <td>Free_Pizza</td>\n",
       "    </tr>\n",
       "    <tr>\n",
       "      <th>...</th>\n",
       "      <td>...</td>\n",
       "      <td>...</td>\n",
       "      <td>...</td>\n",
       "      <td>...</td>\n",
       "      <td>...</td>\n",
       "      <td>...</td>\n",
       "    </tr>\n",
       "    <tr>\n",
       "      <th>14841</th>\n",
       "      <td>1537952</td>\n",
       "      <td>2023-03-30 16:42:37</td>\n",
       "      <td>2023-03-30 17:43:13.294744</td>\n",
       "      <td>Monday</td>\n",
       "      <td>60.604912</td>\n",
       "      <td>Free_Pizza</td>\n",
       "    </tr>\n",
       "    <tr>\n",
       "      <th>14855</th>\n",
       "      <td>1537966</td>\n",
       "      <td>2023-03-30 17:16:14</td>\n",
       "      <td>2023-03-30 17:49:07.476278</td>\n",
       "      <td>Monday</td>\n",
       "      <td>32.891271</td>\n",
       "      <td>Free_Pizza</td>\n",
       "    </tr>\n",
       "    <tr>\n",
       "      <th>14899</th>\n",
       "      <td>1538010</td>\n",
       "      <td>2023-03-30 19:31:50</td>\n",
       "      <td>2023-03-30 20:08:26.866824</td>\n",
       "      <td>Monday</td>\n",
       "      <td>36.614447</td>\n",
       "      <td>Free_Pizza</td>\n",
       "    </tr>\n",
       "    <tr>\n",
       "      <th>14939</th>\n",
       "      <td>1538050</td>\n",
       "      <td>2023-03-30 21:17:20</td>\n",
       "      <td>2023-03-30 21:54:03.464048</td>\n",
       "      <td>Monday</td>\n",
       "      <td>36.724401</td>\n",
       "      <td>Free_Pizza</td>\n",
       "    </tr>\n",
       "    <tr>\n",
       "      <th>14953</th>\n",
       "      <td>1538064</td>\n",
       "      <td>2023-03-30 22:04:53</td>\n",
       "      <td>2023-03-30 22:55:03.230465</td>\n",
       "      <td>Monday</td>\n",
       "      <td>50.170508</td>\n",
       "      <td>Free_Pizza</td>\n",
       "    </tr>\n",
       "  </tbody>\n",
       "</table>\n",
       "<p>535 rows × 6 columns</p>\n",
       "</div>"
      ],
      "text/plain": [
       "       order_id   order_placed_time       order_delivered_time weak_of_day  \\\n",
       "3       1523114 2023-03-30 00:07:47 2023-03-30 00:46:19.019399   Wednesday   \n",
       "6       1523117 2023-03-30 00:11:09 2023-03-30 00:41:54.245295   Wednesday   \n",
       "47      1523158 2023-03-30 01:57:16 2023-03-30 02:30:19.851911   Wednesday   \n",
       "76      1523187 2023-03-30 03:05:16 2023-03-30 03:35:47.166291   Wednesday   \n",
       "174     1523285 2023-03-30 07:22:11 2023-03-30 08:12:51.906470   Wednesday   \n",
       "...         ...                 ...                        ...         ...   \n",
       "14841   1537952 2023-03-30 16:42:37 2023-03-30 17:43:13.294744      Monday   \n",
       "14855   1537966 2023-03-30 17:16:14 2023-03-30 17:49:07.476278      Monday   \n",
       "14899   1538010 2023-03-30 19:31:50 2023-03-30 20:08:26.866824      Monday   \n",
       "14939   1538050 2023-03-30 21:17:20 2023-03-30 21:54:03.464048      Monday   \n",
       "14953   1538064 2023-03-30 22:04:53 2023-03-30 22:55:03.230465      Monday   \n",
       "\n",
       "       delivery_in_time Delivered_Status  \n",
       "3             38.533657       Free_Pizza  \n",
       "6             30.754088       Free_Pizza  \n",
       "47            33.064199       Free_Pizza  \n",
       "76            30.519438       Free_Pizza  \n",
       "174           50.681774       Free_Pizza  \n",
       "...                 ...              ...  \n",
       "14841         60.604912       Free_Pizza  \n",
       "14855         32.891271       Free_Pizza  \n",
       "14899         36.614447       Free_Pizza  \n",
       "14939         36.724401       Free_Pizza  \n",
       "14953         50.170508       Free_Pizza  \n",
       "\n",
       "[535 rows x 6 columns]"
      ]
     },
     "execution_count": 341,
     "metadata": {},
     "output_type": "execute_result"
    }
   ],
   "source": [
    "clean_df[clean_df['Delivered_Status']=='Free_Pizza']"
   ]
  },
  {
   "cell_type": "code",
   "execution_count": 344,
   "id": "12d49697",
   "metadata": {},
   "outputs": [
    {
     "data": {
      "text/html": [
       "<div>\n",
       "<style scoped>\n",
       "    .dataframe tbody tr th:only-of-type {\n",
       "        vertical-align: middle;\n",
       "    }\n",
       "\n",
       "    .dataframe tbody tr th {\n",
       "        vertical-align: top;\n",
       "    }\n",
       "\n",
       "    .dataframe thead th {\n",
       "        text-align: right;\n",
       "    }\n",
       "</style>\n",
       "<table border=\"1\" class=\"dataframe\">\n",
       "  <thead>\n",
       "    <tr style=\"text-align: right;\">\n",
       "      <th>weak_of_day</th>\n",
       "      <th>Friday</th>\n",
       "      <th>Monday</th>\n",
       "      <th>Saturday</th>\n",
       "      <th>Sunday</th>\n",
       "      <th>Thursday</th>\n",
       "      <th>Tuesday</th>\n",
       "      <th>Wednesday</th>\n",
       "    </tr>\n",
       "    <tr>\n",
       "      <th>Delivered_Status</th>\n",
       "      <th></th>\n",
       "      <th></th>\n",
       "      <th></th>\n",
       "      <th></th>\n",
       "      <th></th>\n",
       "      <th></th>\n",
       "      <th></th>\n",
       "    </tr>\n",
       "  </thead>\n",
       "  <tbody>\n",
       "    <tr>\n",
       "      <th>Delivered_In_Time</th>\n",
       "      <td>2142</td>\n",
       "      <td>2156</td>\n",
       "      <td>2123</td>\n",
       "      <td>2105</td>\n",
       "      <td>2191</td>\n",
       "      <td>1504</td>\n",
       "      <td>2175</td>\n",
       "    </tr>\n",
       "    <tr>\n",
       "      <th>Free_Pizza</th>\n",
       "      <td>74</td>\n",
       "      <td>88</td>\n",
       "      <td>78</td>\n",
       "      <td>72</td>\n",
       "      <td>80</td>\n",
       "      <td>69</td>\n",
       "      <td>74</td>\n",
       "    </tr>\n",
       "  </tbody>\n",
       "</table>\n",
       "</div>"
      ],
      "text/plain": [
       "weak_of_day        Friday  Monday  Saturday  Sunday  Thursday  Tuesday  \\\n",
       "Delivered_Status                                                         \n",
       "Delivered_In_Time    2142    2156      2123    2105      2191     1504   \n",
       "Free_Pizza             74      88        78      72        80       69   \n",
       "\n",
       "weak_of_day        Wednesday  \n",
       "Delivered_Status              \n",
       "Delivered_In_Time       2175  \n",
       "Free_Pizza                74  "
      ]
     },
     "execution_count": 344,
     "metadata": {},
     "output_type": "execute_result"
    }
   ],
   "source": [
    "df2=pd.crosstab(clean_df['Delivered_Status'],clean_df['weak_of_day'],margins=True)\n",
    "df2"
   ]
  },
  {
   "cell_type": "code",
   "execution_count": 345,
   "id": "028a6d3d",
   "metadata": {},
   "outputs": [
    {
     "data": {
      "image/png": "[encoded data removed]",
      "text/plain": [
       "<Figure size 1080x576 with 1 Axes>"
      ]
     },
     "metadata": {
      "needs_background": "light"
     },
     "output_type": "display_data"
    }
   ],
   "source": [
    "df2.plot(kind='barh',figsize=(15,8),grid=True);"
   ]
  },
  {
   "cell_type": "markdown",
   "id": "e70fba66",
   "metadata": {},
   "source": [
    "# Observation:\n",
    "    - From these we can say that On tueday They are anable to deliver to most pizzas in time\n",
    "    - On monday Free_pizzas are mostly delivered  "
   ]
  },
  {
   "cell_type": "code",
   "execution_count": 475,
   "id": "9304c689",
   "metadata": {},
   "outputs": [],
   "source": [
    "clean_df['ordered_time']=clean_df['order_placed_time'].apply(lambda x:str(x).split()[1])"
   ]
  },
  {
   "cell_type": "code",
   "execution_count": 476,
   "id": "83d8c787",
   "metadata": {},
   "outputs": [],
   "source": [
    "clean_df['Hours']=clean_df['ordered_time'].apply(lambda x:str(x).split(':')[0])"
   ]
  },
  {
   "cell_type": "code",
   "execution_count": 363,
   "id": "0cf18f64",
   "metadata": {},
   "outputs": [
    {
     "data": {
      "text/html": [
       "<div>\n",
       "<style scoped>\n",
       "    .dataframe tbody tr th:only-of-type {\n",
       "        vertical-align: middle;\n",
       "    }\n",
       "\n",
       "    .dataframe tbody tr th {\n",
       "        vertical-align: top;\n",
       "    }\n",
       "\n",
       "    .dataframe thead th {\n",
       "        text-align: right;\n",
       "    }\n",
       "</style>\n",
       "<table border=\"1\" class=\"dataframe\">\n",
       "  <thead>\n",
       "    <tr style=\"text-align: right;\">\n",
       "      <th></th>\n",
       "      <th>order_id</th>\n",
       "      <th>order_placed_time</th>\n",
       "      <th>order_delivered_time</th>\n",
       "      <th>weak_of_day</th>\n",
       "      <th>delivery_in_time</th>\n",
       "      <th>Delivered_Status</th>\n",
       "      <th>ordered_time</th>\n",
       "      <th>Hours</th>\n",
       "    </tr>\n",
       "  </thead>\n",
       "  <tbody>\n",
       "    <tr>\n",
       "      <th>14980</th>\n",
       "      <td>1538091</td>\n",
       "      <td>2023-03-30 23:05:07</td>\n",
       "      <td>2023-03-30 23:20:26.761142</td>\n",
       "      <td>Monday</td>\n",
       "      <td>15.329352</td>\n",
       "      <td>Delivered_In_Time</td>\n",
       "      <td>23:05:07</td>\n",
       "      <td>23</td>\n",
       "    </tr>\n",
       "    <tr>\n",
       "      <th>14981</th>\n",
       "      <td>1538092</td>\n",
       "      <td>2023-03-30 23:12:59</td>\n",
       "      <td>2023-03-30 23:30:18.502010</td>\n",
       "      <td>Monday</td>\n",
       "      <td>17.325033</td>\n",
       "      <td>Delivered_In_Time</td>\n",
       "      <td>23:12:59</td>\n",
       "      <td>23</td>\n",
       "    </tr>\n",
       "    <tr>\n",
       "      <th>14982</th>\n",
       "      <td>1538093</td>\n",
       "      <td>2023-03-30 23:13:48</td>\n",
       "      <td>2023-03-30 23:37:13.388767</td>\n",
       "      <td>Monday</td>\n",
       "      <td>23.423146</td>\n",
       "      <td>Delivered_In_Time</td>\n",
       "      <td>23:13:48</td>\n",
       "      <td>23</td>\n",
       "    </tr>\n",
       "    <tr>\n",
       "      <th>14983</th>\n",
       "      <td>1538094</td>\n",
       "      <td>2023-03-30 23:14:26</td>\n",
       "      <td>2023-03-30 23:29:28.348675</td>\n",
       "      <td>Monday</td>\n",
       "      <td>15.039145</td>\n",
       "      <td>Delivered_In_Time</td>\n",
       "      <td>23:14:26</td>\n",
       "      <td>23</td>\n",
       "    </tr>\n",
       "    <tr>\n",
       "      <th>14984</th>\n",
       "      <td>1538095</td>\n",
       "      <td>2023-03-30 23:17:14</td>\n",
       "      <td>2023-03-30 23:32:30.638512</td>\n",
       "      <td>Monday</td>\n",
       "      <td>15.277309</td>\n",
       "      <td>Delivered_In_Time</td>\n",
       "      <td>23:17:14</td>\n",
       "      <td>23</td>\n",
       "    </tr>\n",
       "    <tr>\n",
       "      <th>14985</th>\n",
       "      <td>1538096</td>\n",
       "      <td>2023-03-30 23:25:37</td>\n",
       "      <td>2023-03-30 23:41:27.429634</td>\n",
       "      <td>Monday</td>\n",
       "      <td>15.840494</td>\n",
       "      <td>Delivered_In_Time</td>\n",
       "      <td>23:25:37</td>\n",
       "      <td>23</td>\n",
       "    </tr>\n",
       "    <tr>\n",
       "      <th>14986</th>\n",
       "      <td>1538097</td>\n",
       "      <td>2023-03-30 23:25:48</td>\n",
       "      <td>2023-03-30 23:41:52.659019</td>\n",
       "      <td>Monday</td>\n",
       "      <td>16.077650</td>\n",
       "      <td>Delivered_In_Time</td>\n",
       "      <td>23:25:48</td>\n",
       "      <td>23</td>\n",
       "    </tr>\n",
       "    <tr>\n",
       "      <th>14987</th>\n",
       "      <td>1538098</td>\n",
       "      <td>2023-03-30 23:26:27</td>\n",
       "      <td>2023-03-30 23:43:01.339505</td>\n",
       "      <td>Monday</td>\n",
       "      <td>16.572325</td>\n",
       "      <td>Delivered_In_Time</td>\n",
       "      <td>23:26:27</td>\n",
       "      <td>23</td>\n",
       "    </tr>\n",
       "    <tr>\n",
       "      <th>14988</th>\n",
       "      <td>1538099</td>\n",
       "      <td>2023-03-30 23:27:58</td>\n",
       "      <td>2023-03-30 23:45:03.815189</td>\n",
       "      <td>Monday</td>\n",
       "      <td>17.096920</td>\n",
       "      <td>Delivered_In_Time</td>\n",
       "      <td>23:27:58</td>\n",
       "      <td>23</td>\n",
       "    </tr>\n",
       "    <tr>\n",
       "      <th>14989</th>\n",
       "      <td>1538100</td>\n",
       "      <td>2023-03-30 23:28:25</td>\n",
       "      <td>2023-03-30 23:43:53.334274</td>\n",
       "      <td>Monday</td>\n",
       "      <td>15.472238</td>\n",
       "      <td>Delivered_In_Time</td>\n",
       "      <td>23:28:25</td>\n",
       "      <td>23</td>\n",
       "    </tr>\n",
       "    <tr>\n",
       "      <th>14990</th>\n",
       "      <td>1538101</td>\n",
       "      <td>2023-03-30 23:29:20</td>\n",
       "      <td>2023-03-30 23:44:46.861328</td>\n",
       "      <td>Monday</td>\n",
       "      <td>15.447689</td>\n",
       "      <td>Delivered_In_Time</td>\n",
       "      <td>23:29:20</td>\n",
       "      <td>23</td>\n",
       "    </tr>\n",
       "    <tr>\n",
       "      <th>14991</th>\n",
       "      <td>1538102</td>\n",
       "      <td>2023-03-30 23:30:46</td>\n",
       "      <td>2023-03-30 23:45:57.990761</td>\n",
       "      <td>Monday</td>\n",
       "      <td>15.199846</td>\n",
       "      <td>Delivered_In_Time</td>\n",
       "      <td>23:30:46</td>\n",
       "      <td>23</td>\n",
       "    </tr>\n",
       "    <tr>\n",
       "      <th>14992</th>\n",
       "      <td>1538103</td>\n",
       "      <td>2023-03-30 23:31:36</td>\n",
       "      <td>2023-03-30 23:46:40.660440</td>\n",
       "      <td>Monday</td>\n",
       "      <td>15.077674</td>\n",
       "      <td>Delivered_In_Time</td>\n",
       "      <td>23:31:36</td>\n",
       "      <td>23</td>\n",
       "    </tr>\n",
       "    <tr>\n",
       "      <th>14993</th>\n",
       "      <td>1538104</td>\n",
       "      <td>2023-03-30 23:31:53</td>\n",
       "      <td>2023-03-30 23:48:56.297534</td>\n",
       "      <td>Monday</td>\n",
       "      <td>17.054959</td>\n",
       "      <td>Delivered_In_Time</td>\n",
       "      <td>23:31:53</td>\n",
       "      <td>23</td>\n",
       "    </tr>\n",
       "    <tr>\n",
       "      <th>14994</th>\n",
       "      <td>1538105</td>\n",
       "      <td>2023-03-30 23:32:06</td>\n",
       "      <td>2023-03-30 23:47:25.224968</td>\n",
       "      <td>Monday</td>\n",
       "      <td>15.320416</td>\n",
       "      <td>Delivered_In_Time</td>\n",
       "      <td>23:32:06</td>\n",
       "      <td>23</td>\n",
       "    </tr>\n",
       "    <tr>\n",
       "      <th>14995</th>\n",
       "      <td>1538106</td>\n",
       "      <td>2023-03-30 23:37:05</td>\n",
       "      <td>2023-03-30 23:52:37.409378</td>\n",
       "      <td>Monday</td>\n",
       "      <td>15.540156</td>\n",
       "      <td>Delivered_In_Time</td>\n",
       "      <td>23:37:05</td>\n",
       "      <td>23</td>\n",
       "    </tr>\n",
       "    <tr>\n",
       "      <th>14996</th>\n",
       "      <td>1538107</td>\n",
       "      <td>2023-03-30 23:47:38</td>\n",
       "      <td>2023-03-30 00:04:22.672912</td>\n",
       "      <td>Monday</td>\n",
       "      <td>16.744549</td>\n",
       "      <td>Delivered_In_Time</td>\n",
       "      <td>23:47:38</td>\n",
       "      <td>23</td>\n",
       "    </tr>\n",
       "    <tr>\n",
       "      <th>14997</th>\n",
       "      <td>1538108</td>\n",
       "      <td>2023-03-30 23:50:16</td>\n",
       "      <td>2023-03-30 00:05:40.676238</td>\n",
       "      <td>Monday</td>\n",
       "      <td>15.411271</td>\n",
       "      <td>Delivered_In_Time</td>\n",
       "      <td>23:50:16</td>\n",
       "      <td>23</td>\n",
       "    </tr>\n",
       "    <tr>\n",
       "      <th>14998</th>\n",
       "      <td>1538109</td>\n",
       "      <td>2023-03-30 23:52:44</td>\n",
       "      <td>2023-03-30 00:08:41.810358</td>\n",
       "      <td>Monday</td>\n",
       "      <td>15.963506</td>\n",
       "      <td>Delivered_In_Time</td>\n",
       "      <td>23:52:44</td>\n",
       "      <td>23</td>\n",
       "    </tr>\n",
       "    <tr>\n",
       "      <th>14999</th>\n",
       "      <td>1538110</td>\n",
       "      <td>2023-03-30 23:58:20</td>\n",
       "      <td>2023-03-30 00:13:42.499311</td>\n",
       "      <td>Monday</td>\n",
       "      <td>15.374989</td>\n",
       "      <td>Delivered_In_Time</td>\n",
       "      <td>23:58:20</td>\n",
       "      <td>23</td>\n",
       "    </tr>\n",
       "  </tbody>\n",
       "</table>\n",
       "</div>"
      ],
      "text/plain": [
       "       order_id   order_placed_time       order_delivered_time weak_of_day  \\\n",
       "14980   1538091 2023-03-30 23:05:07 2023-03-30 23:20:26.761142      Monday   \n",
       "14981   1538092 2023-03-30 23:12:59 2023-03-30 23:30:18.502010      Monday   \n",
       "14982   1538093 2023-03-30 23:13:48 2023-03-30 23:37:13.388767      Monday   \n",
       "14983   1538094 2023-03-30 23:14:26 2023-03-30 23:29:28.348675      Monday   \n",
       "14984   1538095 2023-03-30 23:17:14 2023-03-30 23:32:30.638512      Monday   \n",
       "14985   1538096 2023-03-30 23:25:37 2023-03-30 23:41:27.429634      Monday   \n",
       "14986   1538097 2023-03-30 23:25:48 2023-03-30 23:41:52.659019      Monday   \n",
       "14987   1538098 2023-03-30 23:26:27 2023-03-30 23:43:01.339505      Monday   \n",
       "14988   1538099 2023-03-30 23:27:58 2023-03-30 23:45:03.815189      Monday   \n",
       "14989   1538100 2023-03-30 23:28:25 2023-03-30 23:43:53.334274      Monday   \n",
       "14990   1538101 2023-03-30 23:29:20 2023-03-30 23:44:46.861328      Monday   \n",
       "14991   1538102 2023-03-30 23:30:46 2023-03-30 23:45:57.990761      Monday   \n",
       "14992   1538103 2023-03-30 23:31:36 2023-03-30 23:46:40.660440      Monday   \n",
       "14993   1538104 2023-03-30 23:31:53 2023-03-30 23:48:56.297534      Monday   \n",
       "14994   1538105 2023-03-30 23:32:06 2023-03-30 23:47:25.224968      Monday   \n",
       "14995   1538106 2023-03-30 23:37:05 2023-03-30 23:52:37.409378      Monday   \n",
       "14996   1538107 2023-03-30 23:47:38 2023-03-30 00:04:22.672912      Monday   \n",
       "14997   1538108 2023-03-30 23:50:16 2023-03-30 00:05:40.676238      Monday   \n",
       "14998   1538109 2023-03-30 23:52:44 2023-03-30 00:08:41.810358      Monday   \n",
       "14999   1538110 2023-03-30 23:58:20 2023-03-30 00:13:42.499311      Monday   \n",
       "\n",
       "       delivery_in_time   Delivered_Status ordered_time Hours  \n",
       "14980         15.329352  Delivered_In_Time     23:05:07    23  \n",
       "14981         17.325033  Delivered_In_Time     23:12:59    23  \n",
       "14982         23.423146  Delivered_In_Time     23:13:48    23  \n",
       "14983         15.039145  Delivered_In_Time     23:14:26    23  \n",
       "14984         15.277309  Delivered_In_Time     23:17:14    23  \n",
       "14985         15.840494  Delivered_In_Time     23:25:37    23  \n",
       "14986         16.077650  Delivered_In_Time     23:25:48    23  \n",
       "14987         16.572325  Delivered_In_Time     23:26:27    23  \n",
       "14988         17.096920  Delivered_In_Time     23:27:58    23  \n",
       "14989         15.472238  Delivered_In_Time     23:28:25    23  \n",
       "14990         15.447689  Delivered_In_Time     23:29:20    23  \n",
       "14991         15.199846  Delivered_In_Time     23:30:46    23  \n",
       "14992         15.077674  Delivered_In_Time     23:31:36    23  \n",
       "14993         17.054959  Delivered_In_Time     23:31:53    23  \n",
       "14994         15.320416  Delivered_In_Time     23:32:06    23  \n",
       "14995         15.540156  Delivered_In_Time     23:37:05    23  \n",
       "14996         16.744549  Delivered_In_Time     23:47:38    23  \n",
       "14997         15.411271  Delivered_In_Time     23:50:16    23  \n",
       "14998         15.963506  Delivered_In_Time     23:52:44    23  \n",
       "14999         15.374989  Delivered_In_Time     23:58:20    23  "
      ]
     },
     "execution_count": 363,
     "metadata": {},
     "output_type": "execute_result"
    }
   ],
   "source": [
    "clean_df.tail(20)"
   ]
  },
  {
   "cell_type": "code",
   "execution_count": 477,
   "id": "2c939708",
   "metadata": {},
   "outputs": [],
   "source": [
    "clean_df['Hours']=clean_df['Hours'].astype('int')"
   ]
  },
  {
   "cell_type": "code",
   "execution_count": 478,
   "id": "7f4cc739",
   "metadata": {},
   "outputs": [],
   "source": [
    "import seaborn as sns"
   ]
  },
  {
   "cell_type": "code",
   "execution_count": 479,
   "id": "f084d9f7",
   "metadata": {},
   "outputs": [],
   "source": [
    "clean_df[\"four_quarters_day\"] = pd.cut(clean_df[\"Hours\"],bins=[-1,3,7,11,15,19,23],labels=[\"Midnight\",\"morning\",\"late_morning\",\"afternoon\",\"evening\",\"night\"])"
   ]
  },
  {
   "cell_type": "code",
   "execution_count": 431,
   "id": "67209f71",
   "metadata": {},
   "outputs": [
    {
     "data": {
      "text/html": [
       "<div>\n",
       "<style scoped>\n",
       "    .dataframe tbody tr th:only-of-type {\n",
       "        vertical-align: middle;\n",
       "    }\n",
       "\n",
       "    .dataframe tbody tr th {\n",
       "        vertical-align: top;\n",
       "    }\n",
       "\n",
       "    .dataframe thead th {\n",
       "        text-align: right;\n",
       "    }\n",
       "</style>\n",
       "<table border=\"1\" class=\"dataframe\">\n",
       "  <thead>\n",
       "    <tr style=\"text-align: right;\">\n",
       "      <th></th>\n",
       "      <th>order_id</th>\n",
       "      <th>order_placed_time</th>\n",
       "      <th>order_delivered_time</th>\n",
       "      <th>weak_of_day</th>\n",
       "      <th>delivery_in_time</th>\n",
       "      <th>Delivered_Status</th>\n",
       "      <th>ordered_time</th>\n",
       "      <th>Hours</th>\n",
       "      <th>four_quarters_day</th>\n",
       "    </tr>\n",
       "  </thead>\n",
       "  <tbody>\n",
       "    <tr>\n",
       "      <th>0</th>\n",
       "      <td>1523111</td>\n",
       "      <td>2023-03-30 00:00:59</td>\n",
       "      <td>2023-03-30 00:18:07.443132</td>\n",
       "      <td>Wednesday</td>\n",
       "      <td>17.140719</td>\n",
       "      <td>Delivered_In_Time</td>\n",
       "      <td>00:00:59</td>\n",
       "      <td>0</td>\n",
       "      <td>Midnight</td>\n",
       "    </tr>\n",
       "    <tr>\n",
       "      <th>1</th>\n",
       "      <td>1523112</td>\n",
       "      <td>2023-03-30 00:03:59</td>\n",
       "      <td>2023-03-30 00:19:34.925241</td>\n",
       "      <td>Wednesday</td>\n",
       "      <td>15.598754</td>\n",
       "      <td>Delivered_In_Time</td>\n",
       "      <td>00:03:59</td>\n",
       "      <td>0</td>\n",
       "      <td>Midnight</td>\n",
       "    </tr>\n",
       "    <tr>\n",
       "      <th>2</th>\n",
       "      <td>1523113</td>\n",
       "      <td>2023-03-30 00:07:22</td>\n",
       "      <td>2023-03-30 00:22:28.291385</td>\n",
       "      <td>Wednesday</td>\n",
       "      <td>15.104856</td>\n",
       "      <td>Delivered_In_Time</td>\n",
       "      <td>00:07:22</td>\n",
       "      <td>0</td>\n",
       "      <td>Midnight</td>\n",
       "    </tr>\n",
       "    <tr>\n",
       "      <th>3</th>\n",
       "      <td>1523114</td>\n",
       "      <td>2023-03-30 00:07:47</td>\n",
       "      <td>2023-03-30 00:46:19.019399</td>\n",
       "      <td>Wednesday</td>\n",
       "      <td>38.533657</td>\n",
       "      <td>Free_Pizza</td>\n",
       "      <td>00:07:47</td>\n",
       "      <td>0</td>\n",
       "      <td>Midnight</td>\n",
       "    </tr>\n",
       "    <tr>\n",
       "      <th>4</th>\n",
       "      <td>1523115</td>\n",
       "      <td>2023-03-30 00:09:03</td>\n",
       "      <td>2023-03-30 00:25:13.619056</td>\n",
       "      <td>Wednesday</td>\n",
       "      <td>16.176984</td>\n",
       "      <td>Delivered_In_Time</td>\n",
       "      <td>00:09:03</td>\n",
       "      <td>0</td>\n",
       "      <td>Midnight</td>\n",
       "    </tr>\n",
       "    <tr>\n",
       "      <th>...</th>\n",
       "      <td>...</td>\n",
       "      <td>...</td>\n",
       "      <td>...</td>\n",
       "      <td>...</td>\n",
       "      <td>...</td>\n",
       "      <td>...</td>\n",
       "      <td>...</td>\n",
       "      <td>...</td>\n",
       "      <td>...</td>\n",
       "    </tr>\n",
       "    <tr>\n",
       "      <th>14995</th>\n",
       "      <td>1538106</td>\n",
       "      <td>2023-03-30 23:37:05</td>\n",
       "      <td>2023-03-30 23:52:37.409378</td>\n",
       "      <td>Monday</td>\n",
       "      <td>15.540156</td>\n",
       "      <td>Delivered_In_Time</td>\n",
       "      <td>23:37:05</td>\n",
       "      <td>23</td>\n",
       "      <td>night</td>\n",
       "    </tr>\n",
       "    <tr>\n",
       "      <th>14996</th>\n",
       "      <td>1538107</td>\n",
       "      <td>2023-03-30 23:47:38</td>\n",
       "      <td>2023-03-30 00:04:22.672912</td>\n",
       "      <td>Monday</td>\n",
       "      <td>16.744549</td>\n",
       "      <td>Delivered_In_Time</td>\n",
       "      <td>23:47:38</td>\n",
       "      <td>23</td>\n",
       "      <td>night</td>\n",
       "    </tr>\n",
       "    <tr>\n",
       "      <th>14997</th>\n",
       "      <td>1538108</td>\n",
       "      <td>2023-03-30 23:50:16</td>\n",
       "      <td>2023-03-30 00:05:40.676238</td>\n",
       "      <td>Monday</td>\n",
       "      <td>15.411271</td>\n",
       "      <td>Delivered_In_Time</td>\n",
       "      <td>23:50:16</td>\n",
       "      <td>23</td>\n",
       "      <td>night</td>\n",
       "    </tr>\n",
       "    <tr>\n",
       "      <th>14998</th>\n",
       "      <td>1538109</td>\n",
       "      <td>2023-03-30 23:52:44</td>\n",
       "      <td>2023-03-30 00:08:41.810358</td>\n",
       "      <td>Monday</td>\n",
       "      <td>15.963506</td>\n",
       "      <td>Delivered_In_Time</td>\n",
       "      <td>23:52:44</td>\n",
       "      <td>23</td>\n",
       "      <td>night</td>\n",
       "    </tr>\n",
       "    <tr>\n",
       "      <th>14999</th>\n",
       "      <td>1538110</td>\n",
       "      <td>2023-03-30 23:58:20</td>\n",
       "      <td>2023-03-30 00:13:42.499311</td>\n",
       "      <td>Monday</td>\n",
       "      <td>15.374989</td>\n",
       "      <td>Delivered_In_Time</td>\n",
       "      <td>23:58:20</td>\n",
       "      <td>23</td>\n",
       "      <td>night</td>\n",
       "    </tr>\n",
       "  </tbody>\n",
       "</table>\n",
       "<p>14931 rows × 9 columns</p>\n",
       "</div>"
      ],
      "text/plain": [
       "       order_id   order_placed_time       order_delivered_time weak_of_day  \\\n",
       "0       1523111 2023-03-30 00:00:59 2023-03-30 00:18:07.443132   Wednesday   \n",
       "1       1523112 2023-03-30 00:03:59 2023-03-30 00:19:34.925241   Wednesday   \n",
       "2       1523113 2023-03-30 00:07:22 2023-03-30 00:22:28.291385   Wednesday   \n",
       "3       1523114 2023-03-30 00:07:47 2023-03-30 00:46:19.019399   Wednesday   \n",
       "4       1523115 2023-03-30 00:09:03 2023-03-30 00:25:13.619056   Wednesday   \n",
       "...         ...                 ...                        ...         ...   \n",
       "14995   1538106 2023-03-30 23:37:05 2023-03-30 23:52:37.409378      Monday   \n",
       "14996   1538107 2023-03-30 23:47:38 2023-03-30 00:04:22.672912      Monday   \n",
       "14997   1538108 2023-03-30 23:50:16 2023-03-30 00:05:40.676238      Monday   \n",
       "14998   1538109 2023-03-30 23:52:44 2023-03-30 00:08:41.810358      Monday   \n",
       "14999   1538110 2023-03-30 23:58:20 2023-03-30 00:13:42.499311      Monday   \n",
       "\n",
       "       delivery_in_time   Delivered_Status ordered_time  Hours  \\\n",
       "0             17.140719  Delivered_In_Time     00:00:59      0   \n",
       "1             15.598754  Delivered_In_Time     00:03:59      0   \n",
       "2             15.104856  Delivered_In_Time     00:07:22      0   \n",
       "3             38.533657         Free_Pizza     00:07:47      0   \n",
       "4             16.176984  Delivered_In_Time     00:09:03      0   \n",
       "...                 ...                ...          ...    ...   \n",
       "14995         15.540156  Delivered_In_Time     23:37:05     23   \n",
       "14996         16.744549  Delivered_In_Time     23:47:38     23   \n",
       "14997         15.411271  Delivered_In_Time     23:50:16     23   \n",
       "14998         15.963506  Delivered_In_Time     23:52:44     23   \n",
       "14999         15.374989  Delivered_In_Time     23:58:20     23   \n",
       "\n",
       "      four_quarters_day  \n",
       "0              Midnight  \n",
       "1              Midnight  \n",
       "2              Midnight  \n",
       "3              Midnight  \n",
       "4              Midnight  \n",
       "...                 ...  \n",
       "14995             night  \n",
       "14996             night  \n",
       "14997             night  \n",
       "14998             night  \n",
       "14999             night  \n",
       "\n",
       "[14931 rows x 9 columns]"
      ]
     },
     "execution_count": 431,
     "metadata": {},
     "output_type": "execute_result"
    }
   ],
   "source": [
    "clean_df"
   ]
  },
  {
   "cell_type": "code",
   "execution_count": 432,
   "id": "ee4a9c32",
   "metadata": {},
   "outputs": [
    {
     "data": {
      "text/plain": [
       "night           2541\n",
       "late_morning    2505\n",
       "morning         2486\n",
       "evening         2476\n",
       "afternoon       2472\n",
       "Midnight        2451\n",
       "Name: four_quarters_day, dtype: int64"
      ]
     },
     "execution_count": 432,
     "metadata": {},
     "output_type": "execute_result"
    }
   ],
   "source": [
    "clean_df[\"four_quarters_day\"].value_counts()"
   ]
  },
  {
   "cell_type": "code",
   "execution_count": 480,
   "id": "2e3b34cf",
   "metadata": {},
   "outputs": [
    {
     "data": {
      "image/png": "[encoded data removed]",
      "text/plain": [
       "<Figure size 720x432 with 1 Axes>"
      ]
     },
     "metadata": {
      "needs_background": "light"
     },
     "output_type": "display_data"
    }
   ],
   "source": [
    "plt.figure(figsize=(10,6))\n",
    "sns.countplot(clean_df['four_quarters_day'])\n",
    "plt.xticks(rotation=90);"
   ]
  },
  {
   "cell_type": "markdown",
   "id": "9180dbb1",
   "metadata": {},
   "source": [
    "# Observation \n",
    " - As per the above graph we say that in all aspects of day total orders are almost equal but in night they received more orders when compare to others."
   ]
  },
  {
   "cell_type": "code",
   "execution_count": null,
   "id": "0ca9863e",
   "metadata": {},
   "outputs": [],
   "source": []
  }
 ],
 "metadata": {
  "kernelspec": {
   "display_name": "Python 3",
   "language": "python",
   "name": "python3"
  },
  "language_info": {
   "codemirror_mode": {
    "name": "ipython",
    "version": 3
   },
   "file_extension": ".py",
   "mimetype": "text/x-python",
   "name": "python",
   "nbconvert_exporter": "python",
   "pygments_lexer": "ipython3",
   "version": "3.8.8"
  }
 },
 "nbformat": 4,
 "nbformat_minor": 5
}

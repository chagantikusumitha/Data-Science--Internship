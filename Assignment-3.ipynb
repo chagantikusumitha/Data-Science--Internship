{
 "cells": [
  {
   "cell_type": "code",
   "execution_count": null,
   "id": "710dd2fc",
   "metadata": {},
   "outputs": [],
   "source": [
    "#1)"
   ]
  },
  {
   "cell_type": "code",
   "execution_count": null,
   "id": "2474d339",
   "metadata": {},
   "outputs": [],
   "source": [
    "import cmath\n",
    "\n",
    "z=complex(input())\n",
    "a=z.real\n",
    "b=z.imag\n",
    "print(abs(complex(a,b)))\n",
    "print(cmath.phase(complex(a,b)))"
   ]
  },
  {
   "cell_type": "code",
   "execution_count": null,
   "id": "33896c6c",
   "metadata": {},
   "outputs": [],
   "source": []
  },
  {
   "cell_type": "code",
   "execution_count": null,
   "id": "5a6e46c6",
   "metadata": {},
   "outputs": [],
   "source": [
    "#2)"
   ]
  },
  {
   "cell_type": "code",
   "execution_count": null,
   "id": "c2790fb0",
   "metadata": {},
   "outputs": [],
   "source": [
    "import math\n",
    "from math import atan,degrees\n",
    "ab=int(input())\n",
    "bc=int(input())\n",
    "print(str(round(degrees(math.atan(ab/bc))))+chr(176))"
   ]
  },
  {
   "cell_type": "code",
   "execution_count": null,
   "id": "a96bd3e0",
   "metadata": {},
   "outputs": [],
   "source": []
  },
  {
   "cell_type": "code",
   "execution_count": null,
   "id": "8a2cd4d1",
   "metadata": {},
   "outputs": [],
   "source": [
    "#3)"
   ]
  },
  {
   "cell_type": "code",
   "execution_count": null,
   "id": "d4bc998b",
   "metadata": {},
   "outputs": [],
   "source": [
    "\n",
    "for i in range(1,int(input())+1):\n",
    "    print((10**i//9)**2)"
   ]
  },
  {
   "cell_type": "code",
   "execution_count": null,
   "id": "e47ab3e5",
   "metadata": {},
   "outputs": [],
   "source": []
  },
  {
   "cell_type": "code",
   "execution_count": null,
   "id": "68f70457",
   "metadata": {},
   "outputs": [],
   "source": [
    "#4)"
   ]
  },
  {
   "cell_type": "code",
   "execution_count": null,
   "id": "efc536be",
   "metadata": {},
   "outputs": [],
   "source": [
    "import math\n",
    "from math import pow\n",
    "a=int(input())\n",
    "b=int(input())\n",
    "m=int(input())\n",
    "print(a**b)\n",
    "x=pow(a,b,m)\n",
    "print(x)"
   ]
  },
  {
   "cell_type": "code",
   "execution_count": null,
   "id": "5afa5c2b",
   "metadata": {},
   "outputs": [],
   "source": []
  },
  {
   "cell_type": "code",
   "execution_count": null,
   "id": "416005bd",
   "metadata": {},
   "outputs": [],
   "source": [
    "#5)"
   ]
  },
  {
   "cell_type": "code",
   "execution_count": null,
   "id": "7060f744",
   "metadata": {},
   "outputs": [],
   "source": [
    "a,b,c,d = [int(input()) for i in range(4)]\n",
    "\n",
    "print(pow(a,b)+pow(c,d))"
   ]
  },
  {
   "cell_type": "code",
   "execution_count": null,
   "id": "b7bd1e0f",
   "metadata": {},
   "outputs": [],
   "source": [
    "#6)"
   ]
  },
  {
   "cell_type": "code",
   "execution_count": null,
   "id": "706e5481",
   "metadata": {},
   "outputs": [],
   "source": [
    "for i in range(1,int(input())): \n",
    "     print(((10**i)//9)*i)"
   ]
  },
  {
   "cell_type": "code",
   "execution_count": null,
   "id": "6beb83a9",
   "metadata": {},
   "outputs": [],
   "source": []
  },
  {
   "cell_type": "code",
   "execution_count": null,
   "id": "17d3c8d7",
   "metadata": {},
   "outputs": [],
   "source": []
  }
 ],
 "metadata": {
  "kernelspec": {
   "display_name": "Python 3 (ipykernel)",
   "language": "python",
   "name": "python3"
  },
  "language_info": {
   "codemirror_mode": {
    "name": "ipython",
    "version": 3
   },
   "file_extension": ".py",
   "mimetype": "text/x-python",
   "name": "python",
   "nbconvert_exporter": "python",
   "pygments_lexer": "ipython3",
   "version": "3.9.13"
  }
 },
 "nbformat": 4,
 "nbformat_minor": 5
}

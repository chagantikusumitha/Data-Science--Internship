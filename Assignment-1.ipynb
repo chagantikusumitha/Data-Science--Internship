{
 "cells": [
  {
   "cell_type": "code",
   "execution_count": null,
   "id": "4e736f64",
   "metadata": {},
   "outputs": [],
   "source": [
    "my_string = \"Hello, World!\"\n",
    "print(my_string)"
   ]
  },
  {
   "cell_type": "code",
   "execution_count": null,
   "id": "b80cc3a7",
   "metadata": {},
   "outputs": [],
   "source": [
    "n = int(input(\"\"))\n",
    "if n%2 != 0:\n",
    "    print(\"Weird\")\n",
    "if n%2 == 0: \n",
    "    if 2<=n<=5:\n",
    "       print(\"Not Weird\")\n",
    "    elif 6<=n<=20:\n",
    "        print(\"Weird\")\n",
    "    elif n>20:\n",
    "        print(\"Not Weird\")"
   ]
  },
  {
   "cell_type": "code",
   "execution_count": null,
   "id": "49c346b2",
   "metadata": {},
   "outputs": [],
   "source": [
    "a = int(input(\"\"))\n",
    "b = int(input(\"\"))\n",
    "print(a+b)\n",
    "print(a-b)\n",
    "print(a*b)"
   ]
  },
  {
   "cell_type": "code",
   "execution_count": null,
   "id": "8f91ee53",
   "metadata": {},
   "outputs": [],
   "source": [
    "a = int(input(\"\"))\n",
    "b = int(input(\"\"))\n",
    "print(a//b)\n",
    "print(a/b)"
   ]
  },
  {
   "cell_type": "code",
   "execution_count": null,
   "id": "353710c7",
   "metadata": {},
   "outputs": [],
   "source": [
    "n = int(input(\"\"))\n",
    "for i in range(0,n):\n",
    "    print(i*i)"
   ]
  },
  {
   "cell_type": "code",
   "execution_count": null,
   "id": "61b6aaf5",
   "metadata": {},
   "outputs": [],
   "source": [
    "def is_leap(year):\n",
    "    leap = False\n",
    "    if((year % 400 == 0) or  \n",
    "     (year % 100 != 0) and  \n",
    "     (year % 4 == 0)):\n",
    "     leap = True\n",
    "    # Write your logic here\n",
    "    \n",
    "    return leap"
   ]
  },
  {
   "cell_type": "code",
   "execution_count": null,
   "id": "34bb5abc",
   "metadata": {},
   "outputs": [],
   "source": [
    "n = int(input(\"\"))\n",
    "for i in range(1,n+1):\n",
    "    print(i,end = \"\")"
   ]
  }
 ],
 "metadata": {
  "kernelspec": {
   "display_name": "Python 3 (ipykernel)",
   "language": "python",
   "name": "python3"
  },
  "language_info": {
   "codemirror_mode": {
    "name": "ipython",
    "version": 3
   },
   "file_extension": ".py",
   "mimetype": "text/x-python",
   "name": "python",
   "nbconvert_exporter": "python",
   "pygments_lexer": "ipython3",
   "version": "3.9.7"
  }
 },
 "nbformat": 4,
 "nbformat_minor": 5
}

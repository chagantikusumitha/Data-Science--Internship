{
 "cells": [
  {
   "cell_type": "code",
   "execution_count": null,
   "id": "5bfd15cc",
   "metadata": {},
   "outputs": [],
   "source": [
    "#1)"
   ]
  },
  {
   "cell_type": "code",
   "execution_count": null,
   "id": "c4213a43",
   "metadata": {},
   "outputs": [],
   "source": [
    "if __name__ == '__main__':\n",
    "    x = int(input())\n",
    "    y = int(input())\n",
    "    z = int(input())\n",
    "    n = int(input())\n",
    "    b=[[j,k,l] \n",
    "       for j in range(x+1) \n",
    "       for k in range(y+1) \n",
    "       for l in range(z+1) if j+k+l != n ]\n",
    "    print(b)"
   ]
  },
  {
   "cell_type": "code",
   "execution_count": null,
   "id": "5a0c4524",
   "metadata": {},
   "outputs": [],
   "source": []
  },
  {
   "cell_type": "code",
   "execution_count": null,
   "id": "3d71a428",
   "metadata": {},
   "outputs": [],
   "source": [
    "#2)"
   ]
  },
  {
   "cell_type": "code",
   "execution_count": null,
   "id": "dbfe9b4e",
   "metadata": {},
   "outputs": [],
   "source": [
    "if __name__ == '__main__':\n",
    "    n = int(input())\n",
    "    arr =map(int, input().split())\n",
    "    v=set(arr)\n",
    "    print(sorted(v,reverse=True)[1])\n"
   ]
  },
  {
   "cell_type": "code",
   "execution_count": null,
   "id": "b51797b4",
   "metadata": {},
   "outputs": [],
   "source": []
  },
  {
   "cell_type": "code",
   "execution_count": null,
   "id": "c07e14e7",
   "metadata": {},
   "outputs": [],
   "source": [
    "#3)"
   ]
  },
  {
   "cell_type": "code",
   "execution_count": null,
   "id": "14794782",
   "metadata": {},
   "outputs": [],
   "source": [
    "if __name__ == '__main__':\n",
    "    di=dict()\n",
    "    l=[]\n",
    "    for _ in range(int(input())):\n",
    "        name = input()\n",
    "        score = float(input())\n",
    "        di[name]=score\n",
    "        l.append(score)\n",
    "    unique_words=sorted(set(l))[1]\n",
    "    for k,v in sorted(di.items()):\n",
    "        if v==unique_words:\n",
    "            print(k)\n",
    "    "
   ]
  },
  {
   "cell_type": "code",
   "execution_count": null,
   "id": "a1f913f8",
   "metadata": {},
   "outputs": [],
   "source": []
  },
  {
   "cell_type": "code",
   "execution_count": null,
   "id": "8fd13733",
   "metadata": {},
   "outputs": [],
   "source": [
    "#4)"
   ]
  },
  {
   "cell_type": "code",
   "execution_count": null,
   "id": "26bb02cb",
   "metadata": {},
   "outputs": [],
   "source": [
    "if __name__ == '__main__':\n",
    "    n = int(input())\n",
    "    student_marks = {}\n",
    "    for _ in range(n):\n",
    "        name, *line = input().split()\n",
    "        scores = list(map(float, line))\n",
    "        student_marks[name] = scores\n",
    "    query_name = input()\n",
    "    for k,v in student_marks.items():\n",
    "        if k==query_name:\n",
    "            j=format((v[0]+v[1]+v[2])/3,\".2f\")\n",
    "    print(j)\n",
    "        "
   ]
  },
  {
   "cell_type": "code",
   "execution_count": null,
   "id": "28b3a700",
   "metadata": {},
   "outputs": [],
   "source": []
  },
  {
   "cell_type": "code",
   "execution_count": null,
   "id": "79b2e396",
   "metadata": {},
   "outputs": [],
   "source": [
    "#5)"
   ]
  },
  {
   "cell_type": "code",
   "execution_count": null,
   "id": "5998c5e0",
   "metadata": {},
   "outputs": [],
   "source": [
    "if __name__ == '__main__':\n",
    "    n= int(input())\n",
    "    s=[]\n",
    "    for i in range(0,n):\n",
    "        command=input().split()\n",
    "        if \"insert\" in command:\n",
    "            s.insert(int(command[1]),int(command[2]))\n",
    "        elif \"print\" in command:\n",
    "            print(s)\n",
    "        elif \"remove\" in command:\n",
    "            s.remove(int(command[1]))\n",
    "        elif \"append\" in command:\n",
    "            s.append(int(command[1]))\n",
    "        elif \"sort\" in command:\n",
    "            s.sort()\n",
    "        elif \"print\" in command:\n",
    "            print(s)\n",
    "        elif \"pop\" in command:\n",
    "            \n",
    "            s.pop()\n",
    "        elif \"reverse\" in command:\n",
    "            s.reverse()\n",
    "        else:\n",
    "            print(s)"
   ]
  },
  {
   "cell_type": "code",
   "execution_count": null,
   "id": "07ba9eb7",
   "metadata": {},
   "outputs": [],
   "source": []
  },
  {
   "cell_type": "code",
   "execution_count": null,
   "id": "0bbadda6",
   "metadata": {},
   "outputs": [],
   "source": [
    "#6)"
   ]
  },
  {
   "cell_type": "code",
   "execution_count": null,
   "id": "090ed3c0",
   "metadata": {},
   "outputs": [],
   "source": [
    "n=int(input())\n",
    "inp=tuple(map (int ,input().split()))\n",
    "print(hash(i for i in inp))"
   ]
  },
  {
   "cell_type": "code",
   "execution_count": null,
   "id": "618e4c1e",
   "metadata": {},
   "outputs": [],
   "source": []
  },
  {
   "cell_type": "code",
   "execution_count": null,
   "id": "63c40552",
   "metadata": {},
   "outputs": [],
   "source": [
    "#7)"
   ]
  },
  {
   "cell_type": "code",
   "execution_count": null,
   "id": "4f2aaf03",
   "metadata": {},
   "outputs": [],
   "source": [
    "def average(array):\n",
    "    return sum(set(array)) / len(set(array))\n",
    "\n",
    "if __name__ == '__main__':"
   ]
  },
  {
   "cell_type": "code",
   "execution_count": null,
   "id": "1eb59b4b",
   "metadata": {},
   "outputs": [],
   "source": []
  },
  {
   "cell_type": "code",
   "execution_count": null,
   "id": "93591dca",
   "metadata": {},
   "outputs": [],
   "source": [
    "#8)"
   ]
  },
  {
   "cell_type": "code",
   "execution_count": null,
   "id": "d9b2abaf",
   "metadata": {},
   "outputs": [],
   "source": [
    "n,m = list(map(int, input().split()))\n",
    "arr, a, b = list(map(int, input().split())), set(map(int, input().split())), set(map(int, input().split()))\n",
    "\n",
    "x = set(arr) & a \n",
    "y = set(arr) & b\n",
    "c = 0\n",
    "for i in arr:\n",
    "    if i in x: \n",
    "        c += 1\n",
    "    elif i in y: \n",
    "        c -= 1\n",
    "\n",
    "print(c)"
   ]
  },
  {
   "cell_type": "code",
   "execution_count": null,
   "id": "ab640f44",
   "metadata": {},
   "outputs": [],
   "source": []
  },
  {
   "cell_type": "code",
   "execution_count": null,
   "id": "c284631c",
   "metadata": {},
   "outputs": [],
   "source": [
    "#9)"
   ]
  },
  {
   "cell_type": "code",
   "execution_count": null,
   "id": "343dc2b5",
   "metadata": {},
   "outputs": [],
   "source": [
    "n=int(input())\n",
    "a = set(map(int, input().split()))\n",
    "m=int(input())\n",
    "b = set(map(int, input().split()))\n",
    "d=sorted(a.symmetric_difference(b))\n",
    "for i in d:\n",
    "    print(i)\n"
   ]
  },
  {
   "cell_type": "code",
   "execution_count": null,
   "id": "e27991a1",
   "metadata": {},
   "outputs": [],
   "source": []
  },
  {
   "cell_type": "code",
   "execution_count": null,
   "id": "3ca2e6f0",
   "metadata": {},
   "outputs": [],
   "source": [
    "#10)"
   ]
  },
  {
   "cell_type": "code",
   "execution_count": null,
   "id": "0ea5dbd3",
   "metadata": {},
   "outputs": [],
   "source": [
    "n=int(input())\n",
    "b=set()\n",
    "for i in range(n):\n",
    "    \n",
    "   a=input()\n",
    "   b.add(a)\n",
    "print(len(b))"
   ]
  },
  {
   "cell_type": "code",
   "execution_count": null,
   "id": "1609177e",
   "metadata": {},
   "outputs": [],
   "source": []
  },
  {
   "cell_type": "code",
   "execution_count": null,
   "id": "875ebd38",
   "metadata": {},
   "outputs": [],
   "source": [
    "#11)"
   ]
  },
  {
   "cell_type": "code",
   "execution_count": null,
   "id": "5bca12c5",
   "metadata": {},
   "outputs": [],
   "source": [
    "n = int(input())\n",
    "s = set(map(int, input().split()))\n",
    "m=int(input())\n",
    "for i in range(m):\n",
    "    k=input()\n",
    "    if k==\"pop\":\n",
    "        s.pop()\n",
    "    else:\n",
    "        k,number=k.split()\n",
    "        if k==\"remove\":\n",
    "            s.remove(int(number))\n",
    "        else:\n",
    "            s.discard(int(number))\n",
    "print(sum(s))\n",
    "  "
   ]
  },
  {
   "cell_type": "code",
   "execution_count": null,
   "id": "446a5993",
   "metadata": {},
   "outputs": [],
   "source": []
  },
  {
   "cell_type": "code",
   "execution_count": null,
   "id": "aaea7ec5",
   "metadata": {},
   "outputs": [],
   "source": [
    "#12)"
   ]
  },
  {
   "cell_type": "code",
   "execution_count": null,
   "id": "9b542021",
   "metadata": {},
   "outputs": [],
   "source": [
    "n=int(input())\n",
    "a=set(map(int,input().split()))\n",
    "m=int(input())\n",
    "b=set(map(int,input().split()))\n",
    "u=a.union(b)\n",
    "print(len(u))"
   ]
  },
  {
   "cell_type": "code",
   "execution_count": null,
   "id": "e4d2773e",
   "metadata": {},
   "outputs": [],
   "source": []
  },
  {
   "cell_type": "code",
   "execution_count": null,
   "id": "0f676904",
   "metadata": {},
   "outputs": [],
   "source": [
    "#13)"
   ]
  },
  {
   "cell_type": "code",
   "execution_count": null,
   "id": "3ca692ae",
   "metadata": {},
   "outputs": [],
   "source": [
    "n=int(input())\n",
    "a=set(map(int,input().split()))\n",
    "m=int(input())\n",
    "b=set(map(int,input().split()))\n",
    "u=a&b\n",
    "print(len(u))"
   ]
  },
  {
   "cell_type": "code",
   "execution_count": null,
   "id": "4cffcf63",
   "metadata": {},
   "outputs": [],
   "source": []
  },
  {
   "cell_type": "code",
   "execution_count": null,
   "id": "bc05a07c",
   "metadata": {},
   "outputs": [],
   "source": [
    "#14)"
   ]
  },
  {
   "cell_type": "code",
   "execution_count": null,
   "id": "114d6d01",
   "metadata": {},
   "outputs": [],
   "source": [
    "n=int(input())\n",
    "a=set(map(int,input().split()))\n",
    "m=int(input())\n",
    "b=set(map(int,input().split()))\n",
    "u=a-b\n",
    "print(len(u))\n"
   ]
  },
  {
   "cell_type": "code",
   "execution_count": null,
   "id": "d74748b4",
   "metadata": {},
   "outputs": [],
   "source": []
  },
  {
   "cell_type": "code",
   "execution_count": null,
   "id": "c0ee4c68",
   "metadata": {},
   "outputs": [],
   "source": [
    "#15)"
   ]
  },
  {
   "cell_type": "code",
   "execution_count": null,
   "id": "02e13cd7",
   "metadata": {},
   "outputs": [],
   "source": [
    "n=int(input())\n",
    "a=set(map(int,input().split()))\n",
    "m=int(input())\n",
    "b=set(map(int,input().split()))\n",
    "print(len(a.symmetric_difference(b)))"
   ]
  },
  {
   "cell_type": "code",
   "execution_count": null,
   "id": "3eae0dd4",
   "metadata": {},
   "outputs": [],
   "source": []
  },
  {
   "cell_type": "code",
   "execution_count": null,
   "id": "610430c4",
   "metadata": {},
   "outputs": [],
   "source": [
    "#16)"
   ]
  },
  {
   "cell_type": "code",
   "execution_count": null,
   "id": "eefa430b",
   "metadata": {},
   "outputs": [],
   "source": [
    "n = int(input())\n",
    "A = set(map(int, input().split()))\n",
    "N = int(input())\n",
    "operations = []\n",
    "for i in range(N):\n",
    "    op, dummy = input().split()\n",
    "    numbers = set(map(int, input().split()))\n",
    "    operations.append((op, numbers))\n",
    "for op, numbers in operations:\n",
    "    if(op == 'intersection_update'):\n",
    "        A &= numbers\n",
    "    if(op == 'symmetric_difference_update'):\n",
    "        A ^= numbers\n",
    "    if(op == 'difference_update'):\n",
    "        A -= numbers\n",
    "    if(op == 'update'):\n",
    "        A |= numbers\n",
    "print(sum(A)) "
   ]
  },
  {
   "cell_type": "code",
   "execution_count": null,
   "id": "c01481b8",
   "metadata": {},
   "outputs": [],
   "source": []
  },
  {
   "cell_type": "code",
   "execution_count": null,
   "id": "e2d17172",
   "metadata": {},
   "outputs": [],
   "source": [
    "#17)"
   ]
  },
  {
   "cell_type": "code",
   "execution_count": null,
   "id": "e8ca74bc",
   "metadata": {},
   "outputs": [],
   "source": [
    "n=int(input())\n",
    "a=list(map(int,input().split()))\n",
    "d={}\n",
    "c=0\n",
    "for i in a:\n",
    "    if i in d:\n",
    "        d[i]=d[i]+1\n",
    "    else:\n",
    "        d[i]=1\n",
    "for i,j in d.items():\n",
    "    if j!=n:\n",
    "        print(i)"
   ]
  },
  {
   "cell_type": "code",
   "execution_count": null,
   "id": "fe6b3646",
   "metadata": {},
   "outputs": [],
   "source": []
  },
  {
   "cell_type": "code",
   "execution_count": null,
   "id": "cba16471",
   "metadata": {},
   "outputs": [],
   "source": [
    "#18)"
   ]
  },
  {
   "cell_type": "code",
   "execution_count": null,
   "id": "eb12da99",
   "metadata": {},
   "outputs": [],
   "source": [
    "n=int(input())\n",
    "for i in range(n):\n",
    "    c=0\n",
    "    m=int(input())\n",
    "    a=set(map(int,input().split()))\n",
    "    p=int(input())\n",
    "    b=set(map(int,input().split()))\n",
    "    if len(a)==len(a.intersection(b)):\n",
    "        \n",
    "        print(\"True\")\n",
    "          \n",
    "    else:\n",
    "        print(\"False\")"
   ]
  },
  {
   "cell_type": "code",
   "execution_count": null,
   "id": "262c8ca7",
   "metadata": {},
   "outputs": [],
   "source": []
  },
  {
   "cell_type": "code",
   "execution_count": null,
   "id": "140b263c",
   "metadata": {},
   "outputs": [],
   "source": [
    "#19)"
   ]
  },
  {
   "cell_type": "code",
   "execution_count": null,
   "id": "d2569dea",
   "metadata": {},
   "outputs": [],
   "source": [
    "A = {int(x) for x in input().split()}\n",
    "n = int(input())\n",
    "sets = []\n",
    "for _ in range(n):\n",
    "    sets.append({int(x) for x in input().split()})\n",
    "\n",
    "print(all([A>B for B in sets]))"
   ]
  },
  {
   "cell_type": "code",
   "execution_count": null,
   "id": "2704124b",
   "metadata": {},
   "outputs": [],
   "source": []
  },
  {
   "cell_type": "code",
   "execution_count": null,
   "id": "d22e8e0d",
   "metadata": {},
   "outputs": [],
   "source": []
  }
 ],
 "metadata": {
  "kernelspec": {
   "display_name": "Python 3 (ipykernel)",
   "language": "python",
   "name": "python3"
  },
  "language_info": {
   "codemirror_mode": {
    "name": "ipython",
    "version": 3
   },
   "file_extension": ".py",
   "mimetype": "text/x-python",
   "name": "python",
   "nbconvert_exporter": "python",
   "pygments_lexer": "ipython3",
   "version": "3.9.13"
  }
 },
 "nbformat": 4,
 "nbformat_minor": 5
}

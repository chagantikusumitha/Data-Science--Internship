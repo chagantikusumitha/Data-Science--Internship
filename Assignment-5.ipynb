{
 "cells": [
  {
   "cell_type": "code",
   "execution_count": null,
   "id": "a8a39f5c",
   "metadata": {},
   "outputs": [],
   "source": [
    "import re\n",
    "pattern = r'^[+-.]\\d+\\.\\d+|\\d+\\.\\d+$|[+-]\\.\\d+'\n",
    "n = int(input())\n",
    "for i in range(n):\n",
    "    target = input()\n",
    "    if re.fullmatch(pattern,target):\n",
    "        print('True')\n",
    "    else:\n",
    "        print('False')"
   ]
  },
  {
   "cell_type": "code",
   "execution_count": null,
   "id": "fc3fe059",
   "metadata": {},
   "outputs": [],
   "source": [
    "regex_pattern = r\"[.,]+\""
   ]
  },
  {
   "cell_type": "code",
   "execution_count": null,
   "id": "1d181384",
   "metadata": {},
   "outputs": [],
   "source": [
    "import re\n",
    "\n",
    "expression=r\"([a-zA-Z0-9])\\1+\"\n",
    "\n",
    "m = re.search(expression,input())\n",
    "\n",
    "if m:\n",
    "    print(m.group(1))\n",
    "else:\n",
    "    print(-1)"
   ]
  },
  {
   "cell_type": "code",
   "execution_count": null,
   "id": "f3127afd",
   "metadata": {},
   "outputs": [],
   "source": [
    "import re\n",
    "v = \"aeiou\"\n",
    "c = \"qwrtypsdfghjklzxcvbnm\"\n",
    "m = re.findall(r\"(?<=[%s])([%s]{2,})[%s]\" % (c, v, c), input(), flags = re.I)\n",
    "print('\\n'.join(m or ['-1']))"
   ]
  },
  {
   "cell_type": "code",
   "execution_count": null,
   "id": "789039e0",
   "metadata": {},
   "outputs": [],
   "source": [
    "import re\n",
    "\n",
    "S, k = input(), input()\n",
    "matches = re.finditer(r'(?=(' + k + '))', S)\n",
    "\n",
    "anymatch = False\n",
    "for match in matches:\n",
    "    anymatch = True\n",
    "    print((match.start(1), match.end(1) - 1))\n",
    "\n",
    "if anymatch == False:\n",
    "    print((-1, -1))"
   ]
  },
  {
   "cell_type": "code",
   "execution_count": null,
   "id": "d13d3118",
   "metadata": {},
   "outputs": [],
   "source": [
    "import re\n",
    "\n",
    "def change(match):\n",
    "    if match.group(1) == '&&':\n",
    "        return 'and'\n",
    "    else:\n",
    "        return 'or'\n",
    "\n",
    "for _ in range(int(input())):\n",
    "    print(re.sub(r\"(?<= )(\\|\\||&&)(?= )\", change,input()))"
   ]
  },
  {
   "cell_type": "code",
   "execution_count": null,
   "id": "ff0feddc",
   "metadata": {},
   "outputs": [],
   "source": [
    "thousand = 'M{0,3}'\n",
    "hundred = '(C[MD]|D?C{0,3})'\n",
    "ten = '(X[CL]|L?X{0,3})'\n",
    "digit = '(I[VX]|V?I{0,3})'\n",
    "regex_pattern = r\"%s%s%s%s$\" % (thousand, hundred, ten, digit)    "
   ]
  },
  {
   "cell_type": "code",
   "execution_count": null,
   "id": "c1704e62",
   "metadata": {},
   "outputs": [],
   "source": [
    "import re\n",
    "\n",
    "N = int(input())\n",
    "\n",
    "for i in range(N):\n",
    "    number = input()\n",
    "    if(len(number)==10 and number.isdigit()):\n",
    "        output = re.findall(r\"^[789]\\d{9}$\",number)\n",
    "        if(len(output)==1):\n",
    "            print(\"YES\")\n",
    "        else:\n",
    "            print(\"NO\")\n",
    "    else:\n",
    "        print(\"NO\")\n"
   ]
  },
  {
   "cell_type": "code",
   "execution_count": null,
   "id": "b9e7e698",
   "metadata": {},
   "outputs": [],
   "source": [
    "import re\n",
    "\n",
    "N = int(input())\n",
    "\n",
    "for i in range(N):\n",
    "    name, email = input().split()\n",
    "    pattern=\"<[a-z][a-zA-Z0-9\\-\\.\\_]+@[a-zA-Z]+\\.[a-zA-Z]{1,3}>\"\n",
    "    if bool(re.match(pattern, email)):\n",
    "        print(name,email)"
   ]
  },
  {
   "cell_type": "code",
   "execution_count": null,
   "id": "23097e10",
   "metadata": {},
   "outputs": [],
   "source": [
    "import re\n",
    "\n",
    "pattern = re.compile(r'#([0-9a-fA-F]{1,2}){3}')\n",
    "\n",
    "res = []\n",
    "for _ in range(int(input())):\n",
    "    s = input()\n",
    "    if s.endswith(';'):\n",
    "        res += [m.group(0) for m in re.finditer(pattern, s)]\n",
    "print(*res, sep='\\n')"
   ]
  },
  {
   "cell_type": "code",
   "execution_count": null,
   "id": "89c0a3bf",
   "metadata": {},
   "outputs": [],
   "source": [
    "from html.parser import HTMLParser\n",
    "\n",
    "class MyHTMLParser(HTMLParser):\n",
    "    def handle_starttag(self, tag, attrs):\n",
    "        print ('Start :', tag)\n",
    "        for ele in attrs:\n",
    "            print ('->', ele[0], '>', ele[1])\n",
    "\n",
    "    def handle_endtag(self, tag):\n",
    "        print ('End   :', tag)\n",
    "\n",
    "    def handle_startendtag(self, tag, attrs):\n",
    "        print ('Empty :', tag)\n",
    "        for ele in attrs:\n",
    "            print ('->', ele[0], '>', ele[1])\n",
    "\n",
    "parser = MyHTMLParser()\n",
    "for _ in range(int(input())):\n",
    "    parser.feed(input())"
   ]
  },
  {
   "cell_type": "code",
   "execution_count": null,
   "id": "c83b83d9",
   "metadata": {},
   "outputs": [],
   "source": [
    "from html.parser import HTMLParser\n",
    "\n",
    "class MyHTMLParser(HTMLParser):\n",
    "    def handle_comment(self, data):\n",
    "        if '\\n' not in data:\n",
    "            print('>>> Single-line Comment')\n",
    "            print(data)\n",
    "        elif '\\n' in data:\n",
    "            print('>>> Multi-line Comment')\n",
    "            print(data)\n",
    "    def handle_data(self, data):\n",
    "        if data != '\\n':\n",
    "            print('>>> Data')\n",
    "            print(data)"
   ]
  },
  {
   "cell_type": "code",
   "execution_count": null,
   "id": "6ae7ca93",
   "metadata": {},
   "outputs": [],
   "source": [
    "from html.parser import HTMLParser\n",
    "\n",
    "class CustomHTMLParser(HTMLParser):\n",
    "    \n",
    "    def custom_print_attrs(self, attrs):\n",
    "        if attrs:\n",
    "            for attr in attrs:\n",
    "                print('->', attr[0], '>', attr[1])\n",
    "    \n",
    "    def handle_starttag(self, tag, attrs):\n",
    "        print(tag)\n",
    "        self.custom_print_attrs(attrs)\n",
    "\n",
    "    def handle_startendtag(self, tag, attrs):\n",
    "        print(tag)\n",
    "        self.custom_print_attrs(attrs)\n",
    "\n",
    "html_parser = CustomHTMLParser()\n",
    "pages = [input() for i in range(int(input()))]\n",
    "\n",
    "for page in pages:\n",
    "    html_parser.feed(page)\n"
   ]
  },
  {
   "cell_type": "code",
   "execution_count": null,
   "id": "e10cc47a",
   "metadata": {},
   "outputs": [],
   "source": [
    "import re\n",
    "\n",
    "for i in range(int(input())):\n",
    "    N = input().strip()\n",
    "    if N.isalnum() and len(N) == 10:\n",
    "        if bool(re.search(r'(.*[A-Z]){2,}',N)) and bool(re.search(r'(.*[0-9]){3,}',N)):\n",
    "            if re.search(r'.*(.).*\\1+.*',N):\n",
    "                print('Invalid')\n",
    "            else:\n",
    "                print('Valid')\n",
    "        else:\n",
    "            print('Invalid')\n",
    "    else:\n",
    "        print('Invalid')"
   ]
  },
  {
   "cell_type": "code",
   "execution_count": null,
   "id": "0f36de71",
   "metadata": {},
   "outputs": [],
   "source": [
    "import re\n",
    "\n",
    "for i in range(int(input())):\n",
    "    \n",
    "    text = input()\n",
    "    pattern = re.compile(r\"^([456][\\d+]{3})-([\\d+]{4})-([\\d+]{4})-([\\d+]{4})$|^([456][\\d+]{15})$\")\n",
    "\n",
    "    if pattern.match(text):\n",
    "        text = ''.join([i for i in text if i != '-'])\n",
    "        if all([False if i*4 in text  else True for i in set(text)]):\n",
    "            print(\"Valid\")\n",
    "        else:\n",
    "            print(\"Invalid\")\n",
    "    else:\n",
    "        print(\"Invalid\")  "
   ]
  },
  {
   "cell_type": "code",
   "execution_count": null,
   "id": "a8c20fda",
   "metadata": {},
   "outputs": [],
   "source": [
    "regex_integer_in_range = r\"^[1-9][\\d]{5}$\"\n",
    "regex_alternating_repetitive_digit_pair = r\"(\\d)(?=\\d\\1)\""
   ]
  },
  {
   "cell_type": "code",
   "execution_count": null,
   "id": "3a622358",
   "metadata": {},
   "outputs": [],
   "source": [
    "import math\n",
    "import os\n",
    "import random\n",
    "import re\n",
    "import sys\n",
    "\n",
    "\n",
    "\n",
    "\n",
    "first_multiple_input = input().rstrip().split()\n",
    "\n",
    "n = int(first_multiple_input[0])\n",
    "\n",
    "m = int(first_multiple_input[1])\n",
    "\n",
    "matrix = []\n",
    "\n",
    "for _ in range(n):\n",
    "    matrix_item = input()\n",
    "    matrix.append(matrix_item)\n",
    "matrix = list(zip(*matrix))\n",
    "\n",
    "sample = str()\n",
    "\n",
    "for words in matrix:\n",
    "    for char in words:\n",
    "        sample += char\n",
    "       \n",
    "print(re.sub(r'(?<=\\w)([^\\w\\d]+)(?=\\w)', ' ', sample))"
   ]
  }
 ],
 "metadata": {
  "kernelspec": {
   "display_name": "Python 3 (ipykernel)",
   "language": "python",
   "name": "python3"
  },
  "language_info": {
   "codemirror_mode": {
    "name": "ipython",
    "version": 3
   },
   "file_extension": ".py",
   "mimetype": "text/x-python",
   "name": "python",
   "nbconvert_exporter": "python",
   "pygments_lexer": "ipython3",
   "version": "3.9.7"
  }
 },
 "nbformat": 4,
 "nbformat_minor": 5
}

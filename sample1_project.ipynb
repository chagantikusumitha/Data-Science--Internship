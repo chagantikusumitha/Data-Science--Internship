{
 "cells": [
  {
   "cell_type": "code",
   "execution_count": 2,
   "id": "4c486b09",
   "metadata": {},
   "outputs": [],
   "source": [
    "import os\n",
    "import pandas as pd\n",
    "import numpy as np\n",
    "import matplotlib.pyplot as plt\n",
    "import seaborn as sns\n"
   ]
  },
  {
   "cell_type": "code",
   "execution_count": 3,
   "id": "a2c906f8",
   "metadata": {},
   "outputs": [
    {
     "ename": "FileNotFoundError",
     "evalue": "[Errno 2] No such file or directory: 'laptop_details.csv'",
     "output_type": "error",
     "traceback": [
      "\u001b[1;31m---------------------------------------------------------------------------\u001b[0m",
      "\u001b[1;31mFileNotFoundError\u001b[0m                         Traceback (most recent call last)",
      "Input \u001b[1;32mIn [3]\u001b[0m, in \u001b[0;36m<cell line: 1>\u001b[1;34m()\u001b[0m\n\u001b[1;32m----> 1\u001b[0m df \u001b[38;5;241m=\u001b[39m \u001b[43mpd\u001b[49m\u001b[38;5;241;43m.\u001b[39;49m\u001b[43mread_csv\u001b[49m\u001b[43m(\u001b[49m\u001b[38;5;124;43m\"\u001b[39;49m\u001b[38;5;124;43mlaptop_details.csv\u001b[39;49m\u001b[38;5;124;43m\"\u001b[39;49m\u001b[43m)\u001b[49m\n",
      "File \u001b[1;32m~\\anaconda3\\lib\\site-packages\\pandas\\util\\_decorators.py:311\u001b[0m, in \u001b[0;36mdeprecate_nonkeyword_arguments.<locals>.decorate.<locals>.wrapper\u001b[1;34m(*args, **kwargs)\u001b[0m\n\u001b[0;32m    305\u001b[0m \u001b[38;5;28;01mif\u001b[39;00m \u001b[38;5;28mlen\u001b[39m(args) \u001b[38;5;241m>\u001b[39m num_allow_args:\n\u001b[0;32m    306\u001b[0m     warnings\u001b[38;5;241m.\u001b[39mwarn(\n\u001b[0;32m    307\u001b[0m         msg\u001b[38;5;241m.\u001b[39mformat(arguments\u001b[38;5;241m=\u001b[39marguments),\n\u001b[0;32m    308\u001b[0m         \u001b[38;5;167;01mFutureWarning\u001b[39;00m,\n\u001b[0;32m    309\u001b[0m         stacklevel\u001b[38;5;241m=\u001b[39mstacklevel,\n\u001b[0;32m    310\u001b[0m     )\n\u001b[1;32m--> 311\u001b[0m \u001b[38;5;28;01mreturn\u001b[39;00m func(\u001b[38;5;241m*\u001b[39margs, \u001b[38;5;241m*\u001b[39m\u001b[38;5;241m*\u001b[39mkwargs)\n",
      "File \u001b[1;32m~\\anaconda3\\lib\\site-packages\\pandas\\io\\parsers\\readers.py:680\u001b[0m, in \u001b[0;36mread_csv\u001b[1;34m(filepath_or_buffer, sep, delimiter, header, names, index_col, usecols, squeeze, prefix, mangle_dupe_cols, dtype, engine, converters, true_values, false_values, skipinitialspace, skiprows, skipfooter, nrows, na_values, keep_default_na, na_filter, verbose, skip_blank_lines, parse_dates, infer_datetime_format, keep_date_col, date_parser, dayfirst, cache_dates, iterator, chunksize, compression, thousands, decimal, lineterminator, quotechar, quoting, doublequote, escapechar, comment, encoding, encoding_errors, dialect, error_bad_lines, warn_bad_lines, on_bad_lines, delim_whitespace, low_memory, memory_map, float_precision, storage_options)\u001b[0m\n\u001b[0;32m    665\u001b[0m kwds_defaults \u001b[38;5;241m=\u001b[39m _refine_defaults_read(\n\u001b[0;32m    666\u001b[0m     dialect,\n\u001b[0;32m    667\u001b[0m     delimiter,\n\u001b[1;32m   (...)\u001b[0m\n\u001b[0;32m    676\u001b[0m     defaults\u001b[38;5;241m=\u001b[39m{\u001b[38;5;124m\"\u001b[39m\u001b[38;5;124mdelimiter\u001b[39m\u001b[38;5;124m\"\u001b[39m: \u001b[38;5;124m\"\u001b[39m\u001b[38;5;124m,\u001b[39m\u001b[38;5;124m\"\u001b[39m},\n\u001b[0;32m    677\u001b[0m )\n\u001b[0;32m    678\u001b[0m kwds\u001b[38;5;241m.\u001b[39mupdate(kwds_defaults)\n\u001b[1;32m--> 680\u001b[0m \u001b[38;5;28;01mreturn\u001b[39;00m \u001b[43m_read\u001b[49m\u001b[43m(\u001b[49m\u001b[43mfilepath_or_buffer\u001b[49m\u001b[43m,\u001b[49m\u001b[43m \u001b[49m\u001b[43mkwds\u001b[49m\u001b[43m)\u001b[49m\n",
      "File \u001b[1;32m~\\anaconda3\\lib\\site-packages\\pandas\\io\\parsers\\readers.py:575\u001b[0m, in \u001b[0;36m_read\u001b[1;34m(filepath_or_buffer, kwds)\u001b[0m\n\u001b[0;32m    572\u001b[0m _validate_names(kwds\u001b[38;5;241m.\u001b[39mget(\u001b[38;5;124m\"\u001b[39m\u001b[38;5;124mnames\u001b[39m\u001b[38;5;124m\"\u001b[39m, \u001b[38;5;28;01mNone\u001b[39;00m))\n\u001b[0;32m    574\u001b[0m \u001b[38;5;66;03m# Create the parser.\u001b[39;00m\n\u001b[1;32m--> 575\u001b[0m parser \u001b[38;5;241m=\u001b[39m TextFileReader(filepath_or_buffer, \u001b[38;5;241m*\u001b[39m\u001b[38;5;241m*\u001b[39mkwds)\n\u001b[0;32m    577\u001b[0m \u001b[38;5;28;01mif\u001b[39;00m chunksize \u001b[38;5;129;01mor\u001b[39;00m iterator:\n\u001b[0;32m    578\u001b[0m     \u001b[38;5;28;01mreturn\u001b[39;00m parser\n",
      "File \u001b[1;32m~\\anaconda3\\lib\\site-packages\\pandas\\io\\parsers\\readers.py:933\u001b[0m, in \u001b[0;36mTextFileReader.__init__\u001b[1;34m(self, f, engine, **kwds)\u001b[0m\n\u001b[0;32m    930\u001b[0m     \u001b[38;5;28mself\u001b[39m\u001b[38;5;241m.\u001b[39moptions[\u001b[38;5;124m\"\u001b[39m\u001b[38;5;124mhas_index_names\u001b[39m\u001b[38;5;124m\"\u001b[39m] \u001b[38;5;241m=\u001b[39m kwds[\u001b[38;5;124m\"\u001b[39m\u001b[38;5;124mhas_index_names\u001b[39m\u001b[38;5;124m\"\u001b[39m]\n\u001b[0;32m    932\u001b[0m \u001b[38;5;28mself\u001b[39m\u001b[38;5;241m.\u001b[39mhandles: IOHandles \u001b[38;5;241m|\u001b[39m \u001b[38;5;28;01mNone\u001b[39;00m \u001b[38;5;241m=\u001b[39m \u001b[38;5;28;01mNone\u001b[39;00m\n\u001b[1;32m--> 933\u001b[0m \u001b[38;5;28mself\u001b[39m\u001b[38;5;241m.\u001b[39m_engine \u001b[38;5;241m=\u001b[39m \u001b[38;5;28;43mself\u001b[39;49m\u001b[38;5;241;43m.\u001b[39;49m\u001b[43m_make_engine\u001b[49m\u001b[43m(\u001b[49m\u001b[43mf\u001b[49m\u001b[43m,\u001b[49m\u001b[43m \u001b[49m\u001b[38;5;28;43mself\u001b[39;49m\u001b[38;5;241;43m.\u001b[39;49m\u001b[43mengine\u001b[49m\u001b[43m)\u001b[49m\n",
      "File \u001b[1;32m~\\anaconda3\\lib\\site-packages\\pandas\\io\\parsers\\readers.py:1217\u001b[0m, in \u001b[0;36mTextFileReader._make_engine\u001b[1;34m(self, f, engine)\u001b[0m\n\u001b[0;32m   1213\u001b[0m     mode \u001b[38;5;241m=\u001b[39m \u001b[38;5;124m\"\u001b[39m\u001b[38;5;124mrb\u001b[39m\u001b[38;5;124m\"\u001b[39m\n\u001b[0;32m   1214\u001b[0m \u001b[38;5;66;03m# error: No overload variant of \"get_handle\" matches argument types\u001b[39;00m\n\u001b[0;32m   1215\u001b[0m \u001b[38;5;66;03m# \"Union[str, PathLike[str], ReadCsvBuffer[bytes], ReadCsvBuffer[str]]\"\u001b[39;00m\n\u001b[0;32m   1216\u001b[0m \u001b[38;5;66;03m# , \"str\", \"bool\", \"Any\", \"Any\", \"Any\", \"Any\", \"Any\"\u001b[39;00m\n\u001b[1;32m-> 1217\u001b[0m \u001b[38;5;28mself\u001b[39m\u001b[38;5;241m.\u001b[39mhandles \u001b[38;5;241m=\u001b[39m \u001b[43mget_handle\u001b[49m\u001b[43m(\u001b[49m\u001b[43m  \u001b[49m\u001b[38;5;66;43;03m# type: ignore[call-overload]\u001b[39;49;00m\n\u001b[0;32m   1218\u001b[0m \u001b[43m    \u001b[49m\u001b[43mf\u001b[49m\u001b[43m,\u001b[49m\n\u001b[0;32m   1219\u001b[0m \u001b[43m    \u001b[49m\u001b[43mmode\u001b[49m\u001b[43m,\u001b[49m\n\u001b[0;32m   1220\u001b[0m \u001b[43m    \u001b[49m\u001b[43mencoding\u001b[49m\u001b[38;5;241;43m=\u001b[39;49m\u001b[38;5;28;43mself\u001b[39;49m\u001b[38;5;241;43m.\u001b[39;49m\u001b[43moptions\u001b[49m\u001b[38;5;241;43m.\u001b[39;49m\u001b[43mget\u001b[49m\u001b[43m(\u001b[49m\u001b[38;5;124;43m\"\u001b[39;49m\u001b[38;5;124;43mencoding\u001b[39;49m\u001b[38;5;124;43m\"\u001b[39;49m\u001b[43m,\u001b[49m\u001b[43m \u001b[49m\u001b[38;5;28;43;01mNone\u001b[39;49;00m\u001b[43m)\u001b[49m\u001b[43m,\u001b[49m\n\u001b[0;32m   1221\u001b[0m \u001b[43m    \u001b[49m\u001b[43mcompression\u001b[49m\u001b[38;5;241;43m=\u001b[39;49m\u001b[38;5;28;43mself\u001b[39;49m\u001b[38;5;241;43m.\u001b[39;49m\u001b[43moptions\u001b[49m\u001b[38;5;241;43m.\u001b[39;49m\u001b[43mget\u001b[49m\u001b[43m(\u001b[49m\u001b[38;5;124;43m\"\u001b[39;49m\u001b[38;5;124;43mcompression\u001b[39;49m\u001b[38;5;124;43m\"\u001b[39;49m\u001b[43m,\u001b[49m\u001b[43m \u001b[49m\u001b[38;5;28;43;01mNone\u001b[39;49;00m\u001b[43m)\u001b[49m\u001b[43m,\u001b[49m\n\u001b[0;32m   1222\u001b[0m \u001b[43m    \u001b[49m\u001b[43mmemory_map\u001b[49m\u001b[38;5;241;43m=\u001b[39;49m\u001b[38;5;28;43mself\u001b[39;49m\u001b[38;5;241;43m.\u001b[39;49m\u001b[43moptions\u001b[49m\u001b[38;5;241;43m.\u001b[39;49m\u001b[43mget\u001b[49m\u001b[43m(\u001b[49m\u001b[38;5;124;43m\"\u001b[39;49m\u001b[38;5;124;43mmemory_map\u001b[39;49m\u001b[38;5;124;43m\"\u001b[39;49m\u001b[43m,\u001b[49m\u001b[43m \u001b[49m\u001b[38;5;28;43;01mFalse\u001b[39;49;00m\u001b[43m)\u001b[49m\u001b[43m,\u001b[49m\n\u001b[0;32m   1223\u001b[0m \u001b[43m    \u001b[49m\u001b[43mis_text\u001b[49m\u001b[38;5;241;43m=\u001b[39;49m\u001b[43mis_text\u001b[49m\u001b[43m,\u001b[49m\n\u001b[0;32m   1224\u001b[0m \u001b[43m    \u001b[49m\u001b[43merrors\u001b[49m\u001b[38;5;241;43m=\u001b[39;49m\u001b[38;5;28;43mself\u001b[39;49m\u001b[38;5;241;43m.\u001b[39;49m\u001b[43moptions\u001b[49m\u001b[38;5;241;43m.\u001b[39;49m\u001b[43mget\u001b[49m\u001b[43m(\u001b[49m\u001b[38;5;124;43m\"\u001b[39;49m\u001b[38;5;124;43mencoding_errors\u001b[39;49m\u001b[38;5;124;43m\"\u001b[39;49m\u001b[43m,\u001b[49m\u001b[43m \u001b[49m\u001b[38;5;124;43m\"\u001b[39;49m\u001b[38;5;124;43mstrict\u001b[39;49m\u001b[38;5;124;43m\"\u001b[39;49m\u001b[43m)\u001b[49m\u001b[43m,\u001b[49m\n\u001b[0;32m   1225\u001b[0m \u001b[43m    \u001b[49m\u001b[43mstorage_options\u001b[49m\u001b[38;5;241;43m=\u001b[39;49m\u001b[38;5;28;43mself\u001b[39;49m\u001b[38;5;241;43m.\u001b[39;49m\u001b[43moptions\u001b[49m\u001b[38;5;241;43m.\u001b[39;49m\u001b[43mget\u001b[49m\u001b[43m(\u001b[49m\u001b[38;5;124;43m\"\u001b[39;49m\u001b[38;5;124;43mstorage_options\u001b[39;49m\u001b[38;5;124;43m\"\u001b[39;49m\u001b[43m,\u001b[49m\u001b[43m \u001b[49m\u001b[38;5;28;43;01mNone\u001b[39;49;00m\u001b[43m)\u001b[49m\u001b[43m,\u001b[49m\n\u001b[0;32m   1226\u001b[0m \u001b[43m\u001b[49m\u001b[43m)\u001b[49m\n\u001b[0;32m   1227\u001b[0m \u001b[38;5;28;01massert\u001b[39;00m \u001b[38;5;28mself\u001b[39m\u001b[38;5;241m.\u001b[39mhandles \u001b[38;5;129;01mis\u001b[39;00m \u001b[38;5;129;01mnot\u001b[39;00m \u001b[38;5;28;01mNone\u001b[39;00m\n\u001b[0;32m   1228\u001b[0m f \u001b[38;5;241m=\u001b[39m \u001b[38;5;28mself\u001b[39m\u001b[38;5;241m.\u001b[39mhandles\u001b[38;5;241m.\u001b[39mhandle\n",
      "File \u001b[1;32m~\\anaconda3\\lib\\site-packages\\pandas\\io\\common.py:789\u001b[0m, in \u001b[0;36mget_handle\u001b[1;34m(path_or_buf, mode, encoding, compression, memory_map, is_text, errors, storage_options)\u001b[0m\n\u001b[0;32m    784\u001b[0m \u001b[38;5;28;01melif\u001b[39;00m \u001b[38;5;28misinstance\u001b[39m(handle, \u001b[38;5;28mstr\u001b[39m):\n\u001b[0;32m    785\u001b[0m     \u001b[38;5;66;03m# Check whether the filename is to be opened in binary mode.\u001b[39;00m\n\u001b[0;32m    786\u001b[0m     \u001b[38;5;66;03m# Binary mode does not support 'encoding' and 'newline'.\u001b[39;00m\n\u001b[0;32m    787\u001b[0m     \u001b[38;5;28;01mif\u001b[39;00m ioargs\u001b[38;5;241m.\u001b[39mencoding \u001b[38;5;129;01mand\u001b[39;00m \u001b[38;5;124m\"\u001b[39m\u001b[38;5;124mb\u001b[39m\u001b[38;5;124m\"\u001b[39m \u001b[38;5;129;01mnot\u001b[39;00m \u001b[38;5;129;01min\u001b[39;00m ioargs\u001b[38;5;241m.\u001b[39mmode:\n\u001b[0;32m    788\u001b[0m         \u001b[38;5;66;03m# Encoding\u001b[39;00m\n\u001b[1;32m--> 789\u001b[0m         handle \u001b[38;5;241m=\u001b[39m \u001b[38;5;28;43mopen\u001b[39;49m\u001b[43m(\u001b[49m\n\u001b[0;32m    790\u001b[0m \u001b[43m            \u001b[49m\u001b[43mhandle\u001b[49m\u001b[43m,\u001b[49m\n\u001b[0;32m    791\u001b[0m \u001b[43m            \u001b[49m\u001b[43mioargs\u001b[49m\u001b[38;5;241;43m.\u001b[39;49m\u001b[43mmode\u001b[49m\u001b[43m,\u001b[49m\n\u001b[0;32m    792\u001b[0m \u001b[43m            \u001b[49m\u001b[43mencoding\u001b[49m\u001b[38;5;241;43m=\u001b[39;49m\u001b[43mioargs\u001b[49m\u001b[38;5;241;43m.\u001b[39;49m\u001b[43mencoding\u001b[49m\u001b[43m,\u001b[49m\n\u001b[0;32m    793\u001b[0m \u001b[43m            \u001b[49m\u001b[43merrors\u001b[49m\u001b[38;5;241;43m=\u001b[39;49m\u001b[43merrors\u001b[49m\u001b[43m,\u001b[49m\n\u001b[0;32m    794\u001b[0m \u001b[43m            \u001b[49m\u001b[43mnewline\u001b[49m\u001b[38;5;241;43m=\u001b[39;49m\u001b[38;5;124;43m\"\u001b[39;49m\u001b[38;5;124;43m\"\u001b[39;49m\u001b[43m,\u001b[49m\n\u001b[0;32m    795\u001b[0m \u001b[43m        \u001b[49m\u001b[43m)\u001b[49m\n\u001b[0;32m    796\u001b[0m     \u001b[38;5;28;01melse\u001b[39;00m:\n\u001b[0;32m    797\u001b[0m         \u001b[38;5;66;03m# Binary mode\u001b[39;00m\n\u001b[0;32m    798\u001b[0m         handle \u001b[38;5;241m=\u001b[39m \u001b[38;5;28mopen\u001b[39m(handle, ioargs\u001b[38;5;241m.\u001b[39mmode)\n",
      "\u001b[1;31mFileNotFoundError\u001b[0m: [Errno 2] No such file or directory: 'laptop_details.csv'"
     ]
    }
   ],
   "source": [
    "df = pd.read_csv(\"laptop_details.csv\")"
   ]
  },
  {
   "cell_type": "code",
   "execution_count": null,
   "id": "bb34f0c4",
   "metadata": {},
   "outputs": [],
   "source": [
    "df"
   ]
  },
  {
   "cell_type": "code",
   "execution_count": null,
   "id": "6a8b9afa",
   "metadata": {},
   "outputs": [],
   "source": [
    "df.head()"
   ]
  },
  {
   "cell_type": "code",
   "execution_count": null,
   "id": "32c50f96",
   "metadata": {},
   "outputs": [],
   "source": [
    "df.shape"
   ]
  },
  {
   "cell_type": "code",
   "execution_count": null,
   "id": "a77d2c2d",
   "metadata": {},
   "outputs": [],
   "source": [
    "df.tail()"
   ]
  },
  {
   "cell_type": "code",
   "execution_count": null,
   "id": "5514a2c5",
   "metadata": {},
   "outputs": [],
   "source": [
    "df.info()"
   ]
  },
  {
   "cell_type": "code",
   "execution_count": 4,
   "id": "a07371e6",
   "metadata": {},
   "outputs": [
    {
     "ename": "NameError",
     "evalue": "name 'df' is not defined",
     "output_type": "error",
     "traceback": [
      "\u001b[1;31m---------------------------------------------------------------------------\u001b[0m",
      "\u001b[1;31mNameError\u001b[0m                                 Traceback (most recent call last)",
      "Input \u001b[1;32mIn [4]\u001b[0m, in \u001b[0;36m<cell line: 1>\u001b[1;34m()\u001b[0m\n\u001b[1;32m----> 1\u001b[0m \u001b[43mdf\u001b[49m\u001b[38;5;241m.\u001b[39mto_csv(\u001b[38;5;124m'\u001b[39m\u001b[38;5;124mdata/laptop_details.csv\u001b[39m\u001b[38;5;124m'\u001b[39m, index \u001b[38;5;241m=\u001b[39m \u001b[38;5;28;01mFalse\u001b[39;00m)\n",
      "\u001b[1;31mNameError\u001b[0m: name 'df' is not defined"
     ]
    }
   ],
   "source": [
    "df.to_csv('data/laptop_details.csv', index = False)"
   ]
  },
  {
   "cell_type": "markdown",
   "id": "fc2c5fac",
   "metadata": {},
   "source": [
    "###### DATA CLEANING USING REGEX:"
   ]
  },
  {
   "cell_type": "code",
   "execution_count": 5,
   "id": "117053a4",
   "metadata": {},
   "outputs": [
    {
     "data": {
      "text/html": [
       "<div>\n",
       "<style scoped>\n",
       "    .dataframe tbody tr th:only-of-type {\n",
       "        vertical-align: middle;\n",
       "    }\n",
       "\n",
       "    .dataframe tbody tr th {\n",
       "        vertical-align: top;\n",
       "    }\n",
       "\n",
       "    .dataframe thead th {\n",
       "        text-align: right;\n",
       "    }\n",
       "</style>\n",
       "<table border=\"1\" class=\"dataframe\">\n",
       "  <thead>\n",
       "    <tr style=\"text-align: right;\">\n",
       "      <th></th>\n",
       "      <th>Product</th>\n",
       "      <th>Rating</th>\n",
       "      <th>MRP</th>\n",
       "      <th>Feature</th>\n",
       "    </tr>\n",
       "  </thead>\n",
       "  <tbody>\n",
       "    <tr>\n",
       "      <th>0</th>\n",
       "      <td>Lenovo IdeaPad 3 Core i3 11th Gen - (8 GB/256 ...</td>\n",
       "      <td>4.2</td>\n",
       "      <td>₹36,990</td>\n",
       "      <td>Intel Core i3 Processor (11th Gen)8 GB DDR4 RA...</td>\n",
       "    </tr>\n",
       "    <tr>\n",
       "      <th>1</th>\n",
       "      <td>Lenovo IdeaPad 3 Core i3 11th Gen - (8 GB/512 ...</td>\n",
       "      <td>4.2</td>\n",
       "      <td>₹39,990</td>\n",
       "      <td>Intel Core i3 Processor (11th Gen)8 GB DDR4 RA...</td>\n",
       "    </tr>\n",
       "    <tr>\n",
       "      <th>2</th>\n",
       "      <td>ASUS VivoBook 15 (2022) Core i3 10th Gen - (8 ...</td>\n",
       "      <td>4.3</td>\n",
       "      <td>₹32,990</td>\n",
       "      <td>Intel Core i3 Processor (10th Gen)8 GB DDR4 RA...</td>\n",
       "    </tr>\n",
       "    <tr>\n",
       "      <th>3</th>\n",
       "      <td>HP Pavilion Ryzen 5 Hexa Core AMD R5-5600H - (...</td>\n",
       "      <td>4.4</td>\n",
       "      <td>₹49,990</td>\n",
       "      <td>AMD Ryzen 5 Hexa Core Processor8 GB DDR4 RAM64...</td>\n",
       "    </tr>\n",
       "    <tr>\n",
       "      <th>4</th>\n",
       "      <td>ASUS TUF Gaming F15 Core i5 10th Gen - (8 GB/5...</td>\n",
       "      <td>4.4</td>\n",
       "      <td>₹49,990</td>\n",
       "      <td>Intel Core i5 Processor (10th Gen)8 GB DDR4 RA...</td>\n",
       "    </tr>\n",
       "  </tbody>\n",
       "</table>\n",
       "</div>"
      ],
      "text/plain": [
       "                                             Product  Rating      MRP  \\\n",
       "0  Lenovo IdeaPad 3 Core i3 11th Gen - (8 GB/256 ...     4.2  ₹36,990   \n",
       "1  Lenovo IdeaPad 3 Core i3 11th Gen - (8 GB/512 ...     4.2  ₹39,990   \n",
       "2  ASUS VivoBook 15 (2022) Core i3 10th Gen - (8 ...     4.3  ₹32,990   \n",
       "3  HP Pavilion Ryzen 5 Hexa Core AMD R5-5600H - (...     4.4  ₹49,990   \n",
       "4  ASUS TUF Gaming F15 Core i5 10th Gen - (8 GB/5...     4.4  ₹49,990   \n",
       "\n",
       "                                             Feature  \n",
       "0  Intel Core i3 Processor (11th Gen)8 GB DDR4 RA...  \n",
       "1  Intel Core i3 Processor (11th Gen)8 GB DDR4 RA...  \n",
       "2  Intel Core i3 Processor (10th Gen)8 GB DDR4 RA...  \n",
       "3  AMD Ryzen 5 Hexa Core Processor8 GB DDR4 RAM64...  \n",
       "4  Intel Core i5 Processor (10th Gen)8 GB DDR4 RA...  "
      ]
     },
     "execution_count": 5,
     "metadata": {},
     "output_type": "execute_result"
    }
   ],
   "source": [
    "df = pd.read_csv(\"data/laptop_details.csv\")\n",
    "\n",
    "df.head()"
   ]
  },
  {
   "cell_type": "code",
   "execution_count": 6,
   "id": "5a3449b1",
   "metadata": {},
   "outputs": [
    {
     "name": "stdout",
     "output_type": "stream",
     "text": [
      "Intel Core i3 Processor (11th Gen)8 GB DDR4 RAM64 bit Windows 11 Operating System256 GB SSD35.56 cm (14 inch) DisplayOffice Home and Student 20212 Year Onsite�Warranty\n",
      "Intel Core i3 Processor (10th Gen)8 GB DDR4 RAM64 bit Windows 11 Operating System512 GB SSD39.62 cm (15.6 inch) DisplayOffice Home and Student 20211 Year Onsite Warranty\n",
      "Processor: Intel i3-1115G4 (Base- 1.70 GHz & Turbo up to 4.10 GHz) 2 CoresRAM & Storage: 8GB DDR4 & 1TB + 256GB SSDGraphics & Keyboard: Integrated & Standard KeyboardDisplay: 15.6\" FHD WVA AG Narrow BorderPorts: 2x USB 3.2 Gen1 ,1x USB 2.0, HDMI 1.4, SD Card reader, Audio jack, 1 M.2 2230/2280 slot for solid-state drive/Intel OptaneIntel Core i3 Processor (11th Gen)8 GB DDR4 RAMWindows 11 Operating System1 TB HDD|256 GB SSD39.62 cm (15.6 inch) Display1 YEAR\n"
     ]
    }
   ],
   "source": [
    "print(df['Feature'][0])\n",
    "print(df['Feature'][2])\n",
    "print(df['Feature'][6])"
   ]
  },
  {
   "cell_type": "code",
   "execution_count": 7,
   "id": "5d1d75d4",
   "metadata": {},
   "outputs": [],
   "source": [
    "import re"
   ]
  },
  {
   "cell_type": "code",
   "execution_count": 8,
   "id": "3fbade00",
   "metadata": {},
   "outputs": [],
   "source": [
    "# temp = df['Feature'][100]\n",
    "\n",
    "# regex = r'\\d+\\sGB[\\s\\w]+RAM'\n",
    "\n",
    "# fun = lambda x : re.findall(regex, x)\n",
    "\n",
    "# print(fun(temp))"
   ]
  },
  {
   "cell_type": "code",
   "execution_count": 9,
   "id": "36719d2a",
   "metadata": {},
   "outputs": [],
   "source": [
    "# Processor Information\n",
    "\n",
    "regex = r'^(?:AMD|Intel|M1)[\\s\\w]+Processor'\n",
    "\n",
    "df['Processor'] = df['Feature'].apply(lambda x : re.findall(regex, x))"
   ]
  },
  {
   "cell_type": "code",
   "execution_count": 10,
   "id": "f502a41b",
   "metadata": {},
   "outputs": [
    {
     "data": {
      "text/html": [
       "<div>\n",
       "<style scoped>\n",
       "    .dataframe tbody tr th:only-of-type {\n",
       "        vertical-align: middle;\n",
       "    }\n",
       "\n",
       "    .dataframe tbody tr th {\n",
       "        vertical-align: top;\n",
       "    }\n",
       "\n",
       "    .dataframe thead th {\n",
       "        text-align: right;\n",
       "    }\n",
       "</style>\n",
       "<table border=\"1\" class=\"dataframe\">\n",
       "  <thead>\n",
       "    <tr style=\"text-align: right;\">\n",
       "      <th></th>\n",
       "      <th>Product</th>\n",
       "      <th>Rating</th>\n",
       "      <th>MRP</th>\n",
       "      <th>Feature</th>\n",
       "      <th>Processor</th>\n",
       "    </tr>\n",
       "  </thead>\n",
       "  <tbody>\n",
       "    <tr>\n",
       "      <th>0</th>\n",
       "      <td>Lenovo IdeaPad 3 Core i3 11th Gen - (8 GB/256 ...</td>\n",
       "      <td>4.2</td>\n",
       "      <td>₹36,990</td>\n",
       "      <td>Intel Core i3 Processor (11th Gen)8 GB DDR4 RA...</td>\n",
       "      <td>[Intel Core i3 Processor]</td>\n",
       "    </tr>\n",
       "    <tr>\n",
       "      <th>1</th>\n",
       "      <td>Lenovo IdeaPad 3 Core i3 11th Gen - (8 GB/512 ...</td>\n",
       "      <td>4.2</td>\n",
       "      <td>₹39,990</td>\n",
       "      <td>Intel Core i3 Processor (11th Gen)8 GB DDR4 RA...</td>\n",
       "      <td>[Intel Core i3 Processor]</td>\n",
       "    </tr>\n",
       "    <tr>\n",
       "      <th>2</th>\n",
       "      <td>ASUS VivoBook 15 (2022) Core i3 10th Gen - (8 ...</td>\n",
       "      <td>4.3</td>\n",
       "      <td>₹32,990</td>\n",
       "      <td>Intel Core i3 Processor (10th Gen)8 GB DDR4 RA...</td>\n",
       "      <td>[Intel Core i3 Processor]</td>\n",
       "    </tr>\n",
       "    <tr>\n",
       "      <th>3</th>\n",
       "      <td>HP Pavilion Ryzen 5 Hexa Core AMD R5-5600H - (...</td>\n",
       "      <td>4.4</td>\n",
       "      <td>₹49,990</td>\n",
       "      <td>AMD Ryzen 5 Hexa Core Processor8 GB DDR4 RAM64...</td>\n",
       "      <td>[AMD Ryzen 5 Hexa Core Processor]</td>\n",
       "    </tr>\n",
       "    <tr>\n",
       "      <th>4</th>\n",
       "      <td>ASUS TUF Gaming F15 Core i5 10th Gen - (8 GB/5...</td>\n",
       "      <td>4.4</td>\n",
       "      <td>₹49,990</td>\n",
       "      <td>Intel Core i5 Processor (10th Gen)8 GB DDR4 RA...</td>\n",
       "      <td>[Intel Core i5 Processor]</td>\n",
       "    </tr>\n",
       "  </tbody>\n",
       "</table>\n",
       "</div>"
      ],
      "text/plain": [
       "                                             Product  Rating      MRP  \\\n",
       "0  Lenovo IdeaPad 3 Core i3 11th Gen - (8 GB/256 ...     4.2  ₹36,990   \n",
       "1  Lenovo IdeaPad 3 Core i3 11th Gen - (8 GB/512 ...     4.2  ₹39,990   \n",
       "2  ASUS VivoBook 15 (2022) Core i3 10th Gen - (8 ...     4.3  ₹32,990   \n",
       "3  HP Pavilion Ryzen 5 Hexa Core AMD R5-5600H - (...     4.4  ₹49,990   \n",
       "4  ASUS TUF Gaming F15 Core i5 10th Gen - (8 GB/5...     4.4  ₹49,990   \n",
       "\n",
       "                                             Feature  \\\n",
       "0  Intel Core i3 Processor (11th Gen)8 GB DDR4 RA...   \n",
       "1  Intel Core i3 Processor (11th Gen)8 GB DDR4 RA...   \n",
       "2  Intel Core i3 Processor (10th Gen)8 GB DDR4 RA...   \n",
       "3  AMD Ryzen 5 Hexa Core Processor8 GB DDR4 RAM64...   \n",
       "4  Intel Core i5 Processor (10th Gen)8 GB DDR4 RA...   \n",
       "\n",
       "                           Processor  \n",
       "0          [Intel Core i3 Processor]  \n",
       "1          [Intel Core i3 Processor]  \n",
       "2          [Intel Core i3 Processor]  \n",
       "3  [AMD Ryzen 5 Hexa Core Processor]  \n",
       "4          [Intel Core i5 Processor]  "
      ]
     },
     "execution_count": 10,
     "metadata": {},
     "output_type": "execute_result"
    }
   ],
   "source": [
    "df.head()"
   ]
  },
  {
   "cell_type": "code",
   "execution_count": 11,
   "id": "7c033e71",
   "metadata": {},
   "outputs": [],
   "source": [
    "# temp1 = df['Feature'][100]\n",
    "\n",
    "# regex = r'[8].\\w*'\n",
    "\n",
    "# fun1 = lambda x : re.findall(regex, x)\n",
    "\n",
    "# print(fun1(temp1))"
   ]
  },
  {
   "cell_type": "code",
   "execution_count": 12,
   "id": "d6d614a2",
   "metadata": {},
   "outputs": [],
   "source": [
    "# temp1 = df['Feature'][100]\n",
    "\n",
    "# regex = r'[8].\\w*'\n",
    "\n",
    "# fun1 = lambda x : re.findall(regex, x)\n",
    "\n",
    "# print(fun1(temp1))"
   ]
  },
  {
   "cell_type": "code",
   "execution_count": 13,
   "id": "35070c73",
   "metadata": {},
   "outputs": [
    {
     "data": {
      "text/plain": [
       "8GB      400\n",
       "16GB     263\n",
       "4GB       38\n",
       "32GB      17\n",
       "128GB      2\n",
       "Name: RAM, dtype: int64"
      ]
     },
     "execution_count": 13,
     "metadata": {},
     "output_type": "execute_result"
    }
   ],
   "source": [
    "#RAM\n",
    "regex = r'(\\d+)\\s*(?:GB|MB)(?:\\s*DDR\\d)?'\n",
    "\n",
    "\n",
    "def extract_ram(text):\n",
    "    match = re.search(regex, text, re.IGNORECASE)\n",
    "    if match:\n",
    "        return f\"{match.group(1)}GB\"\n",
    "    else:\n",
    "        return None\n",
    "\n",
    "df['RAM'] = df['Feature'].apply(extract_ram)\n",
    "\n",
    "\n",
    "df['RAM'].value_counts()"
   ]
  },
  {
   "cell_type": "code",
   "execution_count": 14,
   "id": "4f51a1e6",
   "metadata": {},
   "outputs": [],
   "source": [
    "df['RAM'] = df['RAM'].str.replace('8GB','8')\n",
    "df['RAM'] = df['RAM'].str.replace('16GB','16')\n",
    "df['RAM'] = df['RAM'].str.replace('4GB','4')\n",
    "df['RAM'] = df['RAM'].str.replace('32GB','32')\n",
    "df['RAM'] = df['RAM'].str.replace('128GB','32')\n",
    "df['RAM'] = df['RAM'].str.replace('128GB','32')"
   ]
  },
  {
   "cell_type": "code",
   "execution_count": 15,
   "id": "f5a92147",
   "metadata": {},
   "outputs": [
    {
     "data": {
      "text/html": [
       "<div>\n",
       "<style scoped>\n",
       "    .dataframe tbody tr th:only-of-type {\n",
       "        vertical-align: middle;\n",
       "    }\n",
       "\n",
       "    .dataframe tbody tr th {\n",
       "        vertical-align: top;\n",
       "    }\n",
       "\n",
       "    .dataframe thead th {\n",
       "        text-align: right;\n",
       "    }\n",
       "</style>\n",
       "<table border=\"1\" class=\"dataframe\">\n",
       "  <thead>\n",
       "    <tr style=\"text-align: right;\">\n",
       "      <th></th>\n",
       "      <th>Product</th>\n",
       "      <th>Rating</th>\n",
       "      <th>MRP</th>\n",
       "      <th>Feature</th>\n",
       "      <th>Processor</th>\n",
       "      <th>RAM</th>\n",
       "    </tr>\n",
       "  </thead>\n",
       "  <tbody>\n",
       "    <tr>\n",
       "      <th>0</th>\n",
       "      <td>Lenovo IdeaPad 3 Core i3 11th Gen - (8 GB/256 ...</td>\n",
       "      <td>4.2</td>\n",
       "      <td>₹36,990</td>\n",
       "      <td>Intel Core i3 Processor (11th Gen)8 GB DDR4 RA...</td>\n",
       "      <td>[Intel Core i3 Processor]</td>\n",
       "      <td>8</td>\n",
       "    </tr>\n",
       "    <tr>\n",
       "      <th>1</th>\n",
       "      <td>Lenovo IdeaPad 3 Core i3 11th Gen - (8 GB/512 ...</td>\n",
       "      <td>4.2</td>\n",
       "      <td>₹39,990</td>\n",
       "      <td>Intel Core i3 Processor (11th Gen)8 GB DDR4 RA...</td>\n",
       "      <td>[Intel Core i3 Processor]</td>\n",
       "      <td>8</td>\n",
       "    </tr>\n",
       "    <tr>\n",
       "      <th>2</th>\n",
       "      <td>ASUS VivoBook 15 (2022) Core i3 10th Gen - (8 ...</td>\n",
       "      <td>4.3</td>\n",
       "      <td>₹32,990</td>\n",
       "      <td>Intel Core i3 Processor (10th Gen)8 GB DDR4 RA...</td>\n",
       "      <td>[Intel Core i3 Processor]</td>\n",
       "      <td>8</td>\n",
       "    </tr>\n",
       "    <tr>\n",
       "      <th>3</th>\n",
       "      <td>HP Pavilion Ryzen 5 Hexa Core AMD R5-5600H - (...</td>\n",
       "      <td>4.4</td>\n",
       "      <td>₹49,990</td>\n",
       "      <td>AMD Ryzen 5 Hexa Core Processor8 GB DDR4 RAM64...</td>\n",
       "      <td>[AMD Ryzen 5 Hexa Core Processor]</td>\n",
       "      <td>8</td>\n",
       "    </tr>\n",
       "    <tr>\n",
       "      <th>4</th>\n",
       "      <td>ASUS TUF Gaming F15 Core i5 10th Gen - (8 GB/5...</td>\n",
       "      <td>4.4</td>\n",
       "      <td>₹49,990</td>\n",
       "      <td>Intel Core i5 Processor (10th Gen)8 GB DDR4 RA...</td>\n",
       "      <td>[Intel Core i5 Processor]</td>\n",
       "      <td>8</td>\n",
       "    </tr>\n",
       "  </tbody>\n",
       "</table>\n",
       "</div>"
      ],
      "text/plain": [
       "                                             Product  Rating      MRP  \\\n",
       "0  Lenovo IdeaPad 3 Core i3 11th Gen - (8 GB/256 ...     4.2  ₹36,990   \n",
       "1  Lenovo IdeaPad 3 Core i3 11th Gen - (8 GB/512 ...     4.2  ₹39,990   \n",
       "2  ASUS VivoBook 15 (2022) Core i3 10th Gen - (8 ...     4.3  ₹32,990   \n",
       "3  HP Pavilion Ryzen 5 Hexa Core AMD R5-5600H - (...     4.4  ₹49,990   \n",
       "4  ASUS TUF Gaming F15 Core i5 10th Gen - (8 GB/5...     4.4  ₹49,990   \n",
       "\n",
       "                                             Feature  \\\n",
       "0  Intel Core i3 Processor (11th Gen)8 GB DDR4 RA...   \n",
       "1  Intel Core i3 Processor (11th Gen)8 GB DDR4 RA...   \n",
       "2  Intel Core i3 Processor (10th Gen)8 GB DDR4 RA...   \n",
       "3  AMD Ryzen 5 Hexa Core Processor8 GB DDR4 RAM64...   \n",
       "4  Intel Core i5 Processor (10th Gen)8 GB DDR4 RA...   \n",
       "\n",
       "                           Processor RAM  \n",
       "0          [Intel Core i3 Processor]   8  \n",
       "1          [Intel Core i3 Processor]   8  \n",
       "2          [Intel Core i3 Processor]   8  \n",
       "3  [AMD Ryzen 5 Hexa Core Processor]   8  \n",
       "4          [Intel Core i5 Processor]   8  "
      ]
     },
     "execution_count": 15,
     "metadata": {},
     "output_type": "execute_result"
    }
   ],
   "source": [
    "df.head()"
   ]
  },
  {
   "cell_type": "code",
   "execution_count": 16,
   "id": "cee21508",
   "metadata": {},
   "outputs": [
    {
     "name": "stdout",
     "output_type": "stream",
     "text": [
      "['DDR4']\n"
     ]
    }
   ],
   "source": [
    "temp2 = df['Feature'][100]\n",
    "\n",
    "regex = r'(?:DDR\\d+)'\n",
    "\n",
    "fun2 = lambda x : re.findall(regex, x)\n",
    "\n",
    "print(fun2(temp2))"
   ]
  },
  {
   "cell_type": "code",
   "execution_count": 17,
   "id": "58cc5b86",
   "metadata": {},
   "outputs": [
    {
     "data": {
      "text/plain": [
       "[DDR4]                597\n",
       "[DDR5]                101\n",
       "[]                     12\n",
       "[DDR4, DDR4]            6\n",
       "[DDR4, DDR6, DDR4]      2\n",
       "[DDR4, DDR5, DDR4]      1\n",
       "[DDR3]                  1\n",
       "Name: RAMType, dtype: int64"
      ]
     },
     "execution_count": 17,
     "metadata": {},
     "output_type": "execute_result"
    }
   ],
   "source": [
    "#RAM TYPE\n",
    "\n",
    "regex = r'(?:DDR\\d+)'\n",
    "\n",
    "df['RAMType'] =  df['Feature'].apply(lambda x : re.findall(regex, x))\n",
    "df['RAMType'].value_counts()"
   ]
  },
  {
   "cell_type": "code",
   "execution_count": 18,
   "id": "2efbaca2",
   "metadata": {},
   "outputs": [],
   "source": [
    "#df.query('RAMType != \"\"')\n",
    "#df1 = df.drop_duplicates()\n",
    "#df[df['RAMType'].str.strip().astype(bool)]\n",
    "#df['RAMType'].replace('', np.nan, inplace=True)"
   ]
  },
  {
   "cell_type": "code",
   "execution_count": 19,
   "id": "d6352271",
   "metadata": {},
   "outputs": [
    {
     "data": {
      "text/html": [
       "<div>\n",
       "<style scoped>\n",
       "    .dataframe tbody tr th:only-of-type {\n",
       "        vertical-align: middle;\n",
       "    }\n",
       "\n",
       "    .dataframe tbody tr th {\n",
       "        vertical-align: top;\n",
       "    }\n",
       "\n",
       "    .dataframe thead th {\n",
       "        text-align: right;\n",
       "    }\n",
       "</style>\n",
       "<table border=\"1\" class=\"dataframe\">\n",
       "  <thead>\n",
       "    <tr style=\"text-align: right;\">\n",
       "      <th></th>\n",
       "      <th>Product</th>\n",
       "      <th>Rating</th>\n",
       "      <th>MRP</th>\n",
       "      <th>Feature</th>\n",
       "      <th>Processor</th>\n",
       "      <th>RAM</th>\n",
       "      <th>RAMType</th>\n",
       "    </tr>\n",
       "  </thead>\n",
       "  <tbody>\n",
       "    <tr>\n",
       "      <th>0</th>\n",
       "      <td>Lenovo IdeaPad 3 Core i3 11th Gen - (8 GB/256 ...</td>\n",
       "      <td>4.2</td>\n",
       "      <td>₹36,990</td>\n",
       "      <td>Intel Core i3 Processor (11th Gen)8 GB DDR4 RA...</td>\n",
       "      <td>[Intel Core i3 Processor]</td>\n",
       "      <td>8</td>\n",
       "      <td>[DDR4]</td>\n",
       "    </tr>\n",
       "    <tr>\n",
       "      <th>1</th>\n",
       "      <td>Lenovo IdeaPad 3 Core i3 11th Gen - (8 GB/512 ...</td>\n",
       "      <td>4.2</td>\n",
       "      <td>₹39,990</td>\n",
       "      <td>Intel Core i3 Processor (11th Gen)8 GB DDR4 RA...</td>\n",
       "      <td>[Intel Core i3 Processor]</td>\n",
       "      <td>8</td>\n",
       "      <td>[DDR4]</td>\n",
       "    </tr>\n",
       "    <tr>\n",
       "      <th>2</th>\n",
       "      <td>ASUS VivoBook 15 (2022) Core i3 10th Gen - (8 ...</td>\n",
       "      <td>4.3</td>\n",
       "      <td>₹32,990</td>\n",
       "      <td>Intel Core i3 Processor (10th Gen)8 GB DDR4 RA...</td>\n",
       "      <td>[Intel Core i3 Processor]</td>\n",
       "      <td>8</td>\n",
       "      <td>[DDR4]</td>\n",
       "    </tr>\n",
       "    <tr>\n",
       "      <th>3</th>\n",
       "      <td>HP Pavilion Ryzen 5 Hexa Core AMD R5-5600H - (...</td>\n",
       "      <td>4.4</td>\n",
       "      <td>₹49,990</td>\n",
       "      <td>AMD Ryzen 5 Hexa Core Processor8 GB DDR4 RAM64...</td>\n",
       "      <td>[AMD Ryzen 5 Hexa Core Processor]</td>\n",
       "      <td>8</td>\n",
       "      <td>[DDR4]</td>\n",
       "    </tr>\n",
       "    <tr>\n",
       "      <th>4</th>\n",
       "      <td>ASUS TUF Gaming F15 Core i5 10th Gen - (8 GB/5...</td>\n",
       "      <td>4.4</td>\n",
       "      <td>₹49,990</td>\n",
       "      <td>Intel Core i5 Processor (10th Gen)8 GB DDR4 RA...</td>\n",
       "      <td>[Intel Core i5 Processor]</td>\n",
       "      <td>8</td>\n",
       "      <td>[DDR4]</td>\n",
       "    </tr>\n",
       "  </tbody>\n",
       "</table>\n",
       "</div>"
      ],
      "text/plain": [
       "                                             Product  Rating      MRP  \\\n",
       "0  Lenovo IdeaPad 3 Core i3 11th Gen - (8 GB/256 ...     4.2  ₹36,990   \n",
       "1  Lenovo IdeaPad 3 Core i3 11th Gen - (8 GB/512 ...     4.2  ₹39,990   \n",
       "2  ASUS VivoBook 15 (2022) Core i3 10th Gen - (8 ...     4.3  ₹32,990   \n",
       "3  HP Pavilion Ryzen 5 Hexa Core AMD R5-5600H - (...     4.4  ₹49,990   \n",
       "4  ASUS TUF Gaming F15 Core i5 10th Gen - (8 GB/5...     4.4  ₹49,990   \n",
       "\n",
       "                                             Feature  \\\n",
       "0  Intel Core i3 Processor (11th Gen)8 GB DDR4 RA...   \n",
       "1  Intel Core i3 Processor (11th Gen)8 GB DDR4 RA...   \n",
       "2  Intel Core i3 Processor (10th Gen)8 GB DDR4 RA...   \n",
       "3  AMD Ryzen 5 Hexa Core Processor8 GB DDR4 RAM64...   \n",
       "4  Intel Core i5 Processor (10th Gen)8 GB DDR4 RA...   \n",
       "\n",
       "                           Processor RAM RAMType  \n",
       "0          [Intel Core i3 Processor]   8  [DDR4]  \n",
       "1          [Intel Core i3 Processor]   8  [DDR4]  \n",
       "2          [Intel Core i3 Processor]   8  [DDR4]  \n",
       "3  [AMD Ryzen 5 Hexa Core Processor]   8  [DDR4]  \n",
       "4          [Intel Core i5 Processor]   8  [DDR4]  "
      ]
     },
     "execution_count": 19,
     "metadata": {},
     "output_type": "execute_result"
    }
   ],
   "source": [
    "df.head()"
   ]
  },
  {
   "cell_type": "code",
   "execution_count": 20,
   "id": "6bfbdf6b",
   "metadata": {},
   "outputs": [],
   "source": [
    "df['RAM'] = df['RAM'].astype('int32')"
   ]
  },
  {
   "cell_type": "code",
   "execution_count": 21,
   "id": "2494dc6f",
   "metadata": {},
   "outputs": [
    {
     "name": "stdout",
     "output_type": "stream",
     "text": [
      "<class 'pandas.core.frame.DataFrame'>\n",
      "RangeIndex: 720 entries, 0 to 719\n",
      "Data columns (total 7 columns):\n",
      " #   Column     Non-Null Count  Dtype  \n",
      "---  ------     --------------  -----  \n",
      " 0   Product    720 non-null    object \n",
      " 1   Rating     581 non-null    float64\n",
      " 2   MRP        720 non-null    object \n",
      " 3   Feature    720 non-null    object \n",
      " 4   Processor  720 non-null    object \n",
      " 5   RAM        720 non-null    int32  \n",
      " 6   RAMType    720 non-null    object \n",
      "dtypes: float64(1), int32(1), object(5)\n",
      "memory usage: 36.7+ KB\n"
     ]
    }
   ],
   "source": [
    "df.info()"
   ]
  },
  {
   "cell_type": "code",
   "execution_count": 22,
   "id": "41625ee0",
   "metadata": {},
   "outputs": [
    {
     "data": {
      "text/plain": [
       "Windows    690\n",
       "Mac         19\n",
       "Others      11\n",
       "Name: OS, dtype: int64"
      ]
     },
     "execution_count": 22,
     "metadata": {},
     "output_type": "execute_result"
    }
   ],
   "source": [
    "# OS \n",
    "\n",
    "regex = r'(Windows|MAC)'\n",
    "\n",
    "def extract_os(text):\n",
    "    match = re.search(regex, text, re.IGNORECASE)\n",
    "    if match:\n",
    "        return match.group(1)\n",
    "    else:\n",
    "        return \"Others\"\n",
    "    \n",
    "df['OS'] = df['Feature'].apply(extract_os)\n",
    "df['OS'].value_counts()"
   ]
  },
  {
   "cell_type": "code",
   "execution_count": 23,
   "id": "d2a74403",
   "metadata": {},
   "outputs": [
    {
     "data": {
      "text/html": [
       "<div>\n",
       "<style scoped>\n",
       "    .dataframe tbody tr th:only-of-type {\n",
       "        vertical-align: middle;\n",
       "    }\n",
       "\n",
       "    .dataframe tbody tr th {\n",
       "        vertical-align: top;\n",
       "    }\n",
       "\n",
       "    .dataframe thead th {\n",
       "        text-align: right;\n",
       "    }\n",
       "</style>\n",
       "<table border=\"1\" class=\"dataframe\">\n",
       "  <thead>\n",
       "    <tr style=\"text-align: right;\">\n",
       "      <th></th>\n",
       "      <th>Product</th>\n",
       "      <th>Rating</th>\n",
       "      <th>MRP</th>\n",
       "      <th>Feature</th>\n",
       "      <th>Processor</th>\n",
       "      <th>RAM</th>\n",
       "      <th>RAMType</th>\n",
       "      <th>OS</th>\n",
       "    </tr>\n",
       "  </thead>\n",
       "  <tbody>\n",
       "    <tr>\n",
       "      <th>0</th>\n",
       "      <td>Lenovo IdeaPad 3 Core i3 11th Gen - (8 GB/256 ...</td>\n",
       "      <td>4.2</td>\n",
       "      <td>₹36,990</td>\n",
       "      <td>Intel Core i3 Processor (11th Gen)8 GB DDR4 RA...</td>\n",
       "      <td>[Intel Core i3 Processor]</td>\n",
       "      <td>8</td>\n",
       "      <td>[DDR4]</td>\n",
       "      <td>Windows</td>\n",
       "    </tr>\n",
       "    <tr>\n",
       "      <th>1</th>\n",
       "      <td>Lenovo IdeaPad 3 Core i3 11th Gen - (8 GB/512 ...</td>\n",
       "      <td>4.2</td>\n",
       "      <td>₹39,990</td>\n",
       "      <td>Intel Core i3 Processor (11th Gen)8 GB DDR4 RA...</td>\n",
       "      <td>[Intel Core i3 Processor]</td>\n",
       "      <td>8</td>\n",
       "      <td>[DDR4]</td>\n",
       "      <td>Windows</td>\n",
       "    </tr>\n",
       "    <tr>\n",
       "      <th>2</th>\n",
       "      <td>ASUS VivoBook 15 (2022) Core i3 10th Gen - (8 ...</td>\n",
       "      <td>4.3</td>\n",
       "      <td>₹32,990</td>\n",
       "      <td>Intel Core i3 Processor (10th Gen)8 GB DDR4 RA...</td>\n",
       "      <td>[Intel Core i3 Processor]</td>\n",
       "      <td>8</td>\n",
       "      <td>[DDR4]</td>\n",
       "      <td>Windows</td>\n",
       "    </tr>\n",
       "    <tr>\n",
       "      <th>3</th>\n",
       "      <td>HP Pavilion Ryzen 5 Hexa Core AMD R5-5600H - (...</td>\n",
       "      <td>4.4</td>\n",
       "      <td>₹49,990</td>\n",
       "      <td>AMD Ryzen 5 Hexa Core Processor8 GB DDR4 RAM64...</td>\n",
       "      <td>[AMD Ryzen 5 Hexa Core Processor]</td>\n",
       "      <td>8</td>\n",
       "      <td>[DDR4]</td>\n",
       "      <td>Windows</td>\n",
       "    </tr>\n",
       "    <tr>\n",
       "      <th>4</th>\n",
       "      <td>ASUS TUF Gaming F15 Core i5 10th Gen - (8 GB/5...</td>\n",
       "      <td>4.4</td>\n",
       "      <td>₹49,990</td>\n",
       "      <td>Intel Core i5 Processor (10th Gen)8 GB DDR4 RA...</td>\n",
       "      <td>[Intel Core i5 Processor]</td>\n",
       "      <td>8</td>\n",
       "      <td>[DDR4]</td>\n",
       "      <td>Windows</td>\n",
       "    </tr>\n",
       "  </tbody>\n",
       "</table>\n",
       "</div>"
      ],
      "text/plain": [
       "                                             Product  Rating      MRP  \\\n",
       "0  Lenovo IdeaPad 3 Core i3 11th Gen - (8 GB/256 ...     4.2  ₹36,990   \n",
       "1  Lenovo IdeaPad 3 Core i3 11th Gen - (8 GB/512 ...     4.2  ₹39,990   \n",
       "2  ASUS VivoBook 15 (2022) Core i3 10th Gen - (8 ...     4.3  ₹32,990   \n",
       "3  HP Pavilion Ryzen 5 Hexa Core AMD R5-5600H - (...     4.4  ₹49,990   \n",
       "4  ASUS TUF Gaming F15 Core i5 10th Gen - (8 GB/5...     4.4  ₹49,990   \n",
       "\n",
       "                                             Feature  \\\n",
       "0  Intel Core i3 Processor (11th Gen)8 GB DDR4 RA...   \n",
       "1  Intel Core i3 Processor (11th Gen)8 GB DDR4 RA...   \n",
       "2  Intel Core i3 Processor (10th Gen)8 GB DDR4 RA...   \n",
       "3  AMD Ryzen 5 Hexa Core Processor8 GB DDR4 RAM64...   \n",
       "4  Intel Core i5 Processor (10th Gen)8 GB DDR4 RA...   \n",
       "\n",
       "                           Processor  RAM RAMType       OS  \n",
       "0          [Intel Core i3 Processor]    8  [DDR4]  Windows  \n",
       "1          [Intel Core i3 Processor]    8  [DDR4]  Windows  \n",
       "2          [Intel Core i3 Processor]    8  [DDR4]  Windows  \n",
       "3  [AMD Ryzen 5 Hexa Core Processor]    8  [DDR4]  Windows  \n",
       "4          [Intel Core i5 Processor]    8  [DDR4]  Windows  "
      ]
     },
     "execution_count": 23,
     "metadata": {},
     "output_type": "execute_result"
    }
   ],
   "source": [
    "df.head()"
   ]
  },
  {
   "cell_type": "code",
   "execution_count": 24,
   "id": "a407c5e3",
   "metadata": {},
   "outputs": [],
   "source": [
    "# Storage\n",
    "\n",
    "regex = r'[\\d]+\\s(?:GB|TB)\\s(?:HDD|SSD)'\n",
    "\n",
    "df['Storage'] = df['Feature'].apply(lambda x : re.findall(regex, x))"
   ]
  },
  {
   "cell_type": "code",
   "execution_count": 25,
   "id": "e1565502",
   "metadata": {},
   "outputs": [
    {
     "data": {
      "text/html": [
       "<div>\n",
       "<style scoped>\n",
       "    .dataframe tbody tr th:only-of-type {\n",
       "        vertical-align: middle;\n",
       "    }\n",
       "\n",
       "    .dataframe tbody tr th {\n",
       "        vertical-align: top;\n",
       "    }\n",
       "\n",
       "    .dataframe thead th {\n",
       "        text-align: right;\n",
       "    }\n",
       "</style>\n",
       "<table border=\"1\" class=\"dataframe\">\n",
       "  <thead>\n",
       "    <tr style=\"text-align: right;\">\n",
       "      <th></th>\n",
       "      <th>Product</th>\n",
       "      <th>Rating</th>\n",
       "      <th>MRP</th>\n",
       "      <th>Feature</th>\n",
       "      <th>Processor</th>\n",
       "      <th>RAM</th>\n",
       "      <th>RAMType</th>\n",
       "      <th>OS</th>\n",
       "      <th>Storage</th>\n",
       "    </tr>\n",
       "  </thead>\n",
       "  <tbody>\n",
       "    <tr>\n",
       "      <th>0</th>\n",
       "      <td>Lenovo IdeaPad 3 Core i3 11th Gen - (8 GB/256 ...</td>\n",
       "      <td>4.2</td>\n",
       "      <td>₹36,990</td>\n",
       "      <td>Intel Core i3 Processor (11th Gen)8 GB DDR4 RA...</td>\n",
       "      <td>[Intel Core i3 Processor]</td>\n",
       "      <td>8</td>\n",
       "      <td>[DDR4]</td>\n",
       "      <td>Windows</td>\n",
       "      <td>[256 GB SSD]</td>\n",
       "    </tr>\n",
       "    <tr>\n",
       "      <th>1</th>\n",
       "      <td>Lenovo IdeaPad 3 Core i3 11th Gen - (8 GB/512 ...</td>\n",
       "      <td>4.2</td>\n",
       "      <td>₹39,990</td>\n",
       "      <td>Intel Core i3 Processor (11th Gen)8 GB DDR4 RA...</td>\n",
       "      <td>[Intel Core i3 Processor]</td>\n",
       "      <td>8</td>\n",
       "      <td>[DDR4]</td>\n",
       "      <td>Windows</td>\n",
       "      <td>[512 GB SSD]</td>\n",
       "    </tr>\n",
       "    <tr>\n",
       "      <th>2</th>\n",
       "      <td>ASUS VivoBook 15 (2022) Core i3 10th Gen - (8 ...</td>\n",
       "      <td>4.3</td>\n",
       "      <td>₹32,990</td>\n",
       "      <td>Intel Core i3 Processor (10th Gen)8 GB DDR4 RA...</td>\n",
       "      <td>[Intel Core i3 Processor]</td>\n",
       "      <td>8</td>\n",
       "      <td>[DDR4]</td>\n",
       "      <td>Windows</td>\n",
       "      <td>[512 GB SSD]</td>\n",
       "    </tr>\n",
       "    <tr>\n",
       "      <th>3</th>\n",
       "      <td>HP Pavilion Ryzen 5 Hexa Core AMD R5-5600H - (...</td>\n",
       "      <td>4.4</td>\n",
       "      <td>₹49,990</td>\n",
       "      <td>AMD Ryzen 5 Hexa Core Processor8 GB DDR4 RAM64...</td>\n",
       "      <td>[AMD Ryzen 5 Hexa Core Processor]</td>\n",
       "      <td>8</td>\n",
       "      <td>[DDR4]</td>\n",
       "      <td>Windows</td>\n",
       "      <td>[512 GB SSD]</td>\n",
       "    </tr>\n",
       "    <tr>\n",
       "      <th>4</th>\n",
       "      <td>ASUS TUF Gaming F15 Core i5 10th Gen - (8 GB/5...</td>\n",
       "      <td>4.4</td>\n",
       "      <td>₹49,990</td>\n",
       "      <td>Intel Core i5 Processor (10th Gen)8 GB DDR4 RA...</td>\n",
       "      <td>[Intel Core i5 Processor]</td>\n",
       "      <td>8</td>\n",
       "      <td>[DDR4]</td>\n",
       "      <td>Windows</td>\n",
       "      <td>[512 GB SSD]</td>\n",
       "    </tr>\n",
       "  </tbody>\n",
       "</table>\n",
       "</div>"
      ],
      "text/plain": [
       "                                             Product  Rating      MRP  \\\n",
       "0  Lenovo IdeaPad 3 Core i3 11th Gen - (8 GB/256 ...     4.2  ₹36,990   \n",
       "1  Lenovo IdeaPad 3 Core i3 11th Gen - (8 GB/512 ...     4.2  ₹39,990   \n",
       "2  ASUS VivoBook 15 (2022) Core i3 10th Gen - (8 ...     4.3  ₹32,990   \n",
       "3  HP Pavilion Ryzen 5 Hexa Core AMD R5-5600H - (...     4.4  ₹49,990   \n",
       "4  ASUS TUF Gaming F15 Core i5 10th Gen - (8 GB/5...     4.4  ₹49,990   \n",
       "\n",
       "                                             Feature  \\\n",
       "0  Intel Core i3 Processor (11th Gen)8 GB DDR4 RA...   \n",
       "1  Intel Core i3 Processor (11th Gen)8 GB DDR4 RA...   \n",
       "2  Intel Core i3 Processor (10th Gen)8 GB DDR4 RA...   \n",
       "3  AMD Ryzen 5 Hexa Core Processor8 GB DDR4 RAM64...   \n",
       "4  Intel Core i5 Processor (10th Gen)8 GB DDR4 RA...   \n",
       "\n",
       "                           Processor  RAM RAMType       OS       Storage  \n",
       "0          [Intel Core i3 Processor]    8  [DDR4]  Windows  [256 GB SSD]  \n",
       "1          [Intel Core i3 Processor]    8  [DDR4]  Windows  [512 GB SSD]  \n",
       "2          [Intel Core i3 Processor]    8  [DDR4]  Windows  [512 GB SSD]  \n",
       "3  [AMD Ryzen 5 Hexa Core Processor]    8  [DDR4]  Windows  [512 GB SSD]  \n",
       "4          [Intel Core i5 Processor]    8  [DDR4]  Windows  [512 GB SSD]  "
      ]
     },
     "execution_count": 25,
     "metadata": {},
     "output_type": "execute_result"
    }
   ],
   "source": [
    "df.head()"
   ]
  },
  {
   "cell_type": "code",
   "execution_count": 26,
   "id": "96c92c92",
   "metadata": {},
   "outputs": [],
   "source": [
    "# Brand\n",
    "\n",
    "regex = r'^\\w+'\n",
    "\n",
    "df['Brand'] = df['Product'].apply(lambda x : re.findall(regex, x))\n"
   ]
  },
  {
   "cell_type": "code",
   "execution_count": 27,
   "id": "05931a30",
   "metadata": {},
   "outputs": [
    {
     "data": {
      "text/html": [
       "<div>\n",
       "<style scoped>\n",
       "    .dataframe tbody tr th:only-of-type {\n",
       "        vertical-align: middle;\n",
       "    }\n",
       "\n",
       "    .dataframe tbody tr th {\n",
       "        vertical-align: top;\n",
       "    }\n",
       "\n",
       "    .dataframe thead th {\n",
       "        text-align: right;\n",
       "    }\n",
       "</style>\n",
       "<table border=\"1\" class=\"dataframe\">\n",
       "  <thead>\n",
       "    <tr style=\"text-align: right;\">\n",
       "      <th></th>\n",
       "      <th>Product</th>\n",
       "      <th>Rating</th>\n",
       "      <th>MRP</th>\n",
       "      <th>Feature</th>\n",
       "      <th>Processor</th>\n",
       "      <th>RAM</th>\n",
       "      <th>RAMType</th>\n",
       "      <th>OS</th>\n",
       "      <th>Storage</th>\n",
       "      <th>Brand</th>\n",
       "    </tr>\n",
       "  </thead>\n",
       "  <tbody>\n",
       "    <tr>\n",
       "      <th>0</th>\n",
       "      <td>Lenovo IdeaPad 3 Core i3 11th Gen - (8 GB/256 ...</td>\n",
       "      <td>4.2</td>\n",
       "      <td>₹36,990</td>\n",
       "      <td>Intel Core i3 Processor (11th Gen)8 GB DDR4 RA...</td>\n",
       "      <td>[Intel Core i3 Processor]</td>\n",
       "      <td>8</td>\n",
       "      <td>[DDR4]</td>\n",
       "      <td>Windows</td>\n",
       "      <td>[256 GB SSD]</td>\n",
       "      <td>[Lenovo]</td>\n",
       "    </tr>\n",
       "    <tr>\n",
       "      <th>1</th>\n",
       "      <td>Lenovo IdeaPad 3 Core i3 11th Gen - (8 GB/512 ...</td>\n",
       "      <td>4.2</td>\n",
       "      <td>₹39,990</td>\n",
       "      <td>Intel Core i3 Processor (11th Gen)8 GB DDR4 RA...</td>\n",
       "      <td>[Intel Core i3 Processor]</td>\n",
       "      <td>8</td>\n",
       "      <td>[DDR4]</td>\n",
       "      <td>Windows</td>\n",
       "      <td>[512 GB SSD]</td>\n",
       "      <td>[Lenovo]</td>\n",
       "    </tr>\n",
       "    <tr>\n",
       "      <th>2</th>\n",
       "      <td>ASUS VivoBook 15 (2022) Core i3 10th Gen - (8 ...</td>\n",
       "      <td>4.3</td>\n",
       "      <td>₹32,990</td>\n",
       "      <td>Intel Core i3 Processor (10th Gen)8 GB DDR4 RA...</td>\n",
       "      <td>[Intel Core i3 Processor]</td>\n",
       "      <td>8</td>\n",
       "      <td>[DDR4]</td>\n",
       "      <td>Windows</td>\n",
       "      <td>[512 GB SSD]</td>\n",
       "      <td>[ASUS]</td>\n",
       "    </tr>\n",
       "    <tr>\n",
       "      <th>3</th>\n",
       "      <td>HP Pavilion Ryzen 5 Hexa Core AMD R5-5600H - (...</td>\n",
       "      <td>4.4</td>\n",
       "      <td>₹49,990</td>\n",
       "      <td>AMD Ryzen 5 Hexa Core Processor8 GB DDR4 RAM64...</td>\n",
       "      <td>[AMD Ryzen 5 Hexa Core Processor]</td>\n",
       "      <td>8</td>\n",
       "      <td>[DDR4]</td>\n",
       "      <td>Windows</td>\n",
       "      <td>[512 GB SSD]</td>\n",
       "      <td>[HP]</td>\n",
       "    </tr>\n",
       "    <tr>\n",
       "      <th>4</th>\n",
       "      <td>ASUS TUF Gaming F15 Core i5 10th Gen - (8 GB/5...</td>\n",
       "      <td>4.4</td>\n",
       "      <td>₹49,990</td>\n",
       "      <td>Intel Core i5 Processor (10th Gen)8 GB DDR4 RA...</td>\n",
       "      <td>[Intel Core i5 Processor]</td>\n",
       "      <td>8</td>\n",
       "      <td>[DDR4]</td>\n",
       "      <td>Windows</td>\n",
       "      <td>[512 GB SSD]</td>\n",
       "      <td>[ASUS]</td>\n",
       "    </tr>\n",
       "  </tbody>\n",
       "</table>\n",
       "</div>"
      ],
      "text/plain": [
       "                                             Product  Rating      MRP  \\\n",
       "0  Lenovo IdeaPad 3 Core i3 11th Gen - (8 GB/256 ...     4.2  ₹36,990   \n",
       "1  Lenovo IdeaPad 3 Core i3 11th Gen - (8 GB/512 ...     4.2  ₹39,990   \n",
       "2  ASUS VivoBook 15 (2022) Core i3 10th Gen - (8 ...     4.3  ₹32,990   \n",
       "3  HP Pavilion Ryzen 5 Hexa Core AMD R5-5600H - (...     4.4  ₹49,990   \n",
       "4  ASUS TUF Gaming F15 Core i5 10th Gen - (8 GB/5...     4.4  ₹49,990   \n",
       "\n",
       "                                             Feature  \\\n",
       "0  Intel Core i3 Processor (11th Gen)8 GB DDR4 RA...   \n",
       "1  Intel Core i3 Processor (11th Gen)8 GB DDR4 RA...   \n",
       "2  Intel Core i3 Processor (10th Gen)8 GB DDR4 RA...   \n",
       "3  AMD Ryzen 5 Hexa Core Processor8 GB DDR4 RAM64...   \n",
       "4  Intel Core i5 Processor (10th Gen)8 GB DDR4 RA...   \n",
       "\n",
       "                           Processor  RAM RAMType       OS       Storage  \\\n",
       "0          [Intel Core i3 Processor]    8  [DDR4]  Windows  [256 GB SSD]   \n",
       "1          [Intel Core i3 Processor]    8  [DDR4]  Windows  [512 GB SSD]   \n",
       "2          [Intel Core i3 Processor]    8  [DDR4]  Windows  [512 GB SSD]   \n",
       "3  [AMD Ryzen 5 Hexa Core Processor]    8  [DDR4]  Windows  [512 GB SSD]   \n",
       "4          [Intel Core i5 Processor]    8  [DDR4]  Windows  [512 GB SSD]   \n",
       "\n",
       "      Brand  \n",
       "0  [Lenovo]  \n",
       "1  [Lenovo]  \n",
       "2    [ASUS]  \n",
       "3      [HP]  \n",
       "4    [ASUS]  "
      ]
     },
     "execution_count": 27,
     "metadata": {},
     "output_type": "execute_result"
    }
   ],
   "source": [
    "df.head()"
   ]
  },
  {
   "cell_type": "code",
   "execution_count": 28,
   "id": "b49674c9",
   "metadata": {},
   "outputs": [],
   "source": [
    "regex = r'(\\d+(?:\\.\\d+)?)(?:\\s*inch|\"|\\'\\')'\n",
    "\n",
    "# Function to extract screen sizes from a string using regex\n",
    "\n",
    "def extract_screen_size(text):\n",
    "    match = re.search(regex, text)\n",
    "    if match:\n",
    "        return float(match.group(1))\n",
    "    else:\n",
    "        return None\n",
    "\n",
    "# Apply the function to the \"Feature\" column and create a new column with the screen sizes\n",
    "\n",
    "df['ScreenSize'] = df['Feature'].apply(extract_screen_size)\n",
    "\n"
   ]
  },
  {
   "cell_type": "code",
   "execution_count": 29,
   "id": "1ff2ffa1",
   "metadata": {},
   "outputs": [
    {
     "data": {
      "text/plain": [
       "15.6        362\n",
       "14.0        103\n",
       "13.3          9\n",
       "16.0          6\n",
       "16.1          5\n",
       "16.2          5\n",
       "17.3          5\n",
       "14.1          4\n",
       "11.6          4\n",
       "15.0          4\n",
       "14.2          2\n",
       "13.0          1\n",
       "13.5          1\n",
       "16.6          1\n",
       "206015.6      1\n",
       "Name: ScreenSize, dtype: int64"
      ]
     },
     "execution_count": 29,
     "metadata": {},
     "output_type": "execute_result"
    }
   ],
   "source": [
    "df.ScreenSize.value_counts()"
   ]
  },
  {
   "cell_type": "code",
   "execution_count": 30,
   "id": "8cce6520",
   "metadata": {},
   "outputs": [],
   "source": [
    "df['ScreenSize'] = df['ScreenSize'].astype('float64')\n",
    "df.MRP = df.MRP.apply(lambda x : x.replace('₹', '').replace(',', '')).astype(float)"
   ]
  },
  {
   "cell_type": "code",
   "execution_count": 31,
   "id": "cf902490",
   "metadata": {},
   "outputs": [],
   "source": [
    "# regex = r'\\(\\d[0-9].\\w+.\\s\\w{7}'\n",
    "# df['ScreenResolution'] = df['Feature'].apply(lambda x : re.findall(regex, x))"
   ]
  },
  {
   "cell_type": "code",
   "execution_count": 32,
   "id": "c67d8a96",
   "metadata": {},
   "outputs": [],
   "source": [
    "# #screen resolution\n",
    "\n",
    "# regex = r'\\d+.\\d+.cm.\\(\\d+.\\d.\\w{4}\\)'\n",
    "# df['ScreenSize'] = df['Feature'].apply(lambda x : re.findall(regex, x))"
   ]
  },
  {
   "cell_type": "code",
   "execution_count": 33,
   "id": "64333746",
   "metadata": {},
   "outputs": [
    {
     "data": {
      "text/html": [
       "<div>\n",
       "<style scoped>\n",
       "    .dataframe tbody tr th:only-of-type {\n",
       "        vertical-align: middle;\n",
       "    }\n",
       "\n",
       "    .dataframe tbody tr th {\n",
       "        vertical-align: top;\n",
       "    }\n",
       "\n",
       "    .dataframe thead th {\n",
       "        text-align: right;\n",
       "    }\n",
       "</style>\n",
       "<table border=\"1\" class=\"dataframe\">\n",
       "  <thead>\n",
       "    <tr style=\"text-align: right;\">\n",
       "      <th></th>\n",
       "      <th>Product</th>\n",
       "      <th>Rating</th>\n",
       "      <th>MRP</th>\n",
       "      <th>Feature</th>\n",
       "      <th>Processor</th>\n",
       "      <th>RAM</th>\n",
       "      <th>RAMType</th>\n",
       "      <th>OS</th>\n",
       "      <th>Storage</th>\n",
       "      <th>Brand</th>\n",
       "      <th>ScreenSize</th>\n",
       "    </tr>\n",
       "  </thead>\n",
       "  <tbody>\n",
       "    <tr>\n",
       "      <th>0</th>\n",
       "      <td>Lenovo IdeaPad 3 Core i3 11th Gen - (8 GB/256 ...</td>\n",
       "      <td>4.2</td>\n",
       "      <td>36990.0</td>\n",
       "      <td>Intel Core i3 Processor (11th Gen)8 GB DDR4 RA...</td>\n",
       "      <td>[Intel Core i3 Processor]</td>\n",
       "      <td>8</td>\n",
       "      <td>[DDR4]</td>\n",
       "      <td>Windows</td>\n",
       "      <td>[256 GB SSD]</td>\n",
       "      <td>[Lenovo]</td>\n",
       "      <td>14.0</td>\n",
       "    </tr>\n",
       "    <tr>\n",
       "      <th>1</th>\n",
       "      <td>Lenovo IdeaPad 3 Core i3 11th Gen - (8 GB/512 ...</td>\n",
       "      <td>4.2</td>\n",
       "      <td>39990.0</td>\n",
       "      <td>Intel Core i3 Processor (11th Gen)8 GB DDR4 RA...</td>\n",
       "      <td>[Intel Core i3 Processor]</td>\n",
       "      <td>8</td>\n",
       "      <td>[DDR4]</td>\n",
       "      <td>Windows</td>\n",
       "      <td>[512 GB SSD]</td>\n",
       "      <td>[Lenovo]</td>\n",
       "      <td>15.6</td>\n",
       "    </tr>\n",
       "    <tr>\n",
       "      <th>2</th>\n",
       "      <td>ASUS VivoBook 15 (2022) Core i3 10th Gen - (8 ...</td>\n",
       "      <td>4.3</td>\n",
       "      <td>32990.0</td>\n",
       "      <td>Intel Core i3 Processor (10th Gen)8 GB DDR4 RA...</td>\n",
       "      <td>[Intel Core i3 Processor]</td>\n",
       "      <td>8</td>\n",
       "      <td>[DDR4]</td>\n",
       "      <td>Windows</td>\n",
       "      <td>[512 GB SSD]</td>\n",
       "      <td>[ASUS]</td>\n",
       "      <td>15.6</td>\n",
       "    </tr>\n",
       "    <tr>\n",
       "      <th>3</th>\n",
       "      <td>HP Pavilion Ryzen 5 Hexa Core AMD R5-5600H - (...</td>\n",
       "      <td>4.4</td>\n",
       "      <td>49990.0</td>\n",
       "      <td>AMD Ryzen 5 Hexa Core Processor8 GB DDR4 RAM64...</td>\n",
       "      <td>[AMD Ryzen 5 Hexa Core Processor]</td>\n",
       "      <td>8</td>\n",
       "      <td>[DDR4]</td>\n",
       "      <td>Windows</td>\n",
       "      <td>[512 GB SSD]</td>\n",
       "      <td>[HP]</td>\n",
       "      <td>15.6</td>\n",
       "    </tr>\n",
       "    <tr>\n",
       "      <th>4</th>\n",
       "      <td>ASUS TUF Gaming F15 Core i5 10th Gen - (8 GB/5...</td>\n",
       "      <td>4.4</td>\n",
       "      <td>49990.0</td>\n",
       "      <td>Intel Core i5 Processor (10th Gen)8 GB DDR4 RA...</td>\n",
       "      <td>[Intel Core i5 Processor]</td>\n",
       "      <td>8</td>\n",
       "      <td>[DDR4]</td>\n",
       "      <td>Windows</td>\n",
       "      <td>[512 GB SSD]</td>\n",
       "      <td>[ASUS]</td>\n",
       "      <td>15.6</td>\n",
       "    </tr>\n",
       "  </tbody>\n",
       "</table>\n",
       "</div>"
      ],
      "text/plain": [
       "                                             Product  Rating      MRP  \\\n",
       "0  Lenovo IdeaPad 3 Core i3 11th Gen - (8 GB/256 ...     4.2  36990.0   \n",
       "1  Lenovo IdeaPad 3 Core i3 11th Gen - (8 GB/512 ...     4.2  39990.0   \n",
       "2  ASUS VivoBook 15 (2022) Core i3 10th Gen - (8 ...     4.3  32990.0   \n",
       "3  HP Pavilion Ryzen 5 Hexa Core AMD R5-5600H - (...     4.4  49990.0   \n",
       "4  ASUS TUF Gaming F15 Core i5 10th Gen - (8 GB/5...     4.4  49990.0   \n",
       "\n",
       "                                             Feature  \\\n",
       "0  Intel Core i3 Processor (11th Gen)8 GB DDR4 RA...   \n",
       "1  Intel Core i3 Processor (11th Gen)8 GB DDR4 RA...   \n",
       "2  Intel Core i3 Processor (10th Gen)8 GB DDR4 RA...   \n",
       "3  AMD Ryzen 5 Hexa Core Processor8 GB DDR4 RAM64...   \n",
       "4  Intel Core i5 Processor (10th Gen)8 GB DDR4 RA...   \n",
       "\n",
       "                           Processor  RAM RAMType       OS       Storage  \\\n",
       "0          [Intel Core i3 Processor]    8  [DDR4]  Windows  [256 GB SSD]   \n",
       "1          [Intel Core i3 Processor]    8  [DDR4]  Windows  [512 GB SSD]   \n",
       "2          [Intel Core i3 Processor]    8  [DDR4]  Windows  [512 GB SSD]   \n",
       "3  [AMD Ryzen 5 Hexa Core Processor]    8  [DDR4]  Windows  [512 GB SSD]   \n",
       "4          [Intel Core i5 Processor]    8  [DDR4]  Windows  [512 GB SSD]   \n",
       "\n",
       "      Brand  ScreenSize  \n",
       "0  [Lenovo]        14.0  \n",
       "1  [Lenovo]        15.6  \n",
       "2    [ASUS]        15.6  \n",
       "3      [HP]        15.6  \n",
       "4    [ASUS]        15.6  "
      ]
     },
     "execution_count": 33,
     "metadata": {},
     "output_type": "execute_result"
    }
   ],
   "source": [
    "df.head()"
   ]
  },
  {
   "cell_type": "code",
   "execution_count": 34,
   "id": "9521eec2",
   "metadata": {},
   "outputs": [
    {
     "name": "stdout",
     "output_type": "stream",
     "text": [
      "<class 'pandas.core.frame.DataFrame'>\n",
      "RangeIndex: 720 entries, 0 to 719\n",
      "Data columns (total 11 columns):\n",
      " #   Column      Non-Null Count  Dtype  \n",
      "---  ------      --------------  -----  \n",
      " 0   Product     720 non-null    object \n",
      " 1   Rating      581 non-null    float64\n",
      " 2   MRP         720 non-null    float64\n",
      " 3   Feature     720 non-null    object \n",
      " 4   Processor   720 non-null    object \n",
      " 5   RAM         720 non-null    int32  \n",
      " 6   RAMType     720 non-null    object \n",
      " 7   OS          720 non-null    object \n",
      " 8   Storage     720 non-null    object \n",
      " 9   Brand       720 non-null    object \n",
      " 10  ScreenSize  513 non-null    float64\n",
      "dtypes: float64(3), int32(1), object(7)\n",
      "memory usage: 59.2+ KB\n"
     ]
    }
   ],
   "source": [
    "df.info ()"
   ]
  },
  {
   "cell_type": "code",
   "execution_count": 35,
   "id": "3d6fcedb",
   "metadata": {},
   "outputs": [],
   "source": [
    "df['ScreenSize'] = df['ScreenSize'].replace(16.0, 15.6)\n",
    "df['ScreenSize'] = df['ScreenSize'].replace(13.3, 14.0)\n",
    "df['ScreenSize'] = df['ScreenSize'].replace(16.1, 15.6)\n",
    "df['ScreenSize'] = df['ScreenSize'].replace(16.2, 15.6)\n",
    "df['ScreenSize'] = df['ScreenSize'].replace(17.3, 15.6)\n",
    "df['ScreenSize'] = df['ScreenSize'].replace(14.1, 14.0)\n",
    "df['ScreenSize'] = df['ScreenSize'].replace(11.6, 14.0)\n",
    "df['ScreenSize'] = df['ScreenSize'].replace(15.0, 15.6)\n",
    "df['ScreenSize'] = df['ScreenSize'].replace(14.2, 14.0)\n",
    "df['ScreenSize'] = df['ScreenSize'].replace(13.0, 14.0)\n",
    "df['ScreenSize'] = df['ScreenSize'].replace(16.6, 15.6)\n",
    "df['ScreenSize'] = df['ScreenSize'].replace(206015.6, 15.6)\n",
    "df['ScreenSize'] = df['ScreenSize'].replace(13.5, 14.0)"
   ]
  },
  {
   "cell_type": "code",
   "execution_count": 36,
   "id": "8ca14b94",
   "metadata": {},
   "outputs": [
    {
     "data": {
      "text/plain": [
       "15.6    389\n",
       "14.0    124\n",
       "Name: ScreenSize, dtype: int64"
      ]
     },
     "execution_count": 36,
     "metadata": {},
     "output_type": "execute_result"
    }
   ],
   "source": [
    "df['ScreenSize'].value_counts()"
   ]
  },
  {
   "cell_type": "code",
   "execution_count": 37,
   "id": "4f79005e",
   "metadata": {},
   "outputs": [
    {
     "data": {
      "text/plain": [
       "667    15.6\n",
       "355     NaN\n",
       "374    15.6\n",
       "434    14.0\n",
       "213     NaN\n",
       "Name: ScreenSize, dtype: float64"
      ]
     },
     "execution_count": 37,
     "metadata": {},
     "output_type": "execute_result"
    }
   ],
   "source": [
    "df['ScreenSize'].sample(5)\n",
    "#df['ScreenSize'].dropna()"
   ]
  },
  {
   "cell_type": "code",
   "execution_count": 38,
   "id": "88af852b",
   "metadata": {},
   "outputs": [
    {
     "data": {
      "text/plain": [
       "array([14. , 15.6,  nan])"
      ]
     },
     "execution_count": 38,
     "metadata": {},
     "output_type": "execute_result"
    }
   ],
   "source": [
    "df['ScreenSize'].unique()"
   ]
  },
  {
   "cell_type": "code",
   "execution_count": 39,
   "id": "47aa7f37",
   "metadata": {},
   "outputs": [
    {
     "data": {
      "text/plain": [
       "15.213255360623888"
      ]
     },
     "execution_count": 39,
     "metadata": {},
     "output_type": "execute_result"
    }
   ],
   "source": [
    "df['ScreenSize'].mean()"
   ]
  },
  {
   "cell_type": "code",
   "execution_count": 40,
   "id": "1125a0de",
   "metadata": {},
   "outputs": [],
   "source": [
    "df['ScreenSize'].fillna(15.6, inplace=True)"
   ]
  },
  {
   "cell_type": "code",
   "execution_count": 41,
   "id": "bc81b20e",
   "metadata": {},
   "outputs": [
    {
     "data": {
      "text/plain": [
       "array([14. , 15.6])"
      ]
     },
     "execution_count": 41,
     "metadata": {},
     "output_type": "execute_result"
    }
   ],
   "source": [
    "df['ScreenSize'].unique()"
   ]
  },
  {
   "cell_type": "code",
   "execution_count": 42,
   "id": "3174de82",
   "metadata": {},
   "outputs": [
    {
     "data": {
      "text/plain": [
       "15.6    596\n",
       "14.0    124\n",
       "Name: ScreenSize, dtype: int64"
      ]
     },
     "execution_count": 42,
     "metadata": {},
     "output_type": "execute_result"
    }
   ],
   "source": [
    "df['ScreenSize'].value_counts()"
   ]
  },
  {
   "cell_type": "code",
   "execution_count": 43,
   "id": "7498cc0b",
   "metadata": {},
   "outputs": [
    {
     "data": {
      "text/plain": [
       "Product         0\n",
       "Rating        139\n",
       "MRP             0\n",
       "Feature         0\n",
       "Processor       0\n",
       "RAM             0\n",
       "RAMType         0\n",
       "OS              0\n",
       "Storage         0\n",
       "Brand           0\n",
       "ScreenSize      0\n",
       "dtype: int64"
      ]
     },
     "execution_count": 43,
     "metadata": {},
     "output_type": "execute_result"
    }
   ],
   "source": [
    "df.isnull().sum()"
   ]
  },
  {
   "cell_type": "code",
   "execution_count": 44,
   "id": "aa8f8af3",
   "metadata": {},
   "outputs": [],
   "source": [
    "df = df.drop(df.columns[1], axis=1)"
   ]
  },
  {
   "cell_type": "code",
   "execution_count": 45,
   "id": "51e03390",
   "metadata": {},
   "outputs": [
    {
     "name": "stdout",
     "output_type": "stream",
     "text": [
      "<class 'pandas.core.frame.DataFrame'>\n",
      "RangeIndex: 720 entries, 0 to 719\n",
      "Data columns (total 10 columns):\n",
      " #   Column      Non-Null Count  Dtype  \n",
      "---  ------      --------------  -----  \n",
      " 0   Product     720 non-null    object \n",
      " 1   MRP         720 non-null    float64\n",
      " 2   Feature     720 non-null    object \n",
      " 3   Processor   720 non-null    object \n",
      " 4   RAM         720 non-null    int32  \n",
      " 5   RAMType     720 non-null    object \n",
      " 6   OS          720 non-null    object \n",
      " 7   Storage     720 non-null    object \n",
      " 8   Brand       720 non-null    object \n",
      " 9   ScreenSize  720 non-null    float64\n",
      "dtypes: float64(2), int32(1), object(7)\n",
      "memory usage: 53.6+ KB\n"
     ]
    }
   ],
   "source": [
    "df.info()"
   ]
  },
  {
   "cell_type": "code",
   "execution_count": 46,
   "id": "1ae12356",
   "metadata": {},
   "outputs": [
    {
     "name": "stdout",
     "output_type": "stream",
     "text": [
      "['Intel Core i3 Processor']\n",
      "<class 'list'>\n"
     ]
    }
   ],
   "source": [
    "print(df['Processor'][0]) \n",
    "\n",
    "print(type(df['Processor'][0]))"
   ]
  },
  {
   "cell_type": "code",
   "execution_count": 47,
   "id": "098a2ad0",
   "metadata": {},
   "outputs": [
    {
     "name": "stdout",
     "output_type": "stream",
     "text": [
      "Intel Core i3 Processor\n",
      "<class 'str'>\n"
     ]
    }
   ],
   "source": [
    "print(''.join(df['Processor'][0]))\n",
    "print(type(''.join(df['Processor'][0])))"
   ]
  },
  {
   "cell_type": "code",
   "execution_count": 48,
   "id": "1de5891e",
   "metadata": {},
   "outputs": [],
   "source": [
    "df.Processor = df.Processor.apply(lambda x : ''.join(x))\n",
    "#df.RAM = df.RAM.apply(lambda x : ''.join(x))\n",
    "df.RAMType = df.RAMType.apply(lambda x : ''.join(x))\n",
    "df.OS = df.OS.apply(lambda x : ''.join(x))\n",
    "df.Storage = df.Storage.apply(lambda x : ''.join(x))\n",
    "df.Brand = df.Brand.apply(lambda x : ''.join(x))\n",
    "#df.ScreenSize = df.ScreenSize.apply(lambda x : ''.join(x))"
   ]
  },
  {
   "cell_type": "code",
   "execution_count": 49,
   "id": "62a95b26",
   "metadata": {},
   "outputs": [
    {
     "data": {
      "text/html": [
       "<div>\n",
       "<style scoped>\n",
       "    .dataframe tbody tr th:only-of-type {\n",
       "        vertical-align: middle;\n",
       "    }\n",
       "\n",
       "    .dataframe tbody tr th {\n",
       "        vertical-align: top;\n",
       "    }\n",
       "\n",
       "    .dataframe thead th {\n",
       "        text-align: right;\n",
       "    }\n",
       "</style>\n",
       "<table border=\"1\" class=\"dataframe\">\n",
       "  <thead>\n",
       "    <tr style=\"text-align: right;\">\n",
       "      <th></th>\n",
       "      <th>Product</th>\n",
       "      <th>MRP</th>\n",
       "      <th>Feature</th>\n",
       "      <th>Processor</th>\n",
       "      <th>RAM</th>\n",
       "      <th>RAMType</th>\n",
       "      <th>OS</th>\n",
       "      <th>Storage</th>\n",
       "      <th>Brand</th>\n",
       "      <th>ScreenSize</th>\n",
       "    </tr>\n",
       "  </thead>\n",
       "  <tbody>\n",
       "    <tr>\n",
       "      <th>0</th>\n",
       "      <td>Lenovo IdeaPad 3 Core i3 11th Gen - (8 GB/256 ...</td>\n",
       "      <td>36990.0</td>\n",
       "      <td>Intel Core i3 Processor (11th Gen)8 GB DDR4 RA...</td>\n",
       "      <td>Intel Core i3 Processor</td>\n",
       "      <td>8</td>\n",
       "      <td>DDR4</td>\n",
       "      <td>Windows</td>\n",
       "      <td>256 GB SSD</td>\n",
       "      <td>Lenovo</td>\n",
       "      <td>14.0</td>\n",
       "    </tr>\n",
       "    <tr>\n",
       "      <th>1</th>\n",
       "      <td>Lenovo IdeaPad 3 Core i3 11th Gen - (8 GB/512 ...</td>\n",
       "      <td>39990.0</td>\n",
       "      <td>Intel Core i3 Processor (11th Gen)8 GB DDR4 RA...</td>\n",
       "      <td>Intel Core i3 Processor</td>\n",
       "      <td>8</td>\n",
       "      <td>DDR4</td>\n",
       "      <td>Windows</td>\n",
       "      <td>512 GB SSD</td>\n",
       "      <td>Lenovo</td>\n",
       "      <td>15.6</td>\n",
       "    </tr>\n",
       "    <tr>\n",
       "      <th>2</th>\n",
       "      <td>ASUS VivoBook 15 (2022) Core i3 10th Gen - (8 ...</td>\n",
       "      <td>32990.0</td>\n",
       "      <td>Intel Core i3 Processor (10th Gen)8 GB DDR4 RA...</td>\n",
       "      <td>Intel Core i3 Processor</td>\n",
       "      <td>8</td>\n",
       "      <td>DDR4</td>\n",
       "      <td>Windows</td>\n",
       "      <td>512 GB SSD</td>\n",
       "      <td>ASUS</td>\n",
       "      <td>15.6</td>\n",
       "    </tr>\n",
       "    <tr>\n",
       "      <th>3</th>\n",
       "      <td>HP Pavilion Ryzen 5 Hexa Core AMD R5-5600H - (...</td>\n",
       "      <td>49990.0</td>\n",
       "      <td>AMD Ryzen 5 Hexa Core Processor8 GB DDR4 RAM64...</td>\n",
       "      <td>AMD Ryzen 5 Hexa Core Processor</td>\n",
       "      <td>8</td>\n",
       "      <td>DDR4</td>\n",
       "      <td>Windows</td>\n",
       "      <td>512 GB SSD</td>\n",
       "      <td>HP</td>\n",
       "      <td>15.6</td>\n",
       "    </tr>\n",
       "    <tr>\n",
       "      <th>4</th>\n",
       "      <td>ASUS TUF Gaming F15 Core i5 10th Gen - (8 GB/5...</td>\n",
       "      <td>49990.0</td>\n",
       "      <td>Intel Core i5 Processor (10th Gen)8 GB DDR4 RA...</td>\n",
       "      <td>Intel Core i5 Processor</td>\n",
       "      <td>8</td>\n",
       "      <td>DDR4</td>\n",
       "      <td>Windows</td>\n",
       "      <td>512 GB SSD</td>\n",
       "      <td>ASUS</td>\n",
       "      <td>15.6</td>\n",
       "    </tr>\n",
       "  </tbody>\n",
       "</table>\n",
       "</div>"
      ],
      "text/plain": [
       "                                             Product      MRP  \\\n",
       "0  Lenovo IdeaPad 3 Core i3 11th Gen - (8 GB/256 ...  36990.0   \n",
       "1  Lenovo IdeaPad 3 Core i3 11th Gen - (8 GB/512 ...  39990.0   \n",
       "2  ASUS VivoBook 15 (2022) Core i3 10th Gen - (8 ...  32990.0   \n",
       "3  HP Pavilion Ryzen 5 Hexa Core AMD R5-5600H - (...  49990.0   \n",
       "4  ASUS TUF Gaming F15 Core i5 10th Gen - (8 GB/5...  49990.0   \n",
       "\n",
       "                                             Feature  \\\n",
       "0  Intel Core i3 Processor (11th Gen)8 GB DDR4 RA...   \n",
       "1  Intel Core i3 Processor (11th Gen)8 GB DDR4 RA...   \n",
       "2  Intel Core i3 Processor (10th Gen)8 GB DDR4 RA...   \n",
       "3  AMD Ryzen 5 Hexa Core Processor8 GB DDR4 RAM64...   \n",
       "4  Intel Core i5 Processor (10th Gen)8 GB DDR4 RA...   \n",
       "\n",
       "                         Processor  RAM RAMType       OS     Storage   Brand  \\\n",
       "0          Intel Core i3 Processor    8    DDR4  Windows  256 GB SSD  Lenovo   \n",
       "1          Intel Core i3 Processor    8    DDR4  Windows  512 GB SSD  Lenovo   \n",
       "2          Intel Core i3 Processor    8    DDR4  Windows  512 GB SSD    ASUS   \n",
       "3  AMD Ryzen 5 Hexa Core Processor    8    DDR4  Windows  512 GB SSD      HP   \n",
       "4          Intel Core i5 Processor    8    DDR4  Windows  512 GB SSD    ASUS   \n",
       "\n",
       "   ScreenSize  \n",
       "0        14.0  \n",
       "1        15.6  \n",
       "2        15.6  \n",
       "3        15.6  \n",
       "4        15.6  "
      ]
     },
     "execution_count": 49,
     "metadata": {},
     "output_type": "execute_result"
    }
   ],
   "source": [
    "df.head()"
   ]
  },
  {
   "cell_type": "code",
   "execution_count": 50,
   "id": "31600359",
   "metadata": {},
   "outputs": [],
   "source": [
    "x = df[df['RAMType'] == \"\"].index\n",
    "df = df.drop(x,axis = 0)"
   ]
  },
  {
   "cell_type": "code",
   "execution_count": 51,
   "id": "35ad1188",
   "metadata": {},
   "outputs": [
    {
     "data": {
      "text/plain": [
       "DDR4            597\n",
       "DDR5            101\n",
       "DDR4DDR4          6\n",
       "DDR4DDR6DDR4      2\n",
       "DDR4DDR5DDR4      1\n",
       "DDR3              1\n",
       "Name: RAMType, dtype: int64"
      ]
     },
     "execution_count": 51,
     "metadata": {},
     "output_type": "execute_result"
    }
   ],
   "source": [
    "df['RAMType'].value_counts()"
   ]
  },
  {
   "cell_type": "code",
   "execution_count": 52,
   "id": "b7b45f0d",
   "metadata": {},
   "outputs": [],
   "source": [
    "x = df[df['Storage'] == \"\"].index\n",
    "df = df.drop(x,axis = 0)"
   ]
  },
  {
   "cell_type": "code",
   "execution_count": 53,
   "id": "cafeab9d",
   "metadata": {},
   "outputs": [
    {
     "data": {
      "text/plain": [
       "512 GB SSD                      368\n",
       "1 TB SSD                        172\n",
       "256 GB SSD                       97\n",
       "1 TB HDD256 GB SSD               26\n",
       "1 TB HDD                         17\n",
       "2 TB SSD                          7\n",
       "128 GB SSD                        6\n",
       "1 TB HDD512 GB SSD                2\n",
       "128 GB SSD1 TB HDD128 GB SSD      2\n",
       "256 GB HDD256 GB SSD              1\n",
       "Name: Storage, dtype: int64"
      ]
     },
     "execution_count": 53,
     "metadata": {},
     "output_type": "execute_result"
    }
   ],
   "source": [
    "df['Storage'].value_counts()"
   ]
  },
  {
   "cell_type": "code",
   "execution_count": 54,
   "id": "6008de01",
   "metadata": {},
   "outputs": [
    {
     "ename": "KeyError",
     "evalue": "'ProcessorName'",
     "output_type": "error",
     "traceback": [
      "\u001b[1;31m---------------------------------------------------------------------------\u001b[0m",
      "\u001b[1;31mKeyError\u001b[0m                                  Traceback (most recent call last)",
      "File \u001b[1;32m~\\anaconda3\\lib\\site-packages\\pandas\\core\\indexes\\base.py:3621\u001b[0m, in \u001b[0;36mIndex.get_loc\u001b[1;34m(self, key, method, tolerance)\u001b[0m\n\u001b[0;32m   3620\u001b[0m \u001b[38;5;28;01mtry\u001b[39;00m:\n\u001b[1;32m-> 3621\u001b[0m     \u001b[38;5;28;01mreturn\u001b[39;00m \u001b[38;5;28;43mself\u001b[39;49m\u001b[38;5;241;43m.\u001b[39;49m\u001b[43m_engine\u001b[49m\u001b[38;5;241;43m.\u001b[39;49m\u001b[43mget_loc\u001b[49m\u001b[43m(\u001b[49m\u001b[43mcasted_key\u001b[49m\u001b[43m)\u001b[49m\n\u001b[0;32m   3622\u001b[0m \u001b[38;5;28;01mexcept\u001b[39;00m \u001b[38;5;167;01mKeyError\u001b[39;00m \u001b[38;5;28;01mas\u001b[39;00m err:\n",
      "File \u001b[1;32m~\\anaconda3\\lib\\site-packages\\pandas\\_libs\\index.pyx:136\u001b[0m, in \u001b[0;36mpandas._libs.index.IndexEngine.get_loc\u001b[1;34m()\u001b[0m\n",
      "File \u001b[1;32m~\\anaconda3\\lib\\site-packages\\pandas\\_libs\\index.pyx:163\u001b[0m, in \u001b[0;36mpandas._libs.index.IndexEngine.get_loc\u001b[1;34m()\u001b[0m\n",
      "File \u001b[1;32mpandas\\_libs\\hashtable_class_helper.pxi:5198\u001b[0m, in \u001b[0;36mpandas._libs.hashtable.PyObjectHashTable.get_item\u001b[1;34m()\u001b[0m\n",
      "File \u001b[1;32mpandas\\_libs\\hashtable_class_helper.pxi:5206\u001b[0m, in \u001b[0;36mpandas._libs.hashtable.PyObjectHashTable.get_item\u001b[1;34m()\u001b[0m\n",
      "\u001b[1;31mKeyError\u001b[0m: 'ProcessorName'",
      "\nThe above exception was the direct cause of the following exception:\n",
      "\u001b[1;31mKeyError\u001b[0m                                  Traceback (most recent call last)",
      "Input \u001b[1;32mIn [54]\u001b[0m, in \u001b[0;36m<cell line: 1>\u001b[1;34m()\u001b[0m\n\u001b[1;32m----> 1\u001b[0m x \u001b[38;5;241m=\u001b[39m df[\u001b[43mdf\u001b[49m\u001b[43m[\u001b[49m\u001b[38;5;124;43m'\u001b[39;49m\u001b[38;5;124;43mProcessorName\u001b[39;49m\u001b[38;5;124;43m'\u001b[39;49m\u001b[43m]\u001b[49m \u001b[38;5;241m==\u001b[39m \u001b[38;5;124m\"\u001b[39m\u001b[38;5;124m\"\u001b[39m]\u001b[38;5;241m.\u001b[39mindex\n\u001b[0;32m      2\u001b[0m df \u001b[38;5;241m=\u001b[39m df\u001b[38;5;241m.\u001b[39mdrop(x,axis \u001b[38;5;241m=\u001b[39m \u001b[38;5;241m0\u001b[39m)\n",
      "File \u001b[1;32m~\\anaconda3\\lib\\site-packages\\pandas\\core\\frame.py:3505\u001b[0m, in \u001b[0;36mDataFrame.__getitem__\u001b[1;34m(self, key)\u001b[0m\n\u001b[0;32m   3503\u001b[0m \u001b[38;5;28;01mif\u001b[39;00m \u001b[38;5;28mself\u001b[39m\u001b[38;5;241m.\u001b[39mcolumns\u001b[38;5;241m.\u001b[39mnlevels \u001b[38;5;241m>\u001b[39m \u001b[38;5;241m1\u001b[39m:\n\u001b[0;32m   3504\u001b[0m     \u001b[38;5;28;01mreturn\u001b[39;00m \u001b[38;5;28mself\u001b[39m\u001b[38;5;241m.\u001b[39m_getitem_multilevel(key)\n\u001b[1;32m-> 3505\u001b[0m indexer \u001b[38;5;241m=\u001b[39m \u001b[38;5;28;43mself\u001b[39;49m\u001b[38;5;241;43m.\u001b[39;49m\u001b[43mcolumns\u001b[49m\u001b[38;5;241;43m.\u001b[39;49m\u001b[43mget_loc\u001b[49m\u001b[43m(\u001b[49m\u001b[43mkey\u001b[49m\u001b[43m)\u001b[49m\n\u001b[0;32m   3506\u001b[0m \u001b[38;5;28;01mif\u001b[39;00m is_integer(indexer):\n\u001b[0;32m   3507\u001b[0m     indexer \u001b[38;5;241m=\u001b[39m [indexer]\n",
      "File \u001b[1;32m~\\anaconda3\\lib\\site-packages\\pandas\\core\\indexes\\base.py:3623\u001b[0m, in \u001b[0;36mIndex.get_loc\u001b[1;34m(self, key, method, tolerance)\u001b[0m\n\u001b[0;32m   3621\u001b[0m     \u001b[38;5;28;01mreturn\u001b[39;00m \u001b[38;5;28mself\u001b[39m\u001b[38;5;241m.\u001b[39m_engine\u001b[38;5;241m.\u001b[39mget_loc(casted_key)\n\u001b[0;32m   3622\u001b[0m \u001b[38;5;28;01mexcept\u001b[39;00m \u001b[38;5;167;01mKeyError\u001b[39;00m \u001b[38;5;28;01mas\u001b[39;00m err:\n\u001b[1;32m-> 3623\u001b[0m     \u001b[38;5;28;01mraise\u001b[39;00m \u001b[38;5;167;01mKeyError\u001b[39;00m(key) \u001b[38;5;28;01mfrom\u001b[39;00m \u001b[38;5;21;01merr\u001b[39;00m\n\u001b[0;32m   3624\u001b[0m \u001b[38;5;28;01mexcept\u001b[39;00m \u001b[38;5;167;01mTypeError\u001b[39;00m:\n\u001b[0;32m   3625\u001b[0m     \u001b[38;5;66;03m# If we have a listlike key, _check_indexing_error will raise\u001b[39;00m\n\u001b[0;32m   3626\u001b[0m     \u001b[38;5;66;03m#  InvalidIndexError. Otherwise we fall through and re-raise\u001b[39;00m\n\u001b[0;32m   3627\u001b[0m     \u001b[38;5;66;03m#  the TypeError.\u001b[39;00m\n\u001b[0;32m   3628\u001b[0m     \u001b[38;5;28mself\u001b[39m\u001b[38;5;241m.\u001b[39m_check_indexing_error(key)\n",
      "\u001b[1;31mKeyError\u001b[0m: 'ProcessorName'"
     ]
    }
   ],
   "source": [
    "x = df[df['ProcessorName'] == \"\"].index\n",
    "df = df.drop(x,axis = 0)"
   ]
  },
  {
   "cell_type": "code",
   "execution_count": null,
   "id": "565e02cd",
   "metadata": {},
   "outputs": [],
   "source": [
    "df['ProcessorName'].value_counts()"
   ]
  },
  {
   "cell_type": "code",
   "execution_count": null,
   "id": "1612abb6",
   "metadata": {},
   "outputs": [],
   "source": [
    "print(df[\"Feature\"][0])"
   ]
  },
  {
   "cell_type": "code",
   "execution_count": 55,
   "id": "c7a03bc2",
   "metadata": {},
   "outputs": [
    {
     "data": {
      "text/html": [
       "<div>\n",
       "<style scoped>\n",
       "    .dataframe tbody tr th:only-of-type {\n",
       "        vertical-align: middle;\n",
       "    }\n",
       "\n",
       "    .dataframe tbody tr th {\n",
       "        vertical-align: top;\n",
       "    }\n",
       "\n",
       "    .dataframe thead th {\n",
       "        text-align: right;\n",
       "    }\n",
       "</style>\n",
       "<table border=\"1\" class=\"dataframe\">\n",
       "  <thead>\n",
       "    <tr style=\"text-align: right;\">\n",
       "      <th></th>\n",
       "      <th>Product</th>\n",
       "      <th>MRP</th>\n",
       "      <th>Feature</th>\n",
       "      <th>Processor</th>\n",
       "      <th>RAM</th>\n",
       "      <th>RAMType</th>\n",
       "      <th>OS</th>\n",
       "      <th>Storage</th>\n",
       "      <th>Brand</th>\n",
       "      <th>ScreenSize</th>\n",
       "    </tr>\n",
       "  </thead>\n",
       "  <tbody>\n",
       "    <tr>\n",
       "      <th>0</th>\n",
       "      <td>Lenovo IdeaPad 3 Core i3 11th Gen - (8 GB/256 ...</td>\n",
       "      <td>36990.0</td>\n",
       "      <td>Intel Core i3 Processor (11th Gen)8 GB DDR4 RA...</td>\n",
       "      <td>Intel Core i3 Processor</td>\n",
       "      <td>8</td>\n",
       "      <td>DDR4</td>\n",
       "      <td>Windows</td>\n",
       "      <td>256 GB SSD</td>\n",
       "      <td>Lenovo</td>\n",
       "      <td>14.0</td>\n",
       "    </tr>\n",
       "    <tr>\n",
       "      <th>1</th>\n",
       "      <td>Lenovo IdeaPad 3 Core i3 11th Gen - (8 GB/512 ...</td>\n",
       "      <td>39990.0</td>\n",
       "      <td>Intel Core i3 Processor (11th Gen)8 GB DDR4 RA...</td>\n",
       "      <td>Intel Core i3 Processor</td>\n",
       "      <td>8</td>\n",
       "      <td>DDR4</td>\n",
       "      <td>Windows</td>\n",
       "      <td>512 GB SSD</td>\n",
       "      <td>Lenovo</td>\n",
       "      <td>15.6</td>\n",
       "    </tr>\n",
       "    <tr>\n",
       "      <th>2</th>\n",
       "      <td>ASUS VivoBook 15 (2022) Core i3 10th Gen - (8 ...</td>\n",
       "      <td>32990.0</td>\n",
       "      <td>Intel Core i3 Processor (10th Gen)8 GB DDR4 RA...</td>\n",
       "      <td>Intel Core i3 Processor</td>\n",
       "      <td>8</td>\n",
       "      <td>DDR4</td>\n",
       "      <td>Windows</td>\n",
       "      <td>512 GB SSD</td>\n",
       "      <td>ASUS</td>\n",
       "      <td>15.6</td>\n",
       "    </tr>\n",
       "    <tr>\n",
       "      <th>3</th>\n",
       "      <td>HP Pavilion Ryzen 5 Hexa Core AMD R5-5600H - (...</td>\n",
       "      <td>49990.0</td>\n",
       "      <td>AMD Ryzen 5 Hexa Core Processor8 GB DDR4 RAM64...</td>\n",
       "      <td>AMD Ryzen 5 Hexa Core Processor</td>\n",
       "      <td>8</td>\n",
       "      <td>DDR4</td>\n",
       "      <td>Windows</td>\n",
       "      <td>512 GB SSD</td>\n",
       "      <td>HP</td>\n",
       "      <td>15.6</td>\n",
       "    </tr>\n",
       "    <tr>\n",
       "      <th>4</th>\n",
       "      <td>ASUS TUF Gaming F15 Core i5 10th Gen - (8 GB/5...</td>\n",
       "      <td>49990.0</td>\n",
       "      <td>Intel Core i5 Processor (10th Gen)8 GB DDR4 RA...</td>\n",
       "      <td>Intel Core i5 Processor</td>\n",
       "      <td>8</td>\n",
       "      <td>DDR4</td>\n",
       "      <td>Windows</td>\n",
       "      <td>512 GB SSD</td>\n",
       "      <td>ASUS</td>\n",
       "      <td>15.6</td>\n",
       "    </tr>\n",
       "  </tbody>\n",
       "</table>\n",
       "</div>"
      ],
      "text/plain": [
       "                                             Product      MRP  \\\n",
       "0  Lenovo IdeaPad 3 Core i3 11th Gen - (8 GB/256 ...  36990.0   \n",
       "1  Lenovo IdeaPad 3 Core i3 11th Gen - (8 GB/512 ...  39990.0   \n",
       "2  ASUS VivoBook 15 (2022) Core i3 10th Gen - (8 ...  32990.0   \n",
       "3  HP Pavilion Ryzen 5 Hexa Core AMD R5-5600H - (...  49990.0   \n",
       "4  ASUS TUF Gaming F15 Core i5 10th Gen - (8 GB/5...  49990.0   \n",
       "\n",
       "                                             Feature  \\\n",
       "0  Intel Core i3 Processor (11th Gen)8 GB DDR4 RA...   \n",
       "1  Intel Core i3 Processor (11th Gen)8 GB DDR4 RA...   \n",
       "2  Intel Core i3 Processor (10th Gen)8 GB DDR4 RA...   \n",
       "3  AMD Ryzen 5 Hexa Core Processor8 GB DDR4 RAM64...   \n",
       "4  Intel Core i5 Processor (10th Gen)8 GB DDR4 RA...   \n",
       "\n",
       "                         Processor  RAM RAMType       OS     Storage   Brand  \\\n",
       "0          Intel Core i3 Processor    8    DDR4  Windows  256 GB SSD  Lenovo   \n",
       "1          Intel Core i3 Processor    8    DDR4  Windows  512 GB SSD  Lenovo   \n",
       "2          Intel Core i3 Processor    8    DDR4  Windows  512 GB SSD    ASUS   \n",
       "3  AMD Ryzen 5 Hexa Core Processor    8    DDR4  Windows  512 GB SSD      HP   \n",
       "4          Intel Core i5 Processor    8    DDR4  Windows  512 GB SSD    ASUS   \n",
       "\n",
       "   ScreenSize  \n",
       "0        14.0  \n",
       "1        15.6  \n",
       "2        15.6  \n",
       "3        15.6  \n",
       "4        15.6  "
      ]
     },
     "execution_count": 55,
     "metadata": {},
     "output_type": "execute_result"
    }
   ],
   "source": [
    "df.head()"
   ]
  },
  {
   "cell_type": "code",
   "execution_count": 56,
   "id": "d148d650",
   "metadata": {},
   "outputs": [
    {
     "name": "stdout",
     "output_type": "stream",
     "text": [
      "<class 'pandas.core.frame.DataFrame'>\n",
      "Int64Index: 698 entries, 0 to 719\n",
      "Data columns (total 10 columns):\n",
      " #   Column      Non-Null Count  Dtype  \n",
      "---  ------      --------------  -----  \n",
      " 0   Product     698 non-null    object \n",
      " 1   MRP         698 non-null    float64\n",
      " 2   Feature     698 non-null    object \n",
      " 3   Processor   698 non-null    object \n",
      " 4   RAM         698 non-null    int32  \n",
      " 5   RAMType     698 non-null    object \n",
      " 6   OS          698 non-null    object \n",
      " 7   Storage     698 non-null    object \n",
      " 8   Brand       698 non-null    object \n",
      " 9   ScreenSize  698 non-null    float64\n",
      "dtypes: float64(2), int32(1), object(7)\n",
      "memory usage: 57.3+ KB\n"
     ]
    }
   ],
   "source": [
    "df.info()"
   ]
  },
  {
   "cell_type": "code",
   "execution_count": 57,
   "id": "cd226b76",
   "metadata": {},
   "outputs": [
    {
     "data": {
      "text/html": [
       "<div>\n",
       "<style scoped>\n",
       "    .dataframe tbody tr th:only-of-type {\n",
       "        vertical-align: middle;\n",
       "    }\n",
       "\n",
       "    .dataframe tbody tr th {\n",
       "        vertical-align: top;\n",
       "    }\n",
       "\n",
       "    .dataframe thead th {\n",
       "        text-align: right;\n",
       "    }\n",
       "</style>\n",
       "<table border=\"1\" class=\"dataframe\">\n",
       "  <thead>\n",
       "    <tr style=\"text-align: right;\">\n",
       "      <th></th>\n",
       "      <th>MRP</th>\n",
       "      <th>RAM</th>\n",
       "      <th>ScreenSize</th>\n",
       "    </tr>\n",
       "  </thead>\n",
       "  <tbody>\n",
       "    <tr>\n",
       "      <th>count</th>\n",
       "      <td>698.000000</td>\n",
       "      <td>698.000000</td>\n",
       "      <td>698.000000</td>\n",
       "    </tr>\n",
       "    <tr>\n",
       "      <th>mean</th>\n",
       "      <td>80513.643266</td>\n",
       "      <td>11.679083</td>\n",
       "      <td>15.329513</td>\n",
       "    </tr>\n",
       "    <tr>\n",
       "      <th>std</th>\n",
       "      <td>59891.913927</td>\n",
       "      <td>8.076403</td>\n",
       "      <td>0.600110</td>\n",
       "    </tr>\n",
       "    <tr>\n",
       "      <th>min</th>\n",
       "      <td>15990.000000</td>\n",
       "      <td>4.000000</td>\n",
       "      <td>14.000000</td>\n",
       "    </tr>\n",
       "    <tr>\n",
       "      <th>25%</th>\n",
       "      <td>39990.000000</td>\n",
       "      <td>8.000000</td>\n",
       "      <td>15.600000</td>\n",
       "    </tr>\n",
       "    <tr>\n",
       "      <th>50%</th>\n",
       "      <td>59890.000000</td>\n",
       "      <td>8.000000</td>\n",
       "      <td>15.600000</td>\n",
       "    </tr>\n",
       "    <tr>\n",
       "      <th>75%</th>\n",
       "      <td>89990.000000</td>\n",
       "      <td>16.000000</td>\n",
       "      <td>15.600000</td>\n",
       "    </tr>\n",
       "    <tr>\n",
       "      <th>max</th>\n",
       "      <td>434830.000000</td>\n",
       "      <td>128.000000</td>\n",
       "      <td>15.600000</td>\n",
       "    </tr>\n",
       "  </tbody>\n",
       "</table>\n",
       "</div>"
      ],
      "text/plain": [
       "                 MRP         RAM  ScreenSize\n",
       "count     698.000000  698.000000  698.000000\n",
       "mean    80513.643266   11.679083   15.329513\n",
       "std     59891.913927    8.076403    0.600110\n",
       "min     15990.000000    4.000000   14.000000\n",
       "25%     39990.000000    8.000000   15.600000\n",
       "50%     59890.000000    8.000000   15.600000\n",
       "75%     89990.000000   16.000000   15.600000\n",
       "max    434830.000000  128.000000   15.600000"
      ]
     },
     "execution_count": 57,
     "metadata": {},
     "output_type": "execute_result"
    }
   ],
   "source": [
    "df.describe()"
   ]
  },
  {
   "cell_type": "code",
   "execution_count": 58,
   "id": "cd55317f",
   "metadata": {},
   "outputs": [
    {
     "data": {
      "text/plain": [
       "Product       0\n",
       "MRP           0\n",
       "Feature       0\n",
       "Processor     0\n",
       "RAM           0\n",
       "RAMType       0\n",
       "OS            0\n",
       "Storage       0\n",
       "Brand         0\n",
       "ScreenSize    0\n",
       "dtype: int64"
      ]
     },
     "execution_count": 58,
     "metadata": {},
     "output_type": "execute_result"
    }
   ],
   "source": [
    "df.isnull().sum()"
   ]
  },
  {
   "cell_type": "code",
   "execution_count": 59,
   "id": "83af71b7",
   "metadata": {},
   "outputs": [
    {
     "data": {
      "text/plain": [
       "15.6    580\n",
       "14.0    118\n",
       "Name: ScreenSize, dtype: int64"
      ]
     },
     "execution_count": 59,
     "metadata": {},
     "output_type": "execute_result"
    }
   ],
   "source": [
    "df['ScreenSize'].value_counts()"
   ]
  },
  {
   "cell_type": "code",
   "execution_count": 60,
   "id": "a210fe58",
   "metadata": {},
   "outputs": [
    {
     "data": {
      "text/html": [
       "<div>\n",
       "<style scoped>\n",
       "    .dataframe tbody tr th:only-of-type {\n",
       "        vertical-align: middle;\n",
       "    }\n",
       "\n",
       "    .dataframe tbody tr th {\n",
       "        vertical-align: top;\n",
       "    }\n",
       "\n",
       "    .dataframe thead th {\n",
       "        text-align: right;\n",
       "    }\n",
       "</style>\n",
       "<table border=\"1\" class=\"dataframe\">\n",
       "  <thead>\n",
       "    <tr style=\"text-align: right;\">\n",
       "      <th></th>\n",
       "      <th>Product</th>\n",
       "      <th>MRP</th>\n",
       "      <th>Feature</th>\n",
       "      <th>Processor</th>\n",
       "      <th>RAM</th>\n",
       "      <th>RAMType</th>\n",
       "      <th>OS</th>\n",
       "      <th>Storage</th>\n",
       "      <th>Brand</th>\n",
       "      <th>ScreenSize</th>\n",
       "    </tr>\n",
       "  </thead>\n",
       "  <tbody>\n",
       "    <tr>\n",
       "      <th>0</th>\n",
       "      <td>Lenovo IdeaPad 3 Core i3 11th Gen - (8 GB/256 ...</td>\n",
       "      <td>36990.0</td>\n",
       "      <td>Intel Core i3 Processor (11th Gen)8 GB DDR4 RA...</td>\n",
       "      <td>Intel Core i3 Processor</td>\n",
       "      <td>8</td>\n",
       "      <td>DDR4</td>\n",
       "      <td>Windows</td>\n",
       "      <td>256 GB SSD</td>\n",
       "      <td>Lenovo</td>\n",
       "      <td>14.0</td>\n",
       "    </tr>\n",
       "    <tr>\n",
       "      <th>1</th>\n",
       "      <td>Lenovo IdeaPad 3 Core i3 11th Gen - (8 GB/512 ...</td>\n",
       "      <td>39990.0</td>\n",
       "      <td>Intel Core i3 Processor (11th Gen)8 GB DDR4 RA...</td>\n",
       "      <td>Intel Core i3 Processor</td>\n",
       "      <td>8</td>\n",
       "      <td>DDR4</td>\n",
       "      <td>Windows</td>\n",
       "      <td>512 GB SSD</td>\n",
       "      <td>Lenovo</td>\n",
       "      <td>15.6</td>\n",
       "    </tr>\n",
       "    <tr>\n",
       "      <th>2</th>\n",
       "      <td>ASUS VivoBook 15 (2022) Core i3 10th Gen - (8 ...</td>\n",
       "      <td>32990.0</td>\n",
       "      <td>Intel Core i3 Processor (10th Gen)8 GB DDR4 RA...</td>\n",
       "      <td>Intel Core i3 Processor</td>\n",
       "      <td>8</td>\n",
       "      <td>DDR4</td>\n",
       "      <td>Windows</td>\n",
       "      <td>512 GB SSD</td>\n",
       "      <td>ASUS</td>\n",
       "      <td>15.6</td>\n",
       "    </tr>\n",
       "    <tr>\n",
       "      <th>3</th>\n",
       "      <td>HP Pavilion Ryzen 5 Hexa Core AMD R5-5600H - (...</td>\n",
       "      <td>49990.0</td>\n",
       "      <td>AMD Ryzen 5 Hexa Core Processor8 GB DDR4 RAM64...</td>\n",
       "      <td>AMD Ryzen 5 Hexa Core Processor</td>\n",
       "      <td>8</td>\n",
       "      <td>DDR4</td>\n",
       "      <td>Windows</td>\n",
       "      <td>512 GB SSD</td>\n",
       "      <td>HP</td>\n",
       "      <td>15.6</td>\n",
       "    </tr>\n",
       "    <tr>\n",
       "      <th>4</th>\n",
       "      <td>ASUS TUF Gaming F15 Core i5 10th Gen - (8 GB/5...</td>\n",
       "      <td>49990.0</td>\n",
       "      <td>Intel Core i5 Processor (10th Gen)8 GB DDR4 RA...</td>\n",
       "      <td>Intel Core i5 Processor</td>\n",
       "      <td>8</td>\n",
       "      <td>DDR4</td>\n",
       "      <td>Windows</td>\n",
       "      <td>512 GB SSD</td>\n",
       "      <td>ASUS</td>\n",
       "      <td>15.6</td>\n",
       "    </tr>\n",
       "  </tbody>\n",
       "</table>\n",
       "</div>"
      ],
      "text/plain": [
       "                                             Product      MRP  \\\n",
       "0  Lenovo IdeaPad 3 Core i3 11th Gen - (8 GB/256 ...  36990.0   \n",
       "1  Lenovo IdeaPad 3 Core i3 11th Gen - (8 GB/512 ...  39990.0   \n",
       "2  ASUS VivoBook 15 (2022) Core i3 10th Gen - (8 ...  32990.0   \n",
       "3  HP Pavilion Ryzen 5 Hexa Core AMD R5-5600H - (...  49990.0   \n",
       "4  ASUS TUF Gaming F15 Core i5 10th Gen - (8 GB/5...  49990.0   \n",
       "\n",
       "                                             Feature  \\\n",
       "0  Intel Core i3 Processor (11th Gen)8 GB DDR4 RA...   \n",
       "1  Intel Core i3 Processor (11th Gen)8 GB DDR4 RA...   \n",
       "2  Intel Core i3 Processor (10th Gen)8 GB DDR4 RA...   \n",
       "3  AMD Ryzen 5 Hexa Core Processor8 GB DDR4 RAM64...   \n",
       "4  Intel Core i5 Processor (10th Gen)8 GB DDR4 RA...   \n",
       "\n",
       "                         Processor  RAM RAMType       OS     Storage   Brand  \\\n",
       "0          Intel Core i3 Processor    8    DDR4  Windows  256 GB SSD  Lenovo   \n",
       "1          Intel Core i3 Processor    8    DDR4  Windows  512 GB SSD  Lenovo   \n",
       "2          Intel Core i3 Processor    8    DDR4  Windows  512 GB SSD    ASUS   \n",
       "3  AMD Ryzen 5 Hexa Core Processor    8    DDR4  Windows  512 GB SSD      HP   \n",
       "4          Intel Core i5 Processor    8    DDR4  Windows  512 GB SSD    ASUS   \n",
       "\n",
       "   ScreenSize  \n",
       "0        14.0  \n",
       "1        15.6  \n",
       "2        15.6  \n",
       "3        15.6  \n",
       "4        15.6  "
      ]
     },
     "execution_count": 60,
     "metadata": {},
     "output_type": "execute_result"
    }
   ],
   "source": [
    "df.head()"
   ]
  },
  {
   "cell_type": "markdown",
   "id": "81f04211",
   "metadata": {},
   "source": [
    "##### Detecting the Outliers:"
   ]
  },
  {
   "cell_type": "code",
   "execution_count": 61,
   "id": "0f70e3b5",
   "metadata": {},
   "outputs": [
    {
     "data": {
      "image/png": "[encoded data removed]",
      "text/plain": [
       "<Figure size 432x288 with 1 Axes>"
      ]
     },
     "metadata": {
      "needs_background": "light"
     },
     "output_type": "display_data"
    }
   ],
   "source": [
    "sns.histplot(df['MRP'])\n",
    "plt.show()"
   ]
  },
  {
   "cell_type": "code",
   "execution_count": 62,
   "id": "9a1b754b",
   "metadata": {},
   "outputs": [
    {
     "data": {
      "text/plain": [
       "<AxesSubplot:>"
      ]
     },
     "execution_count": 62,
     "metadata": {},
     "output_type": "execute_result"
    },
    {
     "data": {
      "image/png": "[encoded data removed]",
      "text/plain": [
       "<Figure size 432x288 with 1 Axes>"
      ]
     },
     "metadata": {
      "needs_background": "light"
     },
     "output_type": "display_data"
    }
   ],
   "source": [
    "df['MRP'].plot(kind = 'box')"
   ]
  },
  {
   "cell_type": "markdown",
   "id": "6c67b149",
   "metadata": {},
   "source": [
    "##### ANALYSING THE MRP FEATURE: 5-point summary"
   ]
  },
  {
   "cell_type": "code",
   "execution_count": 63,
   "id": "d9c6fa35",
   "metadata": {},
   "outputs": [
    {
     "data": {
      "text/plain": [
       "80513.64326647564"
      ]
     },
     "execution_count": 63,
     "metadata": {},
     "output_type": "execute_result"
    }
   ],
   "source": [
    "df['MRP'].mean()"
   ]
  },
  {
   "cell_type": "code",
   "execution_count": 64,
   "id": "bedcd610",
   "metadata": {},
   "outputs": [
    {
     "data": {
      "text/plain": [
       "59890.0"
      ]
     },
     "execution_count": 64,
     "metadata": {},
     "output_type": "execute_result"
    }
   ],
   "source": [
    "df['MRP'].median()"
   ]
  },
  {
   "cell_type": "code",
   "execution_count": 65,
   "id": "23f88dfd",
   "metadata": {},
   "outputs": [
    {
     "data": {
      "text/plain": [
       "15990.0"
      ]
     },
     "execution_count": 65,
     "metadata": {},
     "output_type": "execute_result"
    }
   ],
   "source": [
    "df['MRP'].min()"
   ]
  },
  {
   "cell_type": "code",
   "execution_count": 66,
   "id": "0541d106",
   "metadata": {},
   "outputs": [
    {
     "data": {
      "text/plain": [
       "434830.0"
      ]
     },
     "execution_count": 66,
     "metadata": {},
     "output_type": "execute_result"
    }
   ],
   "source": [
    "df['MRP'].max()"
   ]
  },
  {
   "cell_type": "code",
   "execution_count": 67,
   "id": "69e43def",
   "metadata": {},
   "outputs": [
    {
     "data": {
      "text/plain": [
       "59891.91392736255"
      ]
     },
     "execution_count": 67,
     "metadata": {},
     "output_type": "execute_result"
    }
   ],
   "source": [
    "df['MRP'].std()"
   ]
  },
  {
   "cell_type": "markdown",
   "id": "e16be75b",
   "metadata": {},
   "source": [
    "##### Treating the Outliers:"
   ]
  },
  {
   "cell_type": "code",
   "execution_count": 68,
   "id": "7b68762c",
   "metadata": {},
   "outputs": [
    {
     "name": "stdout",
     "output_type": "stream",
     "text": [
      "39990.0\n",
      "89990.0\n"
     ]
    }
   ],
   "source": [
    "print(df['MRP'].quantile(0.25))\n",
    "\n",
    "print(df['MRP'].quantile(0.75))"
   ]
  },
  {
   "cell_type": "code",
   "execution_count": 69,
   "id": "bf641ecd",
   "metadata": {},
   "outputs": [
    {
     "data": {
      "image/png": "[encoded data removed]",
      "text/plain": [
       "<Figure size 576x432 with 1 Axes>"
      ]
     },
     "metadata": {
      "needs_background": "light"
     },
     "output_type": "display_data"
    }
   ],
   "source": [
    "df.MRP.plot(kind='kde', figsize=(8,6))\n",
    "plt.show()"
   ]
  },
  {
   "cell_type": "code",
   "execution_count": 70,
   "id": "225fc8ff",
   "metadata": {},
   "outputs": [
    {
     "name": "stderr",
     "output_type": "stream",
     "text": [
      "C:\\Users\\Admin\\anaconda3\\lib\\site-packages\\seaborn\\distributions.py:2619: FutureWarning: `distplot` is a deprecated function and will be removed in a future version. Please adapt your code to use either `displot` (a figure-level function with similar flexibility) or `histplot` (an axes-level function for histograms).\n",
      "  warnings.warn(msg, FutureWarning)\n"
     ]
    },
    {
     "data": {
      "image/png": "[encoded data removed]",
      "text/plain": [
       "<Figure size 432x288 with 1 Axes>"
      ]
     },
     "metadata": {
      "needs_background": "light"
     },
     "output_type": "display_data"
    }
   ],
   "source": [
    "log = df.MRP.apply(np.log1p)\n",
    "sns.distplot(log)\n",
    "plt.show()"
   ]
  },
  {
   "cell_type": "code",
   "execution_count": 71,
   "id": "2b7cf3fc",
   "metadata": {},
   "outputs": [
    {
     "data": {
      "image/png": "[encoded data removed]",
      "text/plain": [
       "<Figure size 432x288 with 1 Axes>"
      ]
     },
     "metadata": {
      "needs_background": "light"
     },
     "output_type": "display_data"
    }
   ],
   "source": [
    "# # clean_df = df[df.MRP <= 400000]\n",
    "# clean_df['MRP'].plot(kind = 'box')\n",
    "log.plot(kind='box')\n",
    "plt.show()"
   ]
  },
  {
   "cell_type": "code",
   "execution_count": 72,
   "id": "5c4f754e",
   "metadata": {},
   "outputs": [
    {
     "name": "stderr",
     "output_type": "stream",
     "text": [
      "C:\\Users\\Admin\\anaconda3\\lib\\site-packages\\seaborn\\distributions.py:2619: FutureWarning: `distplot` is a deprecated function and will be removed in a future version. Please adapt your code to use either `displot` (a figure-level function with similar flexibility) or `histplot` (an axes-level function for histograms).\n",
      "  warnings.warn(msg, FutureWarning)\n"
     ]
    },
    {
     "data": {
      "image/png": "[encoded data removed]",
      "text/plain": [
       "<Figure size 432x288 with 1 Axes>"
      ]
     },
     "metadata": {
      "needs_background": "light"
     },
     "output_type": "display_data"
    }
   ],
   "source": [
    "reci = df.MRP.apply(np.reciprocal)\n",
    "sns.distplot(reci)\n",
    "plt.show()"
   ]
  },
  {
   "cell_type": "code",
   "execution_count": 73,
   "id": "4e5ab48b",
   "metadata": {},
   "outputs": [
    {
     "data": {
      "image/png": "[encoded data removed]",
      "text/plain": [
       "<Figure size 432x288 with 1 Axes>"
      ]
     },
     "metadata": {
      "needs_background": "light"
     },
     "output_type": "display_data"
    }
   ],
   "source": [
    "reci.plot(kind='box')\n",
    "plt.show()"
   ]
  },
  {
   "cell_type": "code",
   "execution_count": 74,
   "id": "6e32ff4a",
   "metadata": {},
   "outputs": [
    {
     "name": "stderr",
     "output_type": "stream",
     "text": [
      "C:\\Users\\Admin\\anaconda3\\lib\\site-packages\\seaborn\\distributions.py:2619: FutureWarning: `distplot` is a deprecated function and will be removed in a future version. Please adapt your code to use either `displot` (a figure-level function with similar flexibility) or `histplot` (an axes-level function for histograms).\n",
      "  warnings.warn(msg, FutureWarning)\n"
     ]
    },
    {
     "data": {
      "image/png": "[encoded data removed]",
      "text/plain": [
       "<Figure size 432x288 with 1 Axes>"
      ]
     },
     "metadata": {
      "needs_background": "light"
     },
     "output_type": "display_data"
    }
   ],
   "source": [
    "squ = df.MRP.apply(np.square)\n",
    "sns.distplot(squ)\n",
    "plt.show()\n"
   ]
  },
  {
   "cell_type": "code",
   "execution_count": 75,
   "id": "dba5b749",
   "metadata": {},
   "outputs": [
    {
     "data": {
      "image/png": "[encoded data removed]",
      "text/plain": [
       "<Figure size 432x288 with 1 Axes>"
      ]
     },
     "metadata": {
      "needs_background": "light"
     },
     "output_type": "display_data"
    }
   ],
   "source": [
    "squ.plot(kind='box')\n",
    "plt.show()"
   ]
  },
  {
   "cell_type": "code",
   "execution_count": 76,
   "id": "36760df8",
   "metadata": {},
   "outputs": [],
   "source": [
    "df['MRP'] = log"
   ]
  },
  {
   "cell_type": "code",
   "execution_count": 77,
   "id": "b6cb56af",
   "metadata": {},
   "outputs": [
    {
     "name": "stderr",
     "output_type": "stream",
     "text": [
      "C:\\Users\\Admin\\anaconda3\\lib\\site-packages\\seaborn\\_decorators.py:36: FutureWarning: Pass the following variable as a keyword arg: x. From version 0.12, the only valid positional argument will be `data`, and passing other arguments without an explicit keyword will result in an error or misinterpretation.\n",
      "  warnings.warn(\n"
     ]
    },
    {
     "data": {
      "image/png": "[encoded data removed]",
      "text/plain": [
       "<Figure size 576x360 with 1 Axes>"
      ]
     },
     "metadata": {
      "needs_background": "light"
     },
     "output_type": "display_data"
    }
   ],
   "source": [
    "plt.figure(figsize=(8,5))\n",
    "sns.boxplot(df.MRP)\n",
    "plt.show()\n"
   ]
  },
  {
   "cell_type": "code",
   "execution_count": 78,
   "id": "cc1dd2d0",
   "metadata": {},
   "outputs": [
    {
     "name": "stderr",
     "output_type": "stream",
     "text": [
      "C:\\Users\\Admin\\anaconda3\\lib\\site-packages\\seaborn\\distributions.py:2619: FutureWarning: `distplot` is a deprecated function and will be removed in a future version. Please adapt your code to use either `displot` (a figure-level function with similar flexibility) or `histplot` (an axes-level function for histograms).\n",
      "  warnings.warn(msg, FutureWarning)\n"
     ]
    },
    {
     "data": {
      "image/png": "[encoded data removed]",
      "text/plain": [
       "<Figure size 576x360 with 1 Axes>"
      ]
     },
     "metadata": {
      "needs_background": "light"
     },
     "output_type": "display_data"
    }
   ],
   "source": [
    "plt.figure(figsize=(8,5))\n",
    "sns.distplot(df.MRP)\n",
    "plt.show()"
   ]
  },
  {
   "cell_type": "code",
   "execution_count": 79,
   "id": "b1bb5b72",
   "metadata": {},
   "outputs": [
    {
     "data": {
      "text/plain": [
       "<AxesSubplot:>"
      ]
     },
     "execution_count": 79,
     "metadata": {},
     "output_type": "execute_result"
    },
    {
     "data": {
      "image/png": "[encoded data removed]",
      "text/plain": [
       "<Figure size 432x288 with 1 Axes>"
      ]
     },
     "metadata": {
      "needs_background": "light"
     },
     "output_type": "display_data"
    }
   ],
   "source": [
    "# 1.5 * IQR \n",
    "\n",
    "q1 = df['MRP'].quantile(0.25)\n",
    "q3 = df['MRP'].quantile(0.75)\n",
    "\n",
    "IQR = q3 - q1\n",
    "\n",
    "mrp_lower_bound = q1 - 1.5 * IQR\n",
    "mrp_upper_bound = q3 + 1.5 * IQR\n",
    "\n",
    "clean_df_2 = df[(df['MRP'] >= mrp_lower_bound) & (df['MRP'] <= mrp_upper_bound)]\n",
    "\n",
    "clean_df_2['MRP'].plot(kind='box')"
   ]
  },
  {
   "cell_type": "code",
   "execution_count": 80,
   "id": "2c8dafe0",
   "metadata": {},
   "outputs": [
    {
     "data": {
      "text/plain": [
       "<AxesSubplot:xlabel='MRP', ylabel='Density'>"
      ]
     },
     "execution_count": 80,
     "metadata": {},
     "output_type": "execute_result"
    },
    {
     "data": {
      "image/png": "[encoded data removed]",
      "text/plain": [
       "<Figure size 432x288 with 1 Axes>"
      ]
     },
     "metadata": {
      "needs_background": "light"
     },
     "output_type": "display_data"
    }
   ],
   "source": [
    "sns.kdeplot(clean_df_2['MRP'])"
   ]
  },
  {
   "cell_type": "code",
   "execution_count": 81,
   "id": "c8580203",
   "metadata": {},
   "outputs": [
    {
     "data": {
      "text/plain": [
       "<AxesSubplot:xlabel='Brand', ylabel='MRP'>"
      ]
     },
     "execution_count": 81,
     "metadata": {},
     "output_type": "execute_result"
    },
    {
     "data": {
      "image/png": "[encoded data removed]",
      "text/plain": [
       "<Figure size 1080x504 with 1 Axes>"
      ]
     },
     "metadata": {
      "needs_background": "light"
     },
     "output_type": "display_data"
    }
   ],
   "source": [
    "plt.figure(figsize=(15, 7))\n",
    "sns.boxplot(x = df.Brand, y = clean_df_2.MRP)"
   ]
  },
  {
   "cell_type": "markdown",
   "id": "5329ea21",
   "metadata": {},
   "source": [
    "##### DATA VISUALIZATION:"
   ]
  },
  {
   "cell_type": "code",
   "execution_count": 82,
   "id": "89b79aac",
   "metadata": {},
   "outputs": [
    {
     "data": {
      "text/plain": [
       "<AxesSubplot:xlabel='Brand', ylabel='count'>"
      ]
     },
     "execution_count": 82,
     "metadata": {},
     "output_type": "execute_result"
    },
    {
     "data": {
      "image/png": "[encoded data removed]",
      "text/plain": [
       "<Figure size 1080x504 with 1 Axes>"
      ]
     },
     "metadata": {
      "needs_background": "light"
     },
     "output_type": "display_data"
    }
   ],
   "source": [
    "plt.figure(figsize=(15, 7))\n",
    "sns.countplot(x=df.Brand)"
   ]
  },
  {
   "cell_type": "code",
   "execution_count": 83,
   "id": "55027f8e",
   "metadata": {},
   "outputs": [
    {
     "data": {
      "text/html": [
       "<div>\n",
       "<style scoped>\n",
       "    .dataframe tbody tr th:only-of-type {\n",
       "        vertical-align: middle;\n",
       "    }\n",
       "\n",
       "    .dataframe tbody tr th {\n",
       "        vertical-align: top;\n",
       "    }\n",
       "\n",
       "    .dataframe thead tr th {\n",
       "        text-align: left;\n",
       "    }\n",
       "\n",
       "    .dataframe thead tr:last-of-type th {\n",
       "        text-align: right;\n",
       "    }\n",
       "</style>\n",
       "<table border=\"1\" class=\"dataframe\">\n",
       "  <thead>\n",
       "    <tr>\n",
       "      <th></th>\n",
       "      <th colspan=\"3\" halign=\"left\">MRP</th>\n",
       "    </tr>\n",
       "    <tr>\n",
       "      <th></th>\n",
       "      <th>min</th>\n",
       "      <th>max</th>\n",
       "      <th>mean</th>\n",
       "    </tr>\n",
       "    <tr>\n",
       "      <th>Brand</th>\n",
       "      <th></th>\n",
       "      <th></th>\n",
       "      <th></th>\n",
       "    </tr>\n",
       "  </thead>\n",
       "  <tbody>\n",
       "    <tr>\n",
       "      <th>ALIENWARE</th>\n",
       "      <td>12.206028</td>\n",
       "      <td>12.752432</td>\n",
       "      <td>12.411960</td>\n",
       "    </tr>\n",
       "    <tr>\n",
       "      <th>APPLE</th>\n",
       "      <td>11.396291</td>\n",
       "      <td>11.918331</td>\n",
       "      <td>11.575958</td>\n",
       "    </tr>\n",
       "    <tr>\n",
       "      <th>ASUS</th>\n",
       "      <td>10.085434</td>\n",
       "      <td>12.799375</td>\n",
       "      <td>11.508401</td>\n",
       "    </tr>\n",
       "    <tr>\n",
       "      <th>DELL</th>\n",
       "      <td>10.323151</td>\n",
       "      <td>12.982713</td>\n",
       "      <td>11.032823</td>\n",
       "    </tr>\n",
       "    <tr>\n",
       "      <th>GIGABYTE</th>\n",
       "      <td>11.211699</td>\n",
       "      <td>11.211699</td>\n",
       "      <td>11.211699</td>\n",
       "    </tr>\n",
       "    <tr>\n",
       "      <th>HP</th>\n",
       "      <td>10.165506</td>\n",
       "      <td>12.206028</td>\n",
       "      <td>10.990843</td>\n",
       "    </tr>\n",
       "    <tr>\n",
       "      <th>Infinix</th>\n",
       "      <td>9.951849</td>\n",
       "      <td>10.877877</td>\n",
       "      <td>10.479615</td>\n",
       "    </tr>\n",
       "    <tr>\n",
       "      <th>Lenovo</th>\n",
       "      <td>9.877708</td>\n",
       "      <td>11.970293</td>\n",
       "      <td>10.679256</td>\n",
       "    </tr>\n",
       "    <tr>\n",
       "      <th>MSI</th>\n",
       "      <td>10.691740</td>\n",
       "      <td>12.873879</td>\n",
       "      <td>11.541262</td>\n",
       "    </tr>\n",
       "    <tr>\n",
       "      <th>Nokia</th>\n",
       "      <td>10.829550</td>\n",
       "      <td>10.829550</td>\n",
       "      <td>10.829550</td>\n",
       "    </tr>\n",
       "    <tr>\n",
       "      <th>RedmiBook</th>\n",
       "      <td>10.373210</td>\n",
       "      <td>10.596410</td>\n",
       "      <td>10.589210</td>\n",
       "    </tr>\n",
       "    <tr>\n",
       "      <th>SAMSUNG</th>\n",
       "      <td>11.001950</td>\n",
       "      <td>11.001950</td>\n",
       "      <td>11.001950</td>\n",
       "    </tr>\n",
       "    <tr>\n",
       "      <th>Ultimus</th>\n",
       "      <td>9.679781</td>\n",
       "      <td>9.903037</td>\n",
       "      <td>9.791409</td>\n",
       "    </tr>\n",
       "    <tr>\n",
       "      <th>Vaio</th>\n",
       "      <td>10.621108</td>\n",
       "      <td>10.621108</td>\n",
       "      <td>10.621108</td>\n",
       "    </tr>\n",
       "    <tr>\n",
       "      <th>acer</th>\n",
       "      <td>10.126271</td>\n",
       "      <td>11.954343</td>\n",
       "      <td>10.968831</td>\n",
       "    </tr>\n",
       "    <tr>\n",
       "      <th>realme</th>\n",
       "      <td>10.757711</td>\n",
       "      <td>11.082143</td>\n",
       "      <td>10.893196</td>\n",
       "    </tr>\n",
       "  </tbody>\n",
       "</table>\n",
       "</div>"
      ],
      "text/plain": [
       "                 MRP                      \n",
       "                 min        max       mean\n",
       "Brand                                     \n",
       "ALIENWARE  12.206028  12.752432  12.411960\n",
       "APPLE      11.396291  11.918331  11.575958\n",
       "ASUS       10.085434  12.799375  11.508401\n",
       "DELL       10.323151  12.982713  11.032823\n",
       "GIGABYTE   11.211699  11.211699  11.211699\n",
       "HP         10.165506  12.206028  10.990843\n",
       "Infinix     9.951849  10.877877  10.479615\n",
       "Lenovo      9.877708  11.970293  10.679256\n",
       "MSI        10.691740  12.873879  11.541262\n",
       "Nokia      10.829550  10.829550  10.829550\n",
       "RedmiBook  10.373210  10.596410  10.589210\n",
       "SAMSUNG    11.001950  11.001950  11.001950\n",
       "Ultimus     9.679781   9.903037   9.791409\n",
       "Vaio       10.621108  10.621108  10.621108\n",
       "acer       10.126271  11.954343  10.968831\n",
       "realme     10.757711  11.082143  10.893196"
      ]
     },
     "execution_count": 83,
     "metadata": {},
     "output_type": "execute_result"
    }
   ],
   "source": [
    "df.groupby(['Brand']).agg({'MRP' : ['min', 'max', 'mean']})"
   ]
  },
  {
   "cell_type": "code",
   "execution_count": 84,
   "id": "f06dac90",
   "metadata": {},
   "outputs": [
    {
     "data": {
      "text/plain": [
       "(array([ 0,  1,  2,  3,  4,  5,  6,  7,  8,  9, 10, 11, 12, 13, 14, 15]),\n",
       " [Text(0, 0, 'Lenovo'),\n",
       "  Text(1, 0, 'ASUS'),\n",
       "  Text(2, 0, 'HP'),\n",
       "  Text(3, 0, 'DELL'),\n",
       "  Text(4, 0, 'RedmiBook'),\n",
       "  Text(5, 0, 'realme'),\n",
       "  Text(6, 0, 'acer'),\n",
       "  Text(7, 0, 'MSI'),\n",
       "  Text(8, 0, 'APPLE'),\n",
       "  Text(9, 0, 'Infinix'),\n",
       "  Text(10, 0, 'Ultimus'),\n",
       "  Text(11, 0, 'SAMSUNG'),\n",
       "  Text(12, 0, 'Vaio'),\n",
       "  Text(13, 0, 'GIGABYTE'),\n",
       "  Text(14, 0, 'Nokia'),\n",
       "  Text(15, 0, 'ALIENWARE')])"
      ]
     },
     "execution_count": 84,
     "metadata": {},
     "output_type": "execute_result"
    },
    {
     "data": {
      "image/png": "[encoded data removed]",
      "text/plain": [
       "<Figure size 1080x504 with 1 Axes>"
      ]
     },
     "metadata": {
      "needs_background": "light"
     },
     "output_type": "display_data"
    }
   ],
   "source": [
    "plt.figure(figsize=(15, 7))\n",
    "sns.barplot(x = df['Brand'],y = clean_df_2['MRP'])\n",
    "plt.xticks(rotation = 90)"
   ]
  },
  {
   "cell_type": "code",
   "execution_count": 85,
   "id": "9b32fc71",
   "metadata": {},
   "outputs": [
    {
     "data": {
      "text/plain": [
       "<AxesSubplot:xlabel='Brand'>"
      ]
     },
     "execution_count": 85,
     "metadata": {},
     "output_type": "execute_result"
    },
    {
     "data": {
      "image/png": "[encoded data removed]",
      "text/plain": [
       "<Figure size 1080x504 with 1 Axes>"
      ]
     },
     "metadata": {
      "needs_background": "light"
     },
     "output_type": "display_data"
    }
   ],
   "source": [
    "plt.figure(figsize=(15, 7))\n",
    "df.groupby(['Brand'])['MRP'].min().plot(kind = 'bar')"
   ]
  },
  {
   "cell_type": "code",
   "execution_count": 86,
   "id": "7845a791",
   "metadata": {},
   "outputs": [
    {
     "data": {
      "text/plain": [
       "Intel Core i5 Processor            150\n",
       "Intel Core i3 Processor            129\n",
       "AMD Ryzen 9 Octa Core Processor     87\n",
       "AMD Ryzen 7 Octa Core Processor     79\n",
       "Intel Core i7 Processor             49\n",
       "Name: Processor, dtype: int64"
      ]
     },
     "execution_count": 86,
     "metadata": {},
     "output_type": "execute_result"
    }
   ],
   "source": [
    "df['Processor'].value_counts().head()"
   ]
  },
  {
   "cell_type": "code",
   "execution_count": 87,
   "id": "b5258124",
   "metadata": {},
   "outputs": [],
   "source": [
    "df['ProcessorName'] = df['Processor'].apply(lambda x:\" \".join(x.split()[0:3]))"
   ]
  },
  {
   "cell_type": "code",
   "execution_count": 88,
   "id": "87297264",
   "metadata": {},
   "outputs": [
    {
     "data": {
      "text/html": [
       "<div>\n",
       "<style scoped>\n",
       "    .dataframe tbody tr th:only-of-type {\n",
       "        vertical-align: middle;\n",
       "    }\n",
       "\n",
       "    .dataframe tbody tr th {\n",
       "        vertical-align: top;\n",
       "    }\n",
       "\n",
       "    .dataframe thead th {\n",
       "        text-align: right;\n",
       "    }\n",
       "</style>\n",
       "<table border=\"1\" class=\"dataframe\">\n",
       "  <thead>\n",
       "    <tr style=\"text-align: right;\">\n",
       "      <th></th>\n",
       "      <th>Product</th>\n",
       "      <th>MRP</th>\n",
       "      <th>Feature</th>\n",
       "      <th>Processor</th>\n",
       "      <th>RAM</th>\n",
       "      <th>RAMType</th>\n",
       "      <th>OS</th>\n",
       "      <th>Storage</th>\n",
       "      <th>Brand</th>\n",
       "      <th>ScreenSize</th>\n",
       "      <th>ProcessorName</th>\n",
       "    </tr>\n",
       "  </thead>\n",
       "  <tbody>\n",
       "    <tr>\n",
       "      <th>0</th>\n",
       "      <td>Lenovo IdeaPad 3 Core i3 11th Gen - (8 GB/256 ...</td>\n",
       "      <td>10.518430</td>\n",
       "      <td>Intel Core i3 Processor (11th Gen)8 GB DDR4 RA...</td>\n",
       "      <td>Intel Core i3 Processor</td>\n",
       "      <td>8</td>\n",
       "      <td>DDR4</td>\n",
       "      <td>Windows</td>\n",
       "      <td>256 GB SSD</td>\n",
       "      <td>Lenovo</td>\n",
       "      <td>14.0</td>\n",
       "      <td>Intel Core i3</td>\n",
       "    </tr>\n",
       "    <tr>\n",
       "      <th>1</th>\n",
       "      <td>Lenovo IdeaPad 3 Core i3 11th Gen - (8 GB/512 ...</td>\n",
       "      <td>10.596410</td>\n",
       "      <td>Intel Core i3 Processor (11th Gen)8 GB DDR4 RA...</td>\n",
       "      <td>Intel Core i3 Processor</td>\n",
       "      <td>8</td>\n",
       "      <td>DDR4</td>\n",
       "      <td>Windows</td>\n",
       "      <td>512 GB SSD</td>\n",
       "      <td>Lenovo</td>\n",
       "      <td>15.6</td>\n",
       "      <td>Intel Core i3</td>\n",
       "    </tr>\n",
       "    <tr>\n",
       "      <th>2</th>\n",
       "      <td>ASUS VivoBook 15 (2022) Core i3 10th Gen - (8 ...</td>\n",
       "      <td>10.403990</td>\n",
       "      <td>Intel Core i3 Processor (10th Gen)8 GB DDR4 RA...</td>\n",
       "      <td>Intel Core i3 Processor</td>\n",
       "      <td>8</td>\n",
       "      <td>DDR4</td>\n",
       "      <td>Windows</td>\n",
       "      <td>512 GB SSD</td>\n",
       "      <td>ASUS</td>\n",
       "      <td>15.6</td>\n",
       "      <td>Intel Core i3</td>\n",
       "    </tr>\n",
       "    <tr>\n",
       "      <th>3</th>\n",
       "      <td>HP Pavilion Ryzen 5 Hexa Core AMD R5-5600H - (...</td>\n",
       "      <td>10.819598</td>\n",
       "      <td>AMD Ryzen 5 Hexa Core Processor8 GB DDR4 RAM64...</td>\n",
       "      <td>AMD Ryzen 5 Hexa Core Processor</td>\n",
       "      <td>8</td>\n",
       "      <td>DDR4</td>\n",
       "      <td>Windows</td>\n",
       "      <td>512 GB SSD</td>\n",
       "      <td>HP</td>\n",
       "      <td>15.6</td>\n",
       "      <td>AMD Ryzen 5</td>\n",
       "    </tr>\n",
       "    <tr>\n",
       "      <th>4</th>\n",
       "      <td>ASUS TUF Gaming F15 Core i5 10th Gen - (8 GB/5...</td>\n",
       "      <td>10.819598</td>\n",
       "      <td>Intel Core i5 Processor (10th Gen)8 GB DDR4 RA...</td>\n",
       "      <td>Intel Core i5 Processor</td>\n",
       "      <td>8</td>\n",
       "      <td>DDR4</td>\n",
       "      <td>Windows</td>\n",
       "      <td>512 GB SSD</td>\n",
       "      <td>ASUS</td>\n",
       "      <td>15.6</td>\n",
       "      <td>Intel Core i5</td>\n",
       "    </tr>\n",
       "  </tbody>\n",
       "</table>\n",
       "</div>"
      ],
      "text/plain": [
       "                                             Product        MRP  \\\n",
       "0  Lenovo IdeaPad 3 Core i3 11th Gen - (8 GB/256 ...  10.518430   \n",
       "1  Lenovo IdeaPad 3 Core i3 11th Gen - (8 GB/512 ...  10.596410   \n",
       "2  ASUS VivoBook 15 (2022) Core i3 10th Gen - (8 ...  10.403990   \n",
       "3  HP Pavilion Ryzen 5 Hexa Core AMD R5-5600H - (...  10.819598   \n",
       "4  ASUS TUF Gaming F15 Core i5 10th Gen - (8 GB/5...  10.819598   \n",
       "\n",
       "                                             Feature  \\\n",
       "0  Intel Core i3 Processor (11th Gen)8 GB DDR4 RA...   \n",
       "1  Intel Core i3 Processor (11th Gen)8 GB DDR4 RA...   \n",
       "2  Intel Core i3 Processor (10th Gen)8 GB DDR4 RA...   \n",
       "3  AMD Ryzen 5 Hexa Core Processor8 GB DDR4 RAM64...   \n",
       "4  Intel Core i5 Processor (10th Gen)8 GB DDR4 RA...   \n",
       "\n",
       "                         Processor  RAM RAMType       OS     Storage   Brand  \\\n",
       "0          Intel Core i3 Processor    8    DDR4  Windows  256 GB SSD  Lenovo   \n",
       "1          Intel Core i3 Processor    8    DDR4  Windows  512 GB SSD  Lenovo   \n",
       "2          Intel Core i3 Processor    8    DDR4  Windows  512 GB SSD    ASUS   \n",
       "3  AMD Ryzen 5 Hexa Core Processor    8    DDR4  Windows  512 GB SSD      HP   \n",
       "4          Intel Core i5 Processor    8    DDR4  Windows  512 GB SSD    ASUS   \n",
       "\n",
       "   ScreenSize  ProcessorName  \n",
       "0        14.0  Intel Core i3  \n",
       "1        15.6  Intel Core i3  \n",
       "2        15.6  Intel Core i3  \n",
       "3        15.6    AMD Ryzen 5  \n",
       "4        15.6  Intel Core i5  "
      ]
     },
     "execution_count": 88,
     "metadata": {},
     "output_type": "execute_result"
    }
   ],
   "source": [
    "df.head()"
   ]
  },
  {
   "cell_type": "code",
   "execution_count": 89,
   "id": "50e8e0d4",
   "metadata": {},
   "outputs": [],
   "source": [
    "def fetch_processor(text):\n",
    "    if text == 'Intel Core i7' or 'Intel Core i5' or 'Intel Core i3':\n",
    "        return text\n",
    "    else:\n",
    "        if text.split([0]) == 'Intel':\n",
    "            return 'other Intel Processor'\n",
    "        else:\n",
    "            return 'AMD Processor'"
   ]
  },
  {
   "cell_type": "code",
   "execution_count": 90,
   "id": "d7165cea",
   "metadata": {},
   "outputs": [],
   "source": [
    "df['ProcessorName'] = df['Processor'].apply(fetch_processor)"
   ]
  },
  {
   "cell_type": "code",
   "execution_count": 91,
   "id": "416305fb",
   "metadata": {},
   "outputs": [
    {
     "data": {
      "text/plain": [
       "<AxesSubplot:>"
      ]
     },
     "execution_count": 91,
     "metadata": {},
     "output_type": "execute_result"
    },
    {
     "data": {
      "image/png": "[encoded data removed]",
      "text/plain": [
       "<Figure size 432x288 with 1 Axes>"
      ]
     },
     "metadata": {
      "needs_background": "light"
     },
     "output_type": "display_data"
    }
   ],
   "source": [
    "df['ProcessorName'].value_counts().plot(kind = 'bar')"
   ]
  },
  {
   "cell_type": "code",
   "execution_count": 92,
   "id": "b3cb907e",
   "metadata": {},
   "outputs": [
    {
     "data": {
      "image/png": "[encoded data removed]",
      "text/plain": [
       "<Figure size 432x288 with 1 Axes>"
      ]
     },
     "metadata": {
      "needs_background": "light"
     },
     "output_type": "display_data"
    }
   ],
   "source": [
    "sns.barplot(x = df['ProcessorName'],y = clean_df_2['MRP'])\n",
    "plt.xticks(rotation = 90)\n",
    "plt.show()"
   ]
  },
  {
   "cell_type": "code",
   "execution_count": 93,
   "id": "c504a5d6",
   "metadata": {},
   "outputs": [
    {
     "name": "stdout",
     "output_type": "stream",
     "text": [
      "<class 'pandas.core.frame.DataFrame'>\n",
      "Int64Index: 698 entries, 0 to 719\n",
      "Data columns (total 11 columns):\n",
      " #   Column         Non-Null Count  Dtype  \n",
      "---  ------         --------------  -----  \n",
      " 0   Product        698 non-null    object \n",
      " 1   MRP            698 non-null    float64\n",
      " 2   Feature        698 non-null    object \n",
      " 3   Processor      698 non-null    object \n",
      " 4   RAM            698 non-null    int32  \n",
      " 5   RAMType        698 non-null    object \n",
      " 6   OS             698 non-null    object \n",
      " 7   Storage        698 non-null    object \n",
      " 8   Brand          698 non-null    object \n",
      " 9   ScreenSize     698 non-null    float64\n",
      " 10  ProcessorName  698 non-null    object \n",
      "dtypes: float64(2), int32(1), object(8)\n",
      "memory usage: 78.9+ KB\n"
     ]
    }
   ],
   "source": [
    "df.info()"
   ]
  },
  {
   "cell_type": "code",
   "execution_count": 94,
   "id": "44168991",
   "metadata": {},
   "outputs": [
    {
     "data": {
      "text/html": [
       "<div>\n",
       "<style scoped>\n",
       "    .dataframe tbody tr th:only-of-type {\n",
       "        vertical-align: middle;\n",
       "    }\n",
       "\n",
       "    .dataframe tbody tr th {\n",
       "        vertical-align: top;\n",
       "    }\n",
       "\n",
       "    .dataframe thead th {\n",
       "        text-align: right;\n",
       "    }\n",
       "</style>\n",
       "<table border=\"1\" class=\"dataframe\">\n",
       "  <thead>\n",
       "    <tr style=\"text-align: right;\">\n",
       "      <th></th>\n",
       "      <th>Product</th>\n",
       "      <th>MRP</th>\n",
       "      <th>Feature</th>\n",
       "      <th>RAM</th>\n",
       "      <th>RAMType</th>\n",
       "      <th>OS</th>\n",
       "      <th>Storage</th>\n",
       "      <th>Brand</th>\n",
       "      <th>ScreenSize</th>\n",
       "      <th>ProcessorName</th>\n",
       "    </tr>\n",
       "  </thead>\n",
       "  <tbody>\n",
       "    <tr>\n",
       "      <th>0</th>\n",
       "      <td>Lenovo IdeaPad 3 Core i3 11th Gen - (8 GB/256 ...</td>\n",
       "      <td>10.518430</td>\n",
       "      <td>Intel Core i3 Processor (11th Gen)8 GB DDR4 RA...</td>\n",
       "      <td>8</td>\n",
       "      <td>DDR4</td>\n",
       "      <td>Windows</td>\n",
       "      <td>256 GB SSD</td>\n",
       "      <td>Lenovo</td>\n",
       "      <td>14.0</td>\n",
       "      <td>Intel Core i3 Processor</td>\n",
       "    </tr>\n",
       "    <tr>\n",
       "      <th>1</th>\n",
       "      <td>Lenovo IdeaPad 3 Core i3 11th Gen - (8 GB/512 ...</td>\n",
       "      <td>10.596410</td>\n",
       "      <td>Intel Core i3 Processor (11th Gen)8 GB DDR4 RA...</td>\n",
       "      <td>8</td>\n",
       "      <td>DDR4</td>\n",
       "      <td>Windows</td>\n",
       "      <td>512 GB SSD</td>\n",
       "      <td>Lenovo</td>\n",
       "      <td>15.6</td>\n",
       "      <td>Intel Core i3 Processor</td>\n",
       "    </tr>\n",
       "    <tr>\n",
       "      <th>2</th>\n",
       "      <td>ASUS VivoBook 15 (2022) Core i3 10th Gen - (8 ...</td>\n",
       "      <td>10.403990</td>\n",
       "      <td>Intel Core i3 Processor (10th Gen)8 GB DDR4 RA...</td>\n",
       "      <td>8</td>\n",
       "      <td>DDR4</td>\n",
       "      <td>Windows</td>\n",
       "      <td>512 GB SSD</td>\n",
       "      <td>ASUS</td>\n",
       "      <td>15.6</td>\n",
       "      <td>Intel Core i3 Processor</td>\n",
       "    </tr>\n",
       "    <tr>\n",
       "      <th>3</th>\n",
       "      <td>HP Pavilion Ryzen 5 Hexa Core AMD R5-5600H - (...</td>\n",
       "      <td>10.819598</td>\n",
       "      <td>AMD Ryzen 5 Hexa Core Processor8 GB DDR4 RAM64...</td>\n",
       "      <td>8</td>\n",
       "      <td>DDR4</td>\n",
       "      <td>Windows</td>\n",
       "      <td>512 GB SSD</td>\n",
       "      <td>HP</td>\n",
       "      <td>15.6</td>\n",
       "      <td>AMD Ryzen 5 Hexa Core Processor</td>\n",
       "    </tr>\n",
       "    <tr>\n",
       "      <th>4</th>\n",
       "      <td>ASUS TUF Gaming F15 Core i5 10th Gen - (8 GB/5...</td>\n",
       "      <td>10.819598</td>\n",
       "      <td>Intel Core i5 Processor (10th Gen)8 GB DDR4 RA...</td>\n",
       "      <td>8</td>\n",
       "      <td>DDR4</td>\n",
       "      <td>Windows</td>\n",
       "      <td>512 GB SSD</td>\n",
       "      <td>ASUS</td>\n",
       "      <td>15.6</td>\n",
       "      <td>Intel Core i5 Processor</td>\n",
       "    </tr>\n",
       "    <tr>\n",
       "      <th>...</th>\n",
       "      <td>...</td>\n",
       "      <td>...</td>\n",
       "      <td>...</td>\n",
       "      <td>...</td>\n",
       "      <td>...</td>\n",
       "      <td>...</td>\n",
       "      <td>...</td>\n",
       "      <td>...</td>\n",
       "      <td>...</td>\n",
       "      <td>...</td>\n",
       "    </tr>\n",
       "    <tr>\n",
       "      <th>714</th>\n",
       "      <td>HP Pavilion Ryzen 7 Octa Core AMD R7-5800H - (...</td>\n",
       "      <td>11.407576</td>\n",
       "      <td>AMD Ryzen 7 Octa Core Processor16 GB DDR4 RAM6...</td>\n",
       "      <td>16</td>\n",
       "      <td>DDR4</td>\n",
       "      <td>Windows</td>\n",
       "      <td>512 GB SSD</td>\n",
       "      <td>HP</td>\n",
       "      <td>15.6</td>\n",
       "      <td>AMD Ryzen 7 Octa Core Processor</td>\n",
       "    </tr>\n",
       "    <tr>\n",
       "      <th>716</th>\n",
       "      <td>Lenovo IdeaPad Gaming 3 Ryzen 7 Octa Core AMD ...</td>\n",
       "      <td>11.204918</td>\n",
       "      <td>AMD Ryzen 7 Octa Core Processor8 GB DDR4 RAM64...</td>\n",
       "      <td>8</td>\n",
       "      <td>DDR4</td>\n",
       "      <td>Windows</td>\n",
       "      <td>512 GB SSD</td>\n",
       "      <td>Lenovo</td>\n",
       "      <td>15.6</td>\n",
       "      <td>AMD Ryzen 7 Octa Core Processor</td>\n",
       "    </tr>\n",
       "    <tr>\n",
       "      <th>717</th>\n",
       "      <td>ASUS ROG Zephyrus G15 Ryzen 9 Octa Core 6900HS...</td>\n",
       "      <td>12.180709</td>\n",
       "      <td>AMD Ryzen 9 Octa Core Processor16 GB DDR5 RAM6...</td>\n",
       "      <td>16</td>\n",
       "      <td>DDR5</td>\n",
       "      <td>Windows</td>\n",
       "      <td>1 TB SSD</td>\n",
       "      <td>ASUS</td>\n",
       "      <td>15.6</td>\n",
       "      <td>AMD Ryzen 9 Octa Core Processor</td>\n",
       "    </tr>\n",
       "    <tr>\n",
       "      <th>718</th>\n",
       "      <td>ASUS Zenbook Flip 14 OLED (2022) Touch Panel C...</td>\n",
       "      <td>11.743966</td>\n",
       "      <td>Intel Core i7 Processor (12th Gen)16 GB LPDDR5...</td>\n",
       "      <td>16</td>\n",
       "      <td>DDR5</td>\n",
       "      <td>Windows</td>\n",
       "      <td>512 GB SSD</td>\n",
       "      <td>ASUS</td>\n",
       "      <td>14.0</td>\n",
       "      <td>Intel Core i7 Processor</td>\n",
       "    </tr>\n",
       "    <tr>\n",
       "      <th>719</th>\n",
       "      <td>Lenovo Ideapad Slim 3i Core i5 10th Gen - (8 G...</td>\n",
       "      <td>10.839404</td>\n",
       "      <td>Intel Core i5 Processor (10th Gen)8 GB DDR4 RA...</td>\n",
       "      <td>8</td>\n",
       "      <td>DDR4</td>\n",
       "      <td>Windows</td>\n",
       "      <td>1 TB HDD256 GB SSD</td>\n",
       "      <td>Lenovo</td>\n",
       "      <td>15.6</td>\n",
       "      <td>Intel Core i5 Processor</td>\n",
       "    </tr>\n",
       "  </tbody>\n",
       "</table>\n",
       "<p>698 rows × 10 columns</p>\n",
       "</div>"
      ],
      "text/plain": [
       "                                               Product        MRP  \\\n",
       "0    Lenovo IdeaPad 3 Core i3 11th Gen - (8 GB/256 ...  10.518430   \n",
       "1    Lenovo IdeaPad 3 Core i3 11th Gen - (8 GB/512 ...  10.596410   \n",
       "2    ASUS VivoBook 15 (2022) Core i3 10th Gen - (8 ...  10.403990   \n",
       "3    HP Pavilion Ryzen 5 Hexa Core AMD R5-5600H - (...  10.819598   \n",
       "4    ASUS TUF Gaming F15 Core i5 10th Gen - (8 GB/5...  10.819598   \n",
       "..                                                 ...        ...   \n",
       "714  HP Pavilion Ryzen 7 Octa Core AMD R7-5800H - (...  11.407576   \n",
       "716  Lenovo IdeaPad Gaming 3 Ryzen 7 Octa Core AMD ...  11.204918   \n",
       "717  ASUS ROG Zephyrus G15 Ryzen 9 Octa Core 6900HS...  12.180709   \n",
       "718  ASUS Zenbook Flip 14 OLED (2022) Touch Panel C...  11.743966   \n",
       "719  Lenovo Ideapad Slim 3i Core i5 10th Gen - (8 G...  10.839404   \n",
       "\n",
       "                                               Feature  RAM RAMType       OS  \\\n",
       "0    Intel Core i3 Processor (11th Gen)8 GB DDR4 RA...    8    DDR4  Windows   \n",
       "1    Intel Core i3 Processor (11th Gen)8 GB DDR4 RA...    8    DDR4  Windows   \n",
       "2    Intel Core i3 Processor (10th Gen)8 GB DDR4 RA...    8    DDR4  Windows   \n",
       "3    AMD Ryzen 5 Hexa Core Processor8 GB DDR4 RAM64...    8    DDR4  Windows   \n",
       "4    Intel Core i5 Processor (10th Gen)8 GB DDR4 RA...    8    DDR4  Windows   \n",
       "..                                                 ...  ...     ...      ...   \n",
       "714  AMD Ryzen 7 Octa Core Processor16 GB DDR4 RAM6...   16    DDR4  Windows   \n",
       "716  AMD Ryzen 7 Octa Core Processor8 GB DDR4 RAM64...    8    DDR4  Windows   \n",
       "717  AMD Ryzen 9 Octa Core Processor16 GB DDR5 RAM6...   16    DDR5  Windows   \n",
       "718  Intel Core i7 Processor (12th Gen)16 GB LPDDR5...   16    DDR5  Windows   \n",
       "719  Intel Core i5 Processor (10th Gen)8 GB DDR4 RA...    8    DDR4  Windows   \n",
       "\n",
       "                Storage   Brand  ScreenSize                    ProcessorName  \n",
       "0            256 GB SSD  Lenovo        14.0          Intel Core i3 Processor  \n",
       "1            512 GB SSD  Lenovo        15.6          Intel Core i3 Processor  \n",
       "2            512 GB SSD    ASUS        15.6          Intel Core i3 Processor  \n",
       "3            512 GB SSD      HP        15.6  AMD Ryzen 5 Hexa Core Processor  \n",
       "4            512 GB SSD    ASUS        15.6          Intel Core i5 Processor  \n",
       "..                  ...     ...         ...                              ...  \n",
       "714          512 GB SSD      HP        15.6  AMD Ryzen 7 Octa Core Processor  \n",
       "716          512 GB SSD  Lenovo        15.6  AMD Ryzen 7 Octa Core Processor  \n",
       "717            1 TB SSD    ASUS        15.6  AMD Ryzen 9 Octa Core Processor  \n",
       "718          512 GB SSD    ASUS        14.0          Intel Core i7 Processor  \n",
       "719  1 TB HDD256 GB SSD  Lenovo        15.6          Intel Core i5 Processor  \n",
       "\n",
       "[698 rows x 10 columns]"
      ]
     },
     "execution_count": 94,
     "metadata": {},
     "output_type": "execute_result"
    }
   ],
   "source": [
    "df.drop(df.columns[3],axis = 1)"
   ]
  },
  {
   "cell_type": "code",
   "execution_count": 95,
   "id": "74252e55",
   "metadata": {},
   "outputs": [
    {
     "name": "stdout",
     "output_type": "stream",
     "text": [
      "<class 'pandas.core.frame.DataFrame'>\n",
      "Int64Index: 698 entries, 0 to 719\n",
      "Data columns (total 11 columns):\n",
      " #   Column         Non-Null Count  Dtype  \n",
      "---  ------         --------------  -----  \n",
      " 0   Product        698 non-null    object \n",
      " 1   MRP            698 non-null    float64\n",
      " 2   Feature        698 non-null    object \n",
      " 3   Processor      698 non-null    object \n",
      " 4   RAM            698 non-null    int32  \n",
      " 5   RAMType        698 non-null    object \n",
      " 6   OS             698 non-null    object \n",
      " 7   Storage        698 non-null    object \n",
      " 8   Brand          698 non-null    object \n",
      " 9   ScreenSize     698 non-null    float64\n",
      " 10  ProcessorName  698 non-null    object \n",
      "dtypes: float64(2), int32(1), object(8)\n",
      "memory usage: 78.9+ KB\n"
     ]
    }
   ],
   "source": [
    "df.info()"
   ]
  },
  {
   "cell_type": "code",
   "execution_count": 96,
   "id": "dae95916",
   "metadata": {},
   "outputs": [],
   "source": [
    "df1 = df.drop(df.columns[8],axis = 1)"
   ]
  },
  {
   "cell_type": "code",
   "execution_count": 97,
   "id": "cce888ce",
   "metadata": {},
   "outputs": [
    {
     "data": {
      "text/html": [
       "<div>\n",
       "<style scoped>\n",
       "    .dataframe tbody tr th:only-of-type {\n",
       "        vertical-align: middle;\n",
       "    }\n",
       "\n",
       "    .dataframe tbody tr th {\n",
       "        vertical-align: top;\n",
       "    }\n",
       "\n",
       "    .dataframe thead th {\n",
       "        text-align: right;\n",
       "    }\n",
       "</style>\n",
       "<table border=\"1\" class=\"dataframe\">\n",
       "  <thead>\n",
       "    <tr style=\"text-align: right;\">\n",
       "      <th></th>\n",
       "      <th>Product</th>\n",
       "      <th>MRP</th>\n",
       "      <th>Feature</th>\n",
       "      <th>Processor</th>\n",
       "      <th>RAM</th>\n",
       "      <th>RAMType</th>\n",
       "      <th>OS</th>\n",
       "      <th>Storage</th>\n",
       "      <th>ScreenSize</th>\n",
       "      <th>ProcessorName</th>\n",
       "    </tr>\n",
       "  </thead>\n",
       "  <tbody>\n",
       "    <tr>\n",
       "      <th>0</th>\n",
       "      <td>Lenovo IdeaPad 3 Core i3 11th Gen - (8 GB/256 ...</td>\n",
       "      <td>10.518430</td>\n",
       "      <td>Intel Core i3 Processor (11th Gen)8 GB DDR4 RA...</td>\n",
       "      <td>Intel Core i3 Processor</td>\n",
       "      <td>8</td>\n",
       "      <td>DDR4</td>\n",
       "      <td>Windows</td>\n",
       "      <td>256 GB SSD</td>\n",
       "      <td>14.0</td>\n",
       "      <td>Intel Core i3 Processor</td>\n",
       "    </tr>\n",
       "    <tr>\n",
       "      <th>1</th>\n",
       "      <td>Lenovo IdeaPad 3 Core i3 11th Gen - (8 GB/512 ...</td>\n",
       "      <td>10.596410</td>\n",
       "      <td>Intel Core i3 Processor (11th Gen)8 GB DDR4 RA...</td>\n",
       "      <td>Intel Core i3 Processor</td>\n",
       "      <td>8</td>\n",
       "      <td>DDR4</td>\n",
       "      <td>Windows</td>\n",
       "      <td>512 GB SSD</td>\n",
       "      <td>15.6</td>\n",
       "      <td>Intel Core i3 Processor</td>\n",
       "    </tr>\n",
       "    <tr>\n",
       "      <th>2</th>\n",
       "      <td>ASUS VivoBook 15 (2022) Core i3 10th Gen - (8 ...</td>\n",
       "      <td>10.403990</td>\n",
       "      <td>Intel Core i3 Processor (10th Gen)8 GB DDR4 RA...</td>\n",
       "      <td>Intel Core i3 Processor</td>\n",
       "      <td>8</td>\n",
       "      <td>DDR4</td>\n",
       "      <td>Windows</td>\n",
       "      <td>512 GB SSD</td>\n",
       "      <td>15.6</td>\n",
       "      <td>Intel Core i3 Processor</td>\n",
       "    </tr>\n",
       "    <tr>\n",
       "      <th>3</th>\n",
       "      <td>HP Pavilion Ryzen 5 Hexa Core AMD R5-5600H - (...</td>\n",
       "      <td>10.819598</td>\n",
       "      <td>AMD Ryzen 5 Hexa Core Processor8 GB DDR4 RAM64...</td>\n",
       "      <td>AMD Ryzen 5 Hexa Core Processor</td>\n",
       "      <td>8</td>\n",
       "      <td>DDR4</td>\n",
       "      <td>Windows</td>\n",
       "      <td>512 GB SSD</td>\n",
       "      <td>15.6</td>\n",
       "      <td>AMD Ryzen 5 Hexa Core Processor</td>\n",
       "    </tr>\n",
       "    <tr>\n",
       "      <th>4</th>\n",
       "      <td>ASUS TUF Gaming F15 Core i5 10th Gen - (8 GB/5...</td>\n",
       "      <td>10.819598</td>\n",
       "      <td>Intel Core i5 Processor (10th Gen)8 GB DDR4 RA...</td>\n",
       "      <td>Intel Core i5 Processor</td>\n",
       "      <td>8</td>\n",
       "      <td>DDR4</td>\n",
       "      <td>Windows</td>\n",
       "      <td>512 GB SSD</td>\n",
       "      <td>15.6</td>\n",
       "      <td>Intel Core i5 Processor</td>\n",
       "    </tr>\n",
       "    <tr>\n",
       "      <th>...</th>\n",
       "      <td>...</td>\n",
       "      <td>...</td>\n",
       "      <td>...</td>\n",
       "      <td>...</td>\n",
       "      <td>...</td>\n",
       "      <td>...</td>\n",
       "      <td>...</td>\n",
       "      <td>...</td>\n",
       "      <td>...</td>\n",
       "      <td>...</td>\n",
       "    </tr>\n",
       "    <tr>\n",
       "      <th>714</th>\n",
       "      <td>HP Pavilion Ryzen 7 Octa Core AMD R7-5800H - (...</td>\n",
       "      <td>11.407576</td>\n",
       "      <td>AMD Ryzen 7 Octa Core Processor16 GB DDR4 RAM6...</td>\n",
       "      <td>AMD Ryzen 7 Octa Core Processor</td>\n",
       "      <td>16</td>\n",
       "      <td>DDR4</td>\n",
       "      <td>Windows</td>\n",
       "      <td>512 GB SSD</td>\n",
       "      <td>15.6</td>\n",
       "      <td>AMD Ryzen 7 Octa Core Processor</td>\n",
       "    </tr>\n",
       "    <tr>\n",
       "      <th>716</th>\n",
       "      <td>Lenovo IdeaPad Gaming 3 Ryzen 7 Octa Core AMD ...</td>\n",
       "      <td>11.204918</td>\n",
       "      <td>AMD Ryzen 7 Octa Core Processor8 GB DDR4 RAM64...</td>\n",
       "      <td>AMD Ryzen 7 Octa Core Processor</td>\n",
       "      <td>8</td>\n",
       "      <td>DDR4</td>\n",
       "      <td>Windows</td>\n",
       "      <td>512 GB SSD</td>\n",
       "      <td>15.6</td>\n",
       "      <td>AMD Ryzen 7 Octa Core Processor</td>\n",
       "    </tr>\n",
       "    <tr>\n",
       "      <th>717</th>\n",
       "      <td>ASUS ROG Zephyrus G15 Ryzen 9 Octa Core 6900HS...</td>\n",
       "      <td>12.180709</td>\n",
       "      <td>AMD Ryzen 9 Octa Core Processor16 GB DDR5 RAM6...</td>\n",
       "      <td>AMD Ryzen 9 Octa Core Processor</td>\n",
       "      <td>16</td>\n",
       "      <td>DDR5</td>\n",
       "      <td>Windows</td>\n",
       "      <td>1 TB SSD</td>\n",
       "      <td>15.6</td>\n",
       "      <td>AMD Ryzen 9 Octa Core Processor</td>\n",
       "    </tr>\n",
       "    <tr>\n",
       "      <th>718</th>\n",
       "      <td>ASUS Zenbook Flip 14 OLED (2022) Touch Panel C...</td>\n",
       "      <td>11.743966</td>\n",
       "      <td>Intel Core i7 Processor (12th Gen)16 GB LPDDR5...</td>\n",
       "      <td>Intel Core i7 Processor</td>\n",
       "      <td>16</td>\n",
       "      <td>DDR5</td>\n",
       "      <td>Windows</td>\n",
       "      <td>512 GB SSD</td>\n",
       "      <td>14.0</td>\n",
       "      <td>Intel Core i7 Processor</td>\n",
       "    </tr>\n",
       "    <tr>\n",
       "      <th>719</th>\n",
       "      <td>Lenovo Ideapad Slim 3i Core i5 10th Gen - (8 G...</td>\n",
       "      <td>10.839404</td>\n",
       "      <td>Intel Core i5 Processor (10th Gen)8 GB DDR4 RA...</td>\n",
       "      <td>Intel Core i5 Processor</td>\n",
       "      <td>8</td>\n",
       "      <td>DDR4</td>\n",
       "      <td>Windows</td>\n",
       "      <td>1 TB HDD256 GB SSD</td>\n",
       "      <td>15.6</td>\n",
       "      <td>Intel Core i5 Processor</td>\n",
       "    </tr>\n",
       "  </tbody>\n",
       "</table>\n",
       "<p>698 rows × 10 columns</p>\n",
       "</div>"
      ],
      "text/plain": [
       "                                               Product        MRP  \\\n",
       "0    Lenovo IdeaPad 3 Core i3 11th Gen - (8 GB/256 ...  10.518430   \n",
       "1    Lenovo IdeaPad 3 Core i3 11th Gen - (8 GB/512 ...  10.596410   \n",
       "2    ASUS VivoBook 15 (2022) Core i3 10th Gen - (8 ...  10.403990   \n",
       "3    HP Pavilion Ryzen 5 Hexa Core AMD R5-5600H - (...  10.819598   \n",
       "4    ASUS TUF Gaming F15 Core i5 10th Gen - (8 GB/5...  10.819598   \n",
       "..                                                 ...        ...   \n",
       "714  HP Pavilion Ryzen 7 Octa Core AMD R7-5800H - (...  11.407576   \n",
       "716  Lenovo IdeaPad Gaming 3 Ryzen 7 Octa Core AMD ...  11.204918   \n",
       "717  ASUS ROG Zephyrus G15 Ryzen 9 Octa Core 6900HS...  12.180709   \n",
       "718  ASUS Zenbook Flip 14 OLED (2022) Touch Panel C...  11.743966   \n",
       "719  Lenovo Ideapad Slim 3i Core i5 10th Gen - (8 G...  10.839404   \n",
       "\n",
       "                                               Feature  \\\n",
       "0    Intel Core i3 Processor (11th Gen)8 GB DDR4 RA...   \n",
       "1    Intel Core i3 Processor (11th Gen)8 GB DDR4 RA...   \n",
       "2    Intel Core i3 Processor (10th Gen)8 GB DDR4 RA...   \n",
       "3    AMD Ryzen 5 Hexa Core Processor8 GB DDR4 RAM64...   \n",
       "4    Intel Core i5 Processor (10th Gen)8 GB DDR4 RA...   \n",
       "..                                                 ...   \n",
       "714  AMD Ryzen 7 Octa Core Processor16 GB DDR4 RAM6...   \n",
       "716  AMD Ryzen 7 Octa Core Processor8 GB DDR4 RAM64...   \n",
       "717  AMD Ryzen 9 Octa Core Processor16 GB DDR5 RAM6...   \n",
       "718  Intel Core i7 Processor (12th Gen)16 GB LPDDR5...   \n",
       "719  Intel Core i5 Processor (10th Gen)8 GB DDR4 RA...   \n",
       "\n",
       "                           Processor  RAM RAMType       OS  \\\n",
       "0            Intel Core i3 Processor    8    DDR4  Windows   \n",
       "1            Intel Core i3 Processor    8    DDR4  Windows   \n",
       "2            Intel Core i3 Processor    8    DDR4  Windows   \n",
       "3    AMD Ryzen 5 Hexa Core Processor    8    DDR4  Windows   \n",
       "4            Intel Core i5 Processor    8    DDR4  Windows   \n",
       "..                               ...  ...     ...      ...   \n",
       "714  AMD Ryzen 7 Octa Core Processor   16    DDR4  Windows   \n",
       "716  AMD Ryzen 7 Octa Core Processor    8    DDR4  Windows   \n",
       "717  AMD Ryzen 9 Octa Core Processor   16    DDR5  Windows   \n",
       "718          Intel Core i7 Processor   16    DDR5  Windows   \n",
       "719          Intel Core i5 Processor    8    DDR4  Windows   \n",
       "\n",
       "                Storage  ScreenSize                    ProcessorName  \n",
       "0            256 GB SSD        14.0          Intel Core i3 Processor  \n",
       "1            512 GB SSD        15.6          Intel Core i3 Processor  \n",
       "2            512 GB SSD        15.6          Intel Core i3 Processor  \n",
       "3            512 GB SSD        15.6  AMD Ryzen 5 Hexa Core Processor  \n",
       "4            512 GB SSD        15.6          Intel Core i5 Processor  \n",
       "..                  ...         ...                              ...  \n",
       "714          512 GB SSD        15.6  AMD Ryzen 7 Octa Core Processor  \n",
       "716          512 GB SSD        15.6  AMD Ryzen 7 Octa Core Processor  \n",
       "717            1 TB SSD        15.6  AMD Ryzen 9 Octa Core Processor  \n",
       "718          512 GB SSD        14.0          Intel Core i7 Processor  \n",
       "719  1 TB HDD256 GB SSD        15.6          Intel Core i5 Processor  \n",
       "\n",
       "[698 rows x 10 columns]"
      ]
     },
     "execution_count": 97,
     "metadata": {},
     "output_type": "execute_result"
    }
   ],
   "source": [
    "df1"
   ]
  },
  {
   "cell_type": "code",
   "execution_count": 98,
   "id": "f2530eef",
   "metadata": {},
   "outputs": [],
   "source": [
    "final = df1.drop(df1.columns[3],axis = 1)"
   ]
  },
  {
   "cell_type": "code",
   "execution_count": 99,
   "id": "fb779215",
   "metadata": {},
   "outputs": [
    {
     "data": {
      "text/html": [
       "<div>\n",
       "<style scoped>\n",
       "    .dataframe tbody tr th:only-of-type {\n",
       "        vertical-align: middle;\n",
       "    }\n",
       "\n",
       "    .dataframe tbody tr th {\n",
       "        vertical-align: top;\n",
       "    }\n",
       "\n",
       "    .dataframe thead th {\n",
       "        text-align: right;\n",
       "    }\n",
       "</style>\n",
       "<table border=\"1\" class=\"dataframe\">\n",
       "  <thead>\n",
       "    <tr style=\"text-align: right;\">\n",
       "      <th></th>\n",
       "      <th>Product</th>\n",
       "      <th>MRP</th>\n",
       "      <th>Feature</th>\n",
       "      <th>RAM</th>\n",
       "      <th>RAMType</th>\n",
       "      <th>OS</th>\n",
       "      <th>Storage</th>\n",
       "      <th>ScreenSize</th>\n",
       "      <th>ProcessorName</th>\n",
       "    </tr>\n",
       "  </thead>\n",
       "  <tbody>\n",
       "    <tr>\n",
       "      <th>0</th>\n",
       "      <td>Lenovo IdeaPad 3 Core i3 11th Gen - (8 GB/256 ...</td>\n",
       "      <td>10.518430</td>\n",
       "      <td>Intel Core i3 Processor (11th Gen)8 GB DDR4 RA...</td>\n",
       "      <td>8</td>\n",
       "      <td>DDR4</td>\n",
       "      <td>Windows</td>\n",
       "      <td>256 GB SSD</td>\n",
       "      <td>14.0</td>\n",
       "      <td>Intel Core i3 Processor</td>\n",
       "    </tr>\n",
       "    <tr>\n",
       "      <th>1</th>\n",
       "      <td>Lenovo IdeaPad 3 Core i3 11th Gen - (8 GB/512 ...</td>\n",
       "      <td>10.596410</td>\n",
       "      <td>Intel Core i3 Processor (11th Gen)8 GB DDR4 RA...</td>\n",
       "      <td>8</td>\n",
       "      <td>DDR4</td>\n",
       "      <td>Windows</td>\n",
       "      <td>512 GB SSD</td>\n",
       "      <td>15.6</td>\n",
       "      <td>Intel Core i3 Processor</td>\n",
       "    </tr>\n",
       "    <tr>\n",
       "      <th>2</th>\n",
       "      <td>ASUS VivoBook 15 (2022) Core i3 10th Gen - (8 ...</td>\n",
       "      <td>10.403990</td>\n",
       "      <td>Intel Core i3 Processor (10th Gen)8 GB DDR4 RA...</td>\n",
       "      <td>8</td>\n",
       "      <td>DDR4</td>\n",
       "      <td>Windows</td>\n",
       "      <td>512 GB SSD</td>\n",
       "      <td>15.6</td>\n",
       "      <td>Intel Core i3 Processor</td>\n",
       "    </tr>\n",
       "    <tr>\n",
       "      <th>3</th>\n",
       "      <td>HP Pavilion Ryzen 5 Hexa Core AMD R5-5600H - (...</td>\n",
       "      <td>10.819598</td>\n",
       "      <td>AMD Ryzen 5 Hexa Core Processor8 GB DDR4 RAM64...</td>\n",
       "      <td>8</td>\n",
       "      <td>DDR4</td>\n",
       "      <td>Windows</td>\n",
       "      <td>512 GB SSD</td>\n",
       "      <td>15.6</td>\n",
       "      <td>AMD Ryzen 5 Hexa Core Processor</td>\n",
       "    </tr>\n",
       "    <tr>\n",
       "      <th>4</th>\n",
       "      <td>ASUS TUF Gaming F15 Core i5 10th Gen - (8 GB/5...</td>\n",
       "      <td>10.819598</td>\n",
       "      <td>Intel Core i5 Processor (10th Gen)8 GB DDR4 RA...</td>\n",
       "      <td>8</td>\n",
       "      <td>DDR4</td>\n",
       "      <td>Windows</td>\n",
       "      <td>512 GB SSD</td>\n",
       "      <td>15.6</td>\n",
       "      <td>Intel Core i5 Processor</td>\n",
       "    </tr>\n",
       "    <tr>\n",
       "      <th>...</th>\n",
       "      <td>...</td>\n",
       "      <td>...</td>\n",
       "      <td>...</td>\n",
       "      <td>...</td>\n",
       "      <td>...</td>\n",
       "      <td>...</td>\n",
       "      <td>...</td>\n",
       "      <td>...</td>\n",
       "      <td>...</td>\n",
       "    </tr>\n",
       "    <tr>\n",
       "      <th>714</th>\n",
       "      <td>HP Pavilion Ryzen 7 Octa Core AMD R7-5800H - (...</td>\n",
       "      <td>11.407576</td>\n",
       "      <td>AMD Ryzen 7 Octa Core Processor16 GB DDR4 RAM6...</td>\n",
       "      <td>16</td>\n",
       "      <td>DDR4</td>\n",
       "      <td>Windows</td>\n",
       "      <td>512 GB SSD</td>\n",
       "      <td>15.6</td>\n",
       "      <td>AMD Ryzen 7 Octa Core Processor</td>\n",
       "    </tr>\n",
       "    <tr>\n",
       "      <th>716</th>\n",
       "      <td>Lenovo IdeaPad Gaming 3 Ryzen 7 Octa Core AMD ...</td>\n",
       "      <td>11.204918</td>\n",
       "      <td>AMD Ryzen 7 Octa Core Processor8 GB DDR4 RAM64...</td>\n",
       "      <td>8</td>\n",
       "      <td>DDR4</td>\n",
       "      <td>Windows</td>\n",
       "      <td>512 GB SSD</td>\n",
       "      <td>15.6</td>\n",
       "      <td>AMD Ryzen 7 Octa Core Processor</td>\n",
       "    </tr>\n",
       "    <tr>\n",
       "      <th>717</th>\n",
       "      <td>ASUS ROG Zephyrus G15 Ryzen 9 Octa Core 6900HS...</td>\n",
       "      <td>12.180709</td>\n",
       "      <td>AMD Ryzen 9 Octa Core Processor16 GB DDR5 RAM6...</td>\n",
       "      <td>16</td>\n",
       "      <td>DDR5</td>\n",
       "      <td>Windows</td>\n",
       "      <td>1 TB SSD</td>\n",
       "      <td>15.6</td>\n",
       "      <td>AMD Ryzen 9 Octa Core Processor</td>\n",
       "    </tr>\n",
       "    <tr>\n",
       "      <th>718</th>\n",
       "      <td>ASUS Zenbook Flip 14 OLED (2022) Touch Panel C...</td>\n",
       "      <td>11.743966</td>\n",
       "      <td>Intel Core i7 Processor (12th Gen)16 GB LPDDR5...</td>\n",
       "      <td>16</td>\n",
       "      <td>DDR5</td>\n",
       "      <td>Windows</td>\n",
       "      <td>512 GB SSD</td>\n",
       "      <td>14.0</td>\n",
       "      <td>Intel Core i7 Processor</td>\n",
       "    </tr>\n",
       "    <tr>\n",
       "      <th>719</th>\n",
       "      <td>Lenovo Ideapad Slim 3i Core i5 10th Gen - (8 G...</td>\n",
       "      <td>10.839404</td>\n",
       "      <td>Intel Core i5 Processor (10th Gen)8 GB DDR4 RA...</td>\n",
       "      <td>8</td>\n",
       "      <td>DDR4</td>\n",
       "      <td>Windows</td>\n",
       "      <td>1 TB HDD256 GB SSD</td>\n",
       "      <td>15.6</td>\n",
       "      <td>Intel Core i5 Processor</td>\n",
       "    </tr>\n",
       "  </tbody>\n",
       "</table>\n",
       "<p>698 rows × 9 columns</p>\n",
       "</div>"
      ],
      "text/plain": [
       "                                               Product        MRP  \\\n",
       "0    Lenovo IdeaPad 3 Core i3 11th Gen - (8 GB/256 ...  10.518430   \n",
       "1    Lenovo IdeaPad 3 Core i3 11th Gen - (8 GB/512 ...  10.596410   \n",
       "2    ASUS VivoBook 15 (2022) Core i3 10th Gen - (8 ...  10.403990   \n",
       "3    HP Pavilion Ryzen 5 Hexa Core AMD R5-5600H - (...  10.819598   \n",
       "4    ASUS TUF Gaming F15 Core i5 10th Gen - (8 GB/5...  10.819598   \n",
       "..                                                 ...        ...   \n",
       "714  HP Pavilion Ryzen 7 Octa Core AMD R7-5800H - (...  11.407576   \n",
       "716  Lenovo IdeaPad Gaming 3 Ryzen 7 Octa Core AMD ...  11.204918   \n",
       "717  ASUS ROG Zephyrus G15 Ryzen 9 Octa Core 6900HS...  12.180709   \n",
       "718  ASUS Zenbook Flip 14 OLED (2022) Touch Panel C...  11.743966   \n",
       "719  Lenovo Ideapad Slim 3i Core i5 10th Gen - (8 G...  10.839404   \n",
       "\n",
       "                                               Feature  RAM RAMType       OS  \\\n",
       "0    Intel Core i3 Processor (11th Gen)8 GB DDR4 RA...    8    DDR4  Windows   \n",
       "1    Intel Core i3 Processor (11th Gen)8 GB DDR4 RA...    8    DDR4  Windows   \n",
       "2    Intel Core i3 Processor (10th Gen)8 GB DDR4 RA...    8    DDR4  Windows   \n",
       "3    AMD Ryzen 5 Hexa Core Processor8 GB DDR4 RAM64...    8    DDR4  Windows   \n",
       "4    Intel Core i5 Processor (10th Gen)8 GB DDR4 RA...    8    DDR4  Windows   \n",
       "..                                                 ...  ...     ...      ...   \n",
       "714  AMD Ryzen 7 Octa Core Processor16 GB DDR4 RAM6...   16    DDR4  Windows   \n",
       "716  AMD Ryzen 7 Octa Core Processor8 GB DDR4 RAM64...    8    DDR4  Windows   \n",
       "717  AMD Ryzen 9 Octa Core Processor16 GB DDR5 RAM6...   16    DDR5  Windows   \n",
       "718  Intel Core i7 Processor (12th Gen)16 GB LPDDR5...   16    DDR5  Windows   \n",
       "719  Intel Core i5 Processor (10th Gen)8 GB DDR4 RA...    8    DDR4  Windows   \n",
       "\n",
       "                Storage  ScreenSize                    ProcessorName  \n",
       "0            256 GB SSD        14.0          Intel Core i3 Processor  \n",
       "1            512 GB SSD        15.6          Intel Core i3 Processor  \n",
       "2            512 GB SSD        15.6          Intel Core i3 Processor  \n",
       "3            512 GB SSD        15.6  AMD Ryzen 5 Hexa Core Processor  \n",
       "4            512 GB SSD        15.6          Intel Core i5 Processor  \n",
       "..                  ...         ...                              ...  \n",
       "714          512 GB SSD        15.6  AMD Ryzen 7 Octa Core Processor  \n",
       "716          512 GB SSD        15.6  AMD Ryzen 7 Octa Core Processor  \n",
       "717            1 TB SSD        15.6  AMD Ryzen 9 Octa Core Processor  \n",
       "718          512 GB SSD        14.0          Intel Core i7 Processor  \n",
       "719  1 TB HDD256 GB SSD        15.6          Intel Core i5 Processor  \n",
       "\n",
       "[698 rows x 9 columns]"
      ]
     },
     "execution_count": 99,
     "metadata": {},
     "output_type": "execute_result"
    }
   ],
   "source": [
    "final"
   ]
  },
  {
   "cell_type": "code",
   "execution_count": 100,
   "id": "c066bae6",
   "metadata": {},
   "outputs": [
    {
     "data": {
      "text/plain": [
       "Index(['Product', 'MRP', 'Feature', 'RAM', 'RAMType', 'OS', 'Storage',\n",
       "       'ScreenSize', 'ProcessorName'],\n",
       "      dtype='object')"
      ]
     },
     "execution_count": 100,
     "metadata": {},
     "output_type": "execute_result"
    }
   ],
   "source": [
    "final.columns"
   ]
  },
  {
   "cell_type": "code",
   "execution_count": 101,
   "id": "8d019fcb",
   "metadata": {},
   "outputs": [
    {
     "name": "stderr",
     "output_type": "stream",
     "text": [
      "C:\\Users\\Admin\\anaconda3\\lib\\site-packages\\seaborn\\distributions.py:2619: FutureWarning: `distplot` is a deprecated function and will be removed in a future version. Please adapt your code to use either `displot` (a figure-level function with similar flexibility) or `histplot` (an axes-level function for histograms).\n",
      "  warnings.warn(msg, FutureWarning)\n"
     ]
    },
    {
     "data": {
      "text/plain": [
       "<AxesSubplot:xlabel='MRP', ylabel='Density'>"
      ]
     },
     "execution_count": 101,
     "metadata": {},
     "output_type": "execute_result"
    },
    {
     "data": {
      "image/png": "[encoded data removed]",
      "text/plain": [
       "<Figure size 432x288 with 1 Axes>"
      ]
     },
     "metadata": {
      "needs_background": "light"
     },
     "output_type": "display_data"
    }
   ],
   "source": [
    "sns.distplot(np.log(df['MRP']))"
   ]
  },
  {
   "cell_type": "code",
   "execution_count": 102,
   "id": "26f25048",
   "metadata": {},
   "outputs": [
    {
     "data": {
      "text/plain": [
       "<AxesSubplot:ylabel='Density'>"
      ]
     },
     "execution_count": 102,
     "metadata": {},
     "output_type": "execute_result"
    },
    {
     "data": {
      "image/png": "[encoded data removed]",
      "text/plain": [
       "<Figure size 432x288 with 1 Axes>"
      ]
     },
     "metadata": {
      "needs_background": "light"
     },
     "output_type": "display_data"
    }
   ],
   "source": [
    "clean_df_2['MRP'].plot(kind = 'kde')"
   ]
  },
  {
   "cell_type": "code",
   "execution_count": 103,
   "id": "c0649a89",
   "metadata": {},
   "outputs": [
    {
     "data": {
      "text/plain": [
       "<AxesSubplot:ylabel='Density'>"
      ]
     },
     "execution_count": 103,
     "metadata": {},
     "output_type": "execute_result"
    },
    {
     "data": {
      "image/png": "[encoded data removed]",
      "text/plain": [
       "<Figure size 432x288 with 1 Axes>"
      ]
     },
     "metadata": {
      "needs_background": "light"
     },
     "output_type": "display_data"
    }
   ],
   "source": [
    "df['MRP'].plot(kind = 'kde')"
   ]
  },
  {
   "cell_type": "markdown",
   "id": "13ddb6eb",
   "metadata": {},
   "source": [
    "###### DATA PREPARATION:"
   ]
  },
  {
   "cell_type": "code",
   "execution_count": 104,
   "id": "2e054eab",
   "metadata": {},
   "outputs": [],
   "source": [
    "#pip uninstall scikit-learn\n"
   ]
  },
  {
   "cell_type": "code",
   "execution_count": 105,
   "id": "aab2d637",
   "metadata": {},
   "outputs": [],
   "source": [
    "#pip install -U scikit-learn"
   ]
  },
  {
   "cell_type": "code",
   "execution_count": 106,
   "id": "a25b7085",
   "metadata": {},
   "outputs": [
    {
     "name": "stdout",
     "output_type": "stream",
     "text": [
      "1.2.2\n"
     ]
    }
   ],
   "source": [
    "import sklearn\n",
    "\n",
    "print(sklearn.__version__)"
   ]
  },
  {
   "cell_type": "code",
   "execution_count": 107,
   "id": "d0472caf",
   "metadata": {},
   "outputs": [
    {
     "data": {
      "text/plain": [
       "Index(['Product', 'MRP', 'Feature', 'RAM', 'RAMType', 'OS', 'Storage',\n",
       "       'ScreenSize', 'ProcessorName'],\n",
       "      dtype='object')"
      ]
     },
     "execution_count": 107,
     "metadata": {},
     "output_type": "execute_result"
    }
   ],
   "source": [
    "final.columns"
   ]
  },
  {
   "cell_type": "code",
   "execution_count": 108,
   "id": "5783bc96",
   "metadata": {},
   "outputs": [],
   "source": [
    "y = final['MRP']\n",
    "X = final[['Product','Feature','RAM','RAMType','OS','Storage','ScreenSize','ProcessorName']]"
   ]
  },
  {
   "cell_type": "code",
   "execution_count": 109,
   "id": "e1cdfc4c",
   "metadata": {},
   "outputs": [],
   "source": [
    "# split into train and test\n",
    "\n",
    "from sklearn.model_selection import train_test_split\n",
    "\n",
    "X_train, X_test, y_train, y_test = train_test_split(X, y, train_size=0.7, random_state=100)"
   ]
  },
  {
   "cell_type": "code",
   "execution_count": 110,
   "id": "e1a648de",
   "metadata": {},
   "outputs": [
    {
     "data": {
      "text/html": [
       "<div>\n",
       "<style scoped>\n",
       "    .dataframe tbody tr th:only-of-type {\n",
       "        vertical-align: middle;\n",
       "    }\n",
       "\n",
       "    .dataframe tbody tr th {\n",
       "        vertical-align: top;\n",
       "    }\n",
       "\n",
       "    .dataframe thead th {\n",
       "        text-align: right;\n",
       "    }\n",
       "</style>\n",
       "<table border=\"1\" class=\"dataframe\">\n",
       "  <thead>\n",
       "    <tr style=\"text-align: right;\">\n",
       "      <th></th>\n",
       "      <th>Product</th>\n",
       "      <th>Feature</th>\n",
       "      <th>RAM</th>\n",
       "      <th>RAMType</th>\n",
       "      <th>OS</th>\n",
       "      <th>Storage</th>\n",
       "      <th>ScreenSize</th>\n",
       "      <th>ProcessorName</th>\n",
       "    </tr>\n",
       "  </thead>\n",
       "  <tbody>\n",
       "    <tr>\n",
       "      <th>421</th>\n",
       "      <td>ASUS ROG Strix G15 Ryzen 7 Octa Core AMD R7-48...</td>\n",
       "      <td>AMD Ryzen 7 Octa Core Processor16 GB DDR4 RAMW...</td>\n",
       "      <td>16</td>\n",
       "      <td>DDR4</td>\n",
       "      <td>Windows</td>\n",
       "      <td>1 TB SSD</td>\n",
       "      <td>15.6</td>\n",
       "      <td>AMD Ryzen 7 Octa Core Processor</td>\n",
       "    </tr>\n",
       "    <tr>\n",
       "      <th>441</th>\n",
       "      <td>ASUS ROG Strix G15 (2022) with 90Whr Battery R...</td>\n",
       "      <td>AMD Ryzen 9 Octa Core Processor16 GB DDR5 RAMW...</td>\n",
       "      <td>16</td>\n",
       "      <td>DDR5</td>\n",
       "      <td>Windows</td>\n",
       "      <td>1 TB SSD</td>\n",
       "      <td>15.6</td>\n",
       "      <td>AMD Ryzen 9 Octa Core Processor</td>\n",
       "    </tr>\n",
       "    <tr>\n",
       "      <th>255</th>\n",
       "      <td>acer Aspire Vero(Green PC ) Core i5 11th Gen -...</td>\n",
       "      <td>Intel Core i5 Processor (11th Gen)8 GB DDR4 RA...</td>\n",
       "      <td>8</td>\n",
       "      <td>DDR4</td>\n",
       "      <td>Windows</td>\n",
       "      <td>512 GB SSD</td>\n",
       "      <td>15.6</td>\n",
       "      <td>Intel Core i5 Processor</td>\n",
       "    </tr>\n",
       "    <tr>\n",
       "      <th>487</th>\n",
       "      <td>Lenovo IdeaPad 1 Ryzen 5 Quad Core 3500U - (8 ...</td>\n",
       "      <td>AMD Ryzen 5 Quad Core Processor8 GB DDR4 RAM64...</td>\n",
       "      <td>8</td>\n",
       "      <td>DDR4</td>\n",
       "      <td>Windows</td>\n",
       "      <td>512 GB SSD</td>\n",
       "      <td>15.6</td>\n",
       "      <td>AMD Ryzen 5 Quad Core Processor</td>\n",
       "    </tr>\n",
       "    <tr>\n",
       "      <th>235</th>\n",
       "      <td>ASUS EeeBook 14 with NumberPad Pentium Silver ...</td>\n",
       "      <td>Intel Pentium Silver Processor8 GB DDR4 RAM64 ...</td>\n",
       "      <td>8</td>\n",
       "      <td>DDR4</td>\n",
       "      <td>Windows</td>\n",
       "      <td>256 GB SSD</td>\n",
       "      <td>15.6</td>\n",
       "      <td>Intel Pentium Silver Processor</td>\n",
       "    </tr>\n",
       "  </tbody>\n",
       "</table>\n",
       "</div>"
      ],
      "text/plain": [
       "                                               Product  \\\n",
       "421  ASUS ROG Strix G15 Ryzen 7 Octa Core AMD R7-48...   \n",
       "441  ASUS ROG Strix G15 (2022) with 90Whr Battery R...   \n",
       "255  acer Aspire Vero(Green PC ) Core i5 11th Gen -...   \n",
       "487  Lenovo IdeaPad 1 Ryzen 5 Quad Core 3500U - (8 ...   \n",
       "235  ASUS EeeBook 14 with NumberPad Pentium Silver ...   \n",
       "\n",
       "                                               Feature  RAM RAMType       OS  \\\n",
       "421  AMD Ryzen 7 Octa Core Processor16 GB DDR4 RAMW...   16    DDR4  Windows   \n",
       "441  AMD Ryzen 9 Octa Core Processor16 GB DDR5 RAMW...   16    DDR5  Windows   \n",
       "255  Intel Core i5 Processor (11th Gen)8 GB DDR4 RA...    8    DDR4  Windows   \n",
       "487  AMD Ryzen 5 Quad Core Processor8 GB DDR4 RAM64...    8    DDR4  Windows   \n",
       "235  Intel Pentium Silver Processor8 GB DDR4 RAM64 ...    8    DDR4  Windows   \n",
       "\n",
       "        Storage  ScreenSize                    ProcessorName  \n",
       "421    1 TB SSD        15.6  AMD Ryzen 7 Octa Core Processor  \n",
       "441    1 TB SSD        15.6  AMD Ryzen 9 Octa Core Processor  \n",
       "255  512 GB SSD        15.6          Intel Core i5 Processor  \n",
       "487  512 GB SSD        15.6  AMD Ryzen 5 Quad Core Processor  \n",
       "235  256 GB SSD        15.6   Intel Pentium Silver Processor  "
      ]
     },
     "execution_count": 110,
     "metadata": {},
     "output_type": "execute_result"
    }
   ],
   "source": [
    "X_train.head()"
   ]
  },
  {
   "cell_type": "code",
   "execution_count": 152,
   "id": "c1d8ae7c",
   "metadata": {},
   "outputs": [
    {
     "ename": "ValueError",
     "evalue": "all features must be in [0, 7] or [-8, 0]",
     "output_type": "error",
     "traceback": [
      "\u001b[1;31m---------------------------------------------------------------------------\u001b[0m",
      "\u001b[1;31mIndexError\u001b[0m                                Traceback (most recent call last)",
      "File \u001b[1;32m~\\anaconda3\\lib\\site-packages\\sklearn\\utils\\__init__.py:414\u001b[0m, in \u001b[0;36m_get_column_indices\u001b[1;34m(X, key)\u001b[0m\n\u001b[0;32m    413\u001b[0m \u001b[38;5;28;01mtry\u001b[39;00m:\n\u001b[1;32m--> 414\u001b[0m     idx \u001b[38;5;241m=\u001b[39m \u001b[43m_safe_indexing\u001b[49m\u001b[43m(\u001b[49m\u001b[43mnp\u001b[49m\u001b[38;5;241;43m.\u001b[39;49m\u001b[43marange\u001b[49m\u001b[43m(\u001b[49m\u001b[43mn_columns\u001b[49m\u001b[43m)\u001b[49m\u001b[43m,\u001b[49m\u001b[43m \u001b[49m\u001b[43mkey\u001b[49m\u001b[43m)\u001b[49m\n\u001b[0;32m    415\u001b[0m \u001b[38;5;28;01mexcept\u001b[39;00m \u001b[38;5;167;01mIndexError\u001b[39;00m \u001b[38;5;28;01mas\u001b[39;00m e:\n",
      "File \u001b[1;32m~\\anaconda3\\lib\\site-packages\\sklearn\\utils\\__init__.py:356\u001b[0m, in \u001b[0;36m_safe_indexing\u001b[1;34m(X, indices, axis)\u001b[0m\n\u001b[0;32m    355\u001b[0m \u001b[38;5;28;01melif\u001b[39;00m \u001b[38;5;28mhasattr\u001b[39m(X, \u001b[38;5;124m\"\u001b[39m\u001b[38;5;124mshape\u001b[39m\u001b[38;5;124m\"\u001b[39m):\n\u001b[1;32m--> 356\u001b[0m     \u001b[38;5;28;01mreturn\u001b[39;00m \u001b[43m_array_indexing\u001b[49m\u001b[43m(\u001b[49m\u001b[43mX\u001b[49m\u001b[43m,\u001b[49m\u001b[43m \u001b[49m\u001b[43mindices\u001b[49m\u001b[43m,\u001b[49m\u001b[43m \u001b[49m\u001b[43mindices_dtype\u001b[49m\u001b[43m,\u001b[49m\u001b[43m \u001b[49m\u001b[43maxis\u001b[49m\u001b[38;5;241;43m=\u001b[39;49m\u001b[43maxis\u001b[49m\u001b[43m)\u001b[49m\n\u001b[0;32m    357\u001b[0m \u001b[38;5;28;01melse\u001b[39;00m:\n",
      "File \u001b[1;32m~\\anaconda3\\lib\\site-packages\\sklearn\\utils\\__init__.py:185\u001b[0m, in \u001b[0;36m_array_indexing\u001b[1;34m(array, key, key_dtype, axis)\u001b[0m\n\u001b[0;32m    184\u001b[0m     key \u001b[38;5;241m=\u001b[39m \u001b[38;5;28mlist\u001b[39m(key)\n\u001b[1;32m--> 185\u001b[0m \u001b[38;5;28;01mreturn\u001b[39;00m \u001b[43marray\u001b[49m\u001b[43m[\u001b[49m\u001b[43mkey\u001b[49m\u001b[43m]\u001b[49m \u001b[38;5;28;01mif\u001b[39;00m axis \u001b[38;5;241m==\u001b[39m \u001b[38;5;241m0\u001b[39m \u001b[38;5;28;01melse\u001b[39;00m array[:, key]\n",
      "\u001b[1;31mIndexError\u001b[0m: index 10 is out of bounds for axis 0 with size 8",
      "\nThe above exception was the direct cause of the following exception:\n",
      "\u001b[1;31mValueError\u001b[0m                                Traceback (most recent call last)",
      "Input \u001b[1;32mIn [152]\u001b[0m, in \u001b[0;36m<cell line: 25>\u001b[1;34m()\u001b[0m\n\u001b[0;32m      7\u001b[0m step2 \u001b[38;5;241m=\u001b[39m RandomForestRegressor(n_estimators\u001b[38;5;241m=\u001b[39m\u001b[38;5;241m100\u001b[39m,\n\u001b[0;32m      8\u001b[0m \n\u001b[0;32m      9\u001b[0m random_state\u001b[38;5;241m=\u001b[39m\u001b[38;5;241m3\u001b[39m,\n\u001b[1;32m   (...)\u001b[0m\n\u001b[0;32m     14\u001b[0m \n\u001b[0;32m     15\u001b[0m max_depth\u001b[38;5;241m=\u001b[39m\u001b[38;5;241m15\u001b[39m)\n\u001b[0;32m     17\u001b[0m pipe \u001b[38;5;241m=\u001b[39m Pipeline([\n\u001b[0;32m     18\u001b[0m \n\u001b[0;32m     19\u001b[0m (\u001b[38;5;124m'\u001b[39m\u001b[38;5;124mstep1\u001b[39m\u001b[38;5;124m'\u001b[39m,step1),\n\u001b[1;32m   (...)\u001b[0m\n\u001b[0;32m     22\u001b[0m \n\u001b[0;32m     23\u001b[0m ])\n\u001b[1;32m---> 25\u001b[0m \u001b[43mpipe\u001b[49m\u001b[38;5;241;43m.\u001b[39;49m\u001b[43mfit\u001b[49m\u001b[43m(\u001b[49m\u001b[43mX_train\u001b[49m\u001b[43m,\u001b[49m\u001b[43my_train\u001b[49m\u001b[43m)\u001b[49m\n\u001b[0;32m     27\u001b[0m y_pred \u001b[38;5;241m=\u001b[39m pipe\u001b[38;5;241m.\u001b[39mpredict(X_test)\n\u001b[0;32m     29\u001b[0m \u001b[38;5;28mprint\u001b[39m(\u001b[38;5;124m'\u001b[39m\u001b[38;5;124mR2 score\u001b[39m\u001b[38;5;124m'\u001b[39m,r2_score(y_test,y_pred))\n",
      "File \u001b[1;32m~\\anaconda3\\lib\\site-packages\\sklearn\\pipeline.py:401\u001b[0m, in \u001b[0;36mPipeline.fit\u001b[1;34m(self, X, y, **fit_params)\u001b[0m\n\u001b[0;32m    375\u001b[0m \u001b[38;5;124;03m\"\"\"Fit the model.\u001b[39;00m\n\u001b[0;32m    376\u001b[0m \n\u001b[0;32m    377\u001b[0m \u001b[38;5;124;03mFit all the transformers one after the other and transform the\u001b[39;00m\n\u001b[1;32m   (...)\u001b[0m\n\u001b[0;32m    398\u001b[0m \u001b[38;5;124;03m    Pipeline with fitted steps.\u001b[39;00m\n\u001b[0;32m    399\u001b[0m \u001b[38;5;124;03m\"\"\"\u001b[39;00m\n\u001b[0;32m    400\u001b[0m fit_params_steps \u001b[38;5;241m=\u001b[39m \u001b[38;5;28mself\u001b[39m\u001b[38;5;241m.\u001b[39m_check_fit_params(\u001b[38;5;241m*\u001b[39m\u001b[38;5;241m*\u001b[39mfit_params)\n\u001b[1;32m--> 401\u001b[0m Xt \u001b[38;5;241m=\u001b[39m \u001b[38;5;28mself\u001b[39m\u001b[38;5;241m.\u001b[39m_fit(X, y, \u001b[38;5;241m*\u001b[39m\u001b[38;5;241m*\u001b[39mfit_params_steps)\n\u001b[0;32m    402\u001b[0m \u001b[38;5;28;01mwith\u001b[39;00m _print_elapsed_time(\u001b[38;5;124m\"\u001b[39m\u001b[38;5;124mPipeline\u001b[39m\u001b[38;5;124m\"\u001b[39m, \u001b[38;5;28mself\u001b[39m\u001b[38;5;241m.\u001b[39m_log_message(\u001b[38;5;28mlen\u001b[39m(\u001b[38;5;28mself\u001b[39m\u001b[38;5;241m.\u001b[39msteps) \u001b[38;5;241m-\u001b[39m \u001b[38;5;241m1\u001b[39m)):\n\u001b[0;32m    403\u001b[0m     \u001b[38;5;28;01mif\u001b[39;00m \u001b[38;5;28mself\u001b[39m\u001b[38;5;241m.\u001b[39m_final_estimator \u001b[38;5;241m!=\u001b[39m \u001b[38;5;124m\"\u001b[39m\u001b[38;5;124mpassthrough\u001b[39m\u001b[38;5;124m\"\u001b[39m:\n",
      "File \u001b[1;32m~\\anaconda3\\lib\\site-packages\\sklearn\\pipeline.py:359\u001b[0m, in \u001b[0;36mPipeline._fit\u001b[1;34m(self, X, y, **fit_params_steps)\u001b[0m\n\u001b[0;32m    357\u001b[0m     cloned_transformer \u001b[38;5;241m=\u001b[39m clone(transformer)\n\u001b[0;32m    358\u001b[0m \u001b[38;5;66;03m# Fit or load from cache the current transformer\u001b[39;00m\n\u001b[1;32m--> 359\u001b[0m X, fitted_transformer \u001b[38;5;241m=\u001b[39m fit_transform_one_cached(\n\u001b[0;32m    360\u001b[0m     cloned_transformer,\n\u001b[0;32m    361\u001b[0m     X,\n\u001b[0;32m    362\u001b[0m     y,\n\u001b[0;32m    363\u001b[0m     \u001b[38;5;28;01mNone\u001b[39;00m,\n\u001b[0;32m    364\u001b[0m     message_clsname\u001b[38;5;241m=\u001b[39m\u001b[38;5;124m\"\u001b[39m\u001b[38;5;124mPipeline\u001b[39m\u001b[38;5;124m\"\u001b[39m,\n\u001b[0;32m    365\u001b[0m     message\u001b[38;5;241m=\u001b[39m\u001b[38;5;28mself\u001b[39m\u001b[38;5;241m.\u001b[39m_log_message(step_idx),\n\u001b[0;32m    366\u001b[0m     \u001b[38;5;241m*\u001b[39m\u001b[38;5;241m*\u001b[39mfit_params_steps[name],\n\u001b[0;32m    367\u001b[0m )\n\u001b[0;32m    368\u001b[0m \u001b[38;5;66;03m# Replace the transformer of the step with the fitted\u001b[39;00m\n\u001b[0;32m    369\u001b[0m \u001b[38;5;66;03m# transformer. This is necessary when loading the transformer\u001b[39;00m\n\u001b[0;32m    370\u001b[0m \u001b[38;5;66;03m# from the cache.\u001b[39;00m\n\u001b[0;32m    371\u001b[0m \u001b[38;5;28mself\u001b[39m\u001b[38;5;241m.\u001b[39msteps[step_idx] \u001b[38;5;241m=\u001b[39m (name, fitted_transformer)\n",
      "File \u001b[1;32m~\\anaconda3\\lib\\site-packages\\joblib\\memory.py:349\u001b[0m, in \u001b[0;36mNotMemorizedFunc.__call__\u001b[1;34m(self, *args, **kwargs)\u001b[0m\n\u001b[0;32m    348\u001b[0m \u001b[38;5;28;01mdef\u001b[39;00m \u001b[38;5;21m__call__\u001b[39m(\u001b[38;5;28mself\u001b[39m, \u001b[38;5;241m*\u001b[39margs, \u001b[38;5;241m*\u001b[39m\u001b[38;5;241m*\u001b[39mkwargs):\n\u001b[1;32m--> 349\u001b[0m     \u001b[38;5;28;01mreturn\u001b[39;00m \u001b[38;5;28mself\u001b[39m\u001b[38;5;241m.\u001b[39mfunc(\u001b[38;5;241m*\u001b[39margs, \u001b[38;5;241m*\u001b[39m\u001b[38;5;241m*\u001b[39mkwargs)\n",
      "File \u001b[1;32m~\\anaconda3\\lib\\site-packages\\sklearn\\pipeline.py:893\u001b[0m, in \u001b[0;36m_fit_transform_one\u001b[1;34m(transformer, X, y, weight, message_clsname, message, **fit_params)\u001b[0m\n\u001b[0;32m    891\u001b[0m \u001b[38;5;28;01mwith\u001b[39;00m _print_elapsed_time(message_clsname, message):\n\u001b[0;32m    892\u001b[0m     \u001b[38;5;28;01mif\u001b[39;00m \u001b[38;5;28mhasattr\u001b[39m(transformer, \u001b[38;5;124m\"\u001b[39m\u001b[38;5;124mfit_transform\u001b[39m\u001b[38;5;124m\"\u001b[39m):\n\u001b[1;32m--> 893\u001b[0m         res \u001b[38;5;241m=\u001b[39m transformer\u001b[38;5;241m.\u001b[39mfit_transform(X, y, \u001b[38;5;241m*\u001b[39m\u001b[38;5;241m*\u001b[39mfit_params)\n\u001b[0;32m    894\u001b[0m     \u001b[38;5;28;01melse\u001b[39;00m:\n\u001b[0;32m    895\u001b[0m         res \u001b[38;5;241m=\u001b[39m transformer\u001b[38;5;241m.\u001b[39mfit(X, y, \u001b[38;5;241m*\u001b[39m\u001b[38;5;241m*\u001b[39mfit_params)\u001b[38;5;241m.\u001b[39mtransform(X)\n",
      "File \u001b[1;32m~\\anaconda3\\lib\\site-packages\\sklearn\\utils\\_set_output.py:140\u001b[0m, in \u001b[0;36m_wrap_method_output.<locals>.wrapped\u001b[1;34m(self, X, *args, **kwargs)\u001b[0m\n\u001b[0;32m    138\u001b[0m \u001b[38;5;129m@wraps\u001b[39m(f)\n\u001b[0;32m    139\u001b[0m \u001b[38;5;28;01mdef\u001b[39;00m \u001b[38;5;21mwrapped\u001b[39m(\u001b[38;5;28mself\u001b[39m, X, \u001b[38;5;241m*\u001b[39margs, \u001b[38;5;241m*\u001b[39m\u001b[38;5;241m*\u001b[39mkwargs):\n\u001b[1;32m--> 140\u001b[0m     data_to_wrap \u001b[38;5;241m=\u001b[39m f(\u001b[38;5;28mself\u001b[39m, X, \u001b[38;5;241m*\u001b[39margs, \u001b[38;5;241m*\u001b[39m\u001b[38;5;241m*\u001b[39mkwargs)\n\u001b[0;32m    141\u001b[0m     \u001b[38;5;28;01mif\u001b[39;00m \u001b[38;5;28misinstance\u001b[39m(data_to_wrap, \u001b[38;5;28mtuple\u001b[39m):\n\u001b[0;32m    142\u001b[0m         \u001b[38;5;66;03m# only wrap the first output for cross decomposition\u001b[39;00m\n\u001b[0;32m    143\u001b[0m         \u001b[38;5;28;01mreturn\u001b[39;00m (\n\u001b[0;32m    144\u001b[0m             _wrap_data_with_container(method, data_to_wrap[\u001b[38;5;241m0\u001b[39m], X, \u001b[38;5;28mself\u001b[39m),\n\u001b[0;32m    145\u001b[0m             \u001b[38;5;241m*\u001b[39mdata_to_wrap[\u001b[38;5;241m1\u001b[39m:],\n\u001b[0;32m    146\u001b[0m         )\n",
      "File \u001b[1;32m~\\anaconda3\\lib\\site-packages\\sklearn\\compose\\_column_transformer.py:724\u001b[0m, in \u001b[0;36mColumnTransformer.fit_transform\u001b[1;34m(self, X, y)\u001b[0m\n\u001b[0;32m    722\u001b[0m \u001b[38;5;28mself\u001b[39m\u001b[38;5;241m.\u001b[39m_check_n_features(X, reset\u001b[38;5;241m=\u001b[39m\u001b[38;5;28;01mTrue\u001b[39;00m)\n\u001b[0;32m    723\u001b[0m \u001b[38;5;28mself\u001b[39m\u001b[38;5;241m.\u001b[39m_validate_transformers()\n\u001b[1;32m--> 724\u001b[0m \u001b[38;5;28;43mself\u001b[39;49m\u001b[38;5;241;43m.\u001b[39;49m\u001b[43m_validate_column_callables\u001b[49m\u001b[43m(\u001b[49m\u001b[43mX\u001b[49m\u001b[43m)\u001b[49m\n\u001b[0;32m    725\u001b[0m \u001b[38;5;28mself\u001b[39m\u001b[38;5;241m.\u001b[39m_validate_remainder(X)\n\u001b[0;32m    727\u001b[0m result \u001b[38;5;241m=\u001b[39m \u001b[38;5;28mself\u001b[39m\u001b[38;5;241m.\u001b[39m_fit_transform(X, y, _fit_transform_one)\n",
      "File \u001b[1;32m~\\anaconda3\\lib\\site-packages\\sklearn\\compose\\_column_transformer.py:426\u001b[0m, in \u001b[0;36mColumnTransformer._validate_column_callables\u001b[1;34m(self, X)\u001b[0m\n\u001b[0;32m    424\u001b[0m         columns \u001b[38;5;241m=\u001b[39m columns(X)\n\u001b[0;32m    425\u001b[0m     all_columns\u001b[38;5;241m.\u001b[39mappend(columns)\n\u001b[1;32m--> 426\u001b[0m     transformer_to_input_indices[name] \u001b[38;5;241m=\u001b[39m \u001b[43m_get_column_indices\u001b[49m\u001b[43m(\u001b[49m\u001b[43mX\u001b[49m\u001b[43m,\u001b[49m\u001b[43m \u001b[49m\u001b[43mcolumns\u001b[49m\u001b[43m)\u001b[49m\n\u001b[0;32m    428\u001b[0m \u001b[38;5;28mself\u001b[39m\u001b[38;5;241m.\u001b[39m_columns \u001b[38;5;241m=\u001b[39m all_columns\n\u001b[0;32m    429\u001b[0m \u001b[38;5;28mself\u001b[39m\u001b[38;5;241m.\u001b[39m_transformer_to_input_indices \u001b[38;5;241m=\u001b[39m transformer_to_input_indices\n",
      "File \u001b[1;32m~\\anaconda3\\lib\\site-packages\\sklearn\\utils\\__init__.py:416\u001b[0m, in \u001b[0;36m_get_column_indices\u001b[1;34m(X, key)\u001b[0m\n\u001b[0;32m    414\u001b[0m         idx \u001b[38;5;241m=\u001b[39m _safe_indexing(np\u001b[38;5;241m.\u001b[39marange(n_columns), key)\n\u001b[0;32m    415\u001b[0m     \u001b[38;5;28;01mexcept\u001b[39;00m \u001b[38;5;167;01mIndexError\u001b[39;00m \u001b[38;5;28;01mas\u001b[39;00m e:\n\u001b[1;32m--> 416\u001b[0m         \u001b[38;5;28;01mraise\u001b[39;00m \u001b[38;5;167;01mValueError\u001b[39;00m(\n\u001b[0;32m    417\u001b[0m             \u001b[38;5;124m\"\u001b[39m\u001b[38;5;124mall features must be in [0, \u001b[39m\u001b[38;5;132;01m{}\u001b[39;00m\u001b[38;5;124m] or [-\u001b[39m\u001b[38;5;132;01m{}\u001b[39;00m\u001b[38;5;124m, 0]\u001b[39m\u001b[38;5;124m\"\u001b[39m\u001b[38;5;241m.\u001b[39mformat(\n\u001b[0;32m    418\u001b[0m                 n_columns \u001b[38;5;241m-\u001b[39m \u001b[38;5;241m1\u001b[39m, n_columns\n\u001b[0;32m    419\u001b[0m             )\n\u001b[0;32m    420\u001b[0m         ) \u001b[38;5;28;01mfrom\u001b[39;00m \u001b[38;5;21;01me\u001b[39;00m\n\u001b[0;32m    421\u001b[0m     \u001b[38;5;28;01mreturn\u001b[39;00m np\u001b[38;5;241m.\u001b[39matleast_1d(idx)\u001b[38;5;241m.\u001b[39mtolist()\n\u001b[0;32m    422\u001b[0m \u001b[38;5;28;01melif\u001b[39;00m key_dtype \u001b[38;5;241m==\u001b[39m \u001b[38;5;124m\"\u001b[39m\u001b[38;5;124mstr\u001b[39m\u001b[38;5;124m\"\u001b[39m:\n",
      "\u001b[1;31mValueError\u001b[0m: all features must be in [0, 7] or [-8, 0]"
     ]
    }
   ],
   "source": [
    "step1 = ColumnTransformer(transformers=[\n",
    "\n",
    "('col_tnf',OneHotEncoder(sparse=False,drop='first'),[0,1,7,10,11])\n",
    "\n",
    "],remainder='passthrough')\n",
    "\n",
    "step2 = RandomForestRegressor(n_estimators=100,\n",
    "\n",
    "random_state=3,\n",
    "\n",
    "max_samples=0.5,\n",
    "\n",
    "max_features=0.75,\n",
    "\n",
    "max_depth=15)\n",
    "\n",
    "pipe = Pipeline([\n",
    "\n",
    "('step1',step1),\n",
    "\n",
    "('step2',step2)\n",
    "\n",
    "])\n",
    "\n",
    "pipe.fit(X_train,y_train)\n",
    "\n",
    "y_pred = pipe.predict(X_test)\n",
    "\n",
    "print('R2 score',r2_score(y_test,y_pred))\n",
    "\n",
    "print('MAE',mean_absolute_error(y_test,y_pred))"
   ]
  },
  {
   "cell_type": "code",
   "execution_count": 111,
   "id": "67c1eb36",
   "metadata": {},
   "outputs": [
    {
     "name": "stdout",
     "output_type": "stream",
     "text": [
      "(488, 8) (488,)\n",
      "(210, 8) (210,)\n"
     ]
    }
   ],
   "source": [
    "print(X_train.shape, y_train.shape)\n",
    "\n",
    "print(X_test.shape, y_test.shape)"
   ]
  },
  {
   "cell_type": "markdown",
   "id": "57935be7",
   "metadata": {},
   "source": [
    "##### b. Separating Categorical and Numerical Columns:"
   ]
  },
  {
   "cell_type": "code",
   "execution_count": 112,
   "id": "b2268b02",
   "metadata": {},
   "outputs": [
    {
     "data": {
      "text/html": [
       "<div>\n",
       "<style scoped>\n",
       "    .dataframe tbody tr th:only-of-type {\n",
       "        vertical-align: middle;\n",
       "    }\n",
       "\n",
       "    .dataframe tbody tr th {\n",
       "        vertical-align: top;\n",
       "    }\n",
       "\n",
       "    .dataframe thead th {\n",
       "        text-align: right;\n",
       "    }\n",
       "</style>\n",
       "<table border=\"1\" class=\"dataframe\">\n",
       "  <thead>\n",
       "    <tr style=\"text-align: right;\">\n",
       "      <th></th>\n",
       "      <th>Product</th>\n",
       "      <th>Feature</th>\n",
       "      <th>RAM</th>\n",
       "      <th>RAMType</th>\n",
       "      <th>OS</th>\n",
       "      <th>Storage</th>\n",
       "      <th>ScreenSize</th>\n",
       "      <th>ProcessorName</th>\n",
       "    </tr>\n",
       "  </thead>\n",
       "  <tbody>\n",
       "    <tr>\n",
       "      <th>421</th>\n",
       "      <td>ASUS ROG Strix G15 Ryzen 7 Octa Core AMD R7-48...</td>\n",
       "      <td>AMD Ryzen 7 Octa Core Processor16 GB DDR4 RAMW...</td>\n",
       "      <td>16</td>\n",
       "      <td>DDR4</td>\n",
       "      <td>Windows</td>\n",
       "      <td>1 TB SSD</td>\n",
       "      <td>15.6</td>\n",
       "      <td>AMD Ryzen 7 Octa Core Processor</td>\n",
       "    </tr>\n",
       "    <tr>\n",
       "      <th>441</th>\n",
       "      <td>ASUS ROG Strix G15 (2022) with 90Whr Battery R...</td>\n",
       "      <td>AMD Ryzen 9 Octa Core Processor16 GB DDR5 RAMW...</td>\n",
       "      <td>16</td>\n",
       "      <td>DDR5</td>\n",
       "      <td>Windows</td>\n",
       "      <td>1 TB SSD</td>\n",
       "      <td>15.6</td>\n",
       "      <td>AMD Ryzen 9 Octa Core Processor</td>\n",
       "    </tr>\n",
       "    <tr>\n",
       "      <th>255</th>\n",
       "      <td>acer Aspire Vero(Green PC ) Core i5 11th Gen -...</td>\n",
       "      <td>Intel Core i5 Processor (11th Gen)8 GB DDR4 RA...</td>\n",
       "      <td>8</td>\n",
       "      <td>DDR4</td>\n",
       "      <td>Windows</td>\n",
       "      <td>512 GB SSD</td>\n",
       "      <td>15.6</td>\n",
       "      <td>Intel Core i5 Processor</td>\n",
       "    </tr>\n",
       "    <tr>\n",
       "      <th>487</th>\n",
       "      <td>Lenovo IdeaPad 1 Ryzen 5 Quad Core 3500U - (8 ...</td>\n",
       "      <td>AMD Ryzen 5 Quad Core Processor8 GB DDR4 RAM64...</td>\n",
       "      <td>8</td>\n",
       "      <td>DDR4</td>\n",
       "      <td>Windows</td>\n",
       "      <td>512 GB SSD</td>\n",
       "      <td>15.6</td>\n",
       "      <td>AMD Ryzen 5 Quad Core Processor</td>\n",
       "    </tr>\n",
       "    <tr>\n",
       "      <th>235</th>\n",
       "      <td>ASUS EeeBook 14 with NumberPad Pentium Silver ...</td>\n",
       "      <td>Intel Pentium Silver Processor8 GB DDR4 RAM64 ...</td>\n",
       "      <td>8</td>\n",
       "      <td>DDR4</td>\n",
       "      <td>Windows</td>\n",
       "      <td>256 GB SSD</td>\n",
       "      <td>15.6</td>\n",
       "      <td>Intel Pentium Silver Processor</td>\n",
       "    </tr>\n",
       "  </tbody>\n",
       "</table>\n",
       "</div>"
      ],
      "text/plain": [
       "                                               Product  \\\n",
       "421  ASUS ROG Strix G15 Ryzen 7 Octa Core AMD R7-48...   \n",
       "441  ASUS ROG Strix G15 (2022) with 90Whr Battery R...   \n",
       "255  acer Aspire Vero(Green PC ) Core i5 11th Gen -...   \n",
       "487  Lenovo IdeaPad 1 Ryzen 5 Quad Core 3500U - (8 ...   \n",
       "235  ASUS EeeBook 14 with NumberPad Pentium Silver ...   \n",
       "\n",
       "                                               Feature  RAM RAMType       OS  \\\n",
       "421  AMD Ryzen 7 Octa Core Processor16 GB DDR4 RAMW...   16    DDR4  Windows   \n",
       "441  AMD Ryzen 9 Octa Core Processor16 GB DDR5 RAMW...   16    DDR5  Windows   \n",
       "255  Intel Core i5 Processor (11th Gen)8 GB DDR4 RA...    8    DDR4  Windows   \n",
       "487  AMD Ryzen 5 Quad Core Processor8 GB DDR4 RAM64...    8    DDR4  Windows   \n",
       "235  Intel Pentium Silver Processor8 GB DDR4 RAM64 ...    8    DDR4  Windows   \n",
       "\n",
       "        Storage  ScreenSize                    ProcessorName  \n",
       "421    1 TB SSD        15.6  AMD Ryzen 7 Octa Core Processor  \n",
       "441    1 TB SSD        15.6  AMD Ryzen 9 Octa Core Processor  \n",
       "255  512 GB SSD        15.6          Intel Core i5 Processor  \n",
       "487  512 GB SSD        15.6  AMD Ryzen 5 Quad Core Processor  \n",
       "235  256 GB SSD        15.6   Intel Pentium Silver Processor  "
      ]
     },
     "execution_count": 112,
     "metadata": {},
     "output_type": "execute_result"
    }
   ],
   "source": [
    "X_train.head()"
   ]
  },
  {
   "cell_type": "code",
   "execution_count": 113,
   "id": "8dd6d154",
   "metadata": {},
   "outputs": [
    {
     "data": {
      "text/plain": [
       "Product           object\n",
       "Feature           object\n",
       "RAM                int32\n",
       "RAMType           object\n",
       "OS                object\n",
       "Storage           object\n",
       "ScreenSize       float64\n",
       "ProcessorName     object\n",
       "dtype: object"
      ]
     },
     "execution_count": 113,
     "metadata": {},
     "output_type": "execute_result"
    }
   ],
   "source": [
    "X_train.dtypes"
   ]
  },
  {
   "cell_type": "code",
   "execution_count": 114,
   "id": "1024836b",
   "metadata": {},
   "outputs": [
    {
     "data": {
      "text/html": [
       "<div>\n",
       "<style scoped>\n",
       "    .dataframe tbody tr th:only-of-type {\n",
       "        vertical-align: middle;\n",
       "    }\n",
       "\n",
       "    .dataframe tbody tr th {\n",
       "        vertical-align: top;\n",
       "    }\n",
       "\n",
       "    .dataframe thead th {\n",
       "        text-align: right;\n",
       "    }\n",
       "</style>\n",
       "<table border=\"1\" class=\"dataframe\">\n",
       "  <thead>\n",
       "    <tr style=\"text-align: right;\">\n",
       "      <th></th>\n",
       "      <th>Product</th>\n",
       "      <th>Feature</th>\n",
       "      <th>RAMType</th>\n",
       "      <th>OS</th>\n",
       "      <th>Storage</th>\n",
       "      <th>ProcessorName</th>\n",
       "    </tr>\n",
       "  </thead>\n",
       "  <tbody>\n",
       "    <tr>\n",
       "      <th>421</th>\n",
       "      <td>ASUS ROG Strix G15 Ryzen 7 Octa Core AMD R7-48...</td>\n",
       "      <td>AMD Ryzen 7 Octa Core Processor16 GB DDR4 RAMW...</td>\n",
       "      <td>DDR4</td>\n",
       "      <td>Windows</td>\n",
       "      <td>1 TB SSD</td>\n",
       "      <td>AMD Ryzen 7 Octa Core Processor</td>\n",
       "    </tr>\n",
       "    <tr>\n",
       "      <th>441</th>\n",
       "      <td>ASUS ROG Strix G15 (2022) with 90Whr Battery R...</td>\n",
       "      <td>AMD Ryzen 9 Octa Core Processor16 GB DDR5 RAMW...</td>\n",
       "      <td>DDR5</td>\n",
       "      <td>Windows</td>\n",
       "      <td>1 TB SSD</td>\n",
       "      <td>AMD Ryzen 9 Octa Core Processor</td>\n",
       "    </tr>\n",
       "    <tr>\n",
       "      <th>255</th>\n",
       "      <td>acer Aspire Vero(Green PC ) Core i5 11th Gen -...</td>\n",
       "      <td>Intel Core i5 Processor (11th Gen)8 GB DDR4 RA...</td>\n",
       "      <td>DDR4</td>\n",
       "      <td>Windows</td>\n",
       "      <td>512 GB SSD</td>\n",
       "      <td>Intel Core i5 Processor</td>\n",
       "    </tr>\n",
       "    <tr>\n",
       "      <th>487</th>\n",
       "      <td>Lenovo IdeaPad 1 Ryzen 5 Quad Core 3500U - (8 ...</td>\n",
       "      <td>AMD Ryzen 5 Quad Core Processor8 GB DDR4 RAM64...</td>\n",
       "      <td>DDR4</td>\n",
       "      <td>Windows</td>\n",
       "      <td>512 GB SSD</td>\n",
       "      <td>AMD Ryzen 5 Quad Core Processor</td>\n",
       "    </tr>\n",
       "    <tr>\n",
       "      <th>235</th>\n",
       "      <td>ASUS EeeBook 14 with NumberPad Pentium Silver ...</td>\n",
       "      <td>Intel Pentium Silver Processor8 GB DDR4 RAM64 ...</td>\n",
       "      <td>DDR4</td>\n",
       "      <td>Windows</td>\n",
       "      <td>256 GB SSD</td>\n",
       "      <td>Intel Pentium Silver Processor</td>\n",
       "    </tr>\n",
       "  </tbody>\n",
       "</table>\n",
       "</div>"
      ],
      "text/plain": [
       "                                               Product  \\\n",
       "421  ASUS ROG Strix G15 Ryzen 7 Octa Core AMD R7-48...   \n",
       "441  ASUS ROG Strix G15 (2022) with 90Whr Battery R...   \n",
       "255  acer Aspire Vero(Green PC ) Core i5 11th Gen -...   \n",
       "487  Lenovo IdeaPad 1 Ryzen 5 Quad Core 3500U - (8 ...   \n",
       "235  ASUS EeeBook 14 with NumberPad Pentium Silver ...   \n",
       "\n",
       "                                               Feature RAMType       OS  \\\n",
       "421  AMD Ryzen 7 Octa Core Processor16 GB DDR4 RAMW...    DDR4  Windows   \n",
       "441  AMD Ryzen 9 Octa Core Processor16 GB DDR5 RAMW...    DDR5  Windows   \n",
       "255  Intel Core i5 Processor (11th Gen)8 GB DDR4 RA...    DDR4  Windows   \n",
       "487  AMD Ryzen 5 Quad Core Processor8 GB DDR4 RAM64...    DDR4  Windows   \n",
       "235  Intel Pentium Silver Processor8 GB DDR4 RAM64 ...    DDR4  Windows   \n",
       "\n",
       "        Storage                    ProcessorName  \n",
       "421    1 TB SSD  AMD Ryzen 7 Octa Core Processor  \n",
       "441    1 TB SSD  AMD Ryzen 9 Octa Core Processor  \n",
       "255  512 GB SSD          Intel Core i5 Processor  \n",
       "487  512 GB SSD  AMD Ryzen 5 Quad Core Processor  \n",
       "235  256 GB SSD   Intel Pentium Silver Processor  "
      ]
     },
     "execution_count": 114,
     "metadata": {},
     "output_type": "execute_result"
    }
   ],
   "source": [
    "X_train_cat = X_train.select_dtypes(include=['object'])\n",
    "\n",
    "X_train_cat.head()"
   ]
  },
  {
   "cell_type": "code",
   "execution_count": 115,
   "id": "5bbe8b7b",
   "metadata": {},
   "outputs": [
    {
     "data": {
      "text/html": [
       "<div>\n",
       "<style scoped>\n",
       "    .dataframe tbody tr th:only-of-type {\n",
       "        vertical-align: middle;\n",
       "    }\n",
       "\n",
       "    .dataframe tbody tr th {\n",
       "        vertical-align: top;\n",
       "    }\n",
       "\n",
       "    .dataframe thead th {\n",
       "        text-align: right;\n",
       "    }\n",
       "</style>\n",
       "<table border=\"1\" class=\"dataframe\">\n",
       "  <thead>\n",
       "    <tr style=\"text-align: right;\">\n",
       "      <th></th>\n",
       "      <th>ScreenSize</th>\n",
       "    </tr>\n",
       "  </thead>\n",
       "  <tbody>\n",
       "    <tr>\n",
       "      <th>421</th>\n",
       "      <td>15.6</td>\n",
       "    </tr>\n",
       "    <tr>\n",
       "      <th>441</th>\n",
       "      <td>15.6</td>\n",
       "    </tr>\n",
       "    <tr>\n",
       "      <th>255</th>\n",
       "      <td>15.6</td>\n",
       "    </tr>\n",
       "    <tr>\n",
       "      <th>487</th>\n",
       "      <td>15.6</td>\n",
       "    </tr>\n",
       "    <tr>\n",
       "      <th>235</th>\n",
       "      <td>15.6</td>\n",
       "    </tr>\n",
       "  </tbody>\n",
       "</table>\n",
       "</div>"
      ],
      "text/plain": [
       "     ScreenSize\n",
       "421        15.6\n",
       "441        15.6\n",
       "255        15.6\n",
       "487        15.6\n",
       "235        15.6"
      ]
     },
     "execution_count": 115,
     "metadata": {},
     "output_type": "execute_result"
    }
   ],
   "source": [
    "X_train_num = X_train.select_dtypes(include=['int64', 'float64'])\n",
    "\n",
    "X_train_num.head()"
   ]
  },
  {
   "cell_type": "code",
   "execution_count": 117,
   "id": "0d224d4b",
   "metadata": {},
   "outputs": [],
   "source": [
    "from sklearn.model_selection import train_test_split\n",
    "from sklearn.compose import ColumnTransformer\n",
    "from sklearn.pipeline import Pipeline\n",
    "from sklearn.preprocessing import OneHotEncoder\n",
    "from sklearn.metrics import r2_score,mean_absolute_error\n",
    "from sklearn.linear_model import LinearRegression\n",
    "from sklearn.neighbors import KNeighborsRegressor\n",
    "from sklearn.tree import DecisionTreeRegressor\n",
    "from sklearn.ensemble import RandomForestRegressor\n",
    "#from xgboost import XGBRegressor"
   ]
  },
  {
   "cell_type": "markdown",
   "id": "bf042a77",
   "metadata": {},
   "source": [
    "##### c. Scaling the Numerical Features"
   ]
  },
  {
   "cell_type": "code",
   "execution_count": 118,
   "id": "ef1f5f89",
   "metadata": {},
   "outputs": [
    {
     "data": {
      "text/html": [
       "<div>\n",
       "<style scoped>\n",
       "    .dataframe tbody tr th:only-of-type {\n",
       "        vertical-align: middle;\n",
       "    }\n",
       "\n",
       "    .dataframe tbody tr th {\n",
       "        vertical-align: top;\n",
       "    }\n",
       "\n",
       "    .dataframe thead th {\n",
       "        text-align: right;\n",
       "    }\n",
       "</style>\n",
       "<table border=\"1\" class=\"dataframe\">\n",
       "  <thead>\n",
       "    <tr style=\"text-align: right;\">\n",
       "      <th></th>\n",
       "      <th>ScreenSize</th>\n",
       "    </tr>\n",
       "  </thead>\n",
       "  <tbody>\n",
       "    <tr>\n",
       "      <th>421</th>\n",
       "      <td>15.6</td>\n",
       "    </tr>\n",
       "    <tr>\n",
       "      <th>441</th>\n",
       "      <td>15.6</td>\n",
       "    </tr>\n",
       "    <tr>\n",
       "      <th>255</th>\n",
       "      <td>15.6</td>\n",
       "    </tr>\n",
       "    <tr>\n",
       "      <th>487</th>\n",
       "      <td>15.6</td>\n",
       "    </tr>\n",
       "    <tr>\n",
       "      <th>235</th>\n",
       "      <td>15.6</td>\n",
       "    </tr>\n",
       "  </tbody>\n",
       "</table>\n",
       "</div>"
      ],
      "text/plain": [
       "     ScreenSize\n",
       "421        15.6\n",
       "441        15.6\n",
       "255        15.6\n",
       "487        15.6\n",
       "235        15.6"
      ]
     },
     "execution_count": 118,
     "metadata": {},
     "output_type": "execute_result"
    }
   ],
   "source": [
    "X_train_num.head()"
   ]
  },
  {
   "cell_type": "code",
   "execution_count": 119,
   "id": "eac132ec",
   "metadata": {},
   "outputs": [
    {
     "data": {
      "text/html": [
       "<div>\n",
       "<style scoped>\n",
       "    .dataframe tbody tr th:only-of-type {\n",
       "        vertical-align: middle;\n",
       "    }\n",
       "\n",
       "    .dataframe tbody tr th {\n",
       "        vertical-align: top;\n",
       "    }\n",
       "\n",
       "    .dataframe thead th {\n",
       "        text-align: right;\n",
       "    }\n",
       "</style>\n",
       "<table border=\"1\" class=\"dataframe\">\n",
       "  <thead>\n",
       "    <tr style=\"text-align: right;\">\n",
       "      <th></th>\n",
       "      <th>ScreenSize</th>\n",
       "    </tr>\n",
       "  </thead>\n",
       "  <tbody>\n",
       "    <tr>\n",
       "      <th>421</th>\n",
       "      <td>0.465787</td>\n",
       "    </tr>\n",
       "    <tr>\n",
       "      <th>441</th>\n",
       "      <td>0.465787</td>\n",
       "    </tr>\n",
       "    <tr>\n",
       "      <th>255</th>\n",
       "      <td>0.465787</td>\n",
       "    </tr>\n",
       "    <tr>\n",
       "      <th>487</th>\n",
       "      <td>0.465787</td>\n",
       "    </tr>\n",
       "    <tr>\n",
       "      <th>235</th>\n",
       "      <td>0.465787</td>\n",
       "    </tr>\n",
       "  </tbody>\n",
       "</table>\n",
       "</div>"
      ],
      "text/plain": [
       "     ScreenSize\n",
       "421    0.465787\n",
       "441    0.465787\n",
       "255    0.465787\n",
       "487    0.465787\n",
       "235    0.465787"
      ]
     },
     "execution_count": 119,
     "metadata": {},
     "output_type": "execute_result"
    }
   ],
   "source": [
    "# scaling the numerical features\n",
    "from sklearn.preprocessing import StandardScaler\n",
    "\n",
    "scaler = StandardScaler()\n",
    "\n",
    "# column names are (annoyingly) lost after Scaling\n",
    "# (i.e. the dataframe is converted to a numpy ndarray)\n",
    "\n",
    "X_train_num_rescaled = pd.DataFrame(scaler.fit_transform(X_train_num), \n",
    "                                    columns = X_train_num.columns, \n",
    "                                    index = X_train_num.index)\n",
    "\n",
    "X_train_num_rescaled.head()"
   ]
  },
  {
   "cell_type": "code",
   "execution_count": 120,
   "id": "6e4146f9",
   "metadata": {},
   "outputs": [
    {
     "data": {
      "text/html": [
       "<div>\n",
       "<style scoped>\n",
       "    .dataframe tbody tr th:only-of-type {\n",
       "        vertical-align: middle;\n",
       "    }\n",
       "\n",
       "    .dataframe tbody tr th {\n",
       "        vertical-align: top;\n",
       "    }\n",
       "\n",
       "    .dataframe thead th {\n",
       "        text-align: right;\n",
       "    }\n",
       "</style>\n",
       "<table border=\"1\" class=\"dataframe\">\n",
       "  <thead>\n",
       "    <tr style=\"text-align: right;\">\n",
       "      <th></th>\n",
       "      <th>ScreenSize</th>\n",
       "    </tr>\n",
       "  </thead>\n",
       "  <tbody>\n",
       "    <tr>\n",
       "      <th>count</th>\n",
       "      <td>488.000000</td>\n",
       "    </tr>\n",
       "    <tr>\n",
       "      <th>mean</th>\n",
       "      <td>15.314754</td>\n",
       "    </tr>\n",
       "    <tr>\n",
       "      <th>std</th>\n",
       "      <td>0.613024</td>\n",
       "    </tr>\n",
       "    <tr>\n",
       "      <th>min</th>\n",
       "      <td>14.000000</td>\n",
       "    </tr>\n",
       "    <tr>\n",
       "      <th>25%</th>\n",
       "      <td>15.600000</td>\n",
       "    </tr>\n",
       "    <tr>\n",
       "      <th>50%</th>\n",
       "      <td>15.600000</td>\n",
       "    </tr>\n",
       "    <tr>\n",
       "      <th>75%</th>\n",
       "      <td>15.600000</td>\n",
       "    </tr>\n",
       "    <tr>\n",
       "      <th>max</th>\n",
       "      <td>15.600000</td>\n",
       "    </tr>\n",
       "  </tbody>\n",
       "</table>\n",
       "</div>"
      ],
      "text/plain": [
       "       ScreenSize\n",
       "count  488.000000\n",
       "mean    15.314754\n",
       "std      0.613024\n",
       "min     14.000000\n",
       "25%     15.600000\n",
       "50%     15.600000\n",
       "75%     15.600000\n",
       "max     15.600000"
      ]
     },
     "execution_count": 120,
     "metadata": {},
     "output_type": "execute_result"
    }
   ],
   "source": [
    "X_train_num.describe()"
   ]
  },
  {
   "cell_type": "code",
   "execution_count": 121,
   "id": "410cb996",
   "metadata": {},
   "outputs": [
    {
     "name": "stdout",
     "output_type": "stream",
     "text": [
      "Number of Numerical Features: 1\n",
      "Mean of each column: [15.3147541]\n",
      "Std of each column: [0.61239548]\n"
     ]
    }
   ],
   "source": [
    "print(\"Number of Numerical Features:\", scaler.n_features_in_)\n",
    "print(\"Mean of each column:\", scaler.mean_)\n",
    "print(\"Std of each column:\", np.sqrt(scaler.var_))"
   ]
  },
  {
   "cell_type": "markdown",
   "id": "ee7a4ea5",
   "metadata": {},
   "source": [
    "##### d. Applying OneHotEncoding on Categorical Columns"
   ]
  },
  {
   "cell_type": "code",
   "execution_count": 122,
   "id": "1c8da576",
   "metadata": {
    "scrolled": true
   },
   "outputs": [
    {
     "data": {
      "text/plain": [
       "Lenovo IdeaPad 3 Core i3 11th Gen - (8 GB/256 GB SSD/Windows 11 Home) 14ITL05 Thin and Light Laptop          0.049180\n",
       "ASUS ROG Strix G15 (2022) with 90Whr Battery Ryzen 9 Octa Core 6900HX - (16 GB/1 TB SSD/Windows 11 Hom...    0.045082\n",
       "Lenovo IdeaPad 3 Core i3 11th Gen - (8 GB/512 GB SSD/Windows 11 Home) 82H801L7IN | 82H802FJIN | 82H802...    0.043033\n",
       "RedmiBook Pro Core i5 11th Gen - (8 GB/512 GB SSD/Windows 11 Home) Thin and Light Laptop                     0.043033\n",
       "ASUS ROG Strix G15 Advantage Edition with 90Whr Battery Ryzen 9 Octa Core 5980HX - (16 GB/1 TB SSD/Win...    0.040984\n",
       "                                                                                                               ...   \n",
       "Lenovo Core i5 11th Gen - (16 GB/512 GB SSD/Windows 10 Home) 15ITL05 Thin and Light Laptop                   0.002049\n",
       "ASUS ROG Zephyrus M16 (2022) with 90Whr Battery Core i7 12th Gen - (16 GB/1 TB SSD/Windows 11 Home/6 G...    0.002049\n",
       "ASUS Ryzen 5 Hexa Core - (8 GB/1 TB HDD/256 GB SSD/Windows 10 Home) KM513UA-BQ512TS Thin and Light Lap...    0.002049\n",
       "Infinix X1 Slim Series Core i5 10th Gen - (8 GB/512 GB SSD/Windows 11 Home) XL21 Thin and Light Laptop       0.002049\n",
       "MSI Stealth GS77 Core i7 12th Gen - (32 GB/2 TB SSD/Windows 11 Home/8 GB Graphics/NVIDIA GeForce RTX 3...    0.002049\n",
       "Name: Product, Length: 286, dtype: float64"
      ]
     },
     "execution_count": 122,
     "metadata": {},
     "output_type": "execute_result"
    }
   ],
   "source": [
    "X_train_cat['Product'].value_counts(normalize=True)\n"
   ]
  },
  {
   "cell_type": "code",
   "execution_count": 123,
   "id": "c0dff468",
   "metadata": {},
   "outputs": [
    {
     "data": {
      "text/plain": [
       "Intel Core i3 Processor (11th Gen)8 GB DDR4 RAM64 bit Windows 11 Operating System256 GB SSD35.56 cm (14 inch) DisplayOffice Home and Student 20212 Year Onsite�Warranty                                      0.049180\n",
       "AMD Ryzen 9 Octa Core Processor16 GB DDR5 RAMWindows 11 Operating System1 TB SSD39.62 cm (15.6 inch) DisplayMicrosoft Office Home & Student1 Year Onsite Warranty                                            0.045082\n",
       "Intel Core i3 Processor (11th Gen)8 GB DDR4 RAM64 bit Windows 11 Operating System512 GB SSD39.62 cm (15.6 inch) DisplayOffice Home and Student 20212 Year Onsite�Warranty                                    0.043033\n",
       "Intel Core i5 Processor (11th Gen)8 GB DDR4 RAMWindows 11 Operating System512 GB SSD39.62 cm (15.6 inch) DisplayMS Office Home & Student 2019, Mi Smart Share, DTS Audio processing1 Year Onsite Warranty    0.043033\n",
       "AMD Ryzen 9 Octa Core Processor16 GB DDR4 RAMWindows 11 Operating System1 TB SSD39.62 cm (15.6 inch) DisplayMicrosoft Office Home & Student1 Year Onsite Warranty                                            0.040984\n",
       "                                                                                                                                                                                                               ...   \n",
       "Intel Core i7 Processor (12th Gen)16 GB DDR5 RAM64 bit Windows 11 Operating System1 TB SSD40.64 cm (16 Inch) Display1 Year Onsite Warranty                                                                   0.002049\n",
       "AMD Ryzen 5 Hexa Core Processor8 GB DDR4 RAM64 bit Windows 10 Operating System1 TB HDD|256 GB SSD39.62 cm (15.6 inch) DisplayMicrosoft Office Home and Student 20191 Year Onsite Warranty                    0.002049\n",
       "Intel Core i5 Processor (10th Gen)8 GB LPDDR4X RAM64 bit Windows 11 Operating System512 GB SSD35.56 cm (14 Inch) DisplayNA1 Year Onsite Warranty                                                             0.002049\n",
       "Intel Core i3 Processor (11th Gen)8 GB DDR4 RAM64 bit Windows 11 Operating System256 GB SSD39.62 cm (15.6 Inch) Display2 Years Onsite�Warranty                                                               0.002049\n",
       "Intel Core i7 Processor (12th Gen)32 GB DDR5 RAM64 bit Windows 11 Operating System2 TB SSD43.94 cm (17.3 inch) Display2 Year                                                                                 0.002049\n",
       "Name: Feature, Length: 277, dtype: float64"
      ]
     },
     "execution_count": 123,
     "metadata": {},
     "output_type": "execute_result"
    }
   ],
   "source": [
    "X_train_cat['Feature'].value_counts(normalize=True)\n"
   ]
  },
  {
   "cell_type": "code",
   "execution_count": 124,
   "id": "8419fa69",
   "metadata": {},
   "outputs": [
    {
     "data": {
      "text/plain": [
       "DDR4            0.848361\n",
       "DDR5            0.135246\n",
       "DDR4DDR4        0.010246\n",
       "DDR4DDR6DDR4    0.004098\n",
       "DDR4DDR5DDR4    0.002049\n",
       "Name: RAMType, dtype: float64"
      ]
     },
     "execution_count": 124,
     "metadata": {},
     "output_type": "execute_result"
    }
   ],
   "source": [
    "X_train_cat['RAMType'].value_counts(normalize=True)\n"
   ]
  },
  {
   "cell_type": "code",
   "execution_count": 125,
   "id": "80132768",
   "metadata": {},
   "outputs": [
    {
     "data": {
      "text/plain": [
       "Windows    0.987705\n",
       "Mac        0.010246\n",
       "Others     0.002049\n",
       "Name: OS, dtype: float64"
      ]
     },
     "execution_count": 125,
     "metadata": {},
     "output_type": "execute_result"
    }
   ],
   "source": [
    "X_train_cat['OS'].value_counts(normalize=True)\n"
   ]
  },
  {
   "cell_type": "code",
   "execution_count": 126,
   "id": "ab9f55f3",
   "metadata": {},
   "outputs": [
    {
     "data": {
      "text/plain": [
       "512 GB SSD            0.526639\n",
       "1 TB SSD              0.233607\n",
       "256 GB SSD            0.157787\n",
       "1 TB HDD256 GB SSD    0.036885\n",
       "1 TB HDD              0.022541\n",
       "128 GB SSD            0.010246\n",
       "2 TB SSD              0.010246\n",
       "1 TB HDD512 GB SSD    0.002049\n",
       "Name: Storage, dtype: float64"
      ]
     },
     "execution_count": 126,
     "metadata": {},
     "output_type": "execute_result"
    }
   ],
   "source": [
    "X_train_cat['Storage'].value_counts(normalize=True)\n"
   ]
  },
  {
   "cell_type": "code",
   "execution_count": 127,
   "id": "2b5c5ffb",
   "metadata": {},
   "outputs": [
    {
     "data": {
      "text/plain": [
       "Intel Core i5 Processor              0.223361\n",
       "Intel Core i3 Processor              0.202869\n",
       "AMD Ryzen 9 Octa Core Processor      0.129098\n",
       "AMD Ryzen 7 Octa Core Processor      0.102459\n",
       "AMD Ryzen 5 Hexa Core Processor      0.069672\n",
       "Intel Core i7 Processor              0.067623\n",
       "AMD Ryzen 3 Dual Core Processor      0.057377\n",
       "                                     0.051230\n",
       "AMD Ryzen 5 Quad Core Processor      0.043033\n",
       "Intel Celeron Dual Core Processor    0.014344\n",
       "Intel Core i9 Processor              0.008197\n",
       "Intel Celeron Quad Core Processor    0.006148\n",
       "Intel Pentium Quad Core Processor    0.006148\n",
       "AMD Athlon Dual Core Processor       0.004098\n",
       "AMD Ryzen 3 Quad Core Processor      0.004098\n",
       "Intel Pentium Silver Processor       0.004098\n",
       "AMD Ryzen 3 Hexa Core Processor      0.002049\n",
       "AMD Dual Core Processor              0.002049\n",
       "AMD Ryzen 5 Dual Core Processor      0.002049\n",
       "Name: ProcessorName, dtype: float64"
      ]
     },
     "execution_count": 127,
     "metadata": {},
     "output_type": "execute_result"
    }
   ],
   "source": [
    "X_train_cat['ProcessorName'].value_counts(normalize=True)\n"
   ]
  },
  {
   "cell_type": "code",
   "execution_count": 128,
   "id": "385866a8",
   "metadata": {},
   "outputs": [
    {
     "name": "stderr",
     "output_type": "stream",
     "text": [
      "C:\\Users\\Admin\\anaconda3\\lib\\site-packages\\sklearn\\preprocessing\\_encoders.py:868: FutureWarning: `sparse` was renamed to `sparse_output` in version 1.2 and will be removed in 1.4. `sparse_output` is ignored unless you leave `sparse` to its default value.\n",
      "  warnings.warn(\n"
     ]
    },
    {
     "data": {
      "text/html": [
       "<div>\n",
       "<style scoped>\n",
       "    .dataframe tbody tr th:only-of-type {\n",
       "        vertical-align: middle;\n",
       "    }\n",
       "\n",
       "    .dataframe tbody tr th {\n",
       "        vertical-align: top;\n",
       "    }\n",
       "\n",
       "    .dataframe thead th {\n",
       "        text-align: right;\n",
       "    }\n",
       "</style>\n",
       "<table border=\"1\" class=\"dataframe\">\n",
       "  <thead>\n",
       "    <tr style=\"text-align: right;\">\n",
       "      <th></th>\n",
       "    </tr>\n",
       "  </thead>\n",
       "  <tbody>\n",
       "    <tr>\n",
       "      <th>421</th>\n",
       "    </tr>\n",
       "    <tr>\n",
       "      <th>441</th>\n",
       "    </tr>\n",
       "    <tr>\n",
       "      <th>255</th>\n",
       "    </tr>\n",
       "    <tr>\n",
       "      <th>487</th>\n",
       "    </tr>\n",
       "    <tr>\n",
       "      <th>235</th>\n",
       "    </tr>\n",
       "  </tbody>\n",
       "</table>\n",
       "</div>"
      ],
      "text/plain": [
       "Empty DataFrame\n",
       "Columns: []\n",
       "Index: [421, 441, 255, 487, 235]"
      ]
     },
     "execution_count": 128,
     "metadata": {},
     "output_type": "execute_result"
    }
   ],
   "source": [
    "# OneHotEncoding the categorical features\n",
    "\n",
    "from sklearn.preprocessing import OneHotEncoder\n",
    "\n",
    "encoder_ = OneHotEncoder(drop='first', min_frequency=3000, sparse=False)\n",
    "\n",
    "# column names are (annoyingly) lost after OneHotEncoding\n",
    "# (i.e. the dataframe is converted to a numpy ndarray)\n",
    "\n",
    "X_train_cat_ohe = pd.DataFrame(encoder_.fit_transform(X_train_cat), \n",
    "                               columns=encoder_.get_feature_names_out(X_train_cat.columns), \n",
    "                               index = X_train_cat.index)\n",
    "\n",
    "X_train_cat_ohe.head()"
   ]
  },
  {
   "cell_type": "code",
   "execution_count": 129,
   "id": "d3933f4f",
   "metadata": {},
   "outputs": [
    {
     "data": {
      "text/plain": [
       "[array(['ALIENWARE Core i7 10th Gen - (16 GB/1 TB SSD/Windows 10 Home/6 GB Graphics/NVIDIA GeForce RTX 2060/300...',\n",
       "        'ALIENWARE Core i9 10th Gen - (32 GB/1 TB SSD/Windows 10 Home/8 GB Graphics/NVIDIA GeForce RTX 2080 wit...',\n",
       "        'APPLE 2020 Macbook Air M1 - (8 GB/256 GB SSD/Mac OS Big Sur) MGN63HN/A',\n",
       "        'APPLE 2020 Macbook Air M1 - (8 GB/256 GB SSD/Mac OS Big Sur) MGN93HN/A',\n",
       "        'APPLE 2020 Macbook Air M1 - (8 GB/512 GB SSD/Mac OS Big Sur) MGNE3HN/A',\n",
       "        'APPLE MacBook Air M1 - (16 GB/512 GB SSD/Mac OS Big Sur) Z124J006KD',\n",
       "        'APPLE MacBook Pro M1 - (8 GB/1 TB SSD/Mac OS Big Sur) Z11B0008S',\n",
       "        'ASUS (2022) Celeron Dual Core - (4 GB/128 GB SSD/Windows 11 Home) BR1100FKA-BP1104W Laptop',\n",
       "        'ASUS ASUS TUF Dash Core i5 11th Gen - (16 GB/512 GB SSD/Windows 10 Home/4 GB Graphics/NVIDIA GeForce R...',\n",
       "        'ASUS Core i3 11th Gen - (4 GB/256 GB SSD/Windows 11 Home) X415EA-EK302WS Thin and Light Laptop',\n",
       "        'ASUS Core i3 11th Gen - (8 GB/256 GB SSD/Windows 10 Home) X515EA-BR312TS Thin and Light Laptop',\n",
       "        'ASUS Core i3 12th Gen - (8 GB/256 GB SSD/Windows 11 Home) X1402ZA-EK391WS Laptop',\n",
       "        'ASUS Core i5 10th Gen - (8 GB/256 GB SSD/Windows 11 Home) X515JA-BQ511WS Thin and Light Laptop',\n",
       "        'ASUS Core i5 10th Gen - (8 GB/512 GB SSD/Windows 10 Home/2 GB Graphics) X515JF-BQ521T Thin and Light L...',\n",
       "        'ASUS Core i5 10th Gen - (8 GB/512 GB SSD/Windows 11 Home) X415JA-EK522WS Laptop',\n",
       "        'ASUS Core i5 11th Gen - (8 GB/1 TB SSD/Windows 11 Home/4 GB Graphics/NVIDIA GeForce RTX RTX 3050) FX50...',\n",
       "        'ASUS Core i5 11th Gen - (8 GB/256 GB SSD/Windows 11 Home) X415EA-EB502WS Laptop',\n",
       "        'ASUS Core i5 12th Gen - (16 GB/512 GB SSD/Windows 11 Home/4 GB Graphics) K6500ZE-L501WS Laptop',\n",
       "        'ASUS Core i7 10th Gen - (32 GB/1 TB SSD/Windows 10 Home/6 GB Graphics/NVIDIA GeForce RTX 2060) UX581LV...',\n",
       "        'ASUS Core i7 11th Gen - (16 GB/512 GB SSD/Windows 11 Home) X515EA-EJ701WS Thin and Light Laptop',\n",
       "        'ASUS Core i7 11th Gen - (8 GB/1 TB HDD/256 GB SSD/Windows 10 Home) K513EA-L703TS Thin and Light Laptop',\n",
       "        'ASUS EeeBook 14 with NumberPad Pentium Silver - (8 GB/256 GB SSD/Windows 11 Home) E410KA-BV103WS Thin ...',\n",
       "        'ASUS ROG Flow X13 (2021) Ryzen 9 Octa Core AMD R9-5980HS - (32 GB/1 TB SSD/Windows 10 Home/4 GB Graphi...',\n",
       "        'ASUS ROG Flow X13 (2022) Ryzen 9 Octa Core 6900HS - (16 GB/1 TB SSD/Windows 11 Home/4 GB Graphics/AMD ...',\n",
       "        'ASUS ROG Flow X16 (2022) with 90Whr Battery Ryzen 7 Octa Core 6800HS - (16 GB/1 TB SSD/Windows 11 Home...',\n",
       "        'ASUS ROG Flow X16 (2022) with 90Whr Battery Ryzen 9 Octa Core 6900HS - (16 GB/1 TB SSD/Windows 11 Home...',\n",
       "        'ASUS ROG Strix G15 (2022) Ryzen 7 Octa Core AMD R7-6800H - (16 GB/512 GB SSD/Windows 11 Home/4 GB Grap...',\n",
       "        'ASUS ROG Strix G15 (2022) with 90Whr Battery Ryzen 9 Octa Core 6900HX - (16 GB/1 TB SSD/Windows 11 Hom...',\n",
       "        'ASUS ROG Strix G15 Advantage Edition Ryzen 9 Octa Core AMD R9-5900HX - (16 GB/1 TB SSD/Windows 10 Home...',\n",
       "        'ASUS ROG Strix G15 Advantage Edition with 90Whr Battery Ryzen 9 Octa Core 5980HX - (16 GB/1 TB SSD/Win...',\n",
       "        'ASUS ROG Strix G15 Ryzen 7 Octa Core AMD R7-4800H - (16 GB/1 TB SSD/Windows 11 Home/4 GB Graphics/NVID...',\n",
       "        'ASUS ROG Zephyrus Duo 16 (2022) with 90Whr Battery Ryzen 7 Octa Core 6800H - (32 GB/2 TB SSD/Windows 1...',\n",
       "        'ASUS ROG Zephyrus Duo 16 (2022) with 90Whr Battery Ryzen 9 Octa Core 6900HX - (32 GB/2 TB SSD/Windows ...',\n",
       "        'ASUS ROG Zephyrus G15 (2022) with 90Whr Battery Ryzen 7 Octa Core 6800HS - (16 GB/1 TB SSD/Windows 11 ...',\n",
       "        'ASUS ROG Zephyrus G15 (2022) with 90Whr Battery Ryzen 9 Octa Core 6900HS - (16 GB/1 TB SSD/Windows 11 ...',\n",
       "        'ASUS ROG Zephyrus G15 Ryzen 9 Octa Core 6900HS - (16 GB/1 TB SSD/Windows 11 Home/8 GB Graphics/NVIDIA ...',\n",
       "        'ASUS ROG Zephyrus M16 (2022) with 90Whr Battery Core i7 12th Gen - (16 GB/1 TB SSD/Windows 11 Home/6 G...',\n",
       "        'ASUS ROG Zephyrus M16 Core i7 11th Gen - (16 GB/1 TB SSD/Windows 10 Home/4 GB Graphics/NVIDIA GeForce ...',\n",
       "        'ASUS Ryzen 3 Dual Core - (8 GB/256 GB SSD/Windows 11 Home) X512DA-BQ302WS Laptop',\n",
       "        'ASUS Ryzen 5 Dual Core 5th Gen - (8 GB/512 GB SSD/Windows 11 Home/4 GB Graphics/NVIDIA GeForce GTX 165...',\n",
       "        'ASUS Ryzen 5 Hexa Core - (8 GB/1 TB HDD/256 GB SSD/Windows 10 Home) KM513UA-BQ512TS Thin and Light Lap...',\n",
       "        'ASUS Ryzen 5 Hexa Core 10th Gen - (8 GB/512 GB SSD/Windows 11 Home/4 GB Graphics/NVIDIA GeForce GTX NV...',\n",
       "        'ASUS Ryzen 9 Octa Core 10th Gen - (16 GB/512 GB SSD/Windows 11 Home/6 GB Graphics/NVIDIA GeForce RTX R...',\n",
       "        'ASUS TUF GAMING F15 Core i5 10th Gen - (16 GB/512 GB SSD/Windows 11 Home/4 GB Graphics/NVIDIA GeForce ...',\n",
       "        'ASUS TUF Gaming A15 Ryzen 5 Hexa Core AMD R5-4600H - (8 GB/1 TB SSD/Windows 11 Home/4 GB Graphics/NVID...',\n",
       "        'ASUS TUF Gaming A15 with 90Whr Battery Ryzen 7 Octa Core 5800H - (16 GB/512 GB SSD/Windows 11 Home/6 G...',\n",
       "        'ASUS TUF Gaming A17 with 90Whr Battery Ryzen 5 Hexa Core AMD R5-4600H - (8 GB/512 GB SSD/Windows 11 Ho...',\n",
       "        'ASUS TUF Gaming A17 with 90Whr Battery Ryzen 7 Octa Core AMD R7-4800H - (8 GB/512 GB SSD/Windows 11 Ho...',\n",
       "        'ASUS TUF Gaming F15 Core i5 10th Gen - (16 GB/512 GB SSD/Windows 10 Home/4 GB Graphics/NVIDIA GeForce ...',\n",
       "        'ASUS TUF Gaming F15 Core i5 10th Gen - (8 GB/512 GB SSD/Windows 10 Home/4 GB Graphics/NVIDIA GeForce G...',\n",
       "        'ASUS TUF Gaming F15 Core i5 10th Gen - (8 GB/512 GB SSD/Windows 11 Home/4 GB Graphics/NVIDIA GeForce G...',\n",
       "        'ASUS TUF Gaming F15 Core i5 11th Gen - (8 GB/1 TB SSD/Windows 10 Home/4 GB Graphics/NVIDIA GeForce RTX...',\n",
       "        'ASUS TUF Gaming F15 Core i7 11th Gen - (16 GB/1 TB SSD/Windows 10 Home/4 GB Graphics/NVIDIA GeForce RT...',\n",
       "        'ASUS TUF Gaming F17 (2022) Core i7 12th Gen - (16 GB/1 TB SSD/Windows 11 Home/6 GB Graphics/NVIDIA GeF...',\n",
       "        'ASUS TUF Gaming F17 (2022) with 90Whr Battery Core i7 12th Gen - (16 GB/1 TB SSD/Windows 11 Home/6 GB ...',\n",
       "        'ASUS VivoBook 14 (2021) Celeron Dual Core - (4 GB/256 GB SSD/Windows 11 Home) X415MA-BV011W Thin and L...',\n",
       "        'ASUS VivoBook 14 (2022) Core i3 12th Gen - (8 GB/512 GB SSD/Windows 11 Home) X1402ZA-EB312WS Thin and ...',\n",
       "        'ASUS VivoBook 15 (2021) Core i5 10th Gen - (8 GB/512 GB SSD/Windows 11 Home) X515JA-BQ521WS Thin and L...',\n",
       "        'ASUS VivoBook 15 (2022) Core i3 10th Gen - (8 GB/512 GB SSD/Windows 11 Home) X515JA-BQ322WS Thin and L...',\n",
       "        'ASUS VivoBook 15 (2022) Core i3 10th Gen - (8 GB/512 GB SSD/Windows 11 Home) X515JA-EJ362WS | X515JA-E...',\n",
       "        'ASUS VivoBook 15 (2022) Core i5 11th Gen - (8 GB/1 TB HDD/256 GB SSD/Windows 11 Home) X515EA-EJ502WS T...',\n",
       "        'ASUS VivoBook 15 Core i3 10th Gen - (4 GB/1 TB HDD/Windows 10 Home) X515JA-BR381T Thin and Light Lapto...',\n",
       "        'ASUS VivoBook 15 Core i3 10th Gen - (8 GB/1 TB HDD/Windows 10 Home) X515JA-EJ322TS Thin and Light Lapt...',\n",
       "        'ASUS VivoBook 15 Core i5 10th Gen - (8 GB/1 TB HDD/Windows 10 Home) X515JA-EJ501T Thin and Light Lapto...',\n",
       "        'ASUS VivoBook Core i3 11th Gen - (8 GB/256 GB SSD/Windows 11 Home) X415EA-EK342WS Thin and Light Lapto...',\n",
       "        'ASUS VivoBook Flip 14 Core i3 11th Gen - (8 GB/256 GB SSD/Windows 11 Home) TP470EA-EC302WS 2 in 1 Lapt...',\n",
       "        'ASUS VivoBook Flip 14 Core i5 11th Gen - (8 GB/512 GB SSD/Windows 11 Home) TP470EA-EC511WS 2 in 1 Lapt...',\n",
       "        'ASUS VivoBook K15 OLED (2022) Core i3 11th Gen - (8 GB/512 GB SSD/Windows 11 Home) K513EA-L312WS Thin ...',\n",
       "        'ASUS VivoBook K15 OLED (2022) Ryzen 5 Hexa Core AMD R5-5500U - (16 GB/512 GB SSD/Windows 11 Home) KM51...',\n",
       "        'ASUS VivoBook K15 OLED (2022) Ryzen 5 Hexa Core AMD R5-5500U - (8 GB/1 TB HDD/256 GB SSD/Windows 10 Ho...',\n",
       "        'ASUS VivoBook K15 OLED (2022) Ryzen 5 Hexa Core AMD R5-5500U - (8 GB/1 TB HDD/256 GB SSD/Windows 11 Ho...',\n",
       "        'ASUS VivoBook K15 OLED Ryzen 7 Octa Core AMD R7-5700U - (16 GB/512 GB SSD/Windows 11 Home) KM513UA-L71...',\n",
       "        'ASUS VivoBook Ultra 14 (2022) Core i3 11th Gen - (8 GB/512 GB SSD/Windows 11 Home) X413EA-EB322WS Thin...',\n",
       "        'ASUS Vivobook 14 (2022) Core i5 12th Gen - (16 GB/512 GB SSD/Windows 11 Home) X1402ZA-MW511WS Thin and...',\n",
       "        'ASUS Vivobook 14 (2022) Core i5 12th Gen - (16 GB/512 GB SSD/Windows 11 Home) X1402ZA-MW512WS Thin and...',\n",
       "        'ASUS Vivobook 14 (2022) Core i5 12th Gen - (8 GB/512 GB SSD/Windows 11 Home) X1402ZA-EK521WS Thin and ...',\n",
       "        'ASUS Vivobook 14 Core i3 11th Gen - (8 GB/512 GB SSD/Windows 11 Home) X415EA-EB322WS Thin and Light La...',\n",
       "        'ASUS Vivobook 14 Pentium Quad Core - (8 GB/256 GB SSD/Windows 11 Home) E410KA-EK103WS Thin and Light L...',\n",
       "        'ASUS Vivobook 15 Core i3 10th Gen - (8 GB/512 GB SSD/Windows 11 Home) X515JA-EJ382WS X515JA Laptop',\n",
       "        'ASUS Vivobook 15 Core i3 11th Gen - (8 GB/512 GB SSD/Windows 11 Home) X1500EA Laptop',\n",
       "        'ASUS Vivobook 15 Core i3 11th Gen - (8 GB/512 GB SSD/Windows 11 Home) X515EA-EJ322WS Laptop',\n",
       "        'ASUS Vivobook 15 Core i3 8th Gen - (4 GB/256 GB SSD/Windows 10 Home) X512FA-EJ547TX512F Thin and Light...',\n",
       "        'ASUS Vivobook 15 Core i5 11th Gen - (8 GB/512 GB SSD/Windows 11 Home) X515EA-BQ522WS Thin and Light La...',\n",
       "        'ASUS Vivobook 15 Core i5 11th Gen - (8 GB/512 GB SSD/Windows 11 Home) X515EA-EJ522WS Thin and Light La...',\n",
       "        'ASUS Vivobook Pro 15 OLED Core i5 12th Gen - (16 GB/512 GB SSD/Windows 11 Home/4 GB Graphics/NVIDIA Ge...',\n",
       "        'ASUS Vivobook Pro 15 Ryzen 7 Octa Core AMD R7-4800H - (16 GB/512 GB SSD/Windows 11 Home/4 GB Graphics/...',\n",
       "        'ASUS Vivobook Pro 16X OLED (2021) Ryzen 9 Octa Core 5900H 9th Gen - (16 GB/1 TB SSD/Windows 11 Home/4 ...',\n",
       "        'ASUS Vivobook S14 OLED (2022) Intel EVO Core i5 12th Gen - (16 GB/512 GB SSD/Windows 11 Home) S3402ZA-...',\n",
       "        'ASUS Vivobook S14 OLED (2022) Intel EVO Core i7 12th Gen - (16 GB/512 GB SSD/Windows 11 Home) S3402ZA-...',\n",
       "        'ASUS Vivobook Ultra 14 (2022) Core i3 11th Gen - (8 GB/512 GB SSD/Windows 11 Home) K413EA-EB301WS Thin...',\n",
       "        'ASUS Vivobook Ultra 14 (2022) Core i3 11th Gen - (8 GB/512 GB SSD/Windows 11 Home) K413EA-EB303WS Thin...',\n",
       "        'ASUS ZenBook Duo 14 (2021) Touch Panel Core i5 11th Gen - (16 GB/512 GB SSD/Windows 10 Home/2 GB Graph...',\n",
       "        'ASUS Zenbook 13 Intel EVO Core i5 11th Gen - (16 GB/512 GB SSD/Windows 11 Home) UX325EA-KG512WS Thin a...',\n",
       "        'ASUS Zenbook 13 Intel EVO Core i7 11th Gen - (16 GB/512 GB SSD/Windows 11 Home) UX325EA-KG722WS Thin a...',\n",
       "        'ASUS Zenbook Flip 13 OLED Touch Panel Intel EVO Core i5 11th Gen - (8 GB/512 GB SSD/Windows 11 Home) U...',\n",
       "        'ASUS Zenbook Flip 13 OLED Touch Panel Intel EVO Core i7 11th Gen - (16 GB/512 GB SSD/Windows 11 Home) ...',\n",
       "        'ASUS Zenbook S 13 OLED Ryzen 5 Hexa Core 6600U - (16 GB/512 GB SSD/Windows 11 Home) UM5302TA-LX501WS T...',\n",
       "        'ASUS Zenbook S 13 OLED Ryzen 7 Octa Core 6800U - (16 GB/1 TB SSD/Windows 11 Home) UM5302TA-LX701WS Thi...',\n",
       "        'DELL Allienware Core i7 12th Gen - (16 GB/512 GB SSD/Windows 11 Home/6 GB Graphics/NVIDIA GeForce RTX ...',\n",
       "        'DELL Core i3 11th Gen - (8 GB/1 TB HDD/256 GB SSD/Windows 11 Home) 3511 Laptop',\n",
       "        'DELL Core i3 12th Gen - (8 GB/512 GB SSD/Windows 11 Home) New Inspiron 15 Laptop Thin and Light Laptop',\n",
       "        'DELL Core i5 11th Gen - (8 GB/1 TB HDD/256 GB SSD/Windows 10) Vostro 3500 Thin and Light Laptop',\n",
       "        'DELL Core i5 11th Gen - (8 GB/512 GB SSD/Windows 11 Home) D560784WIN9S Laptop',\n",
       "        'DELL Core i5 12th Gen - (8 GB/1 TB HDD/256 GB SSD/Windows 11 Home) New Inspiron 15 Laptop Thin and Lig...',\n",
       "        'DELL Core i5 12th Gen - (8 GB/512 GB SSD/Windows 11 Home) New Inspiron 14 2-in-1 2 in 1 Laptop',\n",
       "        'DELL Core i7 11th Gen - (16 GB/512 GB SSD/Windows 11 Home/4 GB Graphics/NVIDIA GeForce RTX 3050 Ti) G1...',\n",
       "        'DELL Core i9 12th Gen - (16 GB/1 TB SSD/Windows 11 Home/8 GB Graphics/NVIDIA GeForce RTX 3070 Ti) G15 ...',\n",
       "        'DELL G15 Core i7 12th Gen - (16 GB/1 TB SSD/Windows 11 Home/4 GB Graphics/NVIDIA GeForce RTX 3050 Ti) ...',\n",
       "        'DELL G15 Core i7 12th Gen - (16 GB/1 TB SSD/Windows 11 Home/6 GB Graphics/NVIDIA GeForce RTX 3060) G15...',\n",
       "        'DELL G15 Core i7 12th Gen - (16 GB/512 GB SSD/Windows 11 Home/4 GB Graphics/NVIDIA GeForce RTX 3050 Ti...',\n",
       "        'DELL Inspiron Core i3 10th Gen - (4 GB/256 GB SSD/Windows 10 Home) Inspiron 3501 Laptop',\n",
       "        'DELL Inspiron Core i3 11th Gen - (8 GB/1 TB HDD/256 GB SSD/Windows 11 Home) D560841WIN9S Thin and Ligh...',\n",
       "        'DELL Inspiron Core i3 11th Gen - (8 GB/256 GB SSD/Windows 10) Inspiron 3511 Thin and Light Laptop',\n",
       "        'DELL Inspiron Core i3 11th Gen - (8 GB/256 GB SSD/Windows 11 Home) INSPIRON 5410 2 in 1 Laptop',\n",
       "        'DELL Inspiron Core i5 11th Gen - (16 GB/512 GB SSD/Windows 11 Home) Inspiron 5410 2 in 1 Laptop',\n",
       "        'DELL Inspiron Core i5 12th Gen - (16 GB/512 GB SSD/Windows 11 Home) Inspiron 7420 Thin and Light Lapto...',\n",
       "        'DELL Inspiron Pentium Quad Core - (8 GB/256 GB SSD/Windows 11 Home) Inspiron 3521 Thin and Light Lapto...',\n",
       "        'DELL Inspiron Pentium Silver - (8 GB/256 GB SSD/Windows 11 Home) Inspiron 3521 Notebook',\n",
       "        'DELL Inspiron Ryzen 3 Dual Core 3250U - (8 GB/256 GB SSD/Windows 11 Home) INSPIRON 3515 Thin and Light...',\n",
       "        'DELL Inspiron Ryzen 3 Dual Core 3250U - (8 GB/256 GB SSD/Windows 11 Home) Inspiron 3515 Thin and Light...',\n",
       "        'DELL Inspiron Ryzen 3 Dual Core 3250U - (8 GB/512 GB SSD/Windows 11 Home) Inspiron 3515 Thin and Light...',\n",
       "        'DELL Inspiron Ryzen 5 Dual Core 3450U - (8 GB/512 GB SSD/Windows 11 Home) INSPIRON 3515 Thin and Light...',\n",
       "        'DELL Inspiron Ryzen 5 Quad Core 3450U - (8 GB/512 GB SSD/Windows 11 Home) Inspiron 3515 Thin and Light...',\n",
       "        'DELL Inspiron Ryzen 7 Octa Core 5825U - (16 GB/512 GB SSD/Windows 11 Home) Vostro 5625 Notebook',\n",
       "        'DELL Ryzen 5 Hexa Core AMD R5-5600H - (16 GB/512 GB SSD/Windows 11 Home/4 GB Graphics/NVIDIA GeForce R...',\n",
       "        'DELL Ryzen 5 Hexa Core AMD R5-5600H - (8 GB/512 GB SSD/Windows 11 Home/4 GB Graphics/NVIDIA GeForce RT...',\n",
       "        'DELL Ryzen 7 Octa Core 6800H - (16 GB/1 TB SSD/Windows 11 Home/8 GB Graphics/NVIDIA GeForce RTX 3070 T...',\n",
       "        'DELL Ryzen 7 Octa Core AMD R7-5800H - (16 GB/512 GB SSD/Windows 11 Home/4 GB Graphics/NVIDIA GeForce R...',\n",
       "        'DELL Vostro Core i3 11th Gen - (8 GB/256 GB SSD/Windows 11 Home) Vostro 3400 Thin and Light Laptop',\n",
       "        'DELL Vostro Core i5 11th Gen - (8 GB/512 GB SSD/Windows 10/2 GB Graphics) Vostro 3400 Thin and Light L...',\n",
       "        'DELL Vostro Ryzen 3 Dual Core 3250U - (8 GB/512 GB SSD/Windows 11 Home) Vostro 3405 Thin and Light Lap...',\n",
       "        'DELL Vostro Ryzen 3 Dual Core R3-3250U - (8 GB/1 TB HDD/Windows 11 Home) Vostro 3405 Thin and Light La...',\n",
       "        'DELL Vostro Ryzen 5 Hexa Core 5625U - (8 GB/512 GB SSD/Windows 11 Home) Vostro 3425 Thin and Light Lap...',\n",
       "        'DELL Vostro Ryzen 5 Quad Core 3500U - (8 GB/512 GB SSD/Windows 10) Vostro 3405 Thin and Light Laptop',\n",
       "        'HP 14s Intel Core i3 11th Gen - (8 GB/256 GB SSD/Windows 11 Home) 14s - dy2507TU Thin and Light Laptop',\n",
       "        'HP 14s Intel Core i3 11th Gen - (8 GB/512 GB SSD/Windows 11 Home) 14s - dy2508TU Thin and Light Laptop',\n",
       "        'HP 14s Intel Core i5 12th Gen - (16 GB/512 GB SSD/Windows 11 Home) 14s - dy5005TU Thin and Light Lapto...',\n",
       "        'HP 15s Core i5 11th Gen - (8 GB/512 GB SSD/Windows 10 Home) 15s-FQ2535TU Thin and Light Laptop',\n",
       "        'HP 15s Intel Core i3 11th Gen - (8 GB/1 TB HDD/256 GB SSD/Windows 11 Home) 15s-du3614TU Thin and Light...',\n",
       "        'HP 15s Intel Core i3 11th Gen - (8 GB/512 GB SSD/Windows 11 Home) 15s-fq2671TU Thin and Light Laptop',\n",
       "        'HP 15s Intel Core i5 12th Gen - (8 GB/512 GB SSD/Windows 11 Home) 15s-fq5111TU Thin and Light Laptop',\n",
       "        'HP 15s Intel Core i5 12th Gen - (8 GB/512 GB SSD/Windows 11 Home) 15s-fy5001TU Thin and Light Laptop',\n",
       "        'HP 15s Ryzen 5 Quad Core 3500U - (8 GB/512 GB SSD/Windows 10 Home) 15s-eq0500AU Thin and Light Laptop',\n",
       "        'HP Athlon Dual Core 3050U - (8 GB/256 GB SSD/Windows 11 Home) 14s-fq0568AU Thin and Light Laptop',\n",
       "        'HP Athlon Dual Core 3050U - (8 GB/512 GB SSD/Windows 11 Home) 15s- eq1559AU Thin and Light Laptop',\n",
       "        'HP Core i3 11th Gen - (8 GB/512 GB SSD/Windows 11 Home) 15s-fr2511TU Thin and Light Laptop',\n",
       "        'HP Core i3 11th Gen - (8 GB/512 GB SSD/Windows 11 Home) FR2512TU Laptop',\n",
       "        'HP Envy x360 Ryzen 5 Hexa Core 5600U - (16 GB/512 GB SSD/Windows 11 Home) 13 x360-ay1035au 2 in 1 Lapt...',\n",
       "        'HP G8 Ryzen 3 Dual Core 3250U - (8 GB/1 TB HDD/Windows 11 Home) 245 G8 Laptop',\n",
       "        'HP HP Pavilion Ryzen 5 Hexa Core AMD R5-4600H - (8 GB/512 GB SSD/Windows 10 Home/4 GB Graphics/NVIDIA ...',\n",
       "        'HP Intel Core i3 11th Gen - (8 GB/256 GB SSD/Windows 10 Home) 14s- DY2501TU Thin and Light Laptop',\n",
       "        'HP Laptop with Backlit Keyboard Core i3 11th Gen - (8 GB/512 GB SSD/Windows 11 Home) 15s-fr2512tu Lapt...',\n",
       "        'HP OMEN 15 Ryzen 7 Octa Core AMD R7-5800H - (16 GB/1 TB SSD/Windows 10 Home/8 GB Graphics/NVIDIA GeFor...',\n",
       "        'HP OMEN Ryzen 5 Hexa Core AMD R5-5600H - (8 GB/512 GB SSD/Windows 11 Home/4 GB Graphics/NVIDIA GeForce...',\n",
       "        'HP OMEN Ryzen 7 Octa Core AMD R7-5800H - (16 GB/1 TB SSD/Windows 11 Home/AMD Radeon RX 6600M) 16-C0140...',\n",
       "        'HP Pavilion Gaming Core i5 11th Gen - (8 GB/1 TB HDD/256 GB SSD/Windows 10 Home/4 GB Graphics/NVIDIA G...',\n",
       "        'HP Pavilion Intel Core i5 11th Gen - (16 GB/512 GB SSD/Windows 11 Home) 14-dy1048TU Thin and Light Lap...',\n",
       "        'HP Pavilion Intel Core i5 12th Gen - (8 GB/512 GB SSD/Windows 11 Home) 15-EG2009TU Thin and Light Lapt...',\n",
       "        'HP Pavilion Ryzen 5 Hexa Core 5625U - (8 GB/512 GB SSD/Windows 11 Home) 15-eh2018AU Thin and Light Lap...',\n",
       "        'HP Pavilion Ryzen 5 Hexa Core AMD R5-5600H - (8 GB/512 GB SSD/Windows 11 Home/4 GB Graphics/NVIDIA GeF...',\n",
       "        'HP Pavilion Ryzen 7 Octa Core AMD R7-5800H - (16 GB/512 GB SSD/Windows 10 Home/4 GB Graphics/NVIDIA Ge...',\n",
       "        'HP Ryzen 3 Dual Core 3250U - (8 GB/256 GB SSD/Windows 11 Home) 15s- eq1561AU Thin and Light Laptop',\n",
       "        'HP Ryzen 3 Dual Core 3250U - (8 GB/256 GB SSD/Windows 11 Home) 15s-GY0501AU Thin and Light Laptop',\n",
       "        'HP Ryzen 3 Hexa Core 4th Gen - (8 GB/512 GB SSD/Windows 10/4 GB Graphics/NVIDIA GeForce GTX 1650) 15-E...',\n",
       "        'HP Ryzen 3 Quad Core 5300U - (8 GB/512 GB SSD/Windows 11 Home) 14s-fq1089au Thin and Light Laptop',\n",
       "        'HP Ryzen 3 Quad Core 5300U - (8 GB/512 GB SSD/Windows 11 Home) 15s-eq2143au Thin and Light Laptop',\n",
       "        'HP Ryzen 5 Hexa Core 5500U - (16 GB/512 GB SSD/Windows 11 Home) 14s-fy1003AU Thin and Light Laptop',\n",
       "        'HP Ryzen 5 Hexa Core 5500U - (16 GB/512 GB SSD/Windows 11 Home) 15s- eq2182AU Thin and Light Laptop',\n",
       "        'HP Ryzen 5 Hexa Core 5500U - (8 GB/512 GB SSD/Windows 11 Home) 14s-fq1092au Thin and Light Laptop',\n",
       "        'HP Spectre Core i7 12th Gen - (16 GB/512 GB SSD/Windows 11 Home) ef0053TU Notebook',\n",
       "        'HP Victus Core i5 11th Gen - (8 GB/512 GB SSD/Windows 11 Home/4 GB Graphics/NVIDIA GeForce RTX 3050/14...',\n",
       "        'HP Victus Ryzen 5 Hexa Core 6600H - (8 GB/512 GB SSD/Windows 11 Home/4 GB Graphics/NVIDIA GeForce RTX ...',\n",
       "        'HP Victus Ryzen 7 Octa Core 5800H - (16 GB/1 TB SSD/Windows 11 Home/6 GB Graphics/NVIDIA GeForce RTX 3...',\n",
       "        'HP Victus Ryzen 7 Octa Core 5800H - (8 GB/512 GB SSD/Windows 11 Home/4 GB Graphics/AMD Radeon RX 5500M...',\n",
       "        'HP Victus Ryzen 7 Octa Core 5800H - (8 GB/512 GB SSD/Windows 11 Home/4 GB Graphics/NVIDIA GeForce RTX ...',\n",
       "        'Infinix INBook X1 Core i3 10th Gen - (8 GB/256 GB SSD/Windows 11 Home) XL11 Thin and Light Laptop',\n",
       "        'Infinix INBook X1 Core i5 10th Gen - (8 GB/512 GB SSD/Windows 11 Home) XL11 Thin and Light Laptop',\n",
       "        'Infinix INBook X1 Neo Series Celeron Quad Core - (4 GB/128 GB SSD/Windows 11 Home) XL22 Thin and Light...',\n",
       "        'Infinix INBook X1 Neo Series Celeron Quad Core - (8 GB/256 GB SSD/Windows 11 Home) XL22 Thin and Light...',\n",
       "        'Infinix INBook X2 Plus Core i3 11th Gen - (8 GB/512 GB SSD/Windows 11 Home) XL25 Thin and Light Laptop',\n",
       "        'Infinix INBook X2 Plus Core i5 11th Gen - (8 GB/512 GB SSD/Windows 11 Home) XL25 Thin and Light Laptop',\n",
       "        'Infinix X1 Series Core i7 10th Gen - (16 GB/512 GB SSD/Windows 11 Home/128 MB Graphics) XL12 Thin and ...',\n",
       "        'Infinix X1 Slim Series Core i3 10th Gen - (8 GB/256 GB SSD/Windows 11 Home) XL21 Thin and Light Laptop',\n",
       "        'Infinix X1 Slim Series Core i3 10th Gen - (8 GB/512 GB SSD/Windows 11 Home) XL21 Thin and Light Laptop',\n",
       "        'Infinix X1 Slim Series Core i5 10th Gen - (16 GB/512 GB SSD/Windows 11 Home) XL21 Thin and Light Lapto...',\n",
       "        'Infinix X1 Slim Series Core i5 10th Gen - (8 GB/512 GB SSD/Windows 11 Home) XL21 Thin and Light Laptop',\n",
       "        'Infinix X1 Slim Series Core i7 10th Gen - (16 GB/512 GB SSD/Windows 11 Home) XL21 Thin and Light Lapto...',\n",
       "        'Lenovo Core i3 10th Gen - (4 GB/1 TB HDD/Windows 10 Home) V15-IIL Laptop',\n",
       "        'Lenovo Core i3 11th Gen - (4 GB/256 GB SSD/Windows 10 Home) V15 ITL G2 Thin and Light Laptop',\n",
       "        'Lenovo Core i5 11th Gen - (16 GB/512 GB SSD/Windows 10 Home) 15ITL05 Thin and Light Laptop',\n",
       "        'Lenovo IdeaPad 1 Celeron Dual Core - (4 GB/256 GB SSD/Windows 11 Home) 11IGL05 Thin and Light Laptop',\n",
       "        'Lenovo IdeaPad 1 Celeron Dual Core 4th Gen - (4 GB/256 GB SSD/Windows 10 Home) 11IGL05 Thin and Light ...',\n",
       "        'Lenovo IdeaPad 1 Ryzen 3 Dual Core 3250U - (8 GB/512 GB SSD/Windows 11 Home) 15ADA7 Thin and Light Lap...',\n",
       "        'Lenovo IdeaPad 1 Ryzen 5 Quad Core 3500U - (8 GB/512 GB SSD/Windows 11 Home) 15ADA7 Thin and Light Lap...',\n",
       "        'Lenovo IdeaPad 3 Celeron Dual Core - (4 GB/256 GB SSD/Windows 10 Home) 14IGL05 Thin and Light Laptop',\n",
       "        'Lenovo IdeaPad 3 Core i3 10th Gen - (8 GB/1 TB HDD/Windows 11 Home) 15IML05 Thin and Light Laptop',\n",
       "        'Lenovo IdeaPad 3 Core i3 11th Gen - (8 GB/256 GB SSD/Windows 11 Home) 14ITL05 Thin and Light Laptop',\n",
       "        'Lenovo IdeaPad 3 Core i3 11th Gen - (8 GB/256 GB SSD/Windows 11 Home) 15ITL05 Thin and Light Laptop',\n",
       "        'Lenovo IdeaPad 3 Core i3 11th Gen - (8 GB/256 GB SSD/Windows 11 Home) 15ITL6 Laptop',\n",
       "        'Lenovo IdeaPad 3 Core i3 11th Gen - (8 GB/256 GB SSD/Windows 11 Home) 15ITL6 Thin and Light Laptop',\n",
       "        'Lenovo IdeaPad 3 Core i3 11th Gen - (8 GB/512 GB SSD/Windows 11 Home) 82H801L7IN | 82H802FJIN | 82H802...',\n",
       "        'Lenovo IdeaPad 3 Core i5 11th Gen - (8 GB/512 GB SSD/Windows 11 Home) 15ITL6 Thin and Light Laptop',\n",
       "        'Lenovo IdeaPad 3 Core i5 12th Gen - (16 GB/512 GB SSD/Windows 11 Home) 15IAU7 Thin and Light Laptop',\n",
       "        'Lenovo IdeaPad 3 Core i5 12th Gen - (8 GB/512 GB SSD/Windows 11 Home) 15IAU7 Thin and Light Laptop',\n",
       "        'Lenovo IdeaPad 3 Ryzen 3 Dual Core 3250U - (8 GB/256 GB SSD/Windows 10 Home) 15ADA05 Thin and Light La...',\n",
       "        'Lenovo IdeaPad 3 Ryzen 5 Hexa Core 5500U - (8 GB/512 GB SSD/Windows 11 Home) 15ALC6 Thin and Light Lap...',\n",
       "        'Lenovo IdeaPad 5 Core i5 12th Gen - (16 GB/512 GB SSD/Windows 11 Home) 15IAL7 Thin and Light Laptop',\n",
       "        'Lenovo IdeaPad 5 Pro Core i5 11th Gen - (16 GB/512 GB SSD/Windows 10 Home/2 GB Graphics) 14ITL6 Thin a...',\n",
       "        'Lenovo IdeaPad Core i3 10th Gen - (4 GB/256 GB SSD/Windows 11 Home) 15IIL05 Thin and Light Laptop',\n",
       "        'Lenovo IdeaPad Core i5 11th Gen - (16 GB/512 GB SSD/Windows 11 Home) IdeaPad 5 15ITL05 Thin and Light ...',\n",
       "        'Lenovo IdeaPad Flex 5 Ryzen 5 Hexa Core 5500U - (16 GB/512 GB SSD/Windows 11 Home) 14ALC7 Thin and Lig...',\n",
       "        'Lenovo IdeaPad Gaming 3 Core i5 10th Gen - (8 GB/512 GB SSD/Windows 10 Home/4 GB Graphics/NVIDIA GeFor...',\n",
       "        'Lenovo IdeaPad Gaming 3 Ryzen 5 Hexa Core 5600H - (8 GB/512 GB SSD/Windows 10 Home/4 GB Graphics/NVIDI...',\n",
       "        'Lenovo IdeaPad Gaming 3 Ryzen 5 Hexa Core AMD R5-5600H - (8 GB/512 GB SSD/Windows 11 Home/4 GB Graphic...',\n",
       "        'Lenovo IdeaPad Gaming 3 Ryzen 7 Octa Core AMD R7-5800H - (8 GB/512 GB SSD/Windows 11 Home/4 GB Graphic...',\n",
       "        'Lenovo IdeaPad Gaming Core i5 11th Gen - (8 GB/512 GB SSD/Windows 11 Home/4 GB Graphics/NVIDIA GeForce...',\n",
       "        'Lenovo Ideapad 3 Dual Core 3020e - (4 GB/1 TB HDD/Windows 10 Home) 15ADA05 Laptop',\n",
       "        'Lenovo Ideapad Gaming 3 Core i5 11th Gen - (8 GB/1 TB HDD/256 GB SSD/Windows 11 Home/4 GB Graphics/NVI...',\n",
       "        'Lenovo Ideapad Slim 3i (2021) Core i5 11th Gen - (8 GB/256 GB SSD/Windows 10 Home) 15ITL6/ 15ITL6 Ub T...',\n",
       "        'Lenovo Ideapad Slim 3i (2021) Core i5 11th Gen - (8 GB/512 GB SSD/Windows 10 Home) 14 ITL 6 Thin and L...',\n",
       "        'Lenovo Ideapad Slim 3i Core i5 10th Gen - (8 GB/1 TB HDD/256 GB SSD/Windows 10 Home) 15IIL05 Laptop',\n",
       "        'Lenovo Ideapad Slim 5i Core i5 11th Gen - (8 GB/512 GB SSD/Windows 10 Home) 14ITL05U2a Thin and Light ...',\n",
       "        'Lenovo Legion 5 Core i5 10th Gen - (8 GB/512 GB SSD/Windows 11 Home/4 GB Graphics/NVIDIA GeForce RTX 3...',\n",
       "        'Lenovo Legion 5 Core i5 11th Gen - (16 GB/512 GB SSD/Windows 11 Home/4 GB Graphics) 15ITH6 Thin and Li...',\n",
       "        'Lenovo Legion 5 Core i7 11th Gen - (16 GB/512 GB SSD/Windows 10 Home/4 GB Graphics/NVIDIA GeForce RTX ...',\n",
       "        'Lenovo Lenovo Legion 5 Pro Ryzen 7 Octa Core 5800H - (16 GB/1 TB SSD/Windows 11 Home/6 GB Graphics/NVI...',\n",
       "        'Lenovo Ryzen 3 Dual Core 3rd Gen - (8 GB/512 GB SSD/Windows 11 Home) IdeaPad 1 15ADA7 Laptop',\n",
       "        'Lenovo ThinkPad E15 Core i3 11th Gen - (4 GB/256 GB SSD/Windows 10 Home) E15 Laptop',\n",
       "        'Lenovo Thinkpad Ryzen 5 Hexa Core 5600U - (8 GB/512 GB SSD/DOS) E14 AMD Gen3 Thin and Light Laptop',\n",
       "        'Lenovo Yoga 6 Ryzen 5 Hexa Core 5500U - (16 GB/512 GB SSD/Windows 10 Home) 13ALC6 Thin and Light Lapto...',\n",
       "        'Lenovo Yoga Slim 7 Core i5 11th Gen - (16 GB/512 GB SSD/Windows 10 Home) 14ITL05 Thin and Light Laptop',\n",
       "        'Lenovo Yoga Slim 7 Intel EVO Core i7 11th Gen - (16 GB/1 TB SSD/Windows 10 Home) Yoga Slim 7 14ITL05b ...',\n",
       "        'Lenovo Yoga Slim 7 Pro Core i5 11th Gen - (16 GB/512 GB SSD/Windows 11 Home) 14IHU5 Thin and Light Lap...',\n",
       "        'MSI Bravo 15 Ryzen 5 Hexa Core AMD R5-5600H - (8 GB/512 GB SSD/Windows 11 Home/4 GB Graphics/AMD Radeo...',\n",
       "        'MSI Core i7 11th Gen - (8 GB/512 GB SSD/Windows 10 Home/4 GB Graphics/NVIDIA GeForce RTX 3050/144 Hz) ...',\n",
       "        'MSI Core i7 12th Gen - (16 GB/1 TB SSD/Windows 11 Home/6 GB Graphics/NVIDIA GeForce RTX 3060/144 Hz) P...',\n",
       "        'MSI Core i7 12th Gen - (16 GB/1 TB SSD/Windows 11 Home/8 GB Graphics/NVIDIA GeForce RTX 3070 Ti/360 Hz...',\n",
       "        'MSI Core i9 12th Gen - (16 GB/1 TB SSD/Windows 11 Home/6 GB Graphics/NVIDIA GeForce RTX 3060/165 Hz) P...',\n",
       "        'MSI Core i9 12th Gen - (32 GB/2 TB SSD/Windows 11 Home/16 GB Graphics/NVIDIA GeForce RTX 3080 Ti/120 H...',\n",
       "        'MSI Creator 15 Core i7 10th Gen - (32 GB/1 TB SSD/Windows 10 Home/8 GB Graphics/NVIDIA GeForce RTX 207...',\n",
       "        'MSI Delta 15 AMD Advantage Edition Ryzen 9 Octa Core 5900HX 5th Gen - (16 GB/1 TB SSD/Windows 11 Home/...',\n",
       "        'MSI GF63 Thin Core i5 11th Gen - (8 GB/512 GB SSD/Windows 11 Home/4 GB Graphics/NVIDIA GeForce GTX 165...',\n",
       "        'MSI GF63 Thin Core i5 9th Gen - (8 GB/1 TB HDD/Windows 10 Home/4 GB Graphics/NVIDIA GeForce GTX 1650 T...',\n",
       "        'MSI GP65 Leopard Core i7 10th Gen - (16 GB/1 TB HDD/256 GB SSD/Windows 10 Home/6 GB Graphics/NVIDIA Ge...',\n",
       "        'MSI Katana GF66 Core i5 11th Gen - (16 GB/512 GB SSD/Windows 10 Home/4 GB Graphics/NVIDIA GeForce RTX ...',\n",
       "        'MSI Katana GF66 Core i5 12th Gen - (16 GB/512 GB SSD/Windows 11 Home/4 GB Graphics/NVIDIA GeForce RTX ...',\n",
       "        'MSI Katana GF66 Core i7 11th Gen - (16 GB/512 GB SSD/Windows 10 Home/6 GB Graphics/NVIDIA GeForce RTX ...',\n",
       "        'MSI Katana GF66 Core i7 12th Gen - (8 GB/512 GB SSD/Windows 11 Home/4 GB Graphics/NVIDIA GeForce RTX 3...',\n",
       "        'MSI Modern 14 Core i3 11th Gen - (8 GB/512 GB SSD/Windows 10 Home) B11MOU-477IN Notebook',\n",
       "        'MSI Modern 14 Ryzen 5 Hexa Core 4500U - (8 GB/512 GB SSD/Windows 10 Home) Modern 14 B4MW-423IN Thin an...',\n",
       "        'MSI Prestige 14 Intel EVO Core i5 11th Gen - (16 GB/512 GB SSD/Windows 10 Home) Prestige 14Evo A11M-62...',\n",
       "        'MSI Stealth GS66 Core i7 12th Gen - (32 GB/1 TB SSD/Windows 11 Home/8 GB Graphics/NVIDIA GeForce RTX 3...',\n",
       "        'MSI Stealth GS77 Core i7 12th Gen - (32 GB/2 TB SSD/Windows 11 Home/8 GB Graphics/NVIDIA GeForce RTX 3...',\n",
       "        'MSI Sword 15 Core i5 12th Gen - (16 GB/512 GB SSD/Windows 11 Home/4 GB Graphics/NVIDIA GeForce RTX 305...',\n",
       "        'MSI Vector GP66 Core i7 12th Gen - (16 GB/1 TB SSD/Windows 11 Home/8 GB Graphics/NVIDIA GeForce RTX 30...',\n",
       "        'RedmiBook Pro Core i5 11th Gen - (8 GB/512 GB SSD/Windows 11 Home) Thin and Light Laptop',\n",
       "        'SAMSUNG Galaxy Book2 Core i5 12th Gen - (8 GB/256 GB SSD/Windows 11 Home) NP750XED-KB1IN Thin and Ligh...',\n",
       "        'Ultimus S151 Celeron Dual Core - (4 GB/128 GB SSD/Windows 11 Home) NU14U2INC43VN Laptop',\n",
       "        'acer Aspire 3 Pentium Silver - (8 GB/256 GB SSD/Windows 11 Home) A314-35 Notebook',\n",
       "        'acer Aspire 3 Ryzen 3 Dual Core 3250U - (8 GB/256 GB SSD/Windows 11 Home) A315-23 Laptop',\n",
       "        'acer Aspire 5 Core i5 11th Gen - (8 GB/1 TB HDD/256 GB SSD/Windows 11 Home) A515-56-56LN Thin and Ligh...',\n",
       "        'acer Aspire 5 Core i5 11th Gen - (8 GB/1 TB HDD/Windows 10 Home) A515-56 Thin and Light Laptop',\n",
       "        'acer Aspire 5 Ryzen 5 Hexa Core 5500U - (8 GB/512 GB SSD/Windows 11 Home) A515-45 Thin and Light Lapto...',\n",
       "        'acer Aspire 7 Core i5 12th Gen - (16 GB/512 GB SSD/Windows 11 Home/4 GB Graphics/NVIDIA GeForce GTX 16...',\n",
       "        'acer Aspire 7 Core i5 12th Gen - (16 GB/512 GB SSD/Windows 11 Home/4 GB Graphics/NVIDIA GeForce RTX 30...',\n",
       "        'acer Aspire 7 Core i5 12th Gen - (8 GB/512 GB SSD/Windows 11 Home/4 GB Graphics/NVIDIA GeForce GTX 165...',\n",
       "        'acer Aspire 7 Core i5 12th Gen - (8 GB/512 GB SSD/Windows 11 Home/4 GB Graphics/NVIDIA GeForce RTX 305...',\n",
       "        'acer Aspire 7 Ryzen 5 Hexa Core AMD R5-5500U - (8 GB/512 GB SSD/Windows 11 Home/4 GB Graphics/NVIDIA G...',\n",
       "        'acer Aspire Core i3 12th Gen - (8 GB/512 GB SSD/Windows 11 Home) A315-59 Notebook',\n",
       "        'acer Aspire Vero (Green PC) Core i5 11th Gen - (16 GB/512 GB SSD/Windows 11 Home) AV15-51 Notebook',\n",
       "        'acer Aspire Vero(Green PC ) Core i5 11th Gen - (8 GB/512 GB SSD/Windows 11 Home) AV15-51 Thin and Ligh...',\n",
       "        'acer Extensa Core i3 11th Gen - (8 GB/256 GB SSD/Windows 11 Home) EX 215-54 Thin and Light Laptop',\n",
       "        'acer Extensa Core i3 11th Gen - (8 GB/512 GB SSD/Windows 11 Home) EX 215-54/ EX 215-54-356V Thin and L...',\n",
       "        'acer Extensa Core i5 11th Gen - (8 GB/512 GB SSD/Windows 11 Home) EX 215-54-583M Thin and Light Laptop',\n",
       "        'acer Nitro 5 Ryzen 5 Hexa Core 4600H - (8 GB/1 TB HDD/256 GB SSD/Windows 10 Home/4 GB Graphics/NVIDIA ...',\n",
       "        'acer Nitro 5 Ryzen 5 Hexa Core 5600H - (16 GB/512 GB SSD/Windows 11 Home/4 GB Graphics/NVIDIA GeForce ...',\n",
       "        'acer Nitro 5 Ryzen 5 Hexa Core AMD R5-5600H - (8 GB/512 GB SSD/Windows 11 Home/4 GB Graphics/NVIDIA Ge...',\n",
       "        'acer Nitro 5 Ryzen 7 Octa Core AMD R7-5800H - (16 GB/1 TB HDD/256 GB SSD/Windows 10 Home/6 GB Graphics...',\n",
       "        'acer Predator Helios 300 Core i7 11th Gen - (16 GB/1 TB HDD/512 GB SSD/Windows 10 Home/4 GB Graphics/N...',\n",
       "        'acer Predator Helios 300 Core i7 12th Gen - (16 GB/1 TB SSD/Windows 11 Home/6 GB Graphics/NVIDIA GeFor...',\n",
       "        'acer Predator Helios 300 Core i9 11th Gen - (16 GB/1 TB SSD/Windows 11 Home/6 GB Graphics/NVIDIA GeFor...',\n",
       "        'acer Ryzen 3 Dual Core 3250U - (8 GB/256 GB SSD/Windows 11 Home) Z2-493 Thin and Light Laptop',\n",
       "        'acer aspire 5 gaming Core i5 12th Gen - (8 GB/512 GB SSD/Windows 11 Home/4 GB Graphics/NVIDIA GeForce ...',\n",
       "        'realme Book (Slim) Core i3 11th Gen - (8 GB/256 GB SSD/Windows 10 Home) RMNB1001 Thin and Light Laptop',\n",
       "        'realme Book Prime Core i5 11th Gen - (16 GB/512 GB SSD/Windows 11 Home) CloudPro002 Thin and Light Lap...',\n",
       "        'realme Book(Slim) Intel Evo Core i5 11th Gen - (8 GB/512 GB SSD/Windows 10 Home) RMNB1002 Thin and Lig...'],\n",
       "       dtype=object),\n",
       " array(['15.6 inches Full HD IPS Thin Bezel Display (144Hz, 45% NTSC Color Gamut)Intel Core i7 Processor (10th Gen)16 GB DDR4 RAM64 bit Windows 10 Operating System1 TB HDD|256 GB SSD39.62 cm (15.6 inch) DisplaySHIFT, SteelSeries Engine 3, Matrix Display (Extend), Dragon Center, GamingMode, VR Ready, Cooler Boost 5, Nahimic 3, Nahimic VR, Giant Speaker2 Year Warranty Term for Gaming',\n",
       "        '15.6 inches Full HD IPS Thin Bezel Display (60Hz, 45% NTSC Color Gamut)Intel Core i5 Processor (9th Gen)8 GB DDR4 RAM64 bit Windows 10 Operating System1 TB HDD39.62 cm (15.6 inch) DisplayCooler Boost, Audio Boost, Dragon Center, Nahimic 32 Year Warranty Term for Gaming',\n",
       "        'AMD Athlon Dual Core Processor8 GB DDR4 RAM64 bit Windows 11 Operating System256 GB SSD35.56 cm (14 inch) Display1 Year Onsite Warranty',\n",
       "        'AMD Athlon Dual Core Processor8 GB DDR4 RAM64 bit Windows 11 Operating System512 GB SSD39.62 cm (15.6 inch) Display1 Year Onsite Warranty',\n",
       "        'AMD Dual Core Processor4 GB DDR4 RAM64 bit Windows 10 Operating System1 TB HDD39.62 cm (15.6 inch) Display1 Year Onsite Warranty',\n",
       "        'AMD Ryzen 3 Dual Core Processor (3rd Gen)8 GB DDR4 RAMWindows 11 Operating System512 GB SSD39.62 cm (15.6 inch) Display1 YEAR',\n",
       "        'AMD Ryzen 3 Dual Core Processor8 GB DDR4 RAM64 bit Windows 10 Operating System256 GB SSD39.62 cm (15.6 inch) DisplayMicrosoft Office Home and Student 20191 Year Warranty',\n",
       "        'AMD Ryzen 3 Dual Core Processor8 GB DDR4 RAM64 bit Windows 11 Operating System1 TB HDD35.56 cm (14 inch) DisplayNA1 Year Manufacturer Warranty',\n",
       "        'AMD Ryzen 3 Dual Core Processor8 GB DDR4 RAM64 bit Windows 11 Operating System256 GB SSD35.56 cm (14 inch) Display1 Year International Travelers Warranty (ITW)',\n",
       "        'AMD Ryzen 3 Dual Core Processor8 GB DDR4 RAM64 bit Windows 11 Operating System256 GB SSD39.62 cm (15.6 Inch) Display1 Year International Travelers Warranty (ITW)',\n",
       "        'AMD Ryzen 3 Dual Core Processor8 GB DDR4 RAM64 bit Windows 11 Operating System256 GB SSD39.62 cm (15.6 Inch) Display1 Year Onsite Warranty',\n",
       "        'AMD Ryzen 3 Dual Core Processor8 GB DDR4 RAM64 bit Windows 11 Operating System256 GB SSD39.62 cm (15.6 inch) Display1 Year Onsite Warranty',\n",
       "        'AMD Ryzen 3 Dual Core Processor8 GB DDR4 RAM64 bit Windows 11 Operating System256 GB SSD39.62 cm (15.6 inch) DisplayOffice Home and Student 2019 included1 Year Onsite Warranty',\n",
       "        'AMD Ryzen 3 Dual Core Processor8 GB DDR4 RAM64 bit Windows 11 Operating System512 GB SSD35.56 cm (14 Inch) Display1 Year Onsite Warranty',\n",
       "        'AMD Ryzen 3 Dual Core Processor8 GB DDR4 RAM64 bit Windows 11 Operating System512 GB SSD39.62 cm (15.6 Inch) Display1 Year Onsite Warranty',\n",
       "        'AMD Ryzen 3 Dual Core Processor8 GB DDR4 RAM64 bit Windows 11 Operating System512 GB SSD39.62 cm (15.6 Inch) Display2 Years Onsite�Warranty',\n",
       "        'AMD Ryzen 3 Dual Core Processor8 GB DDR4 RAMWindows 11 Operating System256 GB SSD39.62 cm (15.6 inch) Display1 YEAR',\n",
       "        'AMD Ryzen 3 Hexa Core Processor (4th Gen)8 GB DDR4 RAMWindows 10 Operating System512 GB SSD39.62 cm (15.6 inch) Display1 Year Onsite Warranty',\n",
       "        'AMD Ryzen 3 Quad Core Processor8 GB DDR4 RAM64 bit Windows 11 Operating System512 GB SSD35.56 cm (14 Inch) Display1 Year onsite warranty',\n",
       "        'AMD Ryzen 3 Quad Core Processor8 GB DDR4 RAM64 bit Windows 11 Operating System512 GB SSD39.62 cm (15.6 inch) DisplayMicrosoft Office 2019 & Office 365, HP Documentation, HP BIOS recovery, HP Smart1 Year Onsite Warranty',\n",
       "        'AMD Ryzen 5 Dual Core Processor (5th Gen)8 GB DDR4 RAMWindows 11 Operating System512 GB SSD39.62 cm (15.6 inch) Display1 Year Manufacturer Warranty',\n",
       "        'AMD Ryzen 5 Hexa Core Processor (10th Gen)8 GB DDR4 RAMWindows 11 Operating System512 GB SSD39.62 cm (15.6 inch) Display1 Year Manufacturer Warranty',\n",
       "        'AMD Ryzen 5 Hexa Core Processor16 GB DDR4 RAM64 bit Windows 10 Operating System512 GB SSD33.78 cm (13.3 inch) Touchscreen DisplayMicrosoft Office Home & Student 20193 Year Onsite�Warranty�+ 1 Year Accidental Damage Protection + 1 Year premium Care',\n",
       "        'AMD Ryzen 5 Hexa Core Processor16 GB DDR4 RAM64 bit Windows 11 Operating System512 GB SSD33.78 cm (13.3 inch) Touchscreen DisplayMicrosoft Office 2019 Home & Student, HP Documentation, HP e-service, HP BIOS Recovery, HP SSRM, HP Jumpstart, HP Audio Switch, HP Audio Boost, Dropbox1 Year Onsite Warranty',\n",
       "        'AMD Ryzen 5 Hexa Core Processor16 GB DDR4 RAM64 bit Windows 11 Operating System512 GB SSD35.56 cm (14 inch) DisplayMicrosoft Office Home & Student 20211 Year Onsite Warranty',\n",
       "        'AMD Ryzen 5 Hexa Core Processor16 GB DDR4 RAM64 bit Windows 11 Operating System512 GB SSD39.62 cm (15.6 Inch) DisplayMicrosoft Office 2021 Home & Student, HP Documentation, HP BIOS recovery, HP Smart1 Year Onsite Warranty',\n",
       "        'AMD Ryzen 5 Hexa Core Processor16 GB DDR4 RAM64 bit Windows 11 Operating System512 GB SSD39.62 cm (15.6 inch) DisplayOffice Home and Student 20211 Year Onsite Warranty',\n",
       "        'AMD Ryzen 5 Hexa Core Processor16 GB DDR4 RAMWindows 11 Operating System512 GB SSD39.62 cm (15.6 Inch) Display1 Year International Travelers Warranty (ITW)',\n",
       "        'AMD Ryzen 5 Hexa Core Processor16 GB LPDDR4X RAM64 bit Windows 11 Operating System512 GB SSD35.56 cm (14 inch) Touchscreen Display1 Year Onsite warranty + 1 Year Accidental Damage Protection + 1 Year Premium Care',\n",
       "        'AMD Ryzen 5 Hexa Core Processor16 GB LPDDR5 RAMWindows 11 Operating System512 GB SSD33.78 cm (13.3 Inch) Touchscreen Display1 Year Onsite Warranty',\n",
       "        'AMD Ryzen 5 Hexa Core Processor8 GB DDR4 RAM64 bit DOS Operating System512 GB SSD35.56 cm (14 inch) Display1 Year Onsite Warranty',\n",
       "        'AMD Ryzen 5 Hexa Core Processor8 GB DDR4 RAM64 bit Windows 10 Operating System1 TB HDD|256 GB SSD39.62 cm (15.6 inch) DisplayMicrosoft Office Home and Student 20191 Year Onsite Warranty',\n",
       "        'AMD Ryzen 5 Hexa Core Processor8 GB DDR4 RAM64 bit Windows 10 Operating System512 GB SSD35.56 cm (14 inch) Display1 Year On-Site Warranty',\n",
       "        'AMD Ryzen 5 Hexa Core Processor8 GB DDR4 RAM64 bit Windows 10 Operating System512 GB SSD39.62 cm (15.6 inch) Display1 Year Warranty Term',\n",
       "        'AMD Ryzen 5 Hexa Core Processor8 GB DDR4 RAM64 bit Windows 10 Operating System512 GB SSD39.62 cm (15.6 inch) DisplayHP Documentation, HP e-service, HP BIOS Recovery, HP SSRM, HP Smart, HP Jumpstarts1 Year Onsite Warranty',\n",
       "        'AMD Ryzen 5 Hexa Core Processor8 GB DDR4 RAM64 bit Windows 11 Operating System1 TB HDD|256 GB SSD39.62 cm (15.6 inch) DisplayOffice Home and Student 20211 Year Onsite Warranty',\n",
       "        'AMD Ryzen 5 Hexa Core Processor8 GB DDR4 RAM64 bit Windows 11 Operating System1 TB SSD39.62 cm (15.6 inch) Display1 Year Onsite Warranty',\n",
       "        'AMD Ryzen 5 Hexa Core Processor8 GB DDR4 RAM64 bit Windows 11 Operating System512 GB SSD35.56 cm (14 Inch) Display1 Year Onsite Hardware Service',\n",
       "        'AMD Ryzen 5 Hexa Core Processor8 GB DDR4 RAM64 bit Windows 11 Operating System512 GB SSD35.56 cm (14 inch) DisplayMicrosoft Office Home & Student 2019, HP Documentation, HP SSRM, HP Smart \"1 Year Onsite Warranty',\n",
       "        'AMD Ryzen 5 Hexa Core Processor8 GB DDR4 RAM64 bit Windows 11 Operating System512 GB SSD39.62 cm (15.6 Inch) Display1 Year Onsite Warranty',\n",
       "        'AMD Ryzen 5 Hexa Core Processor8 GB DDR4 RAM64 bit Windows 11 Operating System512 GB SSD39.62 cm (15.6 Inch) DisplayAcer Care Center, Acer Product Registration, NitroSense, Quick Access1 Year International Travelers Warranty (ITW)',\n",
       "        'AMD Ryzen 5 Hexa Core Processor8 GB DDR4 RAM64 bit Windows 11 Operating System512 GB SSD39.62 cm (15.6 inch) Display1 Year Warranty',\n",
       "        'AMD Ryzen 5 Hexa Core Processor8 GB DDR4 RAM64 bit Windows 11 Operating System512 GB SSD39.62 cm (15.6 inch) DisplayAcer Care Center, Quick Access, Acer Product Registration1 Year International Travelers Warranty (ITW)',\n",
       "        'AMD Ryzen 5 Hexa Core Processor8 GB DDR4 RAM64 bit Windows 11 Operating System512 GB SSD39.62 cm (15.6 inch) DisplayMicrosoft Office Home & Student 20191 Year Onsite Warranty',\n",
       "        'AMD Ryzen 5 Hexa Core Processor8 GB DDR4 RAM64 bit Windows 11 Operating System512 GB SSD39.62 cm (15.6 inch) DisplayNA1 Year Onsite�Warranty�+ 1 Year Premium Care + 1 Year Accidental Damage Protection',\n",
       "        'AMD Ryzen 5 Hexa Core Processor8 GB DDR4 RAM64 bit Windows 11 Operating System512 GB SSD39.62 cm (15.6 inch) DisplayOffice Home and Student 20212 Years Onsite�Warranty',\n",
       "        'AMD Ryzen 5 Hexa Core Processor8 GB DDR4 RAM64 bit Windows 11 Operating System512 GB SSD40.89 cm (16.1 inch) Display\"Microsoft Office Home & Student 2019, HP Documentation, HP e-service, HP BIOS recovery, HP SSRM, HP Smart, HP Jumpstarts \"1 Year Onsite Warranty',\n",
       "        'AMD Ryzen 5 Hexa Core Processor8 GB DDR4 RAM64 bit Windows 11 Operating System512 GB SSD43.94 cm (17.3 Inch) Display1 Year Onsite Warranty',\n",
       "        'AMD Ryzen 5 Hexa Core Processor8 GB DDR4 RAMWindows 10 Operating System1 TB HDD|256 GB SSD39.62 cm (15.6 inch) DisplayMicrosoft Office Home & Student 20191 Year Onsite Warranty',\n",
       "        'AMD Ryzen 5 Hexa Core Processor8 GB DDR5 RAM64 bit Windows 11 Operating System512 GB SSD40.89 cm (16.1 Inch) Display1 Year Onsite Warranty',\n",
       "        'AMD Ryzen 5 Quad Core Processor8 GB DDR4 RAM64 bit Windows 10 Operating System512 GB SSD35.56 cm (14 inches) Display1 Year Onsite Warranty',\n",
       "        'AMD Ryzen 5 Quad Core Processor8 GB DDR4 RAM64 bit Windows 10 Operating System512 GB SSD39.62 cm (15.6 inch) DisplayMicrosoft Office 2019 & Office 365, HP Documentation, HP BIOS recovery, HP Smart, McAfee LiveSafe (30 days free trial as default)1 Year Onsite Warranty',\n",
       "        'AMD Ryzen 5 Quad Core Processor8 GB DDR4 RAM64 bit Windows 11 Operating System512 GB SSD39.62 cm (15.6 Inch) Display2 Years Onsite�Warranty',\n",
       "        'AMD Ryzen 5 Quad Core Processor8 GB DDR4 RAM64 bit Windows 11 Operating System512 GB SSD39.62 cm (15.6 inch) DisplayMicrosoft Office Home and Student 20211 Year Onsite Warranty',\n",
       "        'AMD Ryzen 7 Octa Core Processor16 GB DDR4 RAM64 bit Windows 10 Operating System1 TB HDD|256 GB SSD39.62 cm (15.6 inch) DisplayQuick Access, Acer Care Center, Acer Product Registration, NitroSense, GOTrust, PC Manager1 Year International Travelers Warranty',\n",
       "        'AMD Ryzen 7 Octa Core Processor16 GB DDR4 RAM64 bit Windows 10 Operating System1 TB SSD39.62 cm (15.6 inch) DisplayHP Documentation, HP e-service, HP BIOS Recovery, HP SSRM, HP Smart, HP Jumpstarts, HP Support Assistant1 Year Onsite Warranty',\n",
       "        'AMD Ryzen 7 Octa Core Processor16 GB DDR4 RAM64 bit Windows 10 Operating System512 GB SSD39.62 cm (15.6 inches) DisplayHP Documentation, HP e-service, HP BIOS recovery, HP SSRM, HP Smart, HP Jumpstarts1 Year Onsite Warranty',\n",
       "        'AMD Ryzen 7 Octa Core Processor16 GB DDR4 RAM64 bit Windows 11 Operating System1 TB SSD40.64 cm (16 inch) DisplayMicrosoft Office Home & Student 20193 Years Onsite�Warranty�+ 3 Years Legion Ultimate Support + 1 Year Accidental Damage Protection',\n",
       "        'AMD Ryzen 7 Octa Core Processor16 GB DDR4 RAM64 bit Windows 11 Operating System1 TB SSD40.89 cm (16.1 inch) DisplayMicrosoft Home & Student 2019, HP Documentation, HP e-service, HP BIOS recovery, HP SSRM, HP Smart, HP Jumpstarts1 Year Onsite Warranty',\n",
       "        'AMD Ryzen 7 Octa Core Processor16 GB DDR4 RAM64 bit Windows 11 Operating System1 TB SSD40.89 cm (16.1 inch) DisplayMicrosoft Office Home & Student 2019, HP Documentation, HP e-service, HP BIOS recovery, HP SSRM, HP Smart, HP Jumpstarts1 Year Onsite Warranty',\n",
       "        'AMD Ryzen 7 Octa Core Processor16 GB DDR4 RAM64 bit Windows 11 Operating System512 GB SSD39.62 cm (15.6 Inch) Display1 Year Onsite Warranty',\n",
       "        'AMD Ryzen 7 Octa Core Processor16 GB DDR4 RAM64 bit Windows 11 Operating System512 GB SSD39.62 cm (15.6 Inch) Display1 Year onsite warranty',\n",
       "        'AMD Ryzen 7 Octa Core Processor16 GB DDR4 RAM64 bit Windows 11 Operating System512 GB SSD40.64 cm (16 Inch) Display1 Year Onsite Warranty',\n",
       "        'AMD Ryzen 7 Octa Core Processor16 GB DDR4 RAMWindows 11 Operating System1 TB SSD39.62 cm (15.6 inch) DisplayMicrosoft Office Home & Student1 Year Onsite Warranty',\n",
       "        'AMD Ryzen 7 Octa Core Processor16 GB DDR5 RAM64 bit Windows 11 Operating System1 TB SSD39.62 cm (15.6 inch) Display1 Year Onsite Warranty',\n",
       "        'AMD Ryzen 7 Octa Core Processor16 GB DDR5 RAM64 bit Windows 11 Operating System1 TB SSD40.64 cm (16 Inch) Touchscreen Display1 Year Onsite Warranty',\n",
       "        'AMD Ryzen 7 Octa Core Processor16 GB DDR5 RAM64 bit Windows 11 Operating System512 GB SSD39.62 cm (15.6 Inch) Display1 Year Onsite Warranty',\n",
       "        'AMD Ryzen 7 Octa Core Processor16 GB DDR5 RAMWindows 11 Operating System1 TB SSD39.62 cm (15.6 Inch) Display1 Year Onsite Hardware Service',\n",
       "        'AMD Ryzen 7 Octa Core Processor16 GB LPDDR5 RAMWindows 11 Operating System1 TB SSD33.78 cm (13.3 Inch) Touchscreen Display1 Year Onsite Warranty',\n",
       "        'AMD Ryzen 7 Octa Core Processor32 GB DDR5 RAM64 bit Windows 11 Operating System2 TB SSD40.64 cm (16 Inch) Display1 Year Onsite Warranty',\n",
       "        'AMD Ryzen 7 Octa Core Processor8 GB DDR4 RAM64 bit Windows 11 Operating System512 GB SSD39.62 cm (15.6 inch) Display1 Year Onsite�Warranty�+ 1 Year Premium Care + 1 Year Accidental Damage Protection',\n",
       "        'AMD Ryzen 7 Octa Core Processor8 GB DDR4 RAM64 bit Windows 11 Operating System512 GB SSD40.89 cm (16.1 Inch) Display1 Year Onsite Warranty',\n",
       "        'AMD Ryzen 7 Octa Core Processor8 GB DDR4 RAM64 bit Windows 11 Operating System512 GB SSD40.89 cm (16.1 inch) DisplayMicrosoft Home & Student 20211 Year Onsite Warranty',\n",
       "        'AMD Ryzen 7 Octa Core Processor8 GB DDR4 RAM64 bit Windows 11 Operating System512 GB SSD43.94 cm (17.3 Inch) Display1 Year onsite warranty',\n",
       "        'AMD Ryzen 9 Octa Core Processor (10th Gen)16 GB DDR4 RAMWindows 11 Operating System512 GB SSD42.16 cm (16.6 inch) Display1 Year International Warranty',\n",
       "        'AMD Ryzen 9 Octa Core Processor (5th Gen)16 GB DDR4 RAM64 bit Windows 11 Operating System1 TB SSD39.62 cm (15.6 inch) Display1 Year On-Site Warranty',\n",
       "        'AMD Ryzen 9 Octa Core Processor (9th Gen)16 GB DDR4 RAM64 bit Windows 11 Operating System1 TB SSD40.64 cm (16 Inch) DisplayOffice Home and Student 2019 included1 Year onsite Warranty',\n",
       "        'AMD Ryzen 9 Octa Core Processor16 GB DDR4 RAMWindows 10 Operating System1 TB SSD39.62 cm (15.6 inch) DisplayOffice Home and Student 2019 included1 Year Onsite Warranty',\n",
       "        'AMD Ryzen 9 Octa Core Processor16 GB DDR4 RAMWindows 11 Operating System1 TB SSD39.62 cm (15.6 inch) DisplayMicrosoft Office Home & Student1 Year Onsite Warranty',\n",
       "        'AMD Ryzen 9 Octa Core Processor16 GB DDR5 RAM64 bit Windows 11 Operating System1 TB SSD39.62 cm (15.6 inch) Display1 Year Onsite Warranty',\n",
       "        'AMD Ryzen 9 Octa Core Processor16 GB DDR5 RAMWindows 11 Operating System1 TB SSD39.62 cm (15.6 inch) DisplayMicrosoft Office Home & Student1 Year Onsite Warranty',\n",
       "        'AMD Ryzen 9 Octa Core Processor16 GB DDR5 RAMWindows 11 Operating System1 TB SSD40.64 cm (16 Inch) Touchscreen DisplayMicrosoft Office Home & Student1 Year Onsite Warranty',\n",
       "        'AMD Ryzen 9 Octa Core Processor16 GB LPDDR5 RAMWindows 11 Operating System1 TB SSD34.04 cm (13.4 Inch) Touchscreen DisplayMicrosoft Office Home & Student1 Year Onsite Warranty',\n",
       "        'AMD Ryzen 9 Octa Core Processor32 GB DDR5 RAM64 bit Windows 11 Operating System2 TB SSD40.64 cm (16 Inch) Display1 Year Onsite Warranty',\n",
       "        'AMD Ryzen 9 Octa Core Processor32 GB LPDDR4X RAM64 bit Windows 10 Operating System1 TB SSD34.04 cm (13.4 Inch) Touchscreen DisplayMicrosoft Office Home and Student 20191 Year Onsite Warranty',\n",
       "        'Apple M1 Processor16 GB DDR4 RAMMac OS Operating System512 GB SSD33.78 cm (13.3 inch) DisplayBuilt-in Apps: iMovie, Siri, GarageBand, Pages, Numbers, Photos, Keynote, Safari, Mail, FaceTime, Messages, Maps, Stocks, Home, Voice Memos, Notes, Calendar, Contacts, Reminders, Photo Booth, Preview, Books, App Store, Time Machine, TV, Music, Podcasts, Find My, QuickTime Player1 Year Limited Warranty',\n",
       "        'Apple M1 Processor8 GB DDR4 RAMMac OS Operating System1 TB SSD33.78 cm (13.3 inch) DisplayiMovie, Siri, GarageBand, Pages, Numbers, Photos, Keynote, Safari, Mail, FaceTime, Messages, Maps, Stocks, Home, Voice Memos, Notes, Calendar, Contacts, Reminders, Photo Booth, Preview, Books, App Store, Time Machine, TV, Music, Podcasts, Find My, QuickTime Player1 Year Limited Warra\\xadnty',\n",
       "        'Apple M1 Processor8 GB DDR4 RAMMac OS Operating System256 GB SSD33.78 cm (13.3 inch) DisplayBuilt-in Apps: iMovie, Siri, GarageBand, Pages, Numbers, Photos, Keynote, Safari, Mail, FaceTime, Messages, Maps, Stocks, Home, Voice Memos, Notes, Calendar, Contacts, Reminders, Photo Booth, Preview, Books, App Store, Time Machine, TV, Music, Podcasts, Find My, QuickTime Player1 Year Limited Warra\\xadnty',\n",
       "        'Apple M1 Processor8 GB DDR4 RAMMac OS Operating System512 GB SSD33.78 cm (13.3 inch) DisplayBuilt-in Apps: iMovie, Siri, GarageBand, Pages, Numbers, Photos, Keynote, Safari, Mail, FaceTime, Messages, Maps, Stocks, Home, Voice Memos, Notes, Calendar, Contacts, Reminders, Photo Booth, Preview, Books, App Store, Time Machine, TV, Music, Podcasts, Find My, QuickTime Player1 Year Limited Warra\\xadnty',\n",
       "        'Free upgrade to Windows 11 when availableAMD Ryzen 5 Hexa Core Processor8 GB DDR4 RAM64 bit Windows 10 Operating System1 TB HDD|256 GB SSD39.62 cm (15.6 inch) DisplayAcer Care Center, Acer Product Registration, Acer Configuration Manager, NitroSense1 Year International Travelers Warranty (ITW)',\n",
       "        'Free upgrade to Windows 11 when availableAMD Ryzen 5 Hexa Core Processor8 GB DDR4 RAM64 bit Windows 11 Operating System512 GB SSD39.62 cm (15.6 inch) DisplayAcer Collection , Acer Product Registration, Acer Care Center, Quick Access1 Year International Travelers Warranty (ITW)',\n",
       "        'Free upgrade to Windows 11 when availableIntel Core i5 Processor (11th Gen)8 GB DDR4 RAM64 bit Windows 10 Operating System1 TB HDD39.62 cm (15.6 inch) DisplayAcer Care Center, Quick Access, Acer Product Registration1 Year International Travelers Warranty (ITW)',\n",
       "        'Intel Celeron Dual Core Processor (4th Gen)4 GB DDR4 RAM64 bit Windows 10 Operating System256 GB SSD29.46 cm (11.6 inch) DisplayMicrosoft Office Home & Student 20191 Year Warranty',\n",
       "        'Intel Celeron Dual Core Processor4 GB DDR4 RAM64 bit Windows 10 Operating System256 GB SSD35.56 cm (14 inch) Display1 Year Onsite Warranty',\n",
       "        'Intel Celeron Dual Core Processor4 GB DDR4 RAM64 bit Windows 11 Operating System128 GB SSD29.46 cm (11.6 Inch) Touchscreen Display1 Year Onsite Warranty',\n",
       "        'Intel Celeron Dual Core Processor4 GB DDR4 RAM64 bit Windows 11 Operating System256 GB SSD29.46 cm (11.6 Inch) DisplayOffice Home and Student 20211 Year Onsite�Warranty',\n",
       "        'Intel Celeron Dual Core Processor4 GB DDR4 RAM64 bit Windows 11 Operating System256 GB SSD35.56 cm (14 inch) Display1 Year Onsite Warranty',\n",
       "        'Intel Celeron Dual Core Processor4 GB LPDDR4 RAMWindows 11 Operating System128 GB SSD35.81 cm (14.1 inch) Display1 Year Domestic Warranty',\n",
       "        'Intel Celeron Quad Core Processor4 GB LPDDR4X RAM64 bit Windows 11 Operating System128 GB SSD35.56 cm (14 inch) Display1 Year Onsite Warranty',\n",
       "        'Intel Celeron Quad Core Processor8 GB LPDDR4X RAM64 bit Windows 11 Operating System256 GB SSD35.56 cm (14 inch) Display1 Year Onsite Warranty',\n",
       "        'Intel Core i3 Processor (10th Gen)4 GB DDR4 RAM64 bit Windows 10 Operating System1 TB HDD39.62 cm (15.6 inch) Display1 Year Onsite Warranty',\n",
       "        'Intel Core i3 Processor (10th Gen)4 GB DDR4 RAM64 bit Windows 10 Operating System1 TB HDD39.62 cm (15.6 inch) DisplaySplendid, Tru2Life, My Asus1 Year Onsite Warranty',\n",
       "        'Intel Core i3 Processor (10th Gen)4 GB DDR4 RAM64 bit Windows 10 Operating System256 GB SSD38.1 cm (15 inch) DisplayMicrosoft Office Home and Student 20191 Year Onsite Warranty',\n",
       "        'Intel Core i3 Processor (10th Gen)4 GB DDR4 RAM64 bit Windows 11 Operating System256 GB SSD39.62 cm (15.6 inch) Display1 Year Onsite Warranty',\n",
       "        'Intel Core i3 Processor (10th Gen)8 GB DDR4 RAM64 bit Windows 10 Operating System1 TB HDD39.62 cm (15.6 inch) DisplayMicrosoft Office Home and Student 2019, Splendid, Tru2Life, My Asus1 Year Onsite Warranty',\n",
       "        'Intel Core i3 Processor (10th Gen)8 GB DDR4 RAM64 bit Windows 11 Operating System1 TB HDD39.62 cm (15.6 inch) DisplayMicrosoft Office Home and Student 20192 Years Warranty',\n",
       "        'Intel Core i3 Processor (10th Gen)8 GB DDR4 RAM64 bit Windows 11 Operating System512 GB SSD39.62 cm (15.6 inch) DisplayOffice Home and Student 20211 Year Onsite Warranty',\n",
       "        'Intel Core i3 Processor (10th Gen)8 GB DDR4 RAM64 bit Windows 11 Operating System512 GB SSD39.62 cm (15.6 inch) DisplayWindows 11, Microsoft Office H&S 2021, 1 Year McAfee1 Year Onsite Warranty',\n",
       "        'Intel Core i3 Processor (10th Gen)8 GB LPDDR4X RAM64 bit Windows 11 Operating System256 GB SSD35.56 cm (14 inch) Display1 year Onsite Warranty',\n",
       "        'Intel Core i3 Processor (10th Gen)8 GB LPDDR4X RAM64 bit Windows 11 Operating System256 GB SSD35.56 cm (14 inch) DisplayNA1 Year Onsite Warranty',\n",
       "        'Intel Core i3 Processor (10th Gen)8 GB LPDDR4X RAM64 bit Windows 11 Operating System512 GB SSD35.56 cm (14 inch) DisplayNA1 Year Onsite Warranty',\n",
       "        'Intel Core i3 Processor (11th Gen)4 GB DDR4 RAM64 bit Windows 10 Operating System256 GB SSD38.1 cm (15 inch) DisplayMicrosoft Office Home & Student 20191 Year Onsite Warranty',\n",
       "        'Intel Core i3 Processor (11th Gen)4 GB DDR4 RAM64 bit Windows 10 Operating System256 GB SSD39.62 cm (15.6 inch) DisplayMicrosoft Office Home & Student 20191 Year Onsite Warranty',\n",
       "        'Intel Core i3 Processor (11th Gen)4 GB DDR4 RAM64 bit Windows 11 Operating System256 GB SSD35.56 cm (14 Inch) Display1 Year onsite warranty',\n",
       "        'Intel Core i3 Processor (11th Gen)8 GB DDR4 RAM64 bit Windows 10 Operating System256 GB SSD35.56 cm (14 inch) DisplayHP Documentation, HP SSRM, HP Smart, Microsoft Office 2019, McAfeeLiveSafe 30 day trial, HP Support Assistant1 Year Onsite Warranty',\n",
       "        'Intel Core i3 Processor (11th Gen)8 GB DDR4 RAM64 bit Windows 10 Operating System256 GB SSD35.56 cm (14 inch) DisplayNo1 Year Domestic Warranty',\n",
       "        'Intel Core i3 Processor (11th Gen)8 GB DDR4 RAM64 bit Windows 10 Operating System256 GB SSD39.62 cm (15.6 inch) DisplayOffice Home and Student 2019 included1 Year Onsite Warranty',\n",
       "        'Intel Core i3 Processor (11th Gen)8 GB DDR4 RAM64 bit Windows 10 Operating System256 GB SSD39.62 cm (15.6 inch) DisplayOffice Home and Student 20191 Year Onsite Warranty',\n",
       "        'Intel Core i3 Processor (11th Gen)8 GB DDR4 RAM64 bit Windows 10 Operating System512 GB SSD35.56 cm (14 inch) Display1 Year Warranty Term',\n",
       "        'Intel Core i3 Processor (11th Gen)8 GB DDR4 RAM64 bit Windows 10 Operating System512 GB SSD39.62 cm (15.6 inch) DisplayOffice Home and Student 2019, MyASUS, Link to MyASUS, Splendid, Tru2Life1 Year Onsite Warranty',\n",
       "        'Intel Core i3 Processor (11th Gen)8 GB DDR4 RAM64 bit Windows 11 Operating System1 TB HDD|256 GB SSD39.62 cm (15.6 inch) Display1 Year Onsite Warranty',\n",
       "        'Intel Core i3 Processor (11th Gen)8 GB DDR4 RAM64 bit Windows 11 Operating System256 GB SSD35.56 cm (14 Inch) Display1 Year Onsite Warranty',\n",
       "        'Intel Core i3 Processor (11th Gen)8 GB DDR4 RAM64 bit Windows 11 Operating System256 GB SSD35.56 cm (14 inch) Display1 Year Onsite Warranty',\n",
       "        'Intel Core i3 Processor (11th Gen)8 GB DDR4 RAM64 bit Windows 11 Operating System256 GB SSD35.56 cm (14 inch) DisplayOffice Home and Student 20212 Year Onsite�Warranty',\n",
       "        'Intel Core i3 Processor (11th Gen)8 GB DDR4 RAM64 bit Windows 11 Operating System256 GB SSD38.0 cm (14.96 Inch) DisplayMicrosoft Office Home and Student 20211 Year Onsite Warranty',\n",
       "        'Intel Core i3 Processor (11th Gen)8 GB DDR4 RAM64 bit Windows 11 Operating System256 GB SSD39.62 cm (15.6 Inch) Display1 Year International Travelers Warranty (ITW)',\n",
       "        'Intel Core i3 Processor (11th Gen)8 GB DDR4 RAM64 bit Windows 11 Operating System256 GB SSD39.62 cm (15.6 Inch) Display1 Years Carry in Warranty',\n",
       "        'Intel Core i3 Processor (11th Gen)8 GB DDR4 RAM64 bit Windows 11 Operating System256 GB SSD39.62 cm (15.6 Inch) Display2 Years Onsite�Warranty',\n",
       "        'Intel Core i3 Processor (11th Gen)8 GB DDR4 RAM64 bit Windows 11 Operating System512 GB SSD35.56 cm (14 inch) Display1 Year Onsite Warranty',\n",
       "        'Intel Core i3 Processor (11th Gen)8 GB DDR4 RAM64 bit Windows 11 Operating System512 GB SSD35.56 cm (14 inch) DisplayMicrosoft Office Home & Student 20211 Year Onsite Warranty',\n",
       "        'Intel Core i3 Processor (11th Gen)8 GB DDR4 RAM64 bit Windows 11 Operating System512 GB SSD35.56 cm (14 inch) DisplayOffice Home and Student 20211 Year Onsite Warranty',\n",
       "        'Intel Core i3 Processor (11th Gen)8 GB DDR4 RAM64 bit Windows 11 Operating System512 GB SSD35.81 cm (14.1 inch) DisplayWindows 11 Home, Microsoft Office Home & Student 2019, 1 Year Mcafee1 Year Onsite Warranty',\n",
       "        'Intel Core i3 Processor (11th Gen)8 GB DDR4 RAM64 bit Windows 11 Operating System512 GB SSD39.62 cm (15.6 Inch) Display1 Year International Travelers Warranty (ITW)',\n",
       "        'Intel Core i3 Processor (11th Gen)8 GB DDR4 RAM64 bit Windows 11 Operating System512 GB SSD39.62 cm (15.6 Inch) DisplayMicrosoft Office 2021 Home & Student, HP Documentation, HP BIOS recovery, HP Smart1 Year Onsite Warranty',\n",
       "        'Intel Core i3 Processor (11th Gen)8 GB DDR4 RAM64 bit Windows 11 Operating System512 GB SSD39.62 cm (15.6 inch) Display1 Year Onsite Warranty',\n",
       "        'Intel Core i3 Processor (11th Gen)8 GB DDR4 RAM64 bit Windows 11 Operating System512 GB SSD39.62 cm (15.6 inch) DisplayOffice Home and Student 20211 Year Onsite Warranty',\n",
       "        'Intel Core i3 Processor (11th Gen)8 GB DDR4 RAM64 bit Windows 11 Operating System512 GB SSD39.62 cm (15.6 inch) DisplayOffice Home and Student 20212 Year Onsite�Warranty',\n",
       "        'Intel Core i3 Processor (11th Gen)8 GB DDR4 RAM64 bit Windows 11 Operating System512 GB SSD39.62 cm (15.6 inch) DisplayWindows 11, Microsoft Office H&S 2021, 1 Year McAfee1 Year Onsite Warranty',\n",
       "        'Intel Core i3 Processor (11th Gen)8 GB DDR4 RAMWindows 11 Operating System1 TB HDD|256 GB SSD38.1 cm (15 inch) Display12 months',\n",
       "        'Intel Core i3 Processor (11th Gen)8 GB DDR4 RAMWindows 11 Operating System256 GB SSD38.1 cm (15 inch) Display2 Year Onsite Warranty',\n",
       "        'Intel Core i3 Processor (11th Gen)8 GB DDR4 RAMWindows 11 Operating System512 GB SSD39.62 cm (15.6 inch) Display1 YEAR',\n",
       "        'Intel Core i3 Processor (11th Gen)8 GB LPDDR4X RAM64 bit Windows 11 Operating System256 GB SSD35.56 cm (14 Inch) Touchscreen Display1 Year onsite warranty',\n",
       "        'Intel Core i3 Processor (11th Gen)8 GB LPDDR4X RAM64 bit Windows 11 Operating System512 GB SSD39.62 cm (15.6 Inch) Display1 Year Onsite Warranty',\n",
       "        'Intel Core i3 Processor (12th Gen)8 GB DDR4 RAM64 bit Windows 11 Operating System256 GB SSD35.56 cm (14 Inch) Display1 Year Onsite Warranty',\n",
       "        'Intel Core i3 Processor (12th Gen)8 GB DDR4 RAM64 bit Windows 11 Operating System512 GB SSD39.62 cm (15.6 Inch) Display1 Year Onsite Hardware Service',\n",
       "        'Intel Core i3 Processor (12th Gen)8 GB DDR4 RAM64 bit Windows 11 Operating System512 GB SSD39.62 cm (15.6 inch) Display1 Year International Travelers Warranty (ITW)',\n",
       "        'Intel Core i3 Processor (12th Gen)8 GB DDR4 RAMWindows 11 Operating System512 GB SSD35.56 cm (14 inch) DisplayOffice Home and Student 20211 Year Onsite Warranty',\n",
       "        'Intel Core i3 Processor (8th Gen)4 GB DDR4 RAM64 bit Windows 10 Operating System256 GB SSD39.62 cm (15.6 inch) Display1 year Manufacturer Warranty',\n",
       "        'Intel Core i5 Processor (10th Gen)16 GB DDR4 RAM64 bit Windows 10 Operating System512 GB SSD39.62 cm (15.6 inch) Display1 Year Onsite Warranty',\n",
       "        'Intel Core i5 Processor (10th Gen)16 GB DDR4 RAM64 bit Windows 11 Operating System512 GB SSD39.62 cm (15.6 inch) DisplayWindows 11, Microsoft Office H&S 2021, 1 Year McAfee1 Year Onsite Warranty',\n",
       "        'Intel Core i5 Processor (10th Gen)16 GB LPDDR4X RAM64 bit Windows 11 Operating System512 GB SSD35.56 cm (14 Inch) DisplayNA1 Year Onsite Warranty',\n",
       "        'Intel Core i5 Processor (10th Gen)8 GB DDR4 RAM64 bit Windows 10 Operating System1 TB HDD39.62 cm (15.6 inch) DisplaySplendid, Tru2Life, My Asus1 Year Onsite Warranty',\n",
       "        'Intel Core i5 Processor (10th Gen)8 GB DDR4 RAM64 bit Windows 10 Operating System1 TB HDD|256 GB SSD39.62 cm (15.6 inch) DisplayMicrosoft Office Home and Student 20191 Year Onsite Warranty',\n",
       "        'Intel Core i5 Processor (10th Gen)8 GB DDR4 RAM64 bit Windows 10 Operating System512 GB SSD39.62 cm (15.6 Inch) DisplayMicrosoft Office Home and Student 20191 Year Onsite Warranty',\n",
       "        'Intel Core i5 Processor (10th Gen)8 GB DDR4 RAM64 bit Windows 10 Operating System512 GB SSD39.62 cm (15.6 inch) Display1 Year Onsite�Warranty�+ 1 Year Premium Care + 1 Year Accidental Damage Protection',\n",
       "        'Intel Core i5 Processor (10th Gen)8 GB DDR4 RAM64 bit Windows 10 Operating System512 GB SSD39.62 cm (15.6 inch) DisplaySystem Diagnosis (All models), Splendid (All Models), Tru2Life (Intel Platform Models), Keyboard Hotkeys (All Models), AppDeals (All Models), Link to MyASUS (All Models, Bluetooth Needed)1 Year Onsite Warranty',\n",
       "        'Intel Core i5 Processor (10th Gen)8 GB DDR4 RAM64 bit Windows 11 Operating System512 GB SSD39.62 cm (15.6 inch) Display1 Year Onsite�Warranty�+ 1 Year Legion Ultimate Support + 1 Year Accidental Damage Protection',\n",
       "        'Intel Core i5 Processor (10th Gen)8 GB DDR4 RAM64 bit Windows 11 Operating System512 GB SSD39.62 cm (15.6 inch) DisplayOffice Home and Student 20211 Year Onsite Warranty',\n",
       "        'Intel Core i5 Processor (10th Gen)8 GB DDR4 RAM64 bit Windows 11 Operating System512 GB SSD39.62 cm (15.6 inch) DisplayWindows 11 Home, Microsoft Office Home & Student 2021, 1 Year McAfee1 Year Onsite Warranty',\n",
       "        'Intel Core i5 Processor (10th Gen)8 GB DDR4 RAMWindows 11 Operating System256 GB SSD39.62 cm (15.6 inch) Display1 Year Warranty',\n",
       "        'Intel Core i5 Processor (10th Gen)8 GB DDR4 RAMWindows 11 Operating System512 GB SSD35.56 cm (14 inch) Display1 Year Onsite Warranty',\n",
       "        'Intel Core i5 Processor (10th Gen)8 GB DDR4 RAMWindows 11 Operating System512 GB SSD39.62 cm (15.6 inch) Display1 Year Onsite Warranty',\n",
       "        'Intel Core i5 Processor (10th Gen)8 GB LPDDR4X RAM64 bit Windows 11 Operating System512 GB SSD35.56 cm (14 Inch) DisplayNA1 Year Onsite Warranty',\n",
       "        'Intel Core i5 Processor (10th Gen)8 GB LPDDR4X RAM64 bit Windows 11 Operating System512 GB SSD35.56 cm (14 inch) Display1 year Onsite Warranty',\n",
       "        'Intel Core i5 Processor (11th Gen)16 GB DDR4 RAM64 bit Windows 10 Operating System512 GB SSD35.56 cm (14 inch) Touchscreen DisplayMicrosoft Office 2019 Home & Student3 Years Warranty + 1 Year Premium Care + 1 Year ADP',\n",
       "        'Intel Core i5 Processor (11th Gen)16 GB DDR4 RAM64 bit Windows 10 Operating System512 GB SSD39.62 cm (15.6 Inch) DisplayMatrix Display (Extend)?Cooler Boost 5?Hi-Res Audio?Nahimic 3, Thin Bezel?Speaker Tuning Engine2 Year On-Site Warranty',\n",
       "        'Intel Core i5 Processor (11th Gen)16 GB DDR4 RAM64 bit Windows 10 Operating System512 GB SSD39.62 cm (15.6 inch) Display1 Year Onsite Warranty',\n",
       "        'Intel Core i5 Processor (11th Gen)16 GB DDR4 RAM64 bit Windows 11 Operating System512 GB SSD35.56 cm (14 inch) Touchscreen Display\"Microsoft Office Home & Student 2019, HP Documentation, HP SSRM, HP Smart \"1 Year Onsite Warranty',\n",
       "        'Intel Core i5 Processor (11th Gen)16 GB DDR4 RAM64 bit Windows 11 Operating System512 GB SSD35.56 cm (14 inch) Touchscreen Display1 Year Onsite Warranty',\n",
       "        'Intel Core i5 Processor (11th Gen)16 GB DDR4 RAM64 bit Windows 11 Operating System512 GB SSD39.62 cm (15.6 Inch) Display1 Year International Travelers Warranty (ITW)',\n",
       "        'Intel Core i5 Processor (11th Gen)16 GB DDR4 RAM64 bit Windows 11 Operating System512 GB SSD39.62 cm (15.6 Inch) Display1 Year Onsite�Warranty�+ 1 Year Premium Care + 1 Year Accidental Damage Protection',\n",
       "        'Intel Core i5 Processor (11th Gen)16 GB DDR4 RAM64 bit Windows 11 Operating System512 GB SSD39.62 cm (15.6 inch) Display1 Year Onsite warranty + 1 Year Accidental Damage Protection + 1 Year Legion Ultimate Support',\n",
       "        'Intel Core i5 Processor (11th Gen)16 GB DDR4 RAMWindows 10 Operating System512 GB SSD35.56 cm (14 Inch) DisplayMicrosoft Office Home & Student 20193 Years Warranty + 1 Year Premium Care + 1 Year ADP',\n",
       "        'Intel Core i5 Processor (11th Gen)16 GB DDR4 RAMWindows 10 Operating System512 GB SSD39.62 cm (15.6 inch) Display1 Year Onsite Warranty',\n",
       "        'Intel Core i5 Processor (11th Gen)16 GB LPDDR4 RAM64 bit Windows 11 Operating System512 GB SSD33.78 cm (13.3 Inch) Display1 Year Onsite Warranty',\n",
       "        'Intel Core i5 Processor (11th Gen)16 GB LPDDR4X RAM64 bit Windows 10 Operating System512 GB SSD35.56 cm (14 inch) DisplayPCI-e Gen4 SSD?SHIFT?Matrix Display (Extend)?Cooler Boost 3?Thunderbolt 4?Finger Print Security?True Color 2.0?Hi-Res Audio?Nahimic 3? 4-Sided Thin bezel?MSI Center?Silky Smooth Touchpad?Military-Grade Durability1 Year On-Site Warranty',\n",
       "        'Intel Core i5 Processor (11th Gen)16 GB LPDDR4X RAM64 bit Windows 10 Operating System512 GB SSD35.56 cm (14 inch) Touchscreen DisplayMyASUS, ScreenXpert, Office Home and Student 2019 with lifetime validity, McAfee Anti-virus for 1 Year, Link to MyASUS (All Models, Bluetooth Needed)1 Year Onsite Warranty',\n",
       "        'Intel Core i5 Processor (11th Gen)16 GB LPDDR4X RAM64 bit Windows 11 Operating System512 GB SSD35.56 cm (14 Inch) Display1 Years Carry in Warranty',\n",
       "        'Intel Core i5 Processor (11th Gen)16 GB LPDDR4X RAMWindows 11 Operating System512 GB SSD35.56 cm (14 inch) Display1 Year Domestic Warranty',\n",
       "        'Intel Core i5 Processor (11th Gen)8 GB DDR4 RAM64 bit Windows 10 Operating System1 TB HDD|256 GB SSD39.62 cm (15.6 inch) DisplayMicrosoft Office 2019 Home & Student1 Year Onsite Warranty',\n",
       "        'Intel Core i5 Processor (11th Gen)8 GB DDR4 RAM64 bit Windows 10 Operating System1 TB HDD|256 GB SSD39.62 cm (15.6 inches) DisplayMicrosoft Office Home & Student 2019, HP Documentation, HP e-service, HP BIOS recovery, HP SSRM, HP Smart, HP Jumpstarts1 Year Onsite Warranty',\n",
       "        'Intel Core i5 Processor (11th Gen)8 GB DDR4 RAM64 bit Windows 10 Operating System1 TB SSD39.62 cm (15.6 inch) Display1 Year Onsite Warranty',\n",
       "        'Intel Core i5 Processor (11th Gen)8 GB DDR4 RAM64 bit Windows 10 Operating System256 GB SSD39.62 cm (15.6 inch) DisplayMicrosoft Office Home and Student 20192 Years Warranty',\n",
       "        'Intel Core i5 Processor (11th Gen)8 GB DDR4 RAM64 bit Windows 10 Operating System512 GB SSD35.56 cm (14 Inch) DisplayMicrosoft Office Home and Student 20192 Years Warranty',\n",
       "        'Intel Core i5 Processor (11th Gen)8 GB DDR4 RAM64 bit Windows 10 Operating System512 GB SSD35.56 cm (14 inch) DisplayMicrosoft Office Home & Student 20191 Year Onsite Warranty',\n",
       "        'Intel Core i5 Processor (11th Gen)8 GB DDR4 RAM64 bit Windows 10 Operating System512 GB SSD35.56 cm (14 inch) DisplayMicrosoft Office Home and Student 20191 Year Warranty + 1 Year Premium Care + 1 Year ADP',\n",
       "        'Intel Core i5 Processor (11th Gen)8 GB DDR4 RAM64 bit Windows 10 Operating System512 GB SSD39.62 cm (15.6 inch) DisplayMicrosoft Office Home and Student 2019, HP Documentation, HP CoolSense , HP SSRM , HP Smart, HP Support Assistant1 Year Onsite Warranty',\n",
       "        'Intel Core i5 Processor (11th Gen)8 GB DDR4 RAM64 bit Windows 11 Operating System1 TB HDD|256 GB SSD39.62 cm (15.6 inch) DisplayAcer Care Center, Quick Access, Acer Product Registration, MS Office 2021 Home & Student1 Year International Travelers Warranty (ITW)',\n",
       "        'Intel Core i5 Processor (11th Gen)8 GB DDR4 RAM64 bit Windows 11 Operating System1 TB HDD|256 GB SSD39.62 cm (15.6 inch) DisplayMicrosoft Office Home & Student 20211 Year Onsite�Warranty�+ 1 Year Premium Care + 1 Year Accidental Damage Protection',\n",
       "        'Intel Core i5 Processor (11th Gen)8 GB DDR4 RAM64 bit Windows 11 Operating System1 TB HDD|256 GB SSD39.62 cm (15.6 inch) DisplayOffice Home and Student 20211 Year Onsite Warranty',\n",
       "        'Intel Core i5 Processor (11th Gen)8 GB DDR4 RAM64 bit Windows 11 Operating System512 GB SSD39.62 cm (15.6 Inch) Display1 Year International Travelers Warranty (ITW)',\n",
       "        'Intel Core i5 Processor (11th Gen)8 GB DDR4 RAM64 bit Windows 11 Operating System512 GB SSD39.62 cm (15.6 Inch) Display1 Year Onsite Warranty',\n",
       "        'Intel Core i5 Processor (11th Gen)8 GB DDR4 RAM64 bit Windows 11 Operating System512 GB SSD39.62 cm (15.6 Inch) Display1 Year Onsite Warranty + 1 Year Premium Care + 1 Year Accidentaly Damage Protection',\n",
       "        'Intel Core i5 Processor (11th Gen)8 GB DDR4 RAM64 bit Windows 11 Operating System512 GB SSD39.62 cm (15.6 inch) Display2 Years Onsite Warranty',\n",
       "        'Intel Core i5 Processor (11th Gen)8 GB DDR4 RAM64 bit Windows 11 Operating System512 GB SSD39.62 cm (15.6 inch) DisplayAcer Care Center, Acer Product Registration1 Year International Travelers Warranty (ITW)',\n",
       "        'Intel Core i5 Processor (11th Gen)8 GB DDR4 RAM64 bit Windows 11 Operating System512 GB SSD39.62 cm (15.6 inch) DisplayWindows 11 Home, MSI Center, CoolerBoost2 Year On-Site & Carry-In Warranty',\n",
       "        'Intel Core i5 Processor (11th Gen)8 GB DDR4 RAM64 bit Windows 11 Operating System512 GB SSD40.89 cm (16.1 inch) DisplayMicrosoft Office Home & Student 20191 Year Onsite Warranty',\n",
       "        'Intel Core i5 Processor (11th Gen)8 GB DDR4 RAMWindows 11 Operating System1 TB SSD39.62 cm (15.6 inch) Display1 YEAR',\n",
       "        'Intel Core i5 Processor (11th Gen)8 GB DDR4 RAMWindows 11 Operating System256 GB SSD35.56 cm (14 inch) Display1 Year Onsite Warranty',\n",
       "        'Intel Core i5 Processor (11th Gen)8 GB DDR4 RAMWindows 11 Operating System512 GB SSD39.62 cm (15.6 inch) Display1 YEAR',\n",
       "        'Intel Core i5 Processor (11th Gen)8 GB DDR4 RAMWindows 11 Operating System512 GB SSD39.62 cm (15.6 inch) DisplayMS Office Home & Student 2019, Mi Smart Share, DTS Audio processing1 Year Onsite Warranty',\n",
       "        'Intel Core i5 Processor (11th Gen)8 GB LPDDR4X RAM64 bit Windows 11 Operating System512 GB SSD33.78 cm (13.3 Inch) Display1 Year onsite warranty',\n",
       "        'Intel Core i5 Processor (11th Gen)8 GB LPDDR4X RAM64 bit Windows 11 Operating System512 GB SSD39.62 cm (15.6 Inch) Display1 Year Onsite Warranty',\n",
       "        'Intel Core i5 Processor (11th Gen)8 GB LPDDR4X RAMWindows 11 Operating System512 GB SSD35.56 cm (14 inch) Touchscreen DisplayMicrosoft Office Home and Student 20211 Year Onsite Warranty',\n",
       "        'Intel Core i5 Processor (12th Gen)16 GB DDR4 RAM64 bit Windows 11 Operating System512 GB SSD35.56 cm (14 Inch) Display1 Year Onsite Warranty',\n",
       "        'Intel Core i5 Processor (12th Gen)16 GB DDR4 RAM64 bit Windows 11 Operating System512 GB SSD35.56 cm (14 Inch) Touchscreen Display1 Year Onsite Warranty',\n",
       "        'Intel Core i5 Processor (12th Gen)16 GB DDR4 RAM64 bit Windows 11 Operating System512 GB SSD35.56 cm (14 inch) DisplayMicrosoft Office Home & Student 20211 Year Onsite Warranty',\n",
       "        'Intel Core i5 Processor (12th Gen)16 GB DDR4 RAM64 bit Windows 11 Operating System512 GB SSD35.56 cm (14 inch) Touchscreen DisplayOffice Home and Student 20211 Year Onsite Hardware Service',\n",
       "        'Intel Core i5 Processor (12th Gen)16 GB DDR4 RAM64 bit Windows 11 Operating System512 GB SSD39.62 cm (15.6 Inch) Display2 Year Carry-In Warranty Term',\n",
       "        'Intel Core i5 Processor (12th Gen)16 GB DDR4 RAM64 bit Windows 11 Operating System512 GB SSD39.62 cm (15.6 Inch) Display2 Years Onsite�Warranty',\n",
       "        'Intel Core i5 Processor (12th Gen)16 GB DDR4 RAM64 bit Windows 11 Operating System512 GB SSD39.62 cm (15.6 inch) Display1 Year Onsite warranty + 1 Year Accidental Damage Protection + 1 Year Premium Care',\n",
       "        'Intel Core i5 Processor (12th Gen)16 GB DDR4 RAM64 bit Windows 11 Operating System512 GB SSD39.62 cm (15.6 inch) DisplayAcer Care Center, Acer Product Registration, Nitro Sense, Quick Access1 Year International Travelers Warranty (ITW)',\n",
       "        'Intel Core i5 Processor (12th Gen)16 GB DDR4 RAMWindows 11 Operating System512 GB SSD39.62 cm (15.6 Inch) Display1 Year International Travelers Warranty (ITW)',\n",
       "        'Intel Core i5 Processor (12th Gen)16 GB DDR5 RAMWindows 11 Operating System512 GB SSD39.62 cm (15.6 inch) Display1 Year Warranty',\n",
       "        'Intel Core i5 Processor (12th Gen)16 GB LPDDR5 RAM64 bit Windows 11 Operating System512 GB SSD39.62 cm (15.6 Inch) Display1 Year Onsite Warranty',\n",
       "        'Intel Core i5 Processor (12th Gen)8 GB DDR4 RAM64 bit Windows 11 Operating System1 TB HDD|256 GB SSD39.62 cm (15.6 Inch) Display1 Year Onsite Hardware Service',\n",
       "        'Intel Core i5 Processor (12th Gen)8 GB DDR4 RAM64 bit Windows 11 Operating System512 GB SSD35.56 cm (14 Inch) Touchscreen Display1 Year Onsite Hardware Service',\n",
       "        'Intel Core i5 Processor (12th Gen)8 GB DDR4 RAM64 bit Windows 11 Operating System512 GB SSD39.62 cm (15.6 Inch) Display1 Year International Travelers Warranty (ITW)',\n",
       "        'Intel Core i5 Processor (12th Gen)8 GB DDR4 RAM64 bit Windows 11 Operating System512 GB SSD39.62 cm (15.6 Inch) Display2 Year Onsite Warranty',\n",
       "        'Intel Core i5 Processor (12th Gen)8 GB DDR4 RAM64 bit Windows 11 Operating System512 GB SSD39.62 cm (15.6 inch) Display1 Year International Travelers Warranty (ITW)',\n",
       "        'Intel Core i5 Processor (12th Gen)8 GB DDR4 RAM64 bit Windows 11 Operating System512 GB SSD39.62 cm (15.6 inch) Display1 Year Onsite Warranty',\n",
       "        'Intel Core i5 Processor (12th Gen)8 GB DDR4 RAM64 bit Windows 11 Operating System512 GB SSD39.62 cm (15.6 inch) DisplayMicrosoft Office Home & Student 20211 Year Onsite Warranty',\n",
       "        'Intel Core i5 Processor (12th Gen)8 GB DDR4 RAMWindows 11 Operating System512 GB SSD35.56 cm (14 inch) DisplayMicrosoft Office Home & Student 20211 Year Onsite Warranty',\n",
       "        'Intel Core i5 Processor (12th Gen)8 GB LPDDR4X RAM64 bit Windows 11 Operating System256 GB SSD39.62 cm (15.6 Inch) Display1 Year Onsite Warranty',\n",
       "        'Intel Core i7 Processor (10th Gen)16 GB LPDDR4X RAM64 bit Windows 11 Operating System512 GB SSD35.56 cm (14 Inch) Display1 Year Onsite Warranty',\n",
       "        'Intel Core i7 Processor (10th Gen)16 GB LPDDR4X RAM64 bit Windows 11 Operating System512 GB SSD35.56 cm (14 Inch) DisplayNA1 Year Onsite Warranty',\n",
       "        'Intel Core i7 Processor (10th Gen)32 GB DDR4 RAM64 bit Windows 10 Operating System1 TB SSD39.62 cm (15.6 inch) DisplayNahimic 3, Cooler Boost, Trinity+, Creator Center, True Color 3.02 Years Carry In Warranty',\n",
       "        'Intel Core i7 Processor (10th Gen)32 GB DDR4 RAM64 bit Windows 10 Operating System1 TB SSD39.62 cm (15.6 inch) Touchscreen DisplayMy Asus, Splendid, Tru2Life1 Year Onsite Warranty',\n",
       "        'Intel Core i7 Processor (11th Gen)16 GB DDR4 RAM64 bit Windows 10 Operating System1 TB HDD|512 GB SSD39.62 cm (15.6 inch) DisplayAcer Care Center, Acer Product Registration, Planet9, PredatorSense1 Year International Travelers Warranty (ITW)',\n",
       "        'Intel Core i7 Processor (11th Gen)16 GB DDR4 RAM64 bit Windows 10 Operating System1 TB SSD35.56 cm (14 inch) Touchscreen DisplayMicrosoft Office Home and Student 20193 Years Warranty + 1 Year Premium Care + 1 Year ADP',\n",
       "        'Intel Core i7 Processor (11th Gen)16 GB DDR4 RAM64 bit Windows 10 Operating System1 TB SSD39.62 cm (15.6 inch) Display1 Year Onsite Warranty',\n",
       "        'Intel Core i7 Processor (11th Gen)16 GB DDR4 RAM64 bit Windows 10 Operating System512 GB SSD39.62 cm (15.6 inch) Display2 Year Carry-In Warranty Term',\n",
       "        'Intel Core i7 Processor (11th Gen)16 GB DDR4 RAM64 bit Windows 10 Operating System512 GB SSD39.62 cm (15.6 inch) DisplayMicrosoft Office Home and Student 20191 Year Onsite�Warranty�+ 1 Year Legion Ultimate Support + 1 Year Accidental Damage Protection',\n",
       "        'Intel Core i7 Processor (11th Gen)16 GB DDR4 RAMWindows 10 Operating System1 TB SSD40.64 cm (16 inch) DisplayOffice Home and Student 2019 included1 Year Onsite Warranty',\n",
       "        'Intel Core i7 Processor (11th Gen)16 GB DDR4 RAMWindows 11 Operating System512 GB SSD39.62 cm (15.6 inch) Display1 Year Onsite Warranty',\n",
       "        'Intel Core i7 Processor (11th Gen)16 GB LPDDR4X RAM64 bit Windows 11 Operating System512 GB SSD33.78 cm (13.3 Inch) Display1 Year Onsite Warranty',\n",
       "        'Intel Core i7 Processor (11th Gen)16 GB LPDDR4X RAM64 bit Windows 11 Operating System512 GB SSD33.78 cm (13.3 Inch) Touchscreen Display1 Year Onsite Warranty',\n",
       "        'Intel Core i7 Processor (11th Gen)8 GB DDR4 RAM64 bit Windows 10 Operating System512 GB SSD39.62 cm (15.6 Inch) Display2 Year Carry-In Warranty Term',\n",
       "        'Intel Core i7 Processor (11th Gen)8 GB DDR4 RAMWindows 10 Operating System1 TB HDD|256 GB SSD39.62 cm (15.6 inch) Display1 Year Onsite Warranty',\n",
       "        'Intel Core i7 Processor (12th Gen)16 GB DDR4 RAM64 bit Windows 11 Operating System1 TB SSD39.62 cm (15.6 inch) Display2 Year On-Site Warranty',\n",
       "        'Intel Core i7 Processor (12th Gen)16 GB DDR4 RAM64 bit Windows 11 Operating System512 GB SSD35.56 cm (14 Inch) Display1 Year Onsite Warranty',\n",
       "        'Intel Core i7 Processor (12th Gen)16 GB DDR4 RAMWindows 11 Operating System512 GB SSD35.56 cm (14 inch) DisplayOffice Home and Student 20211 Year Onsite Warranty',\n",
       "        'Intel Core i7 Processor (12th Gen)16 GB DDR5 RAM64 bit Windows 11 Operating System1 TB SSD39.62 cm (15.6 Inch) Display1 Year Premium Support',\n",
       "        'Intel Core i7 Processor (12th Gen)16 GB DDR5 RAM64 bit Windows 11 Operating System1 TB SSD39.62 cm (15.6 Inch) DisplayAcer Care Center, Acer Product Registration, Planet9, PredatorSense1 Year International Travelers Warranty (ITW)',\n",
       "        'Intel Core i7 Processor (12th Gen)16 GB DDR5 RAM64 bit Windows 11 Operating System1 TB SSD39.62 cm (15.6 inch) Display1 Year Premium Support',\n",
       "        'Intel Core i7 Processor (12th Gen)16 GB DDR5 RAM64 bit Windows 11 Operating System1 TB SSD39.62 cm (15.6 inch) DisplayWindows 11 Home2 Year Warranty by MSI',\n",
       "        'Intel Core i7 Processor (12th Gen)16 GB DDR5 RAM64 bit Windows 11 Operating System1 TB SSD40.64 cm (16 Inch) Display1 Year Onsite Warranty',\n",
       "        'Intel Core i7 Processor (12th Gen)16 GB DDR5 RAM64 bit Windows 11 Operating System1 TB SSD43.94 cm (17.3 Inch) Display2 Year On-Site & Carry-In Warranty',\n",
       "        'Intel Core i7 Processor (12th Gen)16 GB DDR5 RAM64 bit Windows 11 Operating System1 TB SSD43.94 cm (17.3 inch) Display1 Year Onsite Warranty',\n",
       "        'Intel Core i7 Processor (12th Gen)16 GB DDR5 RAM64 bit Windows 11 Operating System512 GB SSD39.62 cm (15.6 Inch) Display1 Year Onsite Premium Support Plus (Includes ADP)',\n",
       "        'Intel Core i7 Processor (12th Gen)16 GB DDR5 RAM64 bit Windows 11 Operating System512 GB SSD39.62 cm (15.6 Inch) Display1 Year Premium Support',\n",
       "        'Intel Core i7 Processor (12th Gen)16 GB LPDDR4X RAM64 bit Windows 11 Operating System512 GB SSD34.29 cm (13.5 inch) Display1 Year Onsite Warranty',\n",
       "        'Intel Core i7 Processor (12th Gen)32 GB DDR5 RAM64 bit Windows 11 Operating System1 TB SSD39.62 cm (15.6 Inch) Display2 Year On-Site Warranty',\n",
       "        'Intel Core i7 Processor (12th Gen)32 GB DDR5 RAM64 bit Windows 11 Operating System2 TB SSD43.94 cm (17.3 inch) Display2 Year',\n",
       "        'Intel Core i7 Processor (12th Gen)8 GB DDR4 RAM64 bit Windows 11 Operating System512 GB SSD39.62 cm (15.6 inch) DisplayWindows 11 Home, MSI Center, CoolerBoost2 Year On-Site & Carry-In Warranty',\n",
       "        'Intel Core i9 Processor (11th Gen)16 GB DDR4 RAM64 bit Windows 11 Operating System1 TB SSD39.62 cm (15.6 Inch) Display1 Year International Travelers Warranty (ITW)',\n",
       "        'Intel Core i9 Processor (12th Gen)16 GB DDR4 RAM64 bit Windows 11 Operating System1 TB SSD39.62 cm (15.6 Inch) Display2 Year On-Site & Carry-In Warranty',\n",
       "        'Intel Core i9 Processor (12th Gen)16 GB DDR5 RAM64 bit Windows 11 Operating System1 TB SSD39.62 cm (15.6 Inch) Display1 Year Onsite Hardware Service',\n",
       "        'Intel Core i9 Processor (12th Gen)32 GB DDR5 RAM64 bit Windows 11 Operating System2 TB SSD43.94 cm (17.3 Inch) Display2 Year On-Site & Carry-In Warranty',\n",
       "        'Intel Pentium Quad Core Processor8 GB DDR4 RAM64 bit Windows 11 Operating System256 GB SSD35.56 cm (14 inch) DisplayWindows 11 Home, Microsoft Office Home & Student 2019, 1 Year Mcafee1 Year Onsite Warranty',\n",
       "        'Intel Pentium Quad Core Processor8 GB DDR4 RAM64 bit Windows 11 Operating System256 GB SSD39.62 cm (15.6 inch) DisplayOffice Home and Student 20211 Year Onsite Warranty',\n",
       "        'Intel Pentium Silver Processor8 GB DDR4 RAM64 bit Windows 11 Operating System256 GB SSD35.56 cm (14 Inch) Display1 Year Onsite warranty',\n",
       "        'Intel Pentium Silver Processor8 GB DDR4 RAM64 bit Windows 11 Operating System256 GB SSD35.56 cm (14 inch) Display1 Year International Travelers Warranty (ITW)',\n",
       "        'NVIDIA GeForce RTX 206015.6 inch Full HD LED Backlit Anti-glare IPS Display, 300 Hz, 300 NitsAlienware Cryo-tech thermal technology to keep the system cool and running at highest performanceTobii-eye tracking to track head pose, presence, fine gaze and eye positionIn-built Alienware Command center software with enhanced control over system settingsIntel Core i7 Processor (10th Gen)16 GB DDR4 RAM64 bit Windows 10 Operating System1 TB SSD39.62 cm (15.6 inch) DisplayMicrosoft Office Home and Student 20191 Year Complete Cover Warranty',\n",
       "        'NVIDIA GeForce RTX 2080 with Max-Q15.6 inch Full HD LED Backlit Anti-glare IPS Display, 300 Hz, 300 NitsAlienware Cryo-tech thermal technology to keep the system cool and running at highest performanceTobii-eye tracking to track head pose, presence, fine gaze and eye positionIn-built Alienware Command center software with enhanced control over system settingsIntel Core i9 Processor (10th Gen)32 GB DDR4 RAM64 bit Windows 10 Operating System1 TB SSD39.62 cm (15.6 inch) DisplayMicrosoft Office Home and Student 20191 Year Limited Hardware Warranty, In Home Service After Remote Diagnosis - Retail',\n",
       "        'NVIDIA RTX 3050 Graphics upto 90W TGP15.6 inch Full HD AG Display (250 nits Brightness, 120Hz, Narrow Border)Alienware Command CenterAMD Ryzen 5 Hexa Core Processor8 GB DDR4 RAM64 bit Windows 11 Operating System512 GB SSD39.62 cm (15.6 inch) DisplayOffice Home and Student 20211 Year Onsite Hardware Service',\n",
       "        'NVIDIA RTX 3050 Graphics upto 90W TGP15.6 inch Full HD AG Display (250 nits Brightness, 120Hz, Narrow Border)Alienware Command CenterAMD Ryzen 7 Octa Core Processor16 GB DDR4 RAM64 bit Windows 11 Operating System512 GB SSD39.62 cm (15.6 inch) DisplayOffice Home and Student 20211 Year Premium Support',\n",
       "        'Powered by 11th Gen Intel Evo Core i5 ProcessorMicrosoft Office 2019 Home & Student IncludedStylish Thin and Light Laptop without Optical Disk DriveIntel Core i5 Processor (11th Gen)8 GB DDR4 RAM64 bit Windows 10 Operating System512 GB SSD35.56 cm (14 inch) DisplayMicrosoft Office 2019 Home & Student1 Year Domestic Warranty',\n",
       "        'Processor: 11th Generation Intel Core i5-1135G7 Processor (8MB Cache, up to 4.2 GHz),Memory & Storage:8GB DDR4, 2666MHz | 512GB M.2 PCIe NVMe Solid State DriveDisplay:14.0-inch FHD (1920 x 1080) Anti-glare LED Backlight Narrow Border WVA DisplayGraphics: Dedicated NVIDIA MX330 2GB GDDR5Operating System & Software:Windows 10 Home Single Language | Microsoft Office Home and Student 2019I/O ports: 2x USB 3.2 Gen-1, 1xUSB 2.0, 1xHDMI port, 1xEthernet port,1x Headset jack, 1xSD Media Card ReaderIntel Core i5 Processor (11th Gen)8 GB DDR4 RAM64 bit Windows 10 Operating System512 GB SSD88.9 cm (35 cm) Display1 Year Onsite Warranty',\n",
       "        'Processor: AMD Ryzen 3-3250U (2.60 GHz up to 3.50 GHz)RAM & Storage: 8GB DDR4 (2 DIMM Slots) & 1TB HDDSoftware: Win 11 + Office H&S 2021Display: 14.0\" FHD WVA AG Narrow BorderPorts: USB 3.2 Gen 1 (x2), USB2.0 (x1), HDMI 1.4, SD Media Card Reader (SD, SDHC, SDXC), RJ45 - 10/100MbpsWiFi & BT: 802.11ac 1x1 WiFi and BluetoothAMD Ryzen 3 Dual Core Processor8 GB DDR4 RAM64 bit Windows 11 Operating System1 TB HDD88.9 cm (35 cm) DisplayMicrosoft Office Home and Student 20211 Year Onsite Warranty1 Year Onsite Warranty',\n",
       "        'Processor: AMD Ryzen 5-3450U (2.10 GHz up to 3.50 GHz)RAM & Storage: 8GB DDR4 (2 DIMM Slots) & 512GB SSDSoftware: Win 11 + Office H&S 2021Display: 15.6\" FHD WVA AG Narrow BorderPorts: \"2x USB 3.2 Gen1 ,1x USB 2.0, HDMI 1.4b, SD Card reader, Audio jackWiFi & BT: 802.11ac 1x1 WiFi and BluetoothAMD Ryzen 5 Dual Core Processor8 GB DDR4 RAM64 bit Windows 11 Operating System512 GB SSD39.62 cm (15.6 Inch) DisplayMicrosoft Office Home & Student 20211 Year Onsite Warranty',\n",
       "        'Processor: AMD Ryzen R5-5600H (3.30 GHz up to 4.20 GHz) 16MB L3RAM & Storage: 16GB DDR4 (2 DIMM Slots) & 512GB SSDGraphics: NVIDIA GEFORCE RTX 3050 (4GB GDDR6) TGP Up To 80WDisplay: 15.6\" FHD WVA AG 250 nits 120Hz Narrow Border, Backlit Keyboard OrangeColor: Phantom Grey with specklesPorts: (1) HDMI 2.1, (2) SuperSpeed USB 2.0 Gen 1 Type-A including (1) with PowerShare, (1) SuperSpeed USB 3.2, (1) USB-C Data/Display Port Alt-Mode, Headphone/Mic, (1) RJ45WiFi & BT: Killer Wi-Fi 6 AX1650 (2x2) and BluetoothAMD Ryzen 5 Hexa Core Processor16 GB DDR4 RAM64 bit Windows 11 Operating System512 GB SSD39.62 cm (15.6 inch) DisplayOffice Home and Student 20211 Year Onsite Hardware Service',\n",
       "        'Processor: Intel PQC-N5030 (1.10 GHz up to 3.10 GHz)RAM & Storage: 8GB DDR4 & 256GB SSDDisplay: 15.6\" HD AG Narrow BorderSoftware: Win 11 + Office H&S 20212x USB 3.2 Gen1 ,1x USB 2.0, HDMI 1.4, SD Card reader, Audio jack, 1 M.2 2230/2280 slot for solid-state drive/Intel OptaneWiFi & BT: 802.11ac 1x1 WiFi and BluetoothIntel Pentium Silver Processor8 GB DDR4 RAM64 bit Windows 11 Operating System256 GB SSD39.62 cm (15.6 Inch) Display1 Year Onsite Warranty',\n",
       "        'Processor: Intel i3-1115G4 (Base- 1.70 GHz & Turbo up to 4.10 GHz) 2 CoresRAM & Storage: 8GB DDR4 & 1TB + 256GB SSDGraphics & Keyboard: Integrated & Standard KeyboardDisplay: 15.6\" FHD WVA AG Narrow BorderPorts: 2x USB 3.2 Gen1 ,1x USB 2.0, HDMI 1.4, SD Card reader, Audio jack, 1 M.2 2230/2280 slot for solid-state drive/Intel OptaneIntel Core i3 Processor (11th Gen)8 GB DDR4 RAMWindows 11 Operating System1 TB HDD|256 GB SSD39.62 cm (15.6 inch) Display1 YEAR',\n",
       "        'Processor: Intel i3-1125G4 (2.00 GHz up to 3.70 GHz)RAM & Storage: 8GB DDR4 (2 DIMM Slots) & 256GB SSDSoftware: Win 11 + Office H&S 2021Display: 14.0\" FHD WVA Truelife Touch Narrow Border 60HzPorts: \"1 HDMI out 1.4a, 2 USB 3.2 Gen 1 Type-A, 1 USB 3.2 Gen 2 Type-C with Power Delivery and Video, 1 DC-in port, 1 3.5mm Headphone/Microphone combination jack\"WiFi & BT: Intel Wi-Fi 6 2x2 (Gig+) and Bluetooth 5.1Intel Core i3 Processor (11th Gen)8 GB DDR4 RAM64 bit Windows 11 Operating System256 GB SSD35.56 cm (14 inch) Touchscreen DisplayOffice Home and Student 20211 Year Onsite Warranty',\n",
       "        'Processor: Intel i7-11800H- (2.30 GHz up to 4.60 GHz) 16MB L3RAM & Storage: 16GB DDR4 (2 DIMM Slots) & 512GB SSDGraphics: NVIDIA� GEFORCE� RTX 3050 Ti (4GB GDDR6)Display: 15.6\" FHD WVA AG 250 nits 120Hz Narrow Border, Backlit Keyboard OrangeColor: Dark Shadow GreyPorts: 1. HiSpeed USB 2.0 | 2. HiSpeed USB 2.0 with PowerShare | 3. USB 3.2 Gen 1 Type-C port with DisplayPort with alt mode | 4. SuperSpeed USB 3.2 | 5. HDMI | 6. Power in | 7. RJ45 | 8. Headphones/micIntel Core i7 Processor (11th Gen)16 GB DDR4 RAM64 bit Windows 11 Operating System512 GB SSD39.62 cm (15.6 inch) DisplayOffice Home and Student 20211 Year Premium Support',\n",
       "        'Stylish & Portable Thin and Light Laptop14 inch 2K QHD, IPS LCD Display ( 400nits peak brightness, 100% sRGB, 3:2 aspect ratio, Full Vision Display)Finger Print Sensor for Faster System AccessLight Laptop without Optical Disk DriveIntel Core i3 Processor (11th Gen)8 GB DDR4 RAM64 bit Windows 10 Operating System256 GB SSD35.56 cm (14 inch) DisplayNA1 Year Domestic Warranty'],\n",
       "       dtype=object),\n",
       " array(['DDR4', 'DDR4DDR4', 'DDR4DDR5DDR4', 'DDR4DDR6DDR4', 'DDR5'],\n",
       "       dtype=object),\n",
       " array(['Mac', 'Others', 'Windows'], dtype=object),\n",
       " array(['1 TB HDD', '1 TB HDD256 GB SSD', '1 TB HDD512 GB SSD', '1 TB SSD',\n",
       "        '128 GB SSD', '2 TB SSD', '256 GB SSD', '512 GB SSD'], dtype=object),\n",
       " array(['', 'AMD Athlon Dual Core Processor', 'AMD Dual Core Processor',\n",
       "        'AMD Ryzen 3 Dual Core Processor',\n",
       "        'AMD Ryzen 3 Hexa Core Processor',\n",
       "        'AMD Ryzen 3 Quad Core Processor',\n",
       "        'AMD Ryzen 5 Dual Core Processor',\n",
       "        'AMD Ryzen 5 Hexa Core Processor',\n",
       "        'AMD Ryzen 5 Quad Core Processor',\n",
       "        'AMD Ryzen 7 Octa Core Processor',\n",
       "        'AMD Ryzen 9 Octa Core Processor',\n",
       "        'Intel Celeron Dual Core Processor',\n",
       "        'Intel Celeron Quad Core Processor', 'Intel Core i3 Processor',\n",
       "        'Intel Core i5 Processor', 'Intel Core i7 Processor',\n",
       "        'Intel Core i9 Processor', 'Intel Pentium Quad Core Processor',\n",
       "        'Intel Pentium Silver Processor'], dtype=object)]"
      ]
     },
     "execution_count": 129,
     "metadata": {},
     "output_type": "execute_result"
    }
   ],
   "source": [
    "encoder_.categories_"
   ]
  },
  {
   "cell_type": "code",
   "execution_count": 130,
   "id": "afcf5c6a",
   "metadata": {},
   "outputs": [
    {
     "data": {
      "text/plain": [
       "[array(['ALIENWARE Core i7 10th Gen - (16 GB/1 TB SSD/Windows 10 Home/6 GB Graphics/NVIDIA GeForce RTX 2060/300...',\n",
       "        'ALIENWARE Core i9 10th Gen - (32 GB/1 TB SSD/Windows 10 Home/8 GB Graphics/NVIDIA GeForce RTX 2080 wit...',\n",
       "        'APPLE 2020 Macbook Air M1 - (8 GB/256 GB SSD/Mac OS Big Sur) MGN63HN/A',\n",
       "        'APPLE 2020 Macbook Air M1 - (8 GB/256 GB SSD/Mac OS Big Sur) MGN93HN/A',\n",
       "        'APPLE 2020 Macbook Air M1 - (8 GB/512 GB SSD/Mac OS Big Sur) MGNE3HN/A',\n",
       "        'APPLE MacBook Air M1 - (16 GB/512 GB SSD/Mac OS Big Sur) Z124J006KD',\n",
       "        'APPLE MacBook Pro M1 - (8 GB/1 TB SSD/Mac OS Big Sur) Z11B0008S',\n",
       "        'ASUS (2022) Celeron Dual Core - (4 GB/128 GB SSD/Windows 11 Home) BR1100FKA-BP1104W Laptop',\n",
       "        'ASUS ASUS TUF Dash Core i5 11th Gen - (16 GB/512 GB SSD/Windows 10 Home/4 GB Graphics/NVIDIA GeForce R...',\n",
       "        'ASUS Core i3 11th Gen - (4 GB/256 GB SSD/Windows 11 Home) X415EA-EK302WS Thin and Light Laptop',\n",
       "        'ASUS Core i3 11th Gen - (8 GB/256 GB SSD/Windows 10 Home) X515EA-BR312TS Thin and Light Laptop',\n",
       "        'ASUS Core i3 12th Gen - (8 GB/256 GB SSD/Windows 11 Home) X1402ZA-EK391WS Laptop',\n",
       "        'ASUS Core i5 10th Gen - (8 GB/256 GB SSD/Windows 11 Home) X515JA-BQ511WS Thin and Light Laptop',\n",
       "        'ASUS Core i5 10th Gen - (8 GB/512 GB SSD/Windows 10 Home/2 GB Graphics) X515JF-BQ521T Thin and Light L...',\n",
       "        'ASUS Core i5 10th Gen - (8 GB/512 GB SSD/Windows 11 Home) X415JA-EK522WS Laptop',\n",
       "        'ASUS Core i5 11th Gen - (8 GB/1 TB SSD/Windows 11 Home/4 GB Graphics/NVIDIA GeForce RTX RTX 3050) FX50...',\n",
       "        'ASUS Core i5 11th Gen - (8 GB/256 GB SSD/Windows 11 Home) X415EA-EB502WS Laptop',\n",
       "        'ASUS Core i5 12th Gen - (16 GB/512 GB SSD/Windows 11 Home/4 GB Graphics) K6500ZE-L501WS Laptop',\n",
       "        'ASUS Core i7 10th Gen - (32 GB/1 TB SSD/Windows 10 Home/6 GB Graphics/NVIDIA GeForce RTX 2060) UX581LV...',\n",
       "        'ASUS Core i7 11th Gen - (16 GB/512 GB SSD/Windows 11 Home) X515EA-EJ701WS Thin and Light Laptop',\n",
       "        'ASUS Core i7 11th Gen - (8 GB/1 TB HDD/256 GB SSD/Windows 10 Home) K513EA-L703TS Thin and Light Laptop',\n",
       "        'ASUS EeeBook 14 with NumberPad Pentium Silver - (8 GB/256 GB SSD/Windows 11 Home) E410KA-BV103WS Thin ...',\n",
       "        'ASUS ROG Flow X13 (2021) Ryzen 9 Octa Core AMD R9-5980HS - (32 GB/1 TB SSD/Windows 10 Home/4 GB Graphi...',\n",
       "        'ASUS ROG Flow X13 (2022) Ryzen 9 Octa Core 6900HS - (16 GB/1 TB SSD/Windows 11 Home/4 GB Graphics/AMD ...',\n",
       "        'ASUS ROG Flow X16 (2022) with 90Whr Battery Ryzen 7 Octa Core 6800HS - (16 GB/1 TB SSD/Windows 11 Home...',\n",
       "        'ASUS ROG Flow X16 (2022) with 90Whr Battery Ryzen 9 Octa Core 6900HS - (16 GB/1 TB SSD/Windows 11 Home...',\n",
       "        'ASUS ROG Strix G15 (2022) Ryzen 7 Octa Core AMD R7-6800H - (16 GB/512 GB SSD/Windows 11 Home/4 GB Grap...',\n",
       "        'ASUS ROG Strix G15 (2022) with 90Whr Battery Ryzen 9 Octa Core 6900HX - (16 GB/1 TB SSD/Windows 11 Hom...',\n",
       "        'ASUS ROG Strix G15 Advantage Edition Ryzen 9 Octa Core AMD R9-5900HX - (16 GB/1 TB SSD/Windows 10 Home...',\n",
       "        'ASUS ROG Strix G15 Advantage Edition with 90Whr Battery Ryzen 9 Octa Core 5980HX - (16 GB/1 TB SSD/Win...',\n",
       "        'ASUS ROG Strix G15 Ryzen 7 Octa Core AMD R7-4800H - (16 GB/1 TB SSD/Windows 11 Home/4 GB Graphics/NVID...',\n",
       "        'ASUS ROG Zephyrus Duo 16 (2022) with 90Whr Battery Ryzen 7 Octa Core 6800H - (32 GB/2 TB SSD/Windows 1...',\n",
       "        'ASUS ROG Zephyrus Duo 16 (2022) with 90Whr Battery Ryzen 9 Octa Core 6900HX - (32 GB/2 TB SSD/Windows ...',\n",
       "        'ASUS ROG Zephyrus G15 (2022) with 90Whr Battery Ryzen 7 Octa Core 6800HS - (16 GB/1 TB SSD/Windows 11 ...',\n",
       "        'ASUS ROG Zephyrus G15 (2022) with 90Whr Battery Ryzen 9 Octa Core 6900HS - (16 GB/1 TB SSD/Windows 11 ...',\n",
       "        'ASUS ROG Zephyrus G15 Ryzen 9 Octa Core 6900HS - (16 GB/1 TB SSD/Windows 11 Home/8 GB Graphics/NVIDIA ...',\n",
       "        'ASUS ROG Zephyrus M16 (2022) with 90Whr Battery Core i7 12th Gen - (16 GB/1 TB SSD/Windows 11 Home/6 G...',\n",
       "        'ASUS ROG Zephyrus M16 Core i7 11th Gen - (16 GB/1 TB SSD/Windows 10 Home/4 GB Graphics/NVIDIA GeForce ...',\n",
       "        'ASUS Ryzen 3 Dual Core - (8 GB/256 GB SSD/Windows 11 Home) X512DA-BQ302WS Laptop',\n",
       "        'ASUS Ryzen 5 Dual Core 5th Gen - (8 GB/512 GB SSD/Windows 11 Home/4 GB Graphics/NVIDIA GeForce GTX 165...',\n",
       "        'ASUS Ryzen 5 Hexa Core - (8 GB/1 TB HDD/256 GB SSD/Windows 10 Home) KM513UA-BQ512TS Thin and Light Lap...',\n",
       "        'ASUS Ryzen 5 Hexa Core 10th Gen - (8 GB/512 GB SSD/Windows 11 Home/4 GB Graphics/NVIDIA GeForce GTX NV...',\n",
       "        'ASUS Ryzen 9 Octa Core 10th Gen - (16 GB/512 GB SSD/Windows 11 Home/6 GB Graphics/NVIDIA GeForce RTX R...',\n",
       "        'ASUS TUF GAMING F15 Core i5 10th Gen - (16 GB/512 GB SSD/Windows 11 Home/4 GB Graphics/NVIDIA GeForce ...',\n",
       "        'ASUS TUF Gaming A15 Ryzen 5 Hexa Core AMD R5-4600H - (8 GB/1 TB SSD/Windows 11 Home/4 GB Graphics/NVID...',\n",
       "        'ASUS TUF Gaming A15 with 90Whr Battery Ryzen 7 Octa Core 5800H - (16 GB/512 GB SSD/Windows 11 Home/6 G...',\n",
       "        'ASUS TUF Gaming A17 with 90Whr Battery Ryzen 5 Hexa Core AMD R5-4600H - (8 GB/512 GB SSD/Windows 11 Ho...',\n",
       "        'ASUS TUF Gaming A17 with 90Whr Battery Ryzen 7 Octa Core AMD R7-4800H - (8 GB/512 GB SSD/Windows 11 Ho...',\n",
       "        'ASUS TUF Gaming F15 Core i5 10th Gen - (16 GB/512 GB SSD/Windows 10 Home/4 GB Graphics/NVIDIA GeForce ...',\n",
       "        'ASUS TUF Gaming F15 Core i5 10th Gen - (8 GB/512 GB SSD/Windows 10 Home/4 GB Graphics/NVIDIA GeForce G...',\n",
       "        'ASUS TUF Gaming F15 Core i5 10th Gen - (8 GB/512 GB SSD/Windows 11 Home/4 GB Graphics/NVIDIA GeForce G...',\n",
       "        'ASUS TUF Gaming F15 Core i5 11th Gen - (8 GB/1 TB SSD/Windows 10 Home/4 GB Graphics/NVIDIA GeForce RTX...',\n",
       "        'ASUS TUF Gaming F15 Core i7 11th Gen - (16 GB/1 TB SSD/Windows 10 Home/4 GB Graphics/NVIDIA GeForce RT...',\n",
       "        'ASUS TUF Gaming F17 (2022) Core i7 12th Gen - (16 GB/1 TB SSD/Windows 11 Home/6 GB Graphics/NVIDIA GeF...',\n",
       "        'ASUS TUF Gaming F17 (2022) with 90Whr Battery Core i7 12th Gen - (16 GB/1 TB SSD/Windows 11 Home/6 GB ...',\n",
       "        'ASUS VivoBook 14 (2021) Celeron Dual Core - (4 GB/256 GB SSD/Windows 11 Home) X415MA-BV011W Thin and L...',\n",
       "        'ASUS VivoBook 14 (2022) Core i3 12th Gen - (8 GB/512 GB SSD/Windows 11 Home) X1402ZA-EB312WS Thin and ...',\n",
       "        'ASUS VivoBook 15 (2021) Core i5 10th Gen - (8 GB/512 GB SSD/Windows 11 Home) X515JA-BQ521WS Thin and L...',\n",
       "        'ASUS VivoBook 15 (2022) Core i3 10th Gen - (8 GB/512 GB SSD/Windows 11 Home) X515JA-BQ322WS Thin and L...',\n",
       "        'ASUS VivoBook 15 (2022) Core i3 10th Gen - (8 GB/512 GB SSD/Windows 11 Home) X515JA-EJ362WS | X515JA-E...',\n",
       "        'ASUS VivoBook 15 (2022) Core i5 11th Gen - (8 GB/1 TB HDD/256 GB SSD/Windows 11 Home) X515EA-EJ502WS T...',\n",
       "        'ASUS VivoBook 15 Core i3 10th Gen - (4 GB/1 TB HDD/Windows 10 Home) X515JA-BR381T Thin and Light Lapto...',\n",
       "        'ASUS VivoBook 15 Core i3 10th Gen - (8 GB/1 TB HDD/Windows 10 Home) X515JA-EJ322TS Thin and Light Lapt...',\n",
       "        'ASUS VivoBook 15 Core i5 10th Gen - (8 GB/1 TB HDD/Windows 10 Home) X515JA-EJ501T Thin and Light Lapto...',\n",
       "        'ASUS VivoBook Core i3 11th Gen - (8 GB/256 GB SSD/Windows 11 Home) X415EA-EK342WS Thin and Light Lapto...',\n",
       "        'ASUS VivoBook Flip 14 Core i3 11th Gen - (8 GB/256 GB SSD/Windows 11 Home) TP470EA-EC302WS 2 in 1 Lapt...',\n",
       "        'ASUS VivoBook Flip 14 Core i5 11th Gen - (8 GB/512 GB SSD/Windows 11 Home) TP470EA-EC511WS 2 in 1 Lapt...',\n",
       "        'ASUS VivoBook K15 OLED (2022) Core i3 11th Gen - (8 GB/512 GB SSD/Windows 11 Home) K513EA-L312WS Thin ...',\n",
       "        'ASUS VivoBook K15 OLED (2022) Ryzen 5 Hexa Core AMD R5-5500U - (16 GB/512 GB SSD/Windows 11 Home) KM51...',\n",
       "        'ASUS VivoBook K15 OLED (2022) Ryzen 5 Hexa Core AMD R5-5500U - (8 GB/1 TB HDD/256 GB SSD/Windows 10 Ho...',\n",
       "        'ASUS VivoBook K15 OLED (2022) Ryzen 5 Hexa Core AMD R5-5500U - (8 GB/1 TB HDD/256 GB SSD/Windows 11 Ho...',\n",
       "        'ASUS VivoBook K15 OLED Ryzen 7 Octa Core AMD R7-5700U - (16 GB/512 GB SSD/Windows 11 Home) KM513UA-L71...',\n",
       "        'ASUS VivoBook Ultra 14 (2022) Core i3 11th Gen - (8 GB/512 GB SSD/Windows 11 Home) X413EA-EB322WS Thin...',\n",
       "        'ASUS Vivobook 14 (2022) Core i5 12th Gen - (16 GB/512 GB SSD/Windows 11 Home) X1402ZA-MW511WS Thin and...',\n",
       "        'ASUS Vivobook 14 (2022) Core i5 12th Gen - (16 GB/512 GB SSD/Windows 11 Home) X1402ZA-MW512WS Thin and...',\n",
       "        'ASUS Vivobook 14 (2022) Core i5 12th Gen - (8 GB/512 GB SSD/Windows 11 Home) X1402ZA-EK521WS Thin and ...',\n",
       "        'ASUS Vivobook 14 Core i3 11th Gen - (8 GB/512 GB SSD/Windows 11 Home) X415EA-EB322WS Thin and Light La...',\n",
       "        'ASUS Vivobook 14 Pentium Quad Core - (8 GB/256 GB SSD/Windows 11 Home) E410KA-EK103WS Thin and Light L...',\n",
       "        'ASUS Vivobook 15 Core i3 10th Gen - (8 GB/512 GB SSD/Windows 11 Home) X515JA-EJ382WS X515JA Laptop',\n",
       "        'ASUS Vivobook 15 Core i3 11th Gen - (8 GB/512 GB SSD/Windows 11 Home) X1500EA Laptop',\n",
       "        'ASUS Vivobook 15 Core i3 11th Gen - (8 GB/512 GB SSD/Windows 11 Home) X515EA-EJ322WS Laptop',\n",
       "        'ASUS Vivobook 15 Core i3 8th Gen - (4 GB/256 GB SSD/Windows 10 Home) X512FA-EJ547TX512F Thin and Light...',\n",
       "        'ASUS Vivobook 15 Core i5 11th Gen - (8 GB/512 GB SSD/Windows 11 Home) X515EA-BQ522WS Thin and Light La...',\n",
       "        'ASUS Vivobook 15 Core i5 11th Gen - (8 GB/512 GB SSD/Windows 11 Home) X515EA-EJ522WS Thin and Light La...',\n",
       "        'ASUS Vivobook Pro 15 OLED Core i5 12th Gen - (16 GB/512 GB SSD/Windows 11 Home/4 GB Graphics/NVIDIA Ge...',\n",
       "        'ASUS Vivobook Pro 15 Ryzen 7 Octa Core AMD R7-4800H - (16 GB/512 GB SSD/Windows 11 Home/4 GB Graphics/...',\n",
       "        'ASUS Vivobook Pro 16X OLED (2021) Ryzen 9 Octa Core 5900H 9th Gen - (16 GB/1 TB SSD/Windows 11 Home/4 ...',\n",
       "        'ASUS Vivobook S14 OLED (2022) Intel EVO Core i5 12th Gen - (16 GB/512 GB SSD/Windows 11 Home) S3402ZA-...',\n",
       "        'ASUS Vivobook S14 OLED (2022) Intel EVO Core i7 12th Gen - (16 GB/512 GB SSD/Windows 11 Home) S3402ZA-...',\n",
       "        'ASUS Vivobook Ultra 14 (2022) Core i3 11th Gen - (8 GB/512 GB SSD/Windows 11 Home) K413EA-EB301WS Thin...',\n",
       "        'ASUS Vivobook Ultra 14 (2022) Core i3 11th Gen - (8 GB/512 GB SSD/Windows 11 Home) K413EA-EB303WS Thin...',\n",
       "        'ASUS ZenBook Duo 14 (2021) Touch Panel Core i5 11th Gen - (16 GB/512 GB SSD/Windows 10 Home/2 GB Graph...',\n",
       "        'ASUS Zenbook 13 Intel EVO Core i5 11th Gen - (16 GB/512 GB SSD/Windows 11 Home) UX325EA-KG512WS Thin a...',\n",
       "        'ASUS Zenbook 13 Intel EVO Core i7 11th Gen - (16 GB/512 GB SSD/Windows 11 Home) UX325EA-KG722WS Thin a...',\n",
       "        'ASUS Zenbook Flip 13 OLED Touch Panel Intel EVO Core i5 11th Gen - (8 GB/512 GB SSD/Windows 11 Home) U...',\n",
       "        'ASUS Zenbook Flip 13 OLED Touch Panel Intel EVO Core i7 11th Gen - (16 GB/512 GB SSD/Windows 11 Home) ...',\n",
       "        'ASUS Zenbook S 13 OLED Ryzen 5 Hexa Core 6600U - (16 GB/512 GB SSD/Windows 11 Home) UM5302TA-LX501WS T...',\n",
       "        'ASUS Zenbook S 13 OLED Ryzen 7 Octa Core 6800U - (16 GB/1 TB SSD/Windows 11 Home) UM5302TA-LX701WS Thi...',\n",
       "        'DELL Allienware Core i7 12th Gen - (16 GB/512 GB SSD/Windows 11 Home/6 GB Graphics/NVIDIA GeForce RTX ...',\n",
       "        'DELL Core i3 11th Gen - (8 GB/1 TB HDD/256 GB SSD/Windows 11 Home) 3511 Laptop',\n",
       "        'DELL Core i3 12th Gen - (8 GB/512 GB SSD/Windows 11 Home) New Inspiron 15 Laptop Thin and Light Laptop',\n",
       "        'DELL Core i5 11th Gen - (8 GB/1 TB HDD/256 GB SSD/Windows 10) Vostro 3500 Thin and Light Laptop',\n",
       "        'DELL Core i5 11th Gen - (8 GB/512 GB SSD/Windows 11 Home) D560784WIN9S Laptop',\n",
       "        'DELL Core i5 12th Gen - (8 GB/1 TB HDD/256 GB SSD/Windows 11 Home) New Inspiron 15 Laptop Thin and Lig...',\n",
       "        'DELL Core i5 12th Gen - (8 GB/512 GB SSD/Windows 11 Home) New Inspiron 14 2-in-1 2 in 1 Laptop',\n",
       "        'DELL Core i7 11th Gen - (16 GB/512 GB SSD/Windows 11 Home/4 GB Graphics/NVIDIA GeForce RTX 3050 Ti) G1...',\n",
       "        'DELL Core i9 12th Gen - (16 GB/1 TB SSD/Windows 11 Home/8 GB Graphics/NVIDIA GeForce RTX 3070 Ti) G15 ...',\n",
       "        'DELL G15 Core i7 12th Gen - (16 GB/1 TB SSD/Windows 11 Home/4 GB Graphics/NVIDIA GeForce RTX 3050 Ti) ...',\n",
       "        'DELL G15 Core i7 12th Gen - (16 GB/1 TB SSD/Windows 11 Home/6 GB Graphics/NVIDIA GeForce RTX 3060) G15...',\n",
       "        'DELL G15 Core i7 12th Gen - (16 GB/512 GB SSD/Windows 11 Home/4 GB Graphics/NVIDIA GeForce RTX 3050 Ti...',\n",
       "        'DELL Inspiron Core i3 10th Gen - (4 GB/256 GB SSD/Windows 10 Home) Inspiron 3501 Laptop',\n",
       "        'DELL Inspiron Core i3 11th Gen - (8 GB/1 TB HDD/256 GB SSD/Windows 11 Home) D560841WIN9S Thin and Ligh...',\n",
       "        'DELL Inspiron Core i3 11th Gen - (8 GB/256 GB SSD/Windows 10) Inspiron 3511 Thin and Light Laptop',\n",
       "        'DELL Inspiron Core i3 11th Gen - (8 GB/256 GB SSD/Windows 11 Home) INSPIRON 5410 2 in 1 Laptop',\n",
       "        'DELL Inspiron Core i5 11th Gen - (16 GB/512 GB SSD/Windows 11 Home) Inspiron 5410 2 in 1 Laptop',\n",
       "        'DELL Inspiron Core i5 12th Gen - (16 GB/512 GB SSD/Windows 11 Home) Inspiron 7420 Thin and Light Lapto...',\n",
       "        'DELL Inspiron Pentium Quad Core - (8 GB/256 GB SSD/Windows 11 Home) Inspiron 3521 Thin and Light Lapto...',\n",
       "        'DELL Inspiron Pentium Silver - (8 GB/256 GB SSD/Windows 11 Home) Inspiron 3521 Notebook',\n",
       "        'DELL Inspiron Ryzen 3 Dual Core 3250U - (8 GB/256 GB SSD/Windows 11 Home) INSPIRON 3515 Thin and Light...',\n",
       "        'DELL Inspiron Ryzen 3 Dual Core 3250U - (8 GB/256 GB SSD/Windows 11 Home) Inspiron 3515 Thin and Light...',\n",
       "        'DELL Inspiron Ryzen 3 Dual Core 3250U - (8 GB/512 GB SSD/Windows 11 Home) Inspiron 3515 Thin and Light...',\n",
       "        'DELL Inspiron Ryzen 5 Dual Core 3450U - (8 GB/512 GB SSD/Windows 11 Home) INSPIRON 3515 Thin and Light...',\n",
       "        'DELL Inspiron Ryzen 5 Quad Core 3450U - (8 GB/512 GB SSD/Windows 11 Home) Inspiron 3515 Thin and Light...',\n",
       "        'DELL Inspiron Ryzen 7 Octa Core 5825U - (16 GB/512 GB SSD/Windows 11 Home) Vostro 5625 Notebook',\n",
       "        'DELL Ryzen 5 Hexa Core AMD R5-5600H - (16 GB/512 GB SSD/Windows 11 Home/4 GB Graphics/NVIDIA GeForce R...',\n",
       "        'DELL Ryzen 5 Hexa Core AMD R5-5600H - (8 GB/512 GB SSD/Windows 11 Home/4 GB Graphics/NVIDIA GeForce RT...',\n",
       "        'DELL Ryzen 7 Octa Core 6800H - (16 GB/1 TB SSD/Windows 11 Home/8 GB Graphics/NVIDIA GeForce RTX 3070 T...',\n",
       "        'DELL Ryzen 7 Octa Core AMD R7-5800H - (16 GB/512 GB SSD/Windows 11 Home/4 GB Graphics/NVIDIA GeForce R...',\n",
       "        'DELL Vostro Core i3 11th Gen - (8 GB/256 GB SSD/Windows 11 Home) Vostro 3400 Thin and Light Laptop',\n",
       "        'DELL Vostro Core i5 11th Gen - (8 GB/512 GB SSD/Windows 10/2 GB Graphics) Vostro 3400 Thin and Light L...',\n",
       "        'DELL Vostro Ryzen 3 Dual Core 3250U - (8 GB/512 GB SSD/Windows 11 Home) Vostro 3405 Thin and Light Lap...',\n",
       "        'DELL Vostro Ryzen 3 Dual Core R3-3250U - (8 GB/1 TB HDD/Windows 11 Home) Vostro 3405 Thin and Light La...',\n",
       "        'DELL Vostro Ryzen 5 Hexa Core 5625U - (8 GB/512 GB SSD/Windows 11 Home) Vostro 3425 Thin and Light Lap...',\n",
       "        'DELL Vostro Ryzen 5 Quad Core 3500U - (8 GB/512 GB SSD/Windows 10) Vostro 3405 Thin and Light Laptop',\n",
       "        'HP 14s Intel Core i3 11th Gen - (8 GB/256 GB SSD/Windows 11 Home) 14s - dy2507TU Thin and Light Laptop',\n",
       "        'HP 14s Intel Core i3 11th Gen - (8 GB/512 GB SSD/Windows 11 Home) 14s - dy2508TU Thin and Light Laptop',\n",
       "        'HP 14s Intel Core i5 12th Gen - (16 GB/512 GB SSD/Windows 11 Home) 14s - dy5005TU Thin and Light Lapto...',\n",
       "        'HP 15s Core i5 11th Gen - (8 GB/512 GB SSD/Windows 10 Home) 15s-FQ2535TU Thin and Light Laptop',\n",
       "        'HP 15s Intel Core i3 11th Gen - (8 GB/1 TB HDD/256 GB SSD/Windows 11 Home) 15s-du3614TU Thin and Light...',\n",
       "        'HP 15s Intel Core i3 11th Gen - (8 GB/512 GB SSD/Windows 11 Home) 15s-fq2671TU Thin and Light Laptop',\n",
       "        'HP 15s Intel Core i5 12th Gen - (8 GB/512 GB SSD/Windows 11 Home) 15s-fq5111TU Thin and Light Laptop',\n",
       "        'HP 15s Intel Core i5 12th Gen - (8 GB/512 GB SSD/Windows 11 Home) 15s-fy5001TU Thin and Light Laptop',\n",
       "        'HP 15s Ryzen 5 Quad Core 3500U - (8 GB/512 GB SSD/Windows 10 Home) 15s-eq0500AU Thin and Light Laptop',\n",
       "        'HP Athlon Dual Core 3050U - (8 GB/256 GB SSD/Windows 11 Home) 14s-fq0568AU Thin and Light Laptop',\n",
       "        'HP Athlon Dual Core 3050U - (8 GB/512 GB SSD/Windows 11 Home) 15s- eq1559AU Thin and Light Laptop',\n",
       "        'HP Core i3 11th Gen - (8 GB/512 GB SSD/Windows 11 Home) 15s-fr2511TU Thin and Light Laptop',\n",
       "        'HP Core i3 11th Gen - (8 GB/512 GB SSD/Windows 11 Home) FR2512TU Laptop',\n",
       "        'HP Envy x360 Ryzen 5 Hexa Core 5600U - (16 GB/512 GB SSD/Windows 11 Home) 13 x360-ay1035au 2 in 1 Lapt...',\n",
       "        'HP G8 Ryzen 3 Dual Core 3250U - (8 GB/1 TB HDD/Windows 11 Home) 245 G8 Laptop',\n",
       "        'HP HP Pavilion Ryzen 5 Hexa Core AMD R5-4600H - (8 GB/512 GB SSD/Windows 10 Home/4 GB Graphics/NVIDIA ...',\n",
       "        'HP Intel Core i3 11th Gen - (8 GB/256 GB SSD/Windows 10 Home) 14s- DY2501TU Thin and Light Laptop',\n",
       "        'HP Laptop with Backlit Keyboard Core i3 11th Gen - (8 GB/512 GB SSD/Windows 11 Home) 15s-fr2512tu Lapt...',\n",
       "        'HP OMEN 15 Ryzen 7 Octa Core AMD R7-5800H - (16 GB/1 TB SSD/Windows 10 Home/8 GB Graphics/NVIDIA GeFor...',\n",
       "        'HP OMEN Ryzen 5 Hexa Core AMD R5-5600H - (8 GB/512 GB SSD/Windows 11 Home/4 GB Graphics/NVIDIA GeForce...',\n",
       "        'HP OMEN Ryzen 7 Octa Core AMD R7-5800H - (16 GB/1 TB SSD/Windows 11 Home/AMD Radeon RX 6600M) 16-C0140...',\n",
       "        'HP Pavilion Gaming Core i5 11th Gen - (8 GB/1 TB HDD/256 GB SSD/Windows 10 Home/4 GB Graphics/NVIDIA G...',\n",
       "        'HP Pavilion Intel Core i5 11th Gen - (16 GB/512 GB SSD/Windows 11 Home) 14-dy1048TU Thin and Light Lap...',\n",
       "        'HP Pavilion Intel Core i5 12th Gen - (8 GB/512 GB SSD/Windows 11 Home) 15-EG2009TU Thin and Light Lapt...',\n",
       "        'HP Pavilion Ryzen 5 Hexa Core 5625U - (8 GB/512 GB SSD/Windows 11 Home) 15-eh2018AU Thin and Light Lap...',\n",
       "        'HP Pavilion Ryzen 5 Hexa Core AMD R5-5600H - (8 GB/512 GB SSD/Windows 11 Home/4 GB Graphics/NVIDIA GeF...',\n",
       "        'HP Pavilion Ryzen 7 Octa Core AMD R7-5800H - (16 GB/512 GB SSD/Windows 10 Home/4 GB Graphics/NVIDIA Ge...',\n",
       "        'HP Ryzen 3 Dual Core 3250U - (8 GB/256 GB SSD/Windows 11 Home) 15s- eq1561AU Thin and Light Laptop',\n",
       "        'HP Ryzen 3 Dual Core 3250U - (8 GB/256 GB SSD/Windows 11 Home) 15s-GY0501AU Thin and Light Laptop',\n",
       "        'HP Ryzen 3 Hexa Core 4th Gen - (8 GB/512 GB SSD/Windows 10/4 GB Graphics/NVIDIA GeForce GTX 1650) 15-E...',\n",
       "        'HP Ryzen 3 Quad Core 5300U - (8 GB/512 GB SSD/Windows 11 Home) 14s-fq1089au Thin and Light Laptop',\n",
       "        'HP Ryzen 3 Quad Core 5300U - (8 GB/512 GB SSD/Windows 11 Home) 15s-eq2143au Thin and Light Laptop',\n",
       "        'HP Ryzen 5 Hexa Core 5500U - (16 GB/512 GB SSD/Windows 11 Home) 14s-fy1003AU Thin and Light Laptop',\n",
       "        'HP Ryzen 5 Hexa Core 5500U - (16 GB/512 GB SSD/Windows 11 Home) 15s- eq2182AU Thin and Light Laptop',\n",
       "        'HP Ryzen 5 Hexa Core 5500U - (8 GB/512 GB SSD/Windows 11 Home) 14s-fq1092au Thin and Light Laptop',\n",
       "        'HP Spectre Core i7 12th Gen - (16 GB/512 GB SSD/Windows 11 Home) ef0053TU Notebook',\n",
       "        'HP Victus Core i5 11th Gen - (8 GB/512 GB SSD/Windows 11 Home/4 GB Graphics/NVIDIA GeForce RTX 3050/14...',\n",
       "        'HP Victus Ryzen 5 Hexa Core 6600H - (8 GB/512 GB SSD/Windows 11 Home/4 GB Graphics/NVIDIA GeForce RTX ...',\n",
       "        'HP Victus Ryzen 7 Octa Core 5800H - (16 GB/1 TB SSD/Windows 11 Home/6 GB Graphics/NVIDIA GeForce RTX 3...',\n",
       "        'HP Victus Ryzen 7 Octa Core 5800H - (8 GB/512 GB SSD/Windows 11 Home/4 GB Graphics/AMD Radeon RX 5500M...',\n",
       "        'HP Victus Ryzen 7 Octa Core 5800H - (8 GB/512 GB SSD/Windows 11 Home/4 GB Graphics/NVIDIA GeForce RTX ...',\n",
       "        'Infinix INBook X1 Core i3 10th Gen - (8 GB/256 GB SSD/Windows 11 Home) XL11 Thin and Light Laptop',\n",
       "        'Infinix INBook X1 Core i5 10th Gen - (8 GB/512 GB SSD/Windows 11 Home) XL11 Thin and Light Laptop',\n",
       "        'Infinix INBook X1 Neo Series Celeron Quad Core - (4 GB/128 GB SSD/Windows 11 Home) XL22 Thin and Light...',\n",
       "        'Infinix INBook X1 Neo Series Celeron Quad Core - (8 GB/256 GB SSD/Windows 11 Home) XL22 Thin and Light...',\n",
       "        'Infinix INBook X2 Plus Core i3 11th Gen - (8 GB/512 GB SSD/Windows 11 Home) XL25 Thin and Light Laptop',\n",
       "        'Infinix INBook X2 Plus Core i5 11th Gen - (8 GB/512 GB SSD/Windows 11 Home) XL25 Thin and Light Laptop',\n",
       "        'Infinix X1 Series Core i7 10th Gen - (16 GB/512 GB SSD/Windows 11 Home/128 MB Graphics) XL12 Thin and ...',\n",
       "        'Infinix X1 Slim Series Core i3 10th Gen - (8 GB/256 GB SSD/Windows 11 Home) XL21 Thin and Light Laptop',\n",
       "        'Infinix X1 Slim Series Core i3 10th Gen - (8 GB/512 GB SSD/Windows 11 Home) XL21 Thin and Light Laptop',\n",
       "        'Infinix X1 Slim Series Core i5 10th Gen - (16 GB/512 GB SSD/Windows 11 Home) XL21 Thin and Light Lapto...',\n",
       "        'Infinix X1 Slim Series Core i5 10th Gen - (8 GB/512 GB SSD/Windows 11 Home) XL21 Thin and Light Laptop',\n",
       "        'Infinix X1 Slim Series Core i7 10th Gen - (16 GB/512 GB SSD/Windows 11 Home) XL21 Thin and Light Lapto...',\n",
       "        'Lenovo Core i3 10th Gen - (4 GB/1 TB HDD/Windows 10 Home) V15-IIL Laptop',\n",
       "        'Lenovo Core i3 11th Gen - (4 GB/256 GB SSD/Windows 10 Home) V15 ITL G2 Thin and Light Laptop',\n",
       "        'Lenovo Core i5 11th Gen - (16 GB/512 GB SSD/Windows 10 Home) 15ITL05 Thin and Light Laptop',\n",
       "        'Lenovo IdeaPad 1 Celeron Dual Core - (4 GB/256 GB SSD/Windows 11 Home) 11IGL05 Thin and Light Laptop',\n",
       "        'Lenovo IdeaPad 1 Celeron Dual Core 4th Gen - (4 GB/256 GB SSD/Windows 10 Home) 11IGL05 Thin and Light ...',\n",
       "        'Lenovo IdeaPad 1 Ryzen 3 Dual Core 3250U - (8 GB/512 GB SSD/Windows 11 Home) 15ADA7 Thin and Light Lap...',\n",
       "        'Lenovo IdeaPad 1 Ryzen 5 Quad Core 3500U - (8 GB/512 GB SSD/Windows 11 Home) 15ADA7 Thin and Light Lap...',\n",
       "        'Lenovo IdeaPad 3 Celeron Dual Core - (4 GB/256 GB SSD/Windows 10 Home) 14IGL05 Thin and Light Laptop',\n",
       "        'Lenovo IdeaPad 3 Core i3 10th Gen - (8 GB/1 TB HDD/Windows 11 Home) 15IML05 Thin and Light Laptop',\n",
       "        'Lenovo IdeaPad 3 Core i3 11th Gen - (8 GB/256 GB SSD/Windows 11 Home) 14ITL05 Thin and Light Laptop',\n",
       "        'Lenovo IdeaPad 3 Core i3 11th Gen - (8 GB/256 GB SSD/Windows 11 Home) 15ITL05 Thin and Light Laptop',\n",
       "        'Lenovo IdeaPad 3 Core i3 11th Gen - (8 GB/256 GB SSD/Windows 11 Home) 15ITL6 Laptop',\n",
       "        'Lenovo IdeaPad 3 Core i3 11th Gen - (8 GB/256 GB SSD/Windows 11 Home) 15ITL6 Thin and Light Laptop',\n",
       "        'Lenovo IdeaPad 3 Core i3 11th Gen - (8 GB/512 GB SSD/Windows 11 Home) 82H801L7IN | 82H802FJIN | 82H802...',\n",
       "        'Lenovo IdeaPad 3 Core i5 11th Gen - (8 GB/512 GB SSD/Windows 11 Home) 15ITL6 Thin and Light Laptop',\n",
       "        'Lenovo IdeaPad 3 Core i5 12th Gen - (16 GB/512 GB SSD/Windows 11 Home) 15IAU7 Thin and Light Laptop',\n",
       "        'Lenovo IdeaPad 3 Core i5 12th Gen - (8 GB/512 GB SSD/Windows 11 Home) 15IAU7 Thin and Light Laptop',\n",
       "        'Lenovo IdeaPad 3 Ryzen 3 Dual Core 3250U - (8 GB/256 GB SSD/Windows 10 Home) 15ADA05 Thin and Light La...',\n",
       "        'Lenovo IdeaPad 3 Ryzen 5 Hexa Core 5500U - (8 GB/512 GB SSD/Windows 11 Home) 15ALC6 Thin and Light Lap...',\n",
       "        'Lenovo IdeaPad 5 Core i5 12th Gen - (16 GB/512 GB SSD/Windows 11 Home) 15IAL7 Thin and Light Laptop',\n",
       "        'Lenovo IdeaPad 5 Pro Core i5 11th Gen - (16 GB/512 GB SSD/Windows 10 Home/2 GB Graphics) 14ITL6 Thin a...',\n",
       "        'Lenovo IdeaPad Core i3 10th Gen - (4 GB/256 GB SSD/Windows 11 Home) 15IIL05 Thin and Light Laptop',\n",
       "        'Lenovo IdeaPad Core i5 11th Gen - (16 GB/512 GB SSD/Windows 11 Home) IdeaPad 5 15ITL05 Thin and Light ...',\n",
       "        'Lenovo IdeaPad Flex 5 Ryzen 5 Hexa Core 5500U - (16 GB/512 GB SSD/Windows 11 Home) 14ALC7 Thin and Lig...',\n",
       "        'Lenovo IdeaPad Gaming 3 Core i5 10th Gen - (8 GB/512 GB SSD/Windows 10 Home/4 GB Graphics/NVIDIA GeFor...',\n",
       "        'Lenovo IdeaPad Gaming 3 Ryzen 5 Hexa Core 5600H - (8 GB/512 GB SSD/Windows 10 Home/4 GB Graphics/NVIDI...',\n",
       "        'Lenovo IdeaPad Gaming 3 Ryzen 5 Hexa Core AMD R5-5600H - (8 GB/512 GB SSD/Windows 11 Home/4 GB Graphic...',\n",
       "        'Lenovo IdeaPad Gaming 3 Ryzen 7 Octa Core AMD R7-5800H - (8 GB/512 GB SSD/Windows 11 Home/4 GB Graphic...',\n",
       "        'Lenovo IdeaPad Gaming Core i5 11th Gen - (8 GB/512 GB SSD/Windows 11 Home/4 GB Graphics/NVIDIA GeForce...',\n",
       "        'Lenovo Ideapad 3 Dual Core 3020e - (4 GB/1 TB HDD/Windows 10 Home) 15ADA05 Laptop',\n",
       "        'Lenovo Ideapad Gaming 3 Core i5 11th Gen - (8 GB/1 TB HDD/256 GB SSD/Windows 11 Home/4 GB Graphics/NVI...',\n",
       "        'Lenovo Ideapad Slim 3i (2021) Core i5 11th Gen - (8 GB/256 GB SSD/Windows 10 Home) 15ITL6/ 15ITL6 Ub T...',\n",
       "        'Lenovo Ideapad Slim 3i (2021) Core i5 11th Gen - (8 GB/512 GB SSD/Windows 10 Home) 14 ITL 6 Thin and L...',\n",
       "        'Lenovo Ideapad Slim 3i Core i5 10th Gen - (8 GB/1 TB HDD/256 GB SSD/Windows 10 Home) 15IIL05 Laptop',\n",
       "        'Lenovo Ideapad Slim 5i Core i5 11th Gen - (8 GB/512 GB SSD/Windows 10 Home) 14ITL05U2a Thin and Light ...',\n",
       "        'Lenovo Legion 5 Core i5 10th Gen - (8 GB/512 GB SSD/Windows 11 Home/4 GB Graphics/NVIDIA GeForce RTX 3...',\n",
       "        'Lenovo Legion 5 Core i5 11th Gen - (16 GB/512 GB SSD/Windows 11 Home/4 GB Graphics) 15ITH6 Thin and Li...',\n",
       "        'Lenovo Legion 5 Core i7 11th Gen - (16 GB/512 GB SSD/Windows 10 Home/4 GB Graphics/NVIDIA GeForce RTX ...',\n",
       "        'Lenovo Lenovo Legion 5 Pro Ryzen 7 Octa Core 5800H - (16 GB/1 TB SSD/Windows 11 Home/6 GB Graphics/NVI...',\n",
       "        'Lenovo Ryzen 3 Dual Core 3rd Gen - (8 GB/512 GB SSD/Windows 11 Home) IdeaPad 1 15ADA7 Laptop',\n",
       "        'Lenovo ThinkPad E15 Core i3 11th Gen - (4 GB/256 GB SSD/Windows 10 Home) E15 Laptop',\n",
       "        'Lenovo Thinkpad Ryzen 5 Hexa Core 5600U - (8 GB/512 GB SSD/DOS) E14 AMD Gen3 Thin and Light Laptop',\n",
       "        'Lenovo Yoga 6 Ryzen 5 Hexa Core 5500U - (16 GB/512 GB SSD/Windows 10 Home) 13ALC6 Thin and Light Lapto...',\n",
       "        'Lenovo Yoga Slim 7 Core i5 11th Gen - (16 GB/512 GB SSD/Windows 10 Home) 14ITL05 Thin and Light Laptop',\n",
       "        'Lenovo Yoga Slim 7 Intel EVO Core i7 11th Gen - (16 GB/1 TB SSD/Windows 10 Home) Yoga Slim 7 14ITL05b ...',\n",
       "        'Lenovo Yoga Slim 7 Pro Core i5 11th Gen - (16 GB/512 GB SSD/Windows 11 Home) 14IHU5 Thin and Light Lap...',\n",
       "        'MSI Bravo 15 Ryzen 5 Hexa Core AMD R5-5600H - (8 GB/512 GB SSD/Windows 11 Home/4 GB Graphics/AMD Radeo...',\n",
       "        'MSI Core i7 11th Gen - (8 GB/512 GB SSD/Windows 10 Home/4 GB Graphics/NVIDIA GeForce RTX 3050/144 Hz) ...',\n",
       "        'MSI Core i7 12th Gen - (16 GB/1 TB SSD/Windows 11 Home/6 GB Graphics/NVIDIA GeForce RTX 3060/144 Hz) P...',\n",
       "        'MSI Core i7 12th Gen - (16 GB/1 TB SSD/Windows 11 Home/8 GB Graphics/NVIDIA GeForce RTX 3070 Ti/360 Hz...',\n",
       "        'MSI Core i9 12th Gen - (16 GB/1 TB SSD/Windows 11 Home/6 GB Graphics/NVIDIA GeForce RTX 3060/165 Hz) P...',\n",
       "        'MSI Core i9 12th Gen - (32 GB/2 TB SSD/Windows 11 Home/16 GB Graphics/NVIDIA GeForce RTX 3080 Ti/120 H...',\n",
       "        'MSI Creator 15 Core i7 10th Gen - (32 GB/1 TB SSD/Windows 10 Home/8 GB Graphics/NVIDIA GeForce RTX 207...',\n",
       "        'MSI Delta 15 AMD Advantage Edition Ryzen 9 Octa Core 5900HX 5th Gen - (16 GB/1 TB SSD/Windows 11 Home/...',\n",
       "        'MSI GF63 Thin Core i5 11th Gen - (8 GB/512 GB SSD/Windows 11 Home/4 GB Graphics/NVIDIA GeForce GTX 165...',\n",
       "        'MSI GF63 Thin Core i5 9th Gen - (8 GB/1 TB HDD/Windows 10 Home/4 GB Graphics/NVIDIA GeForce GTX 1650 T...',\n",
       "        'MSI GP65 Leopard Core i7 10th Gen - (16 GB/1 TB HDD/256 GB SSD/Windows 10 Home/6 GB Graphics/NVIDIA Ge...',\n",
       "        'MSI Katana GF66 Core i5 11th Gen - (16 GB/512 GB SSD/Windows 10 Home/4 GB Graphics/NVIDIA GeForce RTX ...',\n",
       "        'MSI Katana GF66 Core i5 12th Gen - (16 GB/512 GB SSD/Windows 11 Home/4 GB Graphics/NVIDIA GeForce RTX ...',\n",
       "        'MSI Katana GF66 Core i7 11th Gen - (16 GB/512 GB SSD/Windows 10 Home/6 GB Graphics/NVIDIA GeForce RTX ...',\n",
       "        'MSI Katana GF66 Core i7 12th Gen - (8 GB/512 GB SSD/Windows 11 Home/4 GB Graphics/NVIDIA GeForce RTX 3...',\n",
       "        'MSI Modern 14 Core i3 11th Gen - (8 GB/512 GB SSD/Windows 10 Home) B11MOU-477IN Notebook',\n",
       "        'MSI Modern 14 Ryzen 5 Hexa Core 4500U - (8 GB/512 GB SSD/Windows 10 Home) Modern 14 B4MW-423IN Thin an...',\n",
       "        'MSI Prestige 14 Intel EVO Core i5 11th Gen - (16 GB/512 GB SSD/Windows 10 Home) Prestige 14Evo A11M-62...',\n",
       "        'MSI Stealth GS66 Core i7 12th Gen - (32 GB/1 TB SSD/Windows 11 Home/8 GB Graphics/NVIDIA GeForce RTX 3...',\n",
       "        'MSI Stealth GS77 Core i7 12th Gen - (32 GB/2 TB SSD/Windows 11 Home/8 GB Graphics/NVIDIA GeForce RTX 3...',\n",
       "        'MSI Sword 15 Core i5 12th Gen - (16 GB/512 GB SSD/Windows 11 Home/4 GB Graphics/NVIDIA GeForce RTX 305...',\n",
       "        'MSI Vector GP66 Core i7 12th Gen - (16 GB/1 TB SSD/Windows 11 Home/8 GB Graphics/NVIDIA GeForce RTX 30...',\n",
       "        'RedmiBook Pro Core i5 11th Gen - (8 GB/512 GB SSD/Windows 11 Home) Thin and Light Laptop',\n",
       "        'SAMSUNG Galaxy Book2 Core i5 12th Gen - (8 GB/256 GB SSD/Windows 11 Home) NP750XED-KB1IN Thin and Ligh...',\n",
       "        'Ultimus S151 Celeron Dual Core - (4 GB/128 GB SSD/Windows 11 Home) NU14U2INC43VN Laptop',\n",
       "        'acer Aspire 3 Pentium Silver - (8 GB/256 GB SSD/Windows 11 Home) A314-35 Notebook',\n",
       "        'acer Aspire 3 Ryzen 3 Dual Core 3250U - (8 GB/256 GB SSD/Windows 11 Home) A315-23 Laptop',\n",
       "        'acer Aspire 5 Core i5 11th Gen - (8 GB/1 TB HDD/256 GB SSD/Windows 11 Home) A515-56-56LN Thin and Ligh...',\n",
       "        'acer Aspire 5 Core i5 11th Gen - (8 GB/1 TB HDD/Windows 10 Home) A515-56 Thin and Light Laptop',\n",
       "        'acer Aspire 5 Ryzen 5 Hexa Core 5500U - (8 GB/512 GB SSD/Windows 11 Home) A515-45 Thin and Light Lapto...',\n",
       "        'acer Aspire 7 Core i5 12th Gen - (16 GB/512 GB SSD/Windows 11 Home/4 GB Graphics/NVIDIA GeForce GTX 16...',\n",
       "        'acer Aspire 7 Core i5 12th Gen - (16 GB/512 GB SSD/Windows 11 Home/4 GB Graphics/NVIDIA GeForce RTX 30...',\n",
       "        'acer Aspire 7 Core i5 12th Gen - (8 GB/512 GB SSD/Windows 11 Home/4 GB Graphics/NVIDIA GeForce GTX 165...',\n",
       "        'acer Aspire 7 Core i5 12th Gen - (8 GB/512 GB SSD/Windows 11 Home/4 GB Graphics/NVIDIA GeForce RTX 305...',\n",
       "        'acer Aspire 7 Ryzen 5 Hexa Core AMD R5-5500U - (8 GB/512 GB SSD/Windows 11 Home/4 GB Graphics/NVIDIA G...',\n",
       "        'acer Aspire Core i3 12th Gen - (8 GB/512 GB SSD/Windows 11 Home) A315-59 Notebook',\n",
       "        'acer Aspire Vero (Green PC) Core i5 11th Gen - (16 GB/512 GB SSD/Windows 11 Home) AV15-51 Notebook',\n",
       "        'acer Aspire Vero(Green PC ) Core i5 11th Gen - (8 GB/512 GB SSD/Windows 11 Home) AV15-51 Thin and Ligh...',\n",
       "        'acer Extensa Core i3 11th Gen - (8 GB/256 GB SSD/Windows 11 Home) EX 215-54 Thin and Light Laptop',\n",
       "        'acer Extensa Core i3 11th Gen - (8 GB/512 GB SSD/Windows 11 Home) EX 215-54/ EX 215-54-356V Thin and L...',\n",
       "        'acer Extensa Core i5 11th Gen - (8 GB/512 GB SSD/Windows 11 Home) EX 215-54-583M Thin and Light Laptop',\n",
       "        'acer Nitro 5 Ryzen 5 Hexa Core 4600H - (8 GB/1 TB HDD/256 GB SSD/Windows 10 Home/4 GB Graphics/NVIDIA ...',\n",
       "        'acer Nitro 5 Ryzen 5 Hexa Core 5600H - (16 GB/512 GB SSD/Windows 11 Home/4 GB Graphics/NVIDIA GeForce ...',\n",
       "        'acer Nitro 5 Ryzen 5 Hexa Core AMD R5-5600H - (8 GB/512 GB SSD/Windows 11 Home/4 GB Graphics/NVIDIA Ge...',\n",
       "        'acer Nitro 5 Ryzen 7 Octa Core AMD R7-5800H - (16 GB/1 TB HDD/256 GB SSD/Windows 10 Home/6 GB Graphics...',\n",
       "        'acer Predator Helios 300 Core i7 11th Gen - (16 GB/1 TB HDD/512 GB SSD/Windows 10 Home/4 GB Graphics/N...',\n",
       "        'acer Predator Helios 300 Core i7 12th Gen - (16 GB/1 TB SSD/Windows 11 Home/6 GB Graphics/NVIDIA GeFor...',\n",
       "        'acer Predator Helios 300 Core i9 11th Gen - (16 GB/1 TB SSD/Windows 11 Home/6 GB Graphics/NVIDIA GeFor...',\n",
       "        'acer Ryzen 3 Dual Core 3250U - (8 GB/256 GB SSD/Windows 11 Home) Z2-493 Thin and Light Laptop',\n",
       "        'acer aspire 5 gaming Core i5 12th Gen - (8 GB/512 GB SSD/Windows 11 Home/4 GB Graphics/NVIDIA GeForce ...',\n",
       "        'realme Book (Slim) Core i3 11th Gen - (8 GB/256 GB SSD/Windows 10 Home) RMNB1001 Thin and Light Laptop',\n",
       "        'realme Book Prime Core i5 11th Gen - (16 GB/512 GB SSD/Windows 11 Home) CloudPro002 Thin and Light Lap...',\n",
       "        'realme Book(Slim) Intel Evo Core i5 11th Gen - (8 GB/512 GB SSD/Windows 10 Home) RMNB1002 Thin and Lig...'],\n",
       "       dtype=object),\n",
       " array(['15.6 inches Full HD IPS Thin Bezel Display (144Hz, 45% NTSC Color Gamut)Intel Core i7 Processor (10th Gen)16 GB DDR4 RAM64 bit Windows 10 Operating System1 TB HDD|256 GB SSD39.62 cm (15.6 inch) DisplaySHIFT, SteelSeries Engine 3, Matrix Display (Extend), Dragon Center, GamingMode, VR Ready, Cooler Boost 5, Nahimic 3, Nahimic VR, Giant Speaker2 Year Warranty Term for Gaming',\n",
       "        '15.6 inches Full HD IPS Thin Bezel Display (60Hz, 45% NTSC Color Gamut)Intel Core i5 Processor (9th Gen)8 GB DDR4 RAM64 bit Windows 10 Operating System1 TB HDD39.62 cm (15.6 inch) DisplayCooler Boost, Audio Boost, Dragon Center, Nahimic 32 Year Warranty Term for Gaming',\n",
       "        'AMD Athlon Dual Core Processor8 GB DDR4 RAM64 bit Windows 11 Operating System256 GB SSD35.56 cm (14 inch) Display1 Year Onsite Warranty',\n",
       "        'AMD Athlon Dual Core Processor8 GB DDR4 RAM64 bit Windows 11 Operating System512 GB SSD39.62 cm (15.6 inch) Display1 Year Onsite Warranty',\n",
       "        'AMD Dual Core Processor4 GB DDR4 RAM64 bit Windows 10 Operating System1 TB HDD39.62 cm (15.6 inch) Display1 Year Onsite Warranty',\n",
       "        'AMD Ryzen 3 Dual Core Processor (3rd Gen)8 GB DDR4 RAMWindows 11 Operating System512 GB SSD39.62 cm (15.6 inch) Display1 YEAR',\n",
       "        'AMD Ryzen 3 Dual Core Processor8 GB DDR4 RAM64 bit Windows 10 Operating System256 GB SSD39.62 cm (15.6 inch) DisplayMicrosoft Office Home and Student 20191 Year Warranty',\n",
       "        'AMD Ryzen 3 Dual Core Processor8 GB DDR4 RAM64 bit Windows 11 Operating System1 TB HDD35.56 cm (14 inch) DisplayNA1 Year Manufacturer Warranty',\n",
       "        'AMD Ryzen 3 Dual Core Processor8 GB DDR4 RAM64 bit Windows 11 Operating System256 GB SSD35.56 cm (14 inch) Display1 Year International Travelers Warranty (ITW)',\n",
       "        'AMD Ryzen 3 Dual Core Processor8 GB DDR4 RAM64 bit Windows 11 Operating System256 GB SSD39.62 cm (15.6 Inch) Display1 Year International Travelers Warranty (ITW)',\n",
       "        'AMD Ryzen 3 Dual Core Processor8 GB DDR4 RAM64 bit Windows 11 Operating System256 GB SSD39.62 cm (15.6 Inch) Display1 Year Onsite Warranty',\n",
       "        'AMD Ryzen 3 Dual Core Processor8 GB DDR4 RAM64 bit Windows 11 Operating System256 GB SSD39.62 cm (15.6 inch) Display1 Year Onsite Warranty',\n",
       "        'AMD Ryzen 3 Dual Core Processor8 GB DDR4 RAM64 bit Windows 11 Operating System256 GB SSD39.62 cm (15.6 inch) DisplayOffice Home and Student 2019 included1 Year Onsite Warranty',\n",
       "        'AMD Ryzen 3 Dual Core Processor8 GB DDR4 RAM64 bit Windows 11 Operating System512 GB SSD35.56 cm (14 Inch) Display1 Year Onsite Warranty',\n",
       "        'AMD Ryzen 3 Dual Core Processor8 GB DDR4 RAM64 bit Windows 11 Operating System512 GB SSD39.62 cm (15.6 Inch) Display1 Year Onsite Warranty',\n",
       "        'AMD Ryzen 3 Dual Core Processor8 GB DDR4 RAM64 bit Windows 11 Operating System512 GB SSD39.62 cm (15.6 Inch) Display2 Years Onsite�Warranty',\n",
       "        'AMD Ryzen 3 Dual Core Processor8 GB DDR4 RAMWindows 11 Operating System256 GB SSD39.62 cm (15.6 inch) Display1 YEAR',\n",
       "        'AMD Ryzen 3 Hexa Core Processor (4th Gen)8 GB DDR4 RAMWindows 10 Operating System512 GB SSD39.62 cm (15.6 inch) Display1 Year Onsite Warranty',\n",
       "        'AMD Ryzen 3 Quad Core Processor8 GB DDR4 RAM64 bit Windows 11 Operating System512 GB SSD35.56 cm (14 Inch) Display1 Year onsite warranty',\n",
       "        'AMD Ryzen 3 Quad Core Processor8 GB DDR4 RAM64 bit Windows 11 Operating System512 GB SSD39.62 cm (15.6 inch) DisplayMicrosoft Office 2019 & Office 365, HP Documentation, HP BIOS recovery, HP Smart1 Year Onsite Warranty',\n",
       "        'AMD Ryzen 5 Dual Core Processor (5th Gen)8 GB DDR4 RAMWindows 11 Operating System512 GB SSD39.62 cm (15.6 inch) Display1 Year Manufacturer Warranty',\n",
       "        'AMD Ryzen 5 Hexa Core Processor (10th Gen)8 GB DDR4 RAMWindows 11 Operating System512 GB SSD39.62 cm (15.6 inch) Display1 Year Manufacturer Warranty',\n",
       "        'AMD Ryzen 5 Hexa Core Processor16 GB DDR4 RAM64 bit Windows 10 Operating System512 GB SSD33.78 cm (13.3 inch) Touchscreen DisplayMicrosoft Office Home & Student 20193 Year Onsite�Warranty�+ 1 Year Accidental Damage Protection + 1 Year premium Care',\n",
       "        'AMD Ryzen 5 Hexa Core Processor16 GB DDR4 RAM64 bit Windows 11 Operating System512 GB SSD33.78 cm (13.3 inch) Touchscreen DisplayMicrosoft Office 2019 Home & Student, HP Documentation, HP e-service, HP BIOS Recovery, HP SSRM, HP Jumpstart, HP Audio Switch, HP Audio Boost, Dropbox1 Year Onsite Warranty',\n",
       "        'AMD Ryzen 5 Hexa Core Processor16 GB DDR4 RAM64 bit Windows 11 Operating System512 GB SSD35.56 cm (14 inch) DisplayMicrosoft Office Home & Student 20211 Year Onsite Warranty',\n",
       "        'AMD Ryzen 5 Hexa Core Processor16 GB DDR4 RAM64 bit Windows 11 Operating System512 GB SSD39.62 cm (15.6 Inch) DisplayMicrosoft Office 2021 Home & Student, HP Documentation, HP BIOS recovery, HP Smart1 Year Onsite Warranty',\n",
       "        'AMD Ryzen 5 Hexa Core Processor16 GB DDR4 RAM64 bit Windows 11 Operating System512 GB SSD39.62 cm (15.6 inch) DisplayOffice Home and Student 20211 Year Onsite Warranty',\n",
       "        'AMD Ryzen 5 Hexa Core Processor16 GB DDR4 RAMWindows 11 Operating System512 GB SSD39.62 cm (15.6 Inch) Display1 Year International Travelers Warranty (ITW)',\n",
       "        'AMD Ryzen 5 Hexa Core Processor16 GB LPDDR4X RAM64 bit Windows 11 Operating System512 GB SSD35.56 cm (14 inch) Touchscreen Display1 Year Onsite warranty + 1 Year Accidental Damage Protection + 1 Year Premium Care',\n",
       "        'AMD Ryzen 5 Hexa Core Processor16 GB LPDDR5 RAMWindows 11 Operating System512 GB SSD33.78 cm (13.3 Inch) Touchscreen Display1 Year Onsite Warranty',\n",
       "        'AMD Ryzen 5 Hexa Core Processor8 GB DDR4 RAM64 bit DOS Operating System512 GB SSD35.56 cm (14 inch) Display1 Year Onsite Warranty',\n",
       "        'AMD Ryzen 5 Hexa Core Processor8 GB DDR4 RAM64 bit Windows 10 Operating System1 TB HDD|256 GB SSD39.62 cm (15.6 inch) DisplayMicrosoft Office Home and Student 20191 Year Onsite Warranty',\n",
       "        'AMD Ryzen 5 Hexa Core Processor8 GB DDR4 RAM64 bit Windows 10 Operating System512 GB SSD35.56 cm (14 inch) Display1 Year On-Site Warranty',\n",
       "        'AMD Ryzen 5 Hexa Core Processor8 GB DDR4 RAM64 bit Windows 10 Operating System512 GB SSD39.62 cm (15.6 inch) Display1 Year Warranty Term',\n",
       "        'AMD Ryzen 5 Hexa Core Processor8 GB DDR4 RAM64 bit Windows 10 Operating System512 GB SSD39.62 cm (15.6 inch) DisplayHP Documentation, HP e-service, HP BIOS Recovery, HP SSRM, HP Smart, HP Jumpstarts1 Year Onsite Warranty',\n",
       "        'AMD Ryzen 5 Hexa Core Processor8 GB DDR4 RAM64 bit Windows 11 Operating System1 TB HDD|256 GB SSD39.62 cm (15.6 inch) DisplayOffice Home and Student 20211 Year Onsite Warranty',\n",
       "        'AMD Ryzen 5 Hexa Core Processor8 GB DDR4 RAM64 bit Windows 11 Operating System1 TB SSD39.62 cm (15.6 inch) Display1 Year Onsite Warranty',\n",
       "        'AMD Ryzen 5 Hexa Core Processor8 GB DDR4 RAM64 bit Windows 11 Operating System512 GB SSD35.56 cm (14 Inch) Display1 Year Onsite Hardware Service',\n",
       "        'AMD Ryzen 5 Hexa Core Processor8 GB DDR4 RAM64 bit Windows 11 Operating System512 GB SSD35.56 cm (14 inch) DisplayMicrosoft Office Home & Student 2019, HP Documentation, HP SSRM, HP Smart \"1 Year Onsite Warranty',\n",
       "        'AMD Ryzen 5 Hexa Core Processor8 GB DDR4 RAM64 bit Windows 11 Operating System512 GB SSD39.62 cm (15.6 Inch) Display1 Year Onsite Warranty',\n",
       "        'AMD Ryzen 5 Hexa Core Processor8 GB DDR4 RAM64 bit Windows 11 Operating System512 GB SSD39.62 cm (15.6 Inch) DisplayAcer Care Center, Acer Product Registration, NitroSense, Quick Access1 Year International Travelers Warranty (ITW)',\n",
       "        'AMD Ryzen 5 Hexa Core Processor8 GB DDR4 RAM64 bit Windows 11 Operating System512 GB SSD39.62 cm (15.6 inch) Display1 Year Warranty',\n",
       "        'AMD Ryzen 5 Hexa Core Processor8 GB DDR4 RAM64 bit Windows 11 Operating System512 GB SSD39.62 cm (15.6 inch) DisplayAcer Care Center, Quick Access, Acer Product Registration1 Year International Travelers Warranty (ITW)',\n",
       "        'AMD Ryzen 5 Hexa Core Processor8 GB DDR4 RAM64 bit Windows 11 Operating System512 GB SSD39.62 cm (15.6 inch) DisplayMicrosoft Office Home & Student 20191 Year Onsite Warranty',\n",
       "        'AMD Ryzen 5 Hexa Core Processor8 GB DDR4 RAM64 bit Windows 11 Operating System512 GB SSD39.62 cm (15.6 inch) DisplayNA1 Year Onsite�Warranty�+ 1 Year Premium Care + 1 Year Accidental Damage Protection',\n",
       "        'AMD Ryzen 5 Hexa Core Processor8 GB DDR4 RAM64 bit Windows 11 Operating System512 GB SSD39.62 cm (15.6 inch) DisplayOffice Home and Student 20212 Years Onsite�Warranty',\n",
       "        'AMD Ryzen 5 Hexa Core Processor8 GB DDR4 RAM64 bit Windows 11 Operating System512 GB SSD40.89 cm (16.1 inch) Display\"Microsoft Office Home & Student 2019, HP Documentation, HP e-service, HP BIOS recovery, HP SSRM, HP Smart, HP Jumpstarts \"1 Year Onsite Warranty',\n",
       "        'AMD Ryzen 5 Hexa Core Processor8 GB DDR4 RAM64 bit Windows 11 Operating System512 GB SSD43.94 cm (17.3 Inch) Display1 Year Onsite Warranty',\n",
       "        'AMD Ryzen 5 Hexa Core Processor8 GB DDR4 RAMWindows 10 Operating System1 TB HDD|256 GB SSD39.62 cm (15.6 inch) DisplayMicrosoft Office Home & Student 20191 Year Onsite Warranty',\n",
       "        'AMD Ryzen 5 Hexa Core Processor8 GB DDR5 RAM64 bit Windows 11 Operating System512 GB SSD40.89 cm (16.1 Inch) Display1 Year Onsite Warranty',\n",
       "        'AMD Ryzen 5 Quad Core Processor8 GB DDR4 RAM64 bit Windows 10 Operating System512 GB SSD35.56 cm (14 inches) Display1 Year Onsite Warranty',\n",
       "        'AMD Ryzen 5 Quad Core Processor8 GB DDR4 RAM64 bit Windows 10 Operating System512 GB SSD39.62 cm (15.6 inch) DisplayMicrosoft Office 2019 & Office 365, HP Documentation, HP BIOS recovery, HP Smart, McAfee LiveSafe (30 days free trial as default)1 Year Onsite Warranty',\n",
       "        'AMD Ryzen 5 Quad Core Processor8 GB DDR4 RAM64 bit Windows 11 Operating System512 GB SSD39.62 cm (15.6 Inch) Display2 Years Onsite�Warranty',\n",
       "        'AMD Ryzen 5 Quad Core Processor8 GB DDR4 RAM64 bit Windows 11 Operating System512 GB SSD39.62 cm (15.6 inch) DisplayMicrosoft Office Home and Student 20211 Year Onsite Warranty',\n",
       "        'AMD Ryzen 7 Octa Core Processor16 GB DDR4 RAM64 bit Windows 10 Operating System1 TB HDD|256 GB SSD39.62 cm (15.6 inch) DisplayQuick Access, Acer Care Center, Acer Product Registration, NitroSense, GOTrust, PC Manager1 Year International Travelers Warranty',\n",
       "        'AMD Ryzen 7 Octa Core Processor16 GB DDR4 RAM64 bit Windows 10 Operating System1 TB SSD39.62 cm (15.6 inch) DisplayHP Documentation, HP e-service, HP BIOS Recovery, HP SSRM, HP Smart, HP Jumpstarts, HP Support Assistant1 Year Onsite Warranty',\n",
       "        'AMD Ryzen 7 Octa Core Processor16 GB DDR4 RAM64 bit Windows 10 Operating System512 GB SSD39.62 cm (15.6 inches) DisplayHP Documentation, HP e-service, HP BIOS recovery, HP SSRM, HP Smart, HP Jumpstarts1 Year Onsite Warranty',\n",
       "        'AMD Ryzen 7 Octa Core Processor16 GB DDR4 RAM64 bit Windows 11 Operating System1 TB SSD40.64 cm (16 inch) DisplayMicrosoft Office Home & Student 20193 Years Onsite�Warranty�+ 3 Years Legion Ultimate Support + 1 Year Accidental Damage Protection',\n",
       "        'AMD Ryzen 7 Octa Core Processor16 GB DDR4 RAM64 bit Windows 11 Operating System1 TB SSD40.89 cm (16.1 inch) DisplayMicrosoft Home & Student 2019, HP Documentation, HP e-service, HP BIOS recovery, HP SSRM, HP Smart, HP Jumpstarts1 Year Onsite Warranty',\n",
       "        'AMD Ryzen 7 Octa Core Processor16 GB DDR4 RAM64 bit Windows 11 Operating System1 TB SSD40.89 cm (16.1 inch) DisplayMicrosoft Office Home & Student 2019, HP Documentation, HP e-service, HP BIOS recovery, HP SSRM, HP Smart, HP Jumpstarts1 Year Onsite Warranty',\n",
       "        'AMD Ryzen 7 Octa Core Processor16 GB DDR4 RAM64 bit Windows 11 Operating System512 GB SSD39.62 cm (15.6 Inch) Display1 Year Onsite Warranty',\n",
       "        'AMD Ryzen 7 Octa Core Processor16 GB DDR4 RAM64 bit Windows 11 Operating System512 GB SSD39.62 cm (15.6 Inch) Display1 Year onsite warranty',\n",
       "        'AMD Ryzen 7 Octa Core Processor16 GB DDR4 RAM64 bit Windows 11 Operating System512 GB SSD40.64 cm (16 Inch) Display1 Year Onsite Warranty',\n",
       "        'AMD Ryzen 7 Octa Core Processor16 GB DDR4 RAMWindows 11 Operating System1 TB SSD39.62 cm (15.6 inch) DisplayMicrosoft Office Home & Student1 Year Onsite Warranty',\n",
       "        'AMD Ryzen 7 Octa Core Processor16 GB DDR5 RAM64 bit Windows 11 Operating System1 TB SSD39.62 cm (15.6 inch) Display1 Year Onsite Warranty',\n",
       "        'AMD Ryzen 7 Octa Core Processor16 GB DDR5 RAM64 bit Windows 11 Operating System1 TB SSD40.64 cm (16 Inch) Touchscreen Display1 Year Onsite Warranty',\n",
       "        'AMD Ryzen 7 Octa Core Processor16 GB DDR5 RAM64 bit Windows 11 Operating System512 GB SSD39.62 cm (15.6 Inch) Display1 Year Onsite Warranty',\n",
       "        'AMD Ryzen 7 Octa Core Processor16 GB DDR5 RAMWindows 11 Operating System1 TB SSD39.62 cm (15.6 Inch) Display1 Year Onsite Hardware Service',\n",
       "        'AMD Ryzen 7 Octa Core Processor16 GB LPDDR5 RAMWindows 11 Operating System1 TB SSD33.78 cm (13.3 Inch) Touchscreen Display1 Year Onsite Warranty',\n",
       "        'AMD Ryzen 7 Octa Core Processor32 GB DDR5 RAM64 bit Windows 11 Operating System2 TB SSD40.64 cm (16 Inch) Display1 Year Onsite Warranty',\n",
       "        'AMD Ryzen 7 Octa Core Processor8 GB DDR4 RAM64 bit Windows 11 Operating System512 GB SSD39.62 cm (15.6 inch) Display1 Year Onsite�Warranty�+ 1 Year Premium Care + 1 Year Accidental Damage Protection',\n",
       "        'AMD Ryzen 7 Octa Core Processor8 GB DDR4 RAM64 bit Windows 11 Operating System512 GB SSD40.89 cm (16.1 Inch) Display1 Year Onsite Warranty',\n",
       "        'AMD Ryzen 7 Octa Core Processor8 GB DDR4 RAM64 bit Windows 11 Operating System512 GB SSD40.89 cm (16.1 inch) DisplayMicrosoft Home & Student 20211 Year Onsite Warranty',\n",
       "        'AMD Ryzen 7 Octa Core Processor8 GB DDR4 RAM64 bit Windows 11 Operating System512 GB SSD43.94 cm (17.3 Inch) Display1 Year onsite warranty',\n",
       "        'AMD Ryzen 9 Octa Core Processor (10th Gen)16 GB DDR4 RAMWindows 11 Operating System512 GB SSD42.16 cm (16.6 inch) Display1 Year International Warranty',\n",
       "        'AMD Ryzen 9 Octa Core Processor (5th Gen)16 GB DDR4 RAM64 bit Windows 11 Operating System1 TB SSD39.62 cm (15.6 inch) Display1 Year On-Site Warranty',\n",
       "        'AMD Ryzen 9 Octa Core Processor (9th Gen)16 GB DDR4 RAM64 bit Windows 11 Operating System1 TB SSD40.64 cm (16 Inch) DisplayOffice Home and Student 2019 included1 Year onsite Warranty',\n",
       "        'AMD Ryzen 9 Octa Core Processor16 GB DDR4 RAMWindows 10 Operating System1 TB SSD39.62 cm (15.6 inch) DisplayOffice Home and Student 2019 included1 Year Onsite Warranty',\n",
       "        'AMD Ryzen 9 Octa Core Processor16 GB DDR4 RAMWindows 11 Operating System1 TB SSD39.62 cm (15.6 inch) DisplayMicrosoft Office Home & Student1 Year Onsite Warranty',\n",
       "        'AMD Ryzen 9 Octa Core Processor16 GB DDR5 RAM64 bit Windows 11 Operating System1 TB SSD39.62 cm (15.6 inch) Display1 Year Onsite Warranty',\n",
       "        'AMD Ryzen 9 Octa Core Processor16 GB DDR5 RAMWindows 11 Operating System1 TB SSD39.62 cm (15.6 inch) DisplayMicrosoft Office Home & Student1 Year Onsite Warranty',\n",
       "        'AMD Ryzen 9 Octa Core Processor16 GB DDR5 RAMWindows 11 Operating System1 TB SSD40.64 cm (16 Inch) Touchscreen DisplayMicrosoft Office Home & Student1 Year Onsite Warranty',\n",
       "        'AMD Ryzen 9 Octa Core Processor16 GB LPDDR5 RAMWindows 11 Operating System1 TB SSD34.04 cm (13.4 Inch) Touchscreen DisplayMicrosoft Office Home & Student1 Year Onsite Warranty',\n",
       "        'AMD Ryzen 9 Octa Core Processor32 GB DDR5 RAM64 bit Windows 11 Operating System2 TB SSD40.64 cm (16 Inch) Display1 Year Onsite Warranty',\n",
       "        'AMD Ryzen 9 Octa Core Processor32 GB LPDDR4X RAM64 bit Windows 10 Operating System1 TB SSD34.04 cm (13.4 Inch) Touchscreen DisplayMicrosoft Office Home and Student 20191 Year Onsite Warranty',\n",
       "        'Apple M1 Processor16 GB DDR4 RAMMac OS Operating System512 GB SSD33.78 cm (13.3 inch) DisplayBuilt-in Apps: iMovie, Siri, GarageBand, Pages, Numbers, Photos, Keynote, Safari, Mail, FaceTime, Messages, Maps, Stocks, Home, Voice Memos, Notes, Calendar, Contacts, Reminders, Photo Booth, Preview, Books, App Store, Time Machine, TV, Music, Podcasts, Find My, QuickTime Player1 Year Limited Warranty',\n",
       "        'Apple M1 Processor8 GB DDR4 RAMMac OS Operating System1 TB SSD33.78 cm (13.3 inch) DisplayiMovie, Siri, GarageBand, Pages, Numbers, Photos, Keynote, Safari, Mail, FaceTime, Messages, Maps, Stocks, Home, Voice Memos, Notes, Calendar, Contacts, Reminders, Photo Booth, Preview, Books, App Store, Time Machine, TV, Music, Podcasts, Find My, QuickTime Player1 Year Limited Warra\\xadnty',\n",
       "        'Apple M1 Processor8 GB DDR4 RAMMac OS Operating System256 GB SSD33.78 cm (13.3 inch) DisplayBuilt-in Apps: iMovie, Siri, GarageBand, Pages, Numbers, Photos, Keynote, Safari, Mail, FaceTime, Messages, Maps, Stocks, Home, Voice Memos, Notes, Calendar, Contacts, Reminders, Photo Booth, Preview, Books, App Store, Time Machine, TV, Music, Podcasts, Find My, QuickTime Player1 Year Limited Warra\\xadnty',\n",
       "        'Apple M1 Processor8 GB DDR4 RAMMac OS Operating System512 GB SSD33.78 cm (13.3 inch) DisplayBuilt-in Apps: iMovie, Siri, GarageBand, Pages, Numbers, Photos, Keynote, Safari, Mail, FaceTime, Messages, Maps, Stocks, Home, Voice Memos, Notes, Calendar, Contacts, Reminders, Photo Booth, Preview, Books, App Store, Time Machine, TV, Music, Podcasts, Find My, QuickTime Player1 Year Limited Warra\\xadnty',\n",
       "        'Free upgrade to Windows 11 when availableAMD Ryzen 5 Hexa Core Processor8 GB DDR4 RAM64 bit Windows 10 Operating System1 TB HDD|256 GB SSD39.62 cm (15.6 inch) DisplayAcer Care Center, Acer Product Registration, Acer Configuration Manager, NitroSense1 Year International Travelers Warranty (ITW)',\n",
       "        'Free upgrade to Windows 11 when availableAMD Ryzen 5 Hexa Core Processor8 GB DDR4 RAM64 bit Windows 11 Operating System512 GB SSD39.62 cm (15.6 inch) DisplayAcer Collection , Acer Product Registration, Acer Care Center, Quick Access1 Year International Travelers Warranty (ITW)',\n",
       "        'Free upgrade to Windows 11 when availableIntel Core i5 Processor (11th Gen)8 GB DDR4 RAM64 bit Windows 10 Operating System1 TB HDD39.62 cm (15.6 inch) DisplayAcer Care Center, Quick Access, Acer Product Registration1 Year International Travelers Warranty (ITW)',\n",
       "        'Intel Celeron Dual Core Processor (4th Gen)4 GB DDR4 RAM64 bit Windows 10 Operating System256 GB SSD29.46 cm (11.6 inch) DisplayMicrosoft Office Home & Student 20191 Year Warranty',\n",
       "        'Intel Celeron Dual Core Processor4 GB DDR4 RAM64 bit Windows 10 Operating System256 GB SSD35.56 cm (14 inch) Display1 Year Onsite Warranty',\n",
       "        'Intel Celeron Dual Core Processor4 GB DDR4 RAM64 bit Windows 11 Operating System128 GB SSD29.46 cm (11.6 Inch) Touchscreen Display1 Year Onsite Warranty',\n",
       "        'Intel Celeron Dual Core Processor4 GB DDR4 RAM64 bit Windows 11 Operating System256 GB SSD29.46 cm (11.6 Inch) DisplayOffice Home and Student 20211 Year Onsite�Warranty',\n",
       "        'Intel Celeron Dual Core Processor4 GB DDR4 RAM64 bit Windows 11 Operating System256 GB SSD35.56 cm (14 inch) Display1 Year Onsite Warranty',\n",
       "        'Intel Celeron Dual Core Processor4 GB LPDDR4 RAMWindows 11 Operating System128 GB SSD35.81 cm (14.1 inch) Display1 Year Domestic Warranty',\n",
       "        'Intel Celeron Quad Core Processor4 GB LPDDR4X RAM64 bit Windows 11 Operating System128 GB SSD35.56 cm (14 inch) Display1 Year Onsite Warranty',\n",
       "        'Intel Celeron Quad Core Processor8 GB LPDDR4X RAM64 bit Windows 11 Operating System256 GB SSD35.56 cm (14 inch) Display1 Year Onsite Warranty',\n",
       "        'Intel Core i3 Processor (10th Gen)4 GB DDR4 RAM64 bit Windows 10 Operating System1 TB HDD39.62 cm (15.6 inch) Display1 Year Onsite Warranty',\n",
       "        'Intel Core i3 Processor (10th Gen)4 GB DDR4 RAM64 bit Windows 10 Operating System1 TB HDD39.62 cm (15.6 inch) DisplaySplendid, Tru2Life, My Asus1 Year Onsite Warranty',\n",
       "        'Intel Core i3 Processor (10th Gen)4 GB DDR4 RAM64 bit Windows 10 Operating System256 GB SSD38.1 cm (15 inch) DisplayMicrosoft Office Home and Student 20191 Year Onsite Warranty',\n",
       "        'Intel Core i3 Processor (10th Gen)4 GB DDR4 RAM64 bit Windows 11 Operating System256 GB SSD39.62 cm (15.6 inch) Display1 Year Onsite Warranty',\n",
       "        'Intel Core i3 Processor (10th Gen)8 GB DDR4 RAM64 bit Windows 10 Operating System1 TB HDD39.62 cm (15.6 inch) DisplayMicrosoft Office Home and Student 2019, Splendid, Tru2Life, My Asus1 Year Onsite Warranty',\n",
       "        'Intel Core i3 Processor (10th Gen)8 GB DDR4 RAM64 bit Windows 11 Operating System1 TB HDD39.62 cm (15.6 inch) DisplayMicrosoft Office Home and Student 20192 Years Warranty',\n",
       "        'Intel Core i3 Processor (10th Gen)8 GB DDR4 RAM64 bit Windows 11 Operating System512 GB SSD39.62 cm (15.6 inch) DisplayOffice Home and Student 20211 Year Onsite Warranty',\n",
       "        'Intel Core i3 Processor (10th Gen)8 GB DDR4 RAM64 bit Windows 11 Operating System512 GB SSD39.62 cm (15.6 inch) DisplayWindows 11, Microsoft Office H&S 2021, 1 Year McAfee1 Year Onsite Warranty',\n",
       "        'Intel Core i3 Processor (10th Gen)8 GB LPDDR4X RAM64 bit Windows 11 Operating System256 GB SSD35.56 cm (14 inch) Display1 year Onsite Warranty',\n",
       "        'Intel Core i3 Processor (10th Gen)8 GB LPDDR4X RAM64 bit Windows 11 Operating System256 GB SSD35.56 cm (14 inch) DisplayNA1 Year Onsite Warranty',\n",
       "        'Intel Core i3 Processor (10th Gen)8 GB LPDDR4X RAM64 bit Windows 11 Operating System512 GB SSD35.56 cm (14 inch) DisplayNA1 Year Onsite Warranty',\n",
       "        'Intel Core i3 Processor (11th Gen)4 GB DDR4 RAM64 bit Windows 10 Operating System256 GB SSD38.1 cm (15 inch) DisplayMicrosoft Office Home & Student 20191 Year Onsite Warranty',\n",
       "        'Intel Core i3 Processor (11th Gen)4 GB DDR4 RAM64 bit Windows 10 Operating System256 GB SSD39.62 cm (15.6 inch) DisplayMicrosoft Office Home & Student 20191 Year Onsite Warranty',\n",
       "        'Intel Core i3 Processor (11th Gen)4 GB DDR4 RAM64 bit Windows 11 Operating System256 GB SSD35.56 cm (14 Inch) Display1 Year onsite warranty',\n",
       "        'Intel Core i3 Processor (11th Gen)8 GB DDR4 RAM64 bit Windows 10 Operating System256 GB SSD35.56 cm (14 inch) DisplayHP Documentation, HP SSRM, HP Smart, Microsoft Office 2019, McAfeeLiveSafe 30 day trial, HP Support Assistant1 Year Onsite Warranty',\n",
       "        'Intel Core i3 Processor (11th Gen)8 GB DDR4 RAM64 bit Windows 10 Operating System256 GB SSD35.56 cm (14 inch) DisplayNo1 Year Domestic Warranty',\n",
       "        'Intel Core i3 Processor (11th Gen)8 GB DDR4 RAM64 bit Windows 10 Operating System256 GB SSD39.62 cm (15.6 inch) DisplayOffice Home and Student 2019 included1 Year Onsite Warranty',\n",
       "        'Intel Core i3 Processor (11th Gen)8 GB DDR4 RAM64 bit Windows 10 Operating System256 GB SSD39.62 cm (15.6 inch) DisplayOffice Home and Student 20191 Year Onsite Warranty',\n",
       "        'Intel Core i3 Processor (11th Gen)8 GB DDR4 RAM64 bit Windows 10 Operating System512 GB SSD35.56 cm (14 inch) Display1 Year Warranty Term',\n",
       "        'Intel Core i3 Processor (11th Gen)8 GB DDR4 RAM64 bit Windows 10 Operating System512 GB SSD39.62 cm (15.6 inch) DisplayOffice Home and Student 2019, MyASUS, Link to MyASUS, Splendid, Tru2Life1 Year Onsite Warranty',\n",
       "        'Intel Core i3 Processor (11th Gen)8 GB DDR4 RAM64 bit Windows 11 Operating System1 TB HDD|256 GB SSD39.62 cm (15.6 inch) Display1 Year Onsite Warranty',\n",
       "        'Intel Core i3 Processor (11th Gen)8 GB DDR4 RAM64 bit Windows 11 Operating System256 GB SSD35.56 cm (14 Inch) Display1 Year Onsite Warranty',\n",
       "        'Intel Core i3 Processor (11th Gen)8 GB DDR4 RAM64 bit Windows 11 Operating System256 GB SSD35.56 cm (14 inch) Display1 Year Onsite Warranty',\n",
       "        'Intel Core i3 Processor (11th Gen)8 GB DDR4 RAM64 bit Windows 11 Operating System256 GB SSD35.56 cm (14 inch) DisplayOffice Home and Student 20212 Year Onsite�Warranty',\n",
       "        'Intel Core i3 Processor (11th Gen)8 GB DDR4 RAM64 bit Windows 11 Operating System256 GB SSD38.0 cm (14.96 Inch) DisplayMicrosoft Office Home and Student 20211 Year Onsite Warranty',\n",
       "        'Intel Core i3 Processor (11th Gen)8 GB DDR4 RAM64 bit Windows 11 Operating System256 GB SSD39.62 cm (15.6 Inch) Display1 Year International Travelers Warranty (ITW)',\n",
       "        'Intel Core i3 Processor (11th Gen)8 GB DDR4 RAM64 bit Windows 11 Operating System256 GB SSD39.62 cm (15.6 Inch) Display1 Years Carry in Warranty',\n",
       "        'Intel Core i3 Processor (11th Gen)8 GB DDR4 RAM64 bit Windows 11 Operating System256 GB SSD39.62 cm (15.6 Inch) Display2 Years Onsite�Warranty',\n",
       "        'Intel Core i3 Processor (11th Gen)8 GB DDR4 RAM64 bit Windows 11 Operating System512 GB SSD35.56 cm (14 inch) Display1 Year Onsite Warranty',\n",
       "        'Intel Core i3 Processor (11th Gen)8 GB DDR4 RAM64 bit Windows 11 Operating System512 GB SSD35.56 cm (14 inch) DisplayMicrosoft Office Home & Student 20211 Year Onsite Warranty',\n",
       "        'Intel Core i3 Processor (11th Gen)8 GB DDR4 RAM64 bit Windows 11 Operating System512 GB SSD35.56 cm (14 inch) DisplayOffice Home and Student 20211 Year Onsite Warranty',\n",
       "        'Intel Core i3 Processor (11th Gen)8 GB DDR4 RAM64 bit Windows 11 Operating System512 GB SSD35.81 cm (14.1 inch) DisplayWindows 11 Home, Microsoft Office Home & Student 2019, 1 Year Mcafee1 Year Onsite Warranty',\n",
       "        'Intel Core i3 Processor (11th Gen)8 GB DDR4 RAM64 bit Windows 11 Operating System512 GB SSD39.62 cm (15.6 Inch) Display1 Year International Travelers Warranty (ITW)',\n",
       "        'Intel Core i3 Processor (11th Gen)8 GB DDR4 RAM64 bit Windows 11 Operating System512 GB SSD39.62 cm (15.6 Inch) DisplayMicrosoft Office 2021 Home & Student, HP Documentation, HP BIOS recovery, HP Smart1 Year Onsite Warranty',\n",
       "        'Intel Core i3 Processor (11th Gen)8 GB DDR4 RAM64 bit Windows 11 Operating System512 GB SSD39.62 cm (15.6 inch) Display1 Year Onsite Warranty',\n",
       "        'Intel Core i3 Processor (11th Gen)8 GB DDR4 RAM64 bit Windows 11 Operating System512 GB SSD39.62 cm (15.6 inch) DisplayOffice Home and Student 20211 Year Onsite Warranty',\n",
       "        'Intel Core i3 Processor (11th Gen)8 GB DDR4 RAM64 bit Windows 11 Operating System512 GB SSD39.62 cm (15.6 inch) DisplayOffice Home and Student 20212 Year Onsite�Warranty',\n",
       "        'Intel Core i3 Processor (11th Gen)8 GB DDR4 RAM64 bit Windows 11 Operating System512 GB SSD39.62 cm (15.6 inch) DisplayWindows 11, Microsoft Office H&S 2021, 1 Year McAfee1 Year Onsite Warranty',\n",
       "        'Intel Core i3 Processor (11th Gen)8 GB DDR4 RAMWindows 11 Operating System1 TB HDD|256 GB SSD38.1 cm (15 inch) Display12 months',\n",
       "        'Intel Core i3 Processor (11th Gen)8 GB DDR4 RAMWindows 11 Operating System256 GB SSD38.1 cm (15 inch) Display2 Year Onsite Warranty',\n",
       "        'Intel Core i3 Processor (11th Gen)8 GB DDR4 RAMWindows 11 Operating System512 GB SSD39.62 cm (15.6 inch) Display1 YEAR',\n",
       "        'Intel Core i3 Processor (11th Gen)8 GB LPDDR4X RAM64 bit Windows 11 Operating System256 GB SSD35.56 cm (14 Inch) Touchscreen Display1 Year onsite warranty',\n",
       "        'Intel Core i3 Processor (11th Gen)8 GB LPDDR4X RAM64 bit Windows 11 Operating System512 GB SSD39.62 cm (15.6 Inch) Display1 Year Onsite Warranty',\n",
       "        'Intel Core i3 Processor (12th Gen)8 GB DDR4 RAM64 bit Windows 11 Operating System256 GB SSD35.56 cm (14 Inch) Display1 Year Onsite Warranty',\n",
       "        'Intel Core i3 Processor (12th Gen)8 GB DDR4 RAM64 bit Windows 11 Operating System512 GB SSD39.62 cm (15.6 Inch) Display1 Year Onsite Hardware Service',\n",
       "        'Intel Core i3 Processor (12th Gen)8 GB DDR4 RAM64 bit Windows 11 Operating System512 GB SSD39.62 cm (15.6 inch) Display1 Year International Travelers Warranty (ITW)',\n",
       "        'Intel Core i3 Processor (12th Gen)8 GB DDR4 RAMWindows 11 Operating System512 GB SSD35.56 cm (14 inch) DisplayOffice Home and Student 20211 Year Onsite Warranty',\n",
       "        'Intel Core i3 Processor (8th Gen)4 GB DDR4 RAM64 bit Windows 10 Operating System256 GB SSD39.62 cm (15.6 inch) Display1 year Manufacturer Warranty',\n",
       "        'Intel Core i5 Processor (10th Gen)16 GB DDR4 RAM64 bit Windows 10 Operating System512 GB SSD39.62 cm (15.6 inch) Display1 Year Onsite Warranty',\n",
       "        'Intel Core i5 Processor (10th Gen)16 GB DDR4 RAM64 bit Windows 11 Operating System512 GB SSD39.62 cm (15.6 inch) DisplayWindows 11, Microsoft Office H&S 2021, 1 Year McAfee1 Year Onsite Warranty',\n",
       "        'Intel Core i5 Processor (10th Gen)16 GB LPDDR4X RAM64 bit Windows 11 Operating System512 GB SSD35.56 cm (14 Inch) DisplayNA1 Year Onsite Warranty',\n",
       "        'Intel Core i5 Processor (10th Gen)8 GB DDR4 RAM64 bit Windows 10 Operating System1 TB HDD39.62 cm (15.6 inch) DisplaySplendid, Tru2Life, My Asus1 Year Onsite Warranty',\n",
       "        'Intel Core i5 Processor (10th Gen)8 GB DDR4 RAM64 bit Windows 10 Operating System1 TB HDD|256 GB SSD39.62 cm (15.6 inch) DisplayMicrosoft Office Home and Student 20191 Year Onsite Warranty',\n",
       "        'Intel Core i5 Processor (10th Gen)8 GB DDR4 RAM64 bit Windows 10 Operating System512 GB SSD39.62 cm (15.6 Inch) DisplayMicrosoft Office Home and Student 20191 Year Onsite Warranty',\n",
       "        'Intel Core i5 Processor (10th Gen)8 GB DDR4 RAM64 bit Windows 10 Operating System512 GB SSD39.62 cm (15.6 inch) Display1 Year Onsite�Warranty�+ 1 Year Premium Care + 1 Year Accidental Damage Protection',\n",
       "        'Intel Core i5 Processor (10th Gen)8 GB DDR4 RAM64 bit Windows 10 Operating System512 GB SSD39.62 cm (15.6 inch) DisplaySystem Diagnosis (All models), Splendid (All Models), Tru2Life (Intel Platform Models), Keyboard Hotkeys (All Models), AppDeals (All Models), Link to MyASUS (All Models, Bluetooth Needed)1 Year Onsite Warranty',\n",
       "        'Intel Core i5 Processor (10th Gen)8 GB DDR4 RAM64 bit Windows 11 Operating System512 GB SSD39.62 cm (15.6 inch) Display1 Year Onsite�Warranty�+ 1 Year Legion Ultimate Support + 1 Year Accidental Damage Protection',\n",
       "        'Intel Core i5 Processor (10th Gen)8 GB DDR4 RAM64 bit Windows 11 Operating System512 GB SSD39.62 cm (15.6 inch) DisplayOffice Home and Student 20211 Year Onsite Warranty',\n",
       "        'Intel Core i5 Processor (10th Gen)8 GB DDR4 RAM64 bit Windows 11 Operating System512 GB SSD39.62 cm (15.6 inch) DisplayWindows 11 Home, Microsoft Office Home & Student 2021, 1 Year McAfee1 Year Onsite Warranty',\n",
       "        'Intel Core i5 Processor (10th Gen)8 GB DDR4 RAMWindows 11 Operating System256 GB SSD39.62 cm (15.6 inch) Display1 Year Warranty',\n",
       "        'Intel Core i5 Processor (10th Gen)8 GB DDR4 RAMWindows 11 Operating System512 GB SSD35.56 cm (14 inch) Display1 Year Onsite Warranty',\n",
       "        'Intel Core i5 Processor (10th Gen)8 GB DDR4 RAMWindows 11 Operating System512 GB SSD39.62 cm (15.6 inch) Display1 Year Onsite Warranty',\n",
       "        'Intel Core i5 Processor (10th Gen)8 GB LPDDR4X RAM64 bit Windows 11 Operating System512 GB SSD35.56 cm (14 Inch) DisplayNA1 Year Onsite Warranty',\n",
       "        'Intel Core i5 Processor (10th Gen)8 GB LPDDR4X RAM64 bit Windows 11 Operating System512 GB SSD35.56 cm (14 inch) Display1 year Onsite Warranty',\n",
       "        'Intel Core i5 Processor (11th Gen)16 GB DDR4 RAM64 bit Windows 10 Operating System512 GB SSD35.56 cm (14 inch) Touchscreen DisplayMicrosoft Office 2019 Home & Student3 Years Warranty + 1 Year Premium Care + 1 Year ADP',\n",
       "        'Intel Core i5 Processor (11th Gen)16 GB DDR4 RAM64 bit Windows 10 Operating System512 GB SSD39.62 cm (15.6 Inch) DisplayMatrix Display (Extend)?Cooler Boost 5?Hi-Res Audio?Nahimic 3, Thin Bezel?Speaker Tuning Engine2 Year On-Site Warranty',\n",
       "        'Intel Core i5 Processor (11th Gen)16 GB DDR4 RAM64 bit Windows 10 Operating System512 GB SSD39.62 cm (15.6 inch) Display1 Year Onsite Warranty',\n",
       "        'Intel Core i5 Processor (11th Gen)16 GB DDR4 RAM64 bit Windows 11 Operating System512 GB SSD35.56 cm (14 inch) Touchscreen Display\"Microsoft Office Home & Student 2019, HP Documentation, HP SSRM, HP Smart \"1 Year Onsite Warranty',\n",
       "        'Intel Core i5 Processor (11th Gen)16 GB DDR4 RAM64 bit Windows 11 Operating System512 GB SSD35.56 cm (14 inch) Touchscreen Display1 Year Onsite Warranty',\n",
       "        'Intel Core i5 Processor (11th Gen)16 GB DDR4 RAM64 bit Windows 11 Operating System512 GB SSD39.62 cm (15.6 Inch) Display1 Year International Travelers Warranty (ITW)',\n",
       "        'Intel Core i5 Processor (11th Gen)16 GB DDR4 RAM64 bit Windows 11 Operating System512 GB SSD39.62 cm (15.6 Inch) Display1 Year Onsite�Warranty�+ 1 Year Premium Care + 1 Year Accidental Damage Protection',\n",
       "        'Intel Core i5 Processor (11th Gen)16 GB DDR4 RAM64 bit Windows 11 Operating System512 GB SSD39.62 cm (15.6 inch) Display1 Year Onsite warranty + 1 Year Accidental Damage Protection + 1 Year Legion Ultimate Support',\n",
       "        'Intel Core i5 Processor (11th Gen)16 GB DDR4 RAMWindows 10 Operating System512 GB SSD35.56 cm (14 Inch) DisplayMicrosoft Office Home & Student 20193 Years Warranty + 1 Year Premium Care + 1 Year ADP',\n",
       "        'Intel Core i5 Processor (11th Gen)16 GB DDR4 RAMWindows 10 Operating System512 GB SSD39.62 cm (15.6 inch) Display1 Year Onsite Warranty',\n",
       "        'Intel Core i5 Processor (11th Gen)16 GB LPDDR4 RAM64 bit Windows 11 Operating System512 GB SSD33.78 cm (13.3 Inch) Display1 Year Onsite Warranty',\n",
       "        'Intel Core i5 Processor (11th Gen)16 GB LPDDR4X RAM64 bit Windows 10 Operating System512 GB SSD35.56 cm (14 inch) DisplayPCI-e Gen4 SSD?SHIFT?Matrix Display (Extend)?Cooler Boost 3?Thunderbolt 4?Finger Print Security?True Color 2.0?Hi-Res Audio?Nahimic 3? 4-Sided Thin bezel?MSI Center?Silky Smooth Touchpad?Military-Grade Durability1 Year On-Site Warranty',\n",
       "        'Intel Core i5 Processor (11th Gen)16 GB LPDDR4X RAM64 bit Windows 10 Operating System512 GB SSD35.56 cm (14 inch) Touchscreen DisplayMyASUS, ScreenXpert, Office Home and Student 2019 with lifetime validity, McAfee Anti-virus for 1 Year, Link to MyASUS (All Models, Bluetooth Needed)1 Year Onsite Warranty',\n",
       "        'Intel Core i5 Processor (11th Gen)16 GB LPDDR4X RAM64 bit Windows 11 Operating System512 GB SSD35.56 cm (14 Inch) Display1 Years Carry in Warranty',\n",
       "        'Intel Core i5 Processor (11th Gen)16 GB LPDDR4X RAMWindows 11 Operating System512 GB SSD35.56 cm (14 inch) Display1 Year Domestic Warranty',\n",
       "        'Intel Core i5 Processor (11th Gen)8 GB DDR4 RAM64 bit Windows 10 Operating System1 TB HDD|256 GB SSD39.62 cm (15.6 inch) DisplayMicrosoft Office 2019 Home & Student1 Year Onsite Warranty',\n",
       "        'Intel Core i5 Processor (11th Gen)8 GB DDR4 RAM64 bit Windows 10 Operating System1 TB HDD|256 GB SSD39.62 cm (15.6 inches) DisplayMicrosoft Office Home & Student 2019, HP Documentation, HP e-service, HP BIOS recovery, HP SSRM, HP Smart, HP Jumpstarts1 Year Onsite Warranty',\n",
       "        'Intel Core i5 Processor (11th Gen)8 GB DDR4 RAM64 bit Windows 10 Operating System1 TB SSD39.62 cm (15.6 inch) Display1 Year Onsite Warranty',\n",
       "        'Intel Core i5 Processor (11th Gen)8 GB DDR4 RAM64 bit Windows 10 Operating System256 GB SSD39.62 cm (15.6 inch) DisplayMicrosoft Office Home and Student 20192 Years Warranty',\n",
       "        'Intel Core i5 Processor (11th Gen)8 GB DDR4 RAM64 bit Windows 10 Operating System512 GB SSD35.56 cm (14 Inch) DisplayMicrosoft Office Home and Student 20192 Years Warranty',\n",
       "        'Intel Core i5 Processor (11th Gen)8 GB DDR4 RAM64 bit Windows 10 Operating System512 GB SSD35.56 cm (14 inch) DisplayMicrosoft Office Home & Student 20191 Year Onsite Warranty',\n",
       "        'Intel Core i5 Processor (11th Gen)8 GB DDR4 RAM64 bit Windows 10 Operating System512 GB SSD35.56 cm (14 inch) DisplayMicrosoft Office Home and Student 20191 Year Warranty + 1 Year Premium Care + 1 Year ADP',\n",
       "        'Intel Core i5 Processor (11th Gen)8 GB DDR4 RAM64 bit Windows 10 Operating System512 GB SSD39.62 cm (15.6 inch) DisplayMicrosoft Office Home and Student 2019, HP Documentation, HP CoolSense , HP SSRM , HP Smart, HP Support Assistant1 Year Onsite Warranty',\n",
       "        'Intel Core i5 Processor (11th Gen)8 GB DDR4 RAM64 bit Windows 11 Operating System1 TB HDD|256 GB SSD39.62 cm (15.6 inch) DisplayAcer Care Center, Quick Access, Acer Product Registration, MS Office 2021 Home & Student1 Year International Travelers Warranty (ITW)',\n",
       "        'Intel Core i5 Processor (11th Gen)8 GB DDR4 RAM64 bit Windows 11 Operating System1 TB HDD|256 GB SSD39.62 cm (15.6 inch) DisplayMicrosoft Office Home & Student 20211 Year Onsite�Warranty�+ 1 Year Premium Care + 1 Year Accidental Damage Protection',\n",
       "        'Intel Core i5 Processor (11th Gen)8 GB DDR4 RAM64 bit Windows 11 Operating System1 TB HDD|256 GB SSD39.62 cm (15.6 inch) DisplayOffice Home and Student 20211 Year Onsite Warranty',\n",
       "        'Intel Core i5 Processor (11th Gen)8 GB DDR4 RAM64 bit Windows 11 Operating System512 GB SSD39.62 cm (15.6 Inch) Display1 Year International Travelers Warranty (ITW)',\n",
       "        'Intel Core i5 Processor (11th Gen)8 GB DDR4 RAM64 bit Windows 11 Operating System512 GB SSD39.62 cm (15.6 Inch) Display1 Year Onsite Warranty',\n",
       "        'Intel Core i5 Processor (11th Gen)8 GB DDR4 RAM64 bit Windows 11 Operating System512 GB SSD39.62 cm (15.6 Inch) Display1 Year Onsite Warranty + 1 Year Premium Care + 1 Year Accidentaly Damage Protection',\n",
       "        'Intel Core i5 Processor (11th Gen)8 GB DDR4 RAM64 bit Windows 11 Operating System512 GB SSD39.62 cm (15.6 inch) Display2 Years Onsite Warranty',\n",
       "        'Intel Core i5 Processor (11th Gen)8 GB DDR4 RAM64 bit Windows 11 Operating System512 GB SSD39.62 cm (15.6 inch) DisplayAcer Care Center, Acer Product Registration1 Year International Travelers Warranty (ITW)',\n",
       "        'Intel Core i5 Processor (11th Gen)8 GB DDR4 RAM64 bit Windows 11 Operating System512 GB SSD39.62 cm (15.6 inch) DisplayWindows 11 Home, MSI Center, CoolerBoost2 Year On-Site & Carry-In Warranty',\n",
       "        'Intel Core i5 Processor (11th Gen)8 GB DDR4 RAM64 bit Windows 11 Operating System512 GB SSD40.89 cm (16.1 inch) DisplayMicrosoft Office Home & Student 20191 Year Onsite Warranty',\n",
       "        'Intel Core i5 Processor (11th Gen)8 GB DDR4 RAMWindows 11 Operating System1 TB SSD39.62 cm (15.6 inch) Display1 YEAR',\n",
       "        'Intel Core i5 Processor (11th Gen)8 GB DDR4 RAMWindows 11 Operating System256 GB SSD35.56 cm (14 inch) Display1 Year Onsite Warranty',\n",
       "        'Intel Core i5 Processor (11th Gen)8 GB DDR4 RAMWindows 11 Operating System512 GB SSD39.62 cm (15.6 inch) Display1 YEAR',\n",
       "        'Intel Core i5 Processor (11th Gen)8 GB DDR4 RAMWindows 11 Operating System512 GB SSD39.62 cm (15.6 inch) DisplayMS Office Home & Student 2019, Mi Smart Share, DTS Audio processing1 Year Onsite Warranty',\n",
       "        'Intel Core i5 Processor (11th Gen)8 GB LPDDR4X RAM64 bit Windows 11 Operating System512 GB SSD33.78 cm (13.3 Inch) Display1 Year onsite warranty',\n",
       "        'Intel Core i5 Processor (11th Gen)8 GB LPDDR4X RAM64 bit Windows 11 Operating System512 GB SSD39.62 cm (15.6 Inch) Display1 Year Onsite Warranty',\n",
       "        'Intel Core i5 Processor (11th Gen)8 GB LPDDR4X RAMWindows 11 Operating System512 GB SSD35.56 cm (14 inch) Touchscreen DisplayMicrosoft Office Home and Student 20211 Year Onsite Warranty',\n",
       "        'Intel Core i5 Processor (12th Gen)16 GB DDR4 RAM64 bit Windows 11 Operating System512 GB SSD35.56 cm (14 Inch) Display1 Year Onsite Warranty',\n",
       "        'Intel Core i5 Processor (12th Gen)16 GB DDR4 RAM64 bit Windows 11 Operating System512 GB SSD35.56 cm (14 Inch) Touchscreen Display1 Year Onsite Warranty',\n",
       "        'Intel Core i5 Processor (12th Gen)16 GB DDR4 RAM64 bit Windows 11 Operating System512 GB SSD35.56 cm (14 inch) DisplayMicrosoft Office Home & Student 20211 Year Onsite Warranty',\n",
       "        'Intel Core i5 Processor (12th Gen)16 GB DDR4 RAM64 bit Windows 11 Operating System512 GB SSD35.56 cm (14 inch) Touchscreen DisplayOffice Home and Student 20211 Year Onsite Hardware Service',\n",
       "        'Intel Core i5 Processor (12th Gen)16 GB DDR4 RAM64 bit Windows 11 Operating System512 GB SSD39.62 cm (15.6 Inch) Display2 Year Carry-In Warranty Term',\n",
       "        'Intel Core i5 Processor (12th Gen)16 GB DDR4 RAM64 bit Windows 11 Operating System512 GB SSD39.62 cm (15.6 Inch) Display2 Years Onsite�Warranty',\n",
       "        'Intel Core i5 Processor (12th Gen)16 GB DDR4 RAM64 bit Windows 11 Operating System512 GB SSD39.62 cm (15.6 inch) Display1 Year Onsite warranty + 1 Year Accidental Damage Protection + 1 Year Premium Care',\n",
       "        'Intel Core i5 Processor (12th Gen)16 GB DDR4 RAM64 bit Windows 11 Operating System512 GB SSD39.62 cm (15.6 inch) DisplayAcer Care Center, Acer Product Registration, Nitro Sense, Quick Access1 Year International Travelers Warranty (ITW)',\n",
       "        'Intel Core i5 Processor (12th Gen)16 GB DDR4 RAMWindows 11 Operating System512 GB SSD39.62 cm (15.6 Inch) Display1 Year International Travelers Warranty (ITW)',\n",
       "        'Intel Core i5 Processor (12th Gen)16 GB DDR5 RAMWindows 11 Operating System512 GB SSD39.62 cm (15.6 inch) Display1 Year Warranty',\n",
       "        'Intel Core i5 Processor (12th Gen)16 GB LPDDR5 RAM64 bit Windows 11 Operating System512 GB SSD39.62 cm (15.6 Inch) Display1 Year Onsite Warranty',\n",
       "        'Intel Core i5 Processor (12th Gen)8 GB DDR4 RAM64 bit Windows 11 Operating System1 TB HDD|256 GB SSD39.62 cm (15.6 Inch) Display1 Year Onsite Hardware Service',\n",
       "        'Intel Core i5 Processor (12th Gen)8 GB DDR4 RAM64 bit Windows 11 Operating System512 GB SSD35.56 cm (14 Inch) Touchscreen Display1 Year Onsite Hardware Service',\n",
       "        'Intel Core i5 Processor (12th Gen)8 GB DDR4 RAM64 bit Windows 11 Operating System512 GB SSD39.62 cm (15.6 Inch) Display1 Year International Travelers Warranty (ITW)',\n",
       "        'Intel Core i5 Processor (12th Gen)8 GB DDR4 RAM64 bit Windows 11 Operating System512 GB SSD39.62 cm (15.6 Inch) Display2 Year Onsite Warranty',\n",
       "        'Intel Core i5 Processor (12th Gen)8 GB DDR4 RAM64 bit Windows 11 Operating System512 GB SSD39.62 cm (15.6 inch) Display1 Year International Travelers Warranty (ITW)',\n",
       "        'Intel Core i5 Processor (12th Gen)8 GB DDR4 RAM64 bit Windows 11 Operating System512 GB SSD39.62 cm (15.6 inch) Display1 Year Onsite Warranty',\n",
       "        'Intel Core i5 Processor (12th Gen)8 GB DDR4 RAM64 bit Windows 11 Operating System512 GB SSD39.62 cm (15.6 inch) DisplayMicrosoft Office Home & Student 20211 Year Onsite Warranty',\n",
       "        'Intel Core i5 Processor (12th Gen)8 GB DDR4 RAMWindows 11 Operating System512 GB SSD35.56 cm (14 inch) DisplayMicrosoft Office Home & Student 20211 Year Onsite Warranty',\n",
       "        'Intel Core i5 Processor (12th Gen)8 GB LPDDR4X RAM64 bit Windows 11 Operating System256 GB SSD39.62 cm (15.6 Inch) Display1 Year Onsite Warranty',\n",
       "        'Intel Core i7 Processor (10th Gen)16 GB LPDDR4X RAM64 bit Windows 11 Operating System512 GB SSD35.56 cm (14 Inch) Display1 Year Onsite Warranty',\n",
       "        'Intel Core i7 Processor (10th Gen)16 GB LPDDR4X RAM64 bit Windows 11 Operating System512 GB SSD35.56 cm (14 Inch) DisplayNA1 Year Onsite Warranty',\n",
       "        'Intel Core i7 Processor (10th Gen)32 GB DDR4 RAM64 bit Windows 10 Operating System1 TB SSD39.62 cm (15.6 inch) DisplayNahimic 3, Cooler Boost, Trinity+, Creator Center, True Color 3.02 Years Carry In Warranty',\n",
       "        'Intel Core i7 Processor (10th Gen)32 GB DDR4 RAM64 bit Windows 10 Operating System1 TB SSD39.62 cm (15.6 inch) Touchscreen DisplayMy Asus, Splendid, Tru2Life1 Year Onsite Warranty',\n",
       "        'Intel Core i7 Processor (11th Gen)16 GB DDR4 RAM64 bit Windows 10 Operating System1 TB HDD|512 GB SSD39.62 cm (15.6 inch) DisplayAcer Care Center, Acer Product Registration, Planet9, PredatorSense1 Year International Travelers Warranty (ITW)',\n",
       "        'Intel Core i7 Processor (11th Gen)16 GB DDR4 RAM64 bit Windows 10 Operating System1 TB SSD35.56 cm (14 inch) Touchscreen DisplayMicrosoft Office Home and Student 20193 Years Warranty + 1 Year Premium Care + 1 Year ADP',\n",
       "        'Intel Core i7 Processor (11th Gen)16 GB DDR4 RAM64 bit Windows 10 Operating System1 TB SSD39.62 cm (15.6 inch) Display1 Year Onsite Warranty',\n",
       "        'Intel Core i7 Processor (11th Gen)16 GB DDR4 RAM64 bit Windows 10 Operating System512 GB SSD39.62 cm (15.6 inch) Display2 Year Carry-In Warranty Term',\n",
       "        'Intel Core i7 Processor (11th Gen)16 GB DDR4 RAM64 bit Windows 10 Operating System512 GB SSD39.62 cm (15.6 inch) DisplayMicrosoft Office Home and Student 20191 Year Onsite�Warranty�+ 1 Year Legion Ultimate Support + 1 Year Accidental Damage Protection',\n",
       "        'Intel Core i7 Processor (11th Gen)16 GB DDR4 RAMWindows 10 Operating System1 TB SSD40.64 cm (16 inch) DisplayOffice Home and Student 2019 included1 Year Onsite Warranty',\n",
       "        'Intel Core i7 Processor (11th Gen)16 GB DDR4 RAMWindows 11 Operating System512 GB SSD39.62 cm (15.6 inch) Display1 Year Onsite Warranty',\n",
       "        'Intel Core i7 Processor (11th Gen)16 GB LPDDR4X RAM64 bit Windows 11 Operating System512 GB SSD33.78 cm (13.3 Inch) Display1 Year Onsite Warranty',\n",
       "        'Intel Core i7 Processor (11th Gen)16 GB LPDDR4X RAM64 bit Windows 11 Operating System512 GB SSD33.78 cm (13.3 Inch) Touchscreen Display1 Year Onsite Warranty',\n",
       "        'Intel Core i7 Processor (11th Gen)8 GB DDR4 RAM64 bit Windows 10 Operating System512 GB SSD39.62 cm (15.6 Inch) Display2 Year Carry-In Warranty Term',\n",
       "        'Intel Core i7 Processor (11th Gen)8 GB DDR4 RAMWindows 10 Operating System1 TB HDD|256 GB SSD39.62 cm (15.6 inch) Display1 Year Onsite Warranty',\n",
       "        'Intel Core i7 Processor (12th Gen)16 GB DDR4 RAM64 bit Windows 11 Operating System1 TB SSD39.62 cm (15.6 inch) Display2 Year On-Site Warranty',\n",
       "        'Intel Core i7 Processor (12th Gen)16 GB DDR4 RAM64 bit Windows 11 Operating System512 GB SSD35.56 cm (14 Inch) Display1 Year Onsite Warranty',\n",
       "        'Intel Core i7 Processor (12th Gen)16 GB DDR4 RAMWindows 11 Operating System512 GB SSD35.56 cm (14 inch) DisplayOffice Home and Student 20211 Year Onsite Warranty',\n",
       "        'Intel Core i7 Processor (12th Gen)16 GB DDR5 RAM64 bit Windows 11 Operating System1 TB SSD39.62 cm (15.6 Inch) Display1 Year Premium Support',\n",
       "        'Intel Core i7 Processor (12th Gen)16 GB DDR5 RAM64 bit Windows 11 Operating System1 TB SSD39.62 cm (15.6 Inch) DisplayAcer Care Center, Acer Product Registration, Planet9, PredatorSense1 Year International Travelers Warranty (ITW)',\n",
       "        'Intel Core i7 Processor (12th Gen)16 GB DDR5 RAM64 bit Windows 11 Operating System1 TB SSD39.62 cm (15.6 inch) Display1 Year Premium Support',\n",
       "        'Intel Core i7 Processor (12th Gen)16 GB DDR5 RAM64 bit Windows 11 Operating System1 TB SSD39.62 cm (15.6 inch) DisplayWindows 11 Home2 Year Warranty by MSI',\n",
       "        'Intel Core i7 Processor (12th Gen)16 GB DDR5 RAM64 bit Windows 11 Operating System1 TB SSD40.64 cm (16 Inch) Display1 Year Onsite Warranty',\n",
       "        'Intel Core i7 Processor (12th Gen)16 GB DDR5 RAM64 bit Windows 11 Operating System1 TB SSD43.94 cm (17.3 Inch) Display2 Year On-Site & Carry-In Warranty',\n",
       "        'Intel Core i7 Processor (12th Gen)16 GB DDR5 RAM64 bit Windows 11 Operating System1 TB SSD43.94 cm (17.3 inch) Display1 Year Onsite Warranty',\n",
       "        'Intel Core i7 Processor (12th Gen)16 GB DDR5 RAM64 bit Windows 11 Operating System512 GB SSD39.62 cm (15.6 Inch) Display1 Year Onsite Premium Support Plus (Includes ADP)',\n",
       "        'Intel Core i7 Processor (12th Gen)16 GB DDR5 RAM64 bit Windows 11 Operating System512 GB SSD39.62 cm (15.6 Inch) Display1 Year Premium Support',\n",
       "        'Intel Core i7 Processor (12th Gen)16 GB LPDDR4X RAM64 bit Windows 11 Operating System512 GB SSD34.29 cm (13.5 inch) Display1 Year Onsite Warranty',\n",
       "        'Intel Core i7 Processor (12th Gen)32 GB DDR5 RAM64 bit Windows 11 Operating System1 TB SSD39.62 cm (15.6 Inch) Display2 Year On-Site Warranty',\n",
       "        'Intel Core i7 Processor (12th Gen)32 GB DDR5 RAM64 bit Windows 11 Operating System2 TB SSD43.94 cm (17.3 inch) Display2 Year',\n",
       "        'Intel Core i7 Processor (12th Gen)8 GB DDR4 RAM64 bit Windows 11 Operating System512 GB SSD39.62 cm (15.6 inch) DisplayWindows 11 Home, MSI Center, CoolerBoost2 Year On-Site & Carry-In Warranty',\n",
       "        'Intel Core i9 Processor (11th Gen)16 GB DDR4 RAM64 bit Windows 11 Operating System1 TB SSD39.62 cm (15.6 Inch) Display1 Year International Travelers Warranty (ITW)',\n",
       "        'Intel Core i9 Processor (12th Gen)16 GB DDR4 RAM64 bit Windows 11 Operating System1 TB SSD39.62 cm (15.6 Inch) Display2 Year On-Site & Carry-In Warranty',\n",
       "        'Intel Core i9 Processor (12th Gen)16 GB DDR5 RAM64 bit Windows 11 Operating System1 TB SSD39.62 cm (15.6 Inch) Display1 Year Onsite Hardware Service',\n",
       "        'Intel Core i9 Processor (12th Gen)32 GB DDR5 RAM64 bit Windows 11 Operating System2 TB SSD43.94 cm (17.3 Inch) Display2 Year On-Site & Carry-In Warranty',\n",
       "        'Intel Pentium Quad Core Processor8 GB DDR4 RAM64 bit Windows 11 Operating System256 GB SSD35.56 cm (14 inch) DisplayWindows 11 Home, Microsoft Office Home & Student 2019, 1 Year Mcafee1 Year Onsite Warranty',\n",
       "        'Intel Pentium Quad Core Processor8 GB DDR4 RAM64 bit Windows 11 Operating System256 GB SSD39.62 cm (15.6 inch) DisplayOffice Home and Student 20211 Year Onsite Warranty',\n",
       "        'Intel Pentium Silver Processor8 GB DDR4 RAM64 bit Windows 11 Operating System256 GB SSD35.56 cm (14 Inch) Display1 Year Onsite warranty',\n",
       "        'Intel Pentium Silver Processor8 GB DDR4 RAM64 bit Windows 11 Operating System256 GB SSD35.56 cm (14 inch) Display1 Year International Travelers Warranty (ITW)',\n",
       "        'NVIDIA GeForce RTX 206015.6 inch Full HD LED Backlit Anti-glare IPS Display, 300 Hz, 300 NitsAlienware Cryo-tech thermal technology to keep the system cool and running at highest performanceTobii-eye tracking to track head pose, presence, fine gaze and eye positionIn-built Alienware Command center software with enhanced control over system settingsIntel Core i7 Processor (10th Gen)16 GB DDR4 RAM64 bit Windows 10 Operating System1 TB SSD39.62 cm (15.6 inch) DisplayMicrosoft Office Home and Student 20191 Year Complete Cover Warranty',\n",
       "        'NVIDIA GeForce RTX 2080 with Max-Q15.6 inch Full HD LED Backlit Anti-glare IPS Display, 300 Hz, 300 NitsAlienware Cryo-tech thermal technology to keep the system cool and running at highest performanceTobii-eye tracking to track head pose, presence, fine gaze and eye positionIn-built Alienware Command center software with enhanced control over system settingsIntel Core i9 Processor (10th Gen)32 GB DDR4 RAM64 bit Windows 10 Operating System1 TB SSD39.62 cm (15.6 inch) DisplayMicrosoft Office Home and Student 20191 Year Limited Hardware Warranty, In Home Service After Remote Diagnosis - Retail',\n",
       "        'NVIDIA RTX 3050 Graphics upto 90W TGP15.6 inch Full HD AG Display (250 nits Brightness, 120Hz, Narrow Border)Alienware Command CenterAMD Ryzen 5 Hexa Core Processor8 GB DDR4 RAM64 bit Windows 11 Operating System512 GB SSD39.62 cm (15.6 inch) DisplayOffice Home and Student 20211 Year Onsite Hardware Service',\n",
       "        'NVIDIA RTX 3050 Graphics upto 90W TGP15.6 inch Full HD AG Display (250 nits Brightness, 120Hz, Narrow Border)Alienware Command CenterAMD Ryzen 7 Octa Core Processor16 GB DDR4 RAM64 bit Windows 11 Operating System512 GB SSD39.62 cm (15.6 inch) DisplayOffice Home and Student 20211 Year Premium Support',\n",
       "        'Powered by 11th Gen Intel Evo Core i5 ProcessorMicrosoft Office 2019 Home & Student IncludedStylish Thin and Light Laptop without Optical Disk DriveIntel Core i5 Processor (11th Gen)8 GB DDR4 RAM64 bit Windows 10 Operating System512 GB SSD35.56 cm (14 inch) DisplayMicrosoft Office 2019 Home & Student1 Year Domestic Warranty',\n",
       "        'Processor: 11th Generation Intel Core i5-1135G7 Processor (8MB Cache, up to 4.2 GHz),Memory & Storage:8GB DDR4, 2666MHz | 512GB M.2 PCIe NVMe Solid State DriveDisplay:14.0-inch FHD (1920 x 1080) Anti-glare LED Backlight Narrow Border WVA DisplayGraphics: Dedicated NVIDIA MX330 2GB GDDR5Operating System & Software:Windows 10 Home Single Language | Microsoft Office Home and Student 2019I/O ports: 2x USB 3.2 Gen-1, 1xUSB 2.0, 1xHDMI port, 1xEthernet port,1x Headset jack, 1xSD Media Card ReaderIntel Core i5 Processor (11th Gen)8 GB DDR4 RAM64 bit Windows 10 Operating System512 GB SSD88.9 cm (35 cm) Display1 Year Onsite Warranty',\n",
       "        'Processor: AMD Ryzen 3-3250U (2.60 GHz up to 3.50 GHz)RAM & Storage: 8GB DDR4 (2 DIMM Slots) & 1TB HDDSoftware: Win 11 + Office H&S 2021Display: 14.0\" FHD WVA AG Narrow BorderPorts: USB 3.2 Gen 1 (x2), USB2.0 (x1), HDMI 1.4, SD Media Card Reader (SD, SDHC, SDXC), RJ45 - 10/100MbpsWiFi & BT: 802.11ac 1x1 WiFi and BluetoothAMD Ryzen 3 Dual Core Processor8 GB DDR4 RAM64 bit Windows 11 Operating System1 TB HDD88.9 cm (35 cm) DisplayMicrosoft Office Home and Student 20211 Year Onsite Warranty1 Year Onsite Warranty',\n",
       "        'Processor: AMD Ryzen 5-3450U (2.10 GHz up to 3.50 GHz)RAM & Storage: 8GB DDR4 (2 DIMM Slots) & 512GB SSDSoftware: Win 11 + Office H&S 2021Display: 15.6\" FHD WVA AG Narrow BorderPorts: \"2x USB 3.2 Gen1 ,1x USB 2.0, HDMI 1.4b, SD Card reader, Audio jackWiFi & BT: 802.11ac 1x1 WiFi and BluetoothAMD Ryzen 5 Dual Core Processor8 GB DDR4 RAM64 bit Windows 11 Operating System512 GB SSD39.62 cm (15.6 Inch) DisplayMicrosoft Office Home & Student 20211 Year Onsite Warranty',\n",
       "        'Processor: AMD Ryzen R5-5600H (3.30 GHz up to 4.20 GHz) 16MB L3RAM & Storage: 16GB DDR4 (2 DIMM Slots) & 512GB SSDGraphics: NVIDIA GEFORCE RTX 3050 (4GB GDDR6) TGP Up To 80WDisplay: 15.6\" FHD WVA AG 250 nits 120Hz Narrow Border, Backlit Keyboard OrangeColor: Phantom Grey with specklesPorts: (1) HDMI 2.1, (2) SuperSpeed USB 2.0 Gen 1 Type-A including (1) with PowerShare, (1) SuperSpeed USB 3.2, (1) USB-C Data/Display Port Alt-Mode, Headphone/Mic, (1) RJ45WiFi & BT: Killer Wi-Fi 6 AX1650 (2x2) and BluetoothAMD Ryzen 5 Hexa Core Processor16 GB DDR4 RAM64 bit Windows 11 Operating System512 GB SSD39.62 cm (15.6 inch) DisplayOffice Home and Student 20211 Year Onsite Hardware Service',\n",
       "        'Processor: Intel PQC-N5030 (1.10 GHz up to 3.10 GHz)RAM & Storage: 8GB DDR4 & 256GB SSDDisplay: 15.6\" HD AG Narrow BorderSoftware: Win 11 + Office H&S 20212x USB 3.2 Gen1 ,1x USB 2.0, HDMI 1.4, SD Card reader, Audio jack, 1 M.2 2230/2280 slot for solid-state drive/Intel OptaneWiFi & BT: 802.11ac 1x1 WiFi and BluetoothIntel Pentium Silver Processor8 GB DDR4 RAM64 bit Windows 11 Operating System256 GB SSD39.62 cm (15.6 Inch) Display1 Year Onsite Warranty',\n",
       "        'Processor: Intel i3-1115G4 (Base- 1.70 GHz & Turbo up to 4.10 GHz) 2 CoresRAM & Storage: 8GB DDR4 & 1TB + 256GB SSDGraphics & Keyboard: Integrated & Standard KeyboardDisplay: 15.6\" FHD WVA AG Narrow BorderPorts: 2x USB 3.2 Gen1 ,1x USB 2.0, HDMI 1.4, SD Card reader, Audio jack, 1 M.2 2230/2280 slot for solid-state drive/Intel OptaneIntel Core i3 Processor (11th Gen)8 GB DDR4 RAMWindows 11 Operating System1 TB HDD|256 GB SSD39.62 cm (15.6 inch) Display1 YEAR',\n",
       "        'Processor: Intel i3-1125G4 (2.00 GHz up to 3.70 GHz)RAM & Storage: 8GB DDR4 (2 DIMM Slots) & 256GB SSDSoftware: Win 11 + Office H&S 2021Display: 14.0\" FHD WVA Truelife Touch Narrow Border 60HzPorts: \"1 HDMI out 1.4a, 2 USB 3.2 Gen 1 Type-A, 1 USB 3.2 Gen 2 Type-C with Power Delivery and Video, 1 DC-in port, 1 3.5mm Headphone/Microphone combination jack\"WiFi & BT: Intel Wi-Fi 6 2x2 (Gig+) and Bluetooth 5.1Intel Core i3 Processor (11th Gen)8 GB DDR4 RAM64 bit Windows 11 Operating System256 GB SSD35.56 cm (14 inch) Touchscreen DisplayOffice Home and Student 20211 Year Onsite Warranty',\n",
       "        'Processor: Intel i7-11800H- (2.30 GHz up to 4.60 GHz) 16MB L3RAM & Storage: 16GB DDR4 (2 DIMM Slots) & 512GB SSDGraphics: NVIDIA� GEFORCE� RTX 3050 Ti (4GB GDDR6)Display: 15.6\" FHD WVA AG 250 nits 120Hz Narrow Border, Backlit Keyboard OrangeColor: Dark Shadow GreyPorts: 1. HiSpeed USB 2.0 | 2. HiSpeed USB 2.0 with PowerShare | 3. USB 3.2 Gen 1 Type-C port with DisplayPort with alt mode | 4. SuperSpeed USB 3.2 | 5. HDMI | 6. Power in | 7. RJ45 | 8. Headphones/micIntel Core i7 Processor (11th Gen)16 GB DDR4 RAM64 bit Windows 11 Operating System512 GB SSD39.62 cm (15.6 inch) DisplayOffice Home and Student 20211 Year Premium Support',\n",
       "        'Stylish & Portable Thin and Light Laptop14 inch 2K QHD, IPS LCD Display ( 400nits peak brightness, 100% sRGB, 3:2 aspect ratio, Full Vision Display)Finger Print Sensor for Faster System AccessLight Laptop without Optical Disk DriveIntel Core i3 Processor (11th Gen)8 GB DDR4 RAM64 bit Windows 10 Operating System256 GB SSD35.56 cm (14 inch) DisplayNA1 Year Domestic Warranty'],\n",
       "       dtype=object),\n",
       " array(['DDR4', 'DDR4DDR4', 'DDR4DDR5DDR4', 'DDR4DDR6DDR4', 'DDR5'],\n",
       "       dtype=object),\n",
       " array(['Mac', 'Others', 'Windows'], dtype=object),\n",
       " array(['1 TB HDD', '1 TB HDD256 GB SSD', '1 TB HDD512 GB SSD', '1 TB SSD',\n",
       "        '128 GB SSD', '2 TB SSD', '256 GB SSD', '512 GB SSD'], dtype=object),\n",
       " array(['', 'AMD Athlon Dual Core Processor', 'AMD Dual Core Processor',\n",
       "        'AMD Ryzen 3 Dual Core Processor',\n",
       "        'AMD Ryzen 3 Hexa Core Processor',\n",
       "        'AMD Ryzen 3 Quad Core Processor',\n",
       "        'AMD Ryzen 5 Dual Core Processor',\n",
       "        'AMD Ryzen 5 Hexa Core Processor',\n",
       "        'AMD Ryzen 5 Quad Core Processor',\n",
       "        'AMD Ryzen 7 Octa Core Processor',\n",
       "        'AMD Ryzen 9 Octa Core Processor',\n",
       "        'Intel Celeron Dual Core Processor',\n",
       "        'Intel Celeron Quad Core Processor', 'Intel Core i3 Processor',\n",
       "        'Intel Core i5 Processor', 'Intel Core i7 Processor',\n",
       "        'Intel Core i9 Processor', 'Intel Pentium Quad Core Processor',\n",
       "        'Intel Pentium Silver Processor'], dtype=object)]"
      ]
     },
     "execution_count": 130,
     "metadata": {},
     "output_type": "execute_result"
    }
   ],
   "source": [
    "encoder_.infrequent_categories_"
   ]
  },
  {
   "cell_type": "code",
   "execution_count": 131,
   "id": "62c789cc",
   "metadata": {},
   "outputs": [
    {
     "name": "stderr",
     "output_type": "stream",
     "text": [
      "C:\\Users\\Admin\\anaconda3\\lib\\site-packages\\sklearn\\preprocessing\\_encoders.py:868: FutureWarning: `sparse` was renamed to `sparse_output` in version 1.2 and will be removed in 1.4. `sparse_output` is ignored unless you leave `sparse` to its default value.\n",
      "  warnings.warn(\n"
     ]
    },
    {
     "data": {
      "text/html": [
       "<div>\n",
       "<style scoped>\n",
       "    .dataframe tbody tr th:only-of-type {\n",
       "        vertical-align: middle;\n",
       "    }\n",
       "\n",
       "    .dataframe tbody tr th {\n",
       "        vertical-align: top;\n",
       "    }\n",
       "\n",
       "    .dataframe thead th {\n",
       "        text-align: right;\n",
       "    }\n",
       "</style>\n",
       "<table border=\"1\" class=\"dataframe\">\n",
       "  <thead>\n",
       "    <tr style=\"text-align: right;\">\n",
       "      <th></th>\n",
       "      <th>Product_ALIENWARE Core i9 10th Gen - (32 GB/1 TB SSD/Windows 10 Home/8 GB Graphics/NVIDIA GeForce RTX 2080 wit...</th>\n",
       "      <th>Product_APPLE 2020 Macbook Air M1 - (8 GB/256 GB SSD/Mac OS Big Sur) MGN63HN/A</th>\n",
       "      <th>Product_APPLE 2020 Macbook Air M1 - (8 GB/256 GB SSD/Mac OS Big Sur) MGN93HN/A</th>\n",
       "      <th>Product_APPLE 2020 Macbook Air M1 - (8 GB/512 GB SSD/Mac OS Big Sur) MGNE3HN/A</th>\n",
       "      <th>Product_APPLE MacBook Air M1 - (16 GB/512 GB SSD/Mac OS Big Sur) Z124J006KD</th>\n",
       "      <th>Product_APPLE MacBook Pro M1 - (8 GB/1 TB SSD/Mac OS Big Sur) Z11B0008S</th>\n",
       "      <th>Product_ASUS (2022) Celeron Dual Core - (4 GB/128 GB SSD/Windows 11 Home) BR1100FKA-BP1104W Laptop</th>\n",
       "      <th>Product_ASUS ASUS TUF Dash Core i5 11th Gen - (16 GB/512 GB SSD/Windows 10 Home/4 GB Graphics/NVIDIA GeForce R...</th>\n",
       "      <th>Product_ASUS Core i3 11th Gen - (4 GB/256 GB SSD/Windows 11 Home) X415EA-EK302WS Thin and Light Laptop</th>\n",
       "      <th>Product_ASUS Core i3 11th Gen - (8 GB/256 GB SSD/Windows 10 Home) X515EA-BR312TS Thin and Light Laptop</th>\n",
       "      <th>...</th>\n",
       "      <th>ProcessorName_AMD Ryzen 7 Octa Core Processor</th>\n",
       "      <th>ProcessorName_AMD Ryzen 9 Octa Core Processor</th>\n",
       "      <th>ProcessorName_Intel Celeron Dual Core Processor</th>\n",
       "      <th>ProcessorName_Intel Celeron Quad Core Processor</th>\n",
       "      <th>ProcessorName_Intel Core i3 Processor</th>\n",
       "      <th>ProcessorName_Intel Core i5 Processor</th>\n",
       "      <th>ProcessorName_Intel Core i7 Processor</th>\n",
       "      <th>ProcessorName_Intel Core i9 Processor</th>\n",
       "      <th>ProcessorName_Intel Pentium Quad Core Processor</th>\n",
       "      <th>ProcessorName_Intel Pentium Silver Processor</th>\n",
       "    </tr>\n",
       "  </thead>\n",
       "  <tbody>\n",
       "    <tr>\n",
       "      <th>421</th>\n",
       "      <td>0.0</td>\n",
       "      <td>0.0</td>\n",
       "      <td>0.0</td>\n",
       "      <td>0.0</td>\n",
       "      <td>0.0</td>\n",
       "      <td>0.0</td>\n",
       "      <td>0.0</td>\n",
       "      <td>0.0</td>\n",
       "      <td>0.0</td>\n",
       "      <td>0.0</td>\n",
       "      <td>...</td>\n",
       "      <td>1.0</td>\n",
       "      <td>0.0</td>\n",
       "      <td>0.0</td>\n",
       "      <td>0.0</td>\n",
       "      <td>0.0</td>\n",
       "      <td>0.0</td>\n",
       "      <td>0.0</td>\n",
       "      <td>0.0</td>\n",
       "      <td>0.0</td>\n",
       "      <td>0.0</td>\n",
       "    </tr>\n",
       "    <tr>\n",
       "      <th>441</th>\n",
       "      <td>0.0</td>\n",
       "      <td>0.0</td>\n",
       "      <td>0.0</td>\n",
       "      <td>0.0</td>\n",
       "      <td>0.0</td>\n",
       "      <td>0.0</td>\n",
       "      <td>0.0</td>\n",
       "      <td>0.0</td>\n",
       "      <td>0.0</td>\n",
       "      <td>0.0</td>\n",
       "      <td>...</td>\n",
       "      <td>0.0</td>\n",
       "      <td>1.0</td>\n",
       "      <td>0.0</td>\n",
       "      <td>0.0</td>\n",
       "      <td>0.0</td>\n",
       "      <td>0.0</td>\n",
       "      <td>0.0</td>\n",
       "      <td>0.0</td>\n",
       "      <td>0.0</td>\n",
       "      <td>0.0</td>\n",
       "    </tr>\n",
       "    <tr>\n",
       "      <th>255</th>\n",
       "      <td>0.0</td>\n",
       "      <td>0.0</td>\n",
       "      <td>0.0</td>\n",
       "      <td>0.0</td>\n",
       "      <td>0.0</td>\n",
       "      <td>0.0</td>\n",
       "      <td>0.0</td>\n",
       "      <td>0.0</td>\n",
       "      <td>0.0</td>\n",
       "      <td>0.0</td>\n",
       "      <td>...</td>\n",
       "      <td>0.0</td>\n",
       "      <td>0.0</td>\n",
       "      <td>0.0</td>\n",
       "      <td>0.0</td>\n",
       "      <td>0.0</td>\n",
       "      <td>1.0</td>\n",
       "      <td>0.0</td>\n",
       "      <td>0.0</td>\n",
       "      <td>0.0</td>\n",
       "      <td>0.0</td>\n",
       "    </tr>\n",
       "    <tr>\n",
       "      <th>487</th>\n",
       "      <td>0.0</td>\n",
       "      <td>0.0</td>\n",
       "      <td>0.0</td>\n",
       "      <td>0.0</td>\n",
       "      <td>0.0</td>\n",
       "      <td>0.0</td>\n",
       "      <td>0.0</td>\n",
       "      <td>0.0</td>\n",
       "      <td>0.0</td>\n",
       "      <td>0.0</td>\n",
       "      <td>...</td>\n",
       "      <td>0.0</td>\n",
       "      <td>0.0</td>\n",
       "      <td>0.0</td>\n",
       "      <td>0.0</td>\n",
       "      <td>0.0</td>\n",
       "      <td>0.0</td>\n",
       "      <td>0.0</td>\n",
       "      <td>0.0</td>\n",
       "      <td>0.0</td>\n",
       "      <td>0.0</td>\n",
       "    </tr>\n",
       "    <tr>\n",
       "      <th>235</th>\n",
       "      <td>0.0</td>\n",
       "      <td>0.0</td>\n",
       "      <td>0.0</td>\n",
       "      <td>0.0</td>\n",
       "      <td>0.0</td>\n",
       "      <td>0.0</td>\n",
       "      <td>0.0</td>\n",
       "      <td>0.0</td>\n",
       "      <td>0.0</td>\n",
       "      <td>0.0</td>\n",
       "      <td>...</td>\n",
       "      <td>0.0</td>\n",
       "      <td>0.0</td>\n",
       "      <td>0.0</td>\n",
       "      <td>0.0</td>\n",
       "      <td>0.0</td>\n",
       "      <td>0.0</td>\n",
       "      <td>0.0</td>\n",
       "      <td>0.0</td>\n",
       "      <td>0.0</td>\n",
       "      <td>1.0</td>\n",
       "    </tr>\n",
       "  </tbody>\n",
       "</table>\n",
       "<p>5 rows × 592 columns</p>\n",
       "</div>"
      ],
      "text/plain": [
       "     Product_ALIENWARE Core i9 10th Gen - (32 GB/1 TB SSD/Windows 10 Home/8 GB Graphics/NVIDIA GeForce RTX 2080 wit...  \\\n",
       "421                                                0.0                                                                   \n",
       "441                                                0.0                                                                   \n",
       "255                                                0.0                                                                   \n",
       "487                                                0.0                                                                   \n",
       "235                                                0.0                                                                   \n",
       "\n",
       "     Product_APPLE 2020 Macbook Air M1 - (8 GB/256 GB SSD/Mac OS Big Sur) MGN63HN/A  \\\n",
       "421                                                0.0                                \n",
       "441                                                0.0                                \n",
       "255                                                0.0                                \n",
       "487                                                0.0                                \n",
       "235                                                0.0                                \n",
       "\n",
       "     Product_APPLE 2020 Macbook Air M1 - (8 GB/256 GB SSD/Mac OS Big Sur) MGN93HN/A  \\\n",
       "421                                                0.0                                \n",
       "441                                                0.0                                \n",
       "255                                                0.0                                \n",
       "487                                                0.0                                \n",
       "235                                                0.0                                \n",
       "\n",
       "     Product_APPLE 2020 Macbook Air M1 - (8 GB/512 GB SSD/Mac OS Big Sur) MGNE3HN/A  \\\n",
       "421                                                0.0                                \n",
       "441                                                0.0                                \n",
       "255                                                0.0                                \n",
       "487                                                0.0                                \n",
       "235                                                0.0                                \n",
       "\n",
       "     Product_APPLE MacBook Air M1 - (16 GB/512 GB SSD/Mac OS Big Sur) Z124J006KD  \\\n",
       "421                                                0.0                             \n",
       "441                                                0.0                             \n",
       "255                                                0.0                             \n",
       "487                                                0.0                             \n",
       "235                                                0.0                             \n",
       "\n",
       "     Product_APPLE MacBook Pro M1 - (8 GB/1 TB SSD/Mac OS Big Sur) Z11B0008S  \\\n",
       "421                                                0.0                         \n",
       "441                                                0.0                         \n",
       "255                                                0.0                         \n",
       "487                                                0.0                         \n",
       "235                                                0.0                         \n",
       "\n",
       "     Product_ASUS (2022) Celeron Dual Core - (4 GB/128 GB SSD/Windows 11 Home) BR1100FKA-BP1104W Laptop  \\\n",
       "421                                                0.0                                                    \n",
       "441                                                0.0                                                    \n",
       "255                                                0.0                                                    \n",
       "487                                                0.0                                                    \n",
       "235                                                0.0                                                    \n",
       "\n",
       "     Product_ASUS ASUS TUF Dash Core i5 11th Gen - (16 GB/512 GB SSD/Windows 10 Home/4 GB Graphics/NVIDIA GeForce R...  \\\n",
       "421                                                0.0                                                                   \n",
       "441                                                0.0                                                                   \n",
       "255                                                0.0                                                                   \n",
       "487                                                0.0                                                                   \n",
       "235                                                0.0                                                                   \n",
       "\n",
       "     Product_ASUS Core i3 11th Gen - (4 GB/256 GB SSD/Windows 11 Home) X415EA-EK302WS Thin and Light Laptop  \\\n",
       "421                                                0.0                                                        \n",
       "441                                                0.0                                                        \n",
       "255                                                0.0                                                        \n",
       "487                                                0.0                                                        \n",
       "235                                                0.0                                                        \n",
       "\n",
       "     Product_ASUS Core i3 11th Gen - (8 GB/256 GB SSD/Windows 10 Home) X515EA-BR312TS Thin and Light Laptop  \\\n",
       "421                                                0.0                                                        \n",
       "441                                                0.0                                                        \n",
       "255                                                0.0                                                        \n",
       "487                                                0.0                                                        \n",
       "235                                                0.0                                                        \n",
       "\n",
       "     ...  ProcessorName_AMD Ryzen 7 Octa Core Processor  \\\n",
       "421  ...                                            1.0   \n",
       "441  ...                                            0.0   \n",
       "255  ...                                            0.0   \n",
       "487  ...                                            0.0   \n",
       "235  ...                                            0.0   \n",
       "\n",
       "     ProcessorName_AMD Ryzen 9 Octa Core Processor  \\\n",
       "421                                            0.0   \n",
       "441                                            1.0   \n",
       "255                                            0.0   \n",
       "487                                            0.0   \n",
       "235                                            0.0   \n",
       "\n",
       "     ProcessorName_Intel Celeron Dual Core Processor  \\\n",
       "421                                              0.0   \n",
       "441                                              0.0   \n",
       "255                                              0.0   \n",
       "487                                              0.0   \n",
       "235                                              0.0   \n",
       "\n",
       "     ProcessorName_Intel Celeron Quad Core Processor  \\\n",
       "421                                              0.0   \n",
       "441                                              0.0   \n",
       "255                                              0.0   \n",
       "487                                              0.0   \n",
       "235                                              0.0   \n",
       "\n",
       "     ProcessorName_Intel Core i3 Processor  \\\n",
       "421                                    0.0   \n",
       "441                                    0.0   \n",
       "255                                    0.0   \n",
       "487                                    0.0   \n",
       "235                                    0.0   \n",
       "\n",
       "     ProcessorName_Intel Core i5 Processor  \\\n",
       "421                                    0.0   \n",
       "441                                    0.0   \n",
       "255                                    1.0   \n",
       "487                                    0.0   \n",
       "235                                    0.0   \n",
       "\n",
       "     ProcessorName_Intel Core i7 Processor  \\\n",
       "421                                    0.0   \n",
       "441                                    0.0   \n",
       "255                                    0.0   \n",
       "487                                    0.0   \n",
       "235                                    0.0   \n",
       "\n",
       "     ProcessorName_Intel Core i9 Processor  \\\n",
       "421                                    0.0   \n",
       "441                                    0.0   \n",
       "255                                    0.0   \n",
       "487                                    0.0   \n",
       "235                                    0.0   \n",
       "\n",
       "     ProcessorName_Intel Pentium Quad Core Processor  \\\n",
       "421                                              0.0   \n",
       "441                                              0.0   \n",
       "255                                              0.0   \n",
       "487                                              0.0   \n",
       "235                                              0.0   \n",
       "\n",
       "     ProcessorName_Intel Pentium Silver Processor  \n",
       "421                                           0.0  \n",
       "441                                           0.0  \n",
       "255                                           0.0  \n",
       "487                                           0.0  \n",
       "235                                           1.0  \n",
       "\n",
       "[5 rows x 592 columns]"
      ]
     },
     "execution_count": 131,
     "metadata": {},
     "output_type": "execute_result"
    }
   ],
   "source": [
    "# OneHotEncoding the categorical features\n",
    "\n",
    "from sklearn.preprocessing import OneHotEncoder\n",
    "\n",
    "encoder = OneHotEncoder(drop='first', sparse=False)\n",
    "\n",
    "# column names are (annoyingly) lost after OneHotEncoding\n",
    "# (i.e. the dataframe is converted to a numpy ndarray)\n",
    "\n",
    "X_train_cat_ohe = pd.DataFrame(encoder.fit_transform(X_train_cat), \n",
    "                               columns=encoder.get_feature_names_out(X_train_cat.columns), \n",
    "                               index = X_train_cat.index)\n",
    "\n",
    "X_train_cat_ohe.head()\n"
   ]
  },
  {
   "cell_type": "markdown",
   "id": "806ece7a",
   "metadata": {},
   "source": [
    "#### e.Applying Label Encoding on Categorical Columns"
   ]
  },
  {
   "cell_type": "code",
   "execution_count": 132,
   "id": "4beb7d01",
   "metadata": {},
   "outputs": [
    {
     "data": {
      "text/html": [
       "<div>\n",
       "<style scoped>\n",
       "    .dataframe tbody tr th:only-of-type {\n",
       "        vertical-align: middle;\n",
       "    }\n",
       "\n",
       "    .dataframe tbody tr th {\n",
       "        vertical-align: top;\n",
       "    }\n",
       "\n",
       "    .dataframe thead th {\n",
       "        text-align: right;\n",
       "    }\n",
       "</style>\n",
       "<table border=\"1\" class=\"dataframe\">\n",
       "  <thead>\n",
       "    <tr style=\"text-align: right;\">\n",
       "      <th></th>\n",
       "    </tr>\n",
       "  </thead>\n",
       "  <tbody>\n",
       "    <tr>\n",
       "      <th>421</th>\n",
       "    </tr>\n",
       "    <tr>\n",
       "      <th>441</th>\n",
       "    </tr>\n",
       "    <tr>\n",
       "      <th>255</th>\n",
       "    </tr>\n",
       "    <tr>\n",
       "      <th>487</th>\n",
       "    </tr>\n",
       "    <tr>\n",
       "      <th>235</th>\n",
       "    </tr>\n",
       "  </tbody>\n",
       "</table>\n",
       "</div>"
      ],
      "text/plain": [
       "Empty DataFrame\n",
       "Columns: []\n",
       "Index: [421, 441, 255, 487, 235]"
      ]
     },
     "execution_count": 132,
     "metadata": {},
     "output_type": "execute_result"
    }
   ],
   "source": [
    "X_train_cat_le = pd.DataFrame(index=X_train_cat.index)\n",
    "\n",
    "X_train_cat_le.head()\n"
   ]
  },
  {
   "cell_type": "code",
   "execution_count": 133,
   "id": "5f87e921",
   "metadata": {},
   "outputs": [
    {
     "data": {
      "text/plain": [
       "array(['DDR4', 'DDR5', 'DDR4DDR4', 'DDR4DDR5DDR4', 'DDR4DDR6DDR4'],\n",
       "      dtype=object)"
      ]
     },
     "execution_count": 133,
     "metadata": {},
     "output_type": "execute_result"
    }
   ],
   "source": [
    "X_train_cat.RAMType.unique()"
   ]
  },
  {
   "cell_type": "code",
   "execution_count": 134,
   "id": "7180c1d4",
   "metadata": {},
   "outputs": [
    {
     "data": {
      "text/html": [
       "<div>\n",
       "<style scoped>\n",
       "    .dataframe tbody tr th:only-of-type {\n",
       "        vertical-align: middle;\n",
       "    }\n",
       "\n",
       "    .dataframe tbody tr th {\n",
       "        vertical-align: top;\n",
       "    }\n",
       "\n",
       "    .dataframe thead th {\n",
       "        text-align: right;\n",
       "    }\n",
       "</style>\n",
       "<table border=\"1\" class=\"dataframe\">\n",
       "  <thead>\n",
       "    <tr style=\"text-align: right;\">\n",
       "      <th></th>\n",
       "      <th>RAMType</th>\n",
       "    </tr>\n",
       "  </thead>\n",
       "  <tbody>\n",
       "    <tr>\n",
       "      <th>421</th>\n",
       "      <td>2</td>\n",
       "    </tr>\n",
       "    <tr>\n",
       "      <th>441</th>\n",
       "      <td>3</td>\n",
       "    </tr>\n",
       "    <tr>\n",
       "      <th>255</th>\n",
       "      <td>2</td>\n",
       "    </tr>\n",
       "    <tr>\n",
       "      <th>487</th>\n",
       "      <td>2</td>\n",
       "    </tr>\n",
       "    <tr>\n",
       "      <th>235</th>\n",
       "      <td>2</td>\n",
       "    </tr>\n",
       "  </tbody>\n",
       "</table>\n",
       "</div>"
      ],
      "text/plain": [
       "     RAMType\n",
       "421        2\n",
       "441        3\n",
       "255        2\n",
       "487        2\n",
       "235        2"
      ]
     },
     "execution_count": 134,
     "metadata": {},
     "output_type": "execute_result"
    }
   ],
   "source": [
    "RAMType_encoder = {'DDR3' : 1,'DDR4' : 2,'DDR5' : 3,'DDR4DDR4' : 4, 'DDR4DDR5DDR4' : 5, 'DDR4DDR6DDR4' : 6}\n",
    "X_train_cat_le['RAMType'] = X_train_cat['RAMType'].apply(lambda x : RAMType_encoder[x])\n",
    "\n",
    "X_train_cat_le.head()"
   ]
  },
  {
   "cell_type": "code",
   "execution_count": 135,
   "id": "0618b041",
   "metadata": {},
   "outputs": [
    {
     "data": {
      "text/plain": [
       "array(['Windows', 'Others', 'Mac'], dtype=object)"
      ]
     },
     "execution_count": 135,
     "metadata": {},
     "output_type": "execute_result"
    }
   ],
   "source": [
    "X_train_cat.OS.unique()"
   ]
  },
  {
   "cell_type": "code",
   "execution_count": 136,
   "id": "17595e31",
   "metadata": {},
   "outputs": [
    {
     "data": {
      "text/html": [
       "<div>\n",
       "<style scoped>\n",
       "    .dataframe tbody tr th:only-of-type {\n",
       "        vertical-align: middle;\n",
       "    }\n",
       "\n",
       "    .dataframe tbody tr th {\n",
       "        vertical-align: top;\n",
       "    }\n",
       "\n",
       "    .dataframe thead th {\n",
       "        text-align: right;\n",
       "    }\n",
       "</style>\n",
       "<table border=\"1\" class=\"dataframe\">\n",
       "  <thead>\n",
       "    <tr style=\"text-align: right;\">\n",
       "      <th></th>\n",
       "      <th>RAMType</th>\n",
       "      <th>OS</th>\n",
       "    </tr>\n",
       "  </thead>\n",
       "  <tbody>\n",
       "    <tr>\n",
       "      <th>421</th>\n",
       "      <td>2</td>\n",
       "      <td>1</td>\n",
       "    </tr>\n",
       "    <tr>\n",
       "      <th>441</th>\n",
       "      <td>3</td>\n",
       "      <td>1</td>\n",
       "    </tr>\n",
       "    <tr>\n",
       "      <th>255</th>\n",
       "      <td>2</td>\n",
       "      <td>1</td>\n",
       "    </tr>\n",
       "    <tr>\n",
       "      <th>487</th>\n",
       "      <td>2</td>\n",
       "      <td>1</td>\n",
       "    </tr>\n",
       "    <tr>\n",
       "      <th>235</th>\n",
       "      <td>2</td>\n",
       "      <td>1</td>\n",
       "    </tr>\n",
       "  </tbody>\n",
       "</table>\n",
       "</div>"
      ],
      "text/plain": [
       "     RAMType  OS\n",
       "421        2   1\n",
       "441        3   1\n",
       "255        2   1\n",
       "487        2   1\n",
       "235        2   1"
      ]
     },
     "execution_count": 136,
     "metadata": {},
     "output_type": "execute_result"
    }
   ],
   "source": [
    "OS_encoder = {'Windows' : 1,'Mac' : 2,'Others' : 3}\n",
    "X_train_cat_le['OS'] = X_train_cat['OS'].apply(lambda x : OS_encoder[x])\n",
    "\n",
    "X_train_cat_le.head()"
   ]
  },
  {
   "cell_type": "code",
   "execution_count": 137,
   "id": "0e0101ae",
   "metadata": {},
   "outputs": [
    {
     "data": {
      "text/plain": [
       "array(['1 TB SSD', '512 GB SSD', '256 GB SSD', '1 TB HDD', '128 GB SSD',\n",
       "       '1 TB HDD256 GB SSD', '2 TB SSD', '1 TB HDD512 GB SSD'],\n",
       "      dtype=object)"
      ]
     },
     "execution_count": 137,
     "metadata": {},
     "output_type": "execute_result"
    }
   ],
   "source": [
    "X_train_cat.Storage.unique()"
   ]
  },
  {
   "cell_type": "code",
   "execution_count": 138,
   "id": "9cd2b66e",
   "metadata": {},
   "outputs": [
    {
     "data": {
      "text/html": [
       "<div>\n",
       "<style scoped>\n",
       "    .dataframe tbody tr th:only-of-type {\n",
       "        vertical-align: middle;\n",
       "    }\n",
       "\n",
       "    .dataframe tbody tr th {\n",
       "        vertical-align: top;\n",
       "    }\n",
       "\n",
       "    .dataframe thead th {\n",
       "        text-align: right;\n",
       "    }\n",
       "</style>\n",
       "<table border=\"1\" class=\"dataframe\">\n",
       "  <thead>\n",
       "    <tr style=\"text-align: right;\">\n",
       "      <th></th>\n",
       "      <th>RAMType</th>\n",
       "      <th>OS</th>\n",
       "      <th>Storage</th>\n",
       "    </tr>\n",
       "  </thead>\n",
       "  <tbody>\n",
       "    <tr>\n",
       "      <th>421</th>\n",
       "      <td>2</td>\n",
       "      <td>1</td>\n",
       "      <td>4</td>\n",
       "    </tr>\n",
       "    <tr>\n",
       "      <th>441</th>\n",
       "      <td>3</td>\n",
       "      <td>1</td>\n",
       "      <td>4</td>\n",
       "    </tr>\n",
       "    <tr>\n",
       "      <th>255</th>\n",
       "      <td>2</td>\n",
       "      <td>1</td>\n",
       "      <td>3</td>\n",
       "    </tr>\n",
       "    <tr>\n",
       "      <th>487</th>\n",
       "      <td>2</td>\n",
       "      <td>1</td>\n",
       "      <td>3</td>\n",
       "    </tr>\n",
       "    <tr>\n",
       "      <th>235</th>\n",
       "      <td>2</td>\n",
       "      <td>1</td>\n",
       "      <td>2</td>\n",
       "    </tr>\n",
       "  </tbody>\n",
       "</table>\n",
       "</div>"
      ],
      "text/plain": [
       "     RAMType  OS  Storage\n",
       "421        2   1        4\n",
       "441        3   1        4\n",
       "255        2   1        3\n",
       "487        2   1        3\n",
       "235        2   1        2"
      ]
     },
     "execution_count": 138,
     "metadata": {},
     "output_type": "execute_result"
    }
   ],
   "source": [
    "Storage_encoder = {'128 GB SSD' : 1,'256 GB SSD' : 2,'512 GB SSD' : 3,'1 TB SSD' : 4,'1 TB HDD' : 5,'2 TB SSD' : 6,'1 TB HDD256 GB SSD' : 7,'1 TB HDD512 GB SSD' : 8,'256 GB HDD256 GB SSD' : 9,'128 GB SSD1 TB HDD128 GB SSD' : 10}\n",
    "X_train_cat_le['Storage'] = X_train_cat['Storage'].apply(lambda x : Storage_encoder[x])\n",
    "\n",
    "X_train_cat_le.head()"
   ]
  },
  {
   "cell_type": "markdown",
   "id": "b2468ea1",
   "metadata": {},
   "source": [
    "##### f. Concatinating the Encoded Categorical Features and Rescaled Numerical Features:"
   ]
  },
  {
   "cell_type": "code",
   "execution_count": 139,
   "id": "ac821cfe",
   "metadata": {},
   "outputs": [
    {
     "data": {
      "text/html": [
       "<div>\n",
       "<style scoped>\n",
       "    .dataframe tbody tr th:only-of-type {\n",
       "        vertical-align: middle;\n",
       "    }\n",
       "\n",
       "    .dataframe tbody tr th {\n",
       "        vertical-align: top;\n",
       "    }\n",
       "\n",
       "    .dataframe thead th {\n",
       "        text-align: right;\n",
       "    }\n",
       "</style>\n",
       "<table border=\"1\" class=\"dataframe\">\n",
       "  <thead>\n",
       "    <tr style=\"text-align: right;\">\n",
       "      <th></th>\n",
       "      <th>ScreenSize</th>\n",
       "      <th>RAMType</th>\n",
       "      <th>OS</th>\n",
       "      <th>Storage</th>\n",
       "    </tr>\n",
       "  </thead>\n",
       "  <tbody>\n",
       "    <tr>\n",
       "      <th>421</th>\n",
       "      <td>0.465787</td>\n",
       "      <td>2</td>\n",
       "      <td>1</td>\n",
       "      <td>4</td>\n",
       "    </tr>\n",
       "    <tr>\n",
       "      <th>441</th>\n",
       "      <td>0.465787</td>\n",
       "      <td>3</td>\n",
       "      <td>1</td>\n",
       "      <td>4</td>\n",
       "    </tr>\n",
       "    <tr>\n",
       "      <th>255</th>\n",
       "      <td>0.465787</td>\n",
       "      <td>2</td>\n",
       "      <td>1</td>\n",
       "      <td>3</td>\n",
       "    </tr>\n",
       "    <tr>\n",
       "      <th>487</th>\n",
       "      <td>0.465787</td>\n",
       "      <td>2</td>\n",
       "      <td>1</td>\n",
       "      <td>3</td>\n",
       "    </tr>\n",
       "    <tr>\n",
       "      <th>235</th>\n",
       "      <td>0.465787</td>\n",
       "      <td>2</td>\n",
       "      <td>1</td>\n",
       "      <td>2</td>\n",
       "    </tr>\n",
       "  </tbody>\n",
       "</table>\n",
       "</div>"
      ],
      "text/plain": [
       "     ScreenSize  RAMType  OS  Storage\n",
       "421    0.465787        2   1        4\n",
       "441    0.465787        3   1        4\n",
       "255    0.465787        2   1        3\n",
       "487    0.465787        2   1        3\n",
       "235    0.465787        2   1        2"
      ]
     },
     "execution_count": 139,
     "metadata": {},
     "output_type": "execute_result"
    }
   ],
   "source": [
    "X_train_transformed = pd.concat([X_train_num_rescaled, X_train_cat_le], axis=1)\n",
    "\n",
    "X_train_transformed.head()"
   ]
  },
  {
   "cell_type": "markdown",
   "id": "4f26982d",
   "metadata": {},
   "source": [
    "##### g. Preparing Test Data"
   ]
  },
  {
   "cell_type": "code",
   "execution_count": 140,
   "id": "837ed529",
   "metadata": {},
   "outputs": [
    {
     "data": {
      "text/html": [
       "<div>\n",
       "<style scoped>\n",
       "    .dataframe tbody tr th:only-of-type {\n",
       "        vertical-align: middle;\n",
       "    }\n",
       "\n",
       "    .dataframe tbody tr th {\n",
       "        vertical-align: top;\n",
       "    }\n",
       "\n",
       "    .dataframe thead th {\n",
       "        text-align: right;\n",
       "    }\n",
       "</style>\n",
       "<table border=\"1\" class=\"dataframe\">\n",
       "  <thead>\n",
       "    <tr style=\"text-align: right;\">\n",
       "      <th></th>\n",
       "      <th>Product</th>\n",
       "      <th>Feature</th>\n",
       "      <th>RAM</th>\n",
       "      <th>RAMType</th>\n",
       "      <th>OS</th>\n",
       "      <th>Storage</th>\n",
       "      <th>ScreenSize</th>\n",
       "      <th>ProcessorName</th>\n",
       "    </tr>\n",
       "  </thead>\n",
       "  <tbody>\n",
       "    <tr>\n",
       "      <th>400</th>\n",
       "      <td>HP 14s Ryzen 5 Hexa Core 5500U - (8 GB/512 GB ...</td>\n",
       "      <td>AMD Ryzen 5 Hexa Core Processor8 GB DDR4 RAM64...</td>\n",
       "      <td>8</td>\n",
       "      <td>DDR4</td>\n",
       "      <td>Windows</td>\n",
       "      <td>512 GB SSD</td>\n",
       "      <td>15.6</td>\n",
       "      <td>AMD Ryzen 5 Hexa Core Processor</td>\n",
       "    </tr>\n",
       "    <tr>\n",
       "      <th>334</th>\n",
       "      <td>MSI GF63 Thin Core i5 9th Gen - (8 GB/512 GB S...</td>\n",
       "      <td>Intel Core i5 Processor (9th Gen)8 GB DDR4 RAM...</td>\n",
       "      <td>8</td>\n",
       "      <td>DDR4</td>\n",
       "      <td>Windows</td>\n",
       "      <td>512 GB SSD</td>\n",
       "      <td>15.6</td>\n",
       "      <td>Intel Core i5 Processor</td>\n",
       "    </tr>\n",
       "    <tr>\n",
       "      <th>238</th>\n",
       "      <td>DELL Inspiron Ryzen 3 Dual Core 3250U - (8 GB/...</td>\n",
       "      <td>AMD Ryzen 3 Dual Core Processor8 GB DDR4 RAM64...</td>\n",
       "      <td>8</td>\n",
       "      <td>DDR4</td>\n",
       "      <td>Windows</td>\n",
       "      <td>512 GB SSD</td>\n",
       "      <td>15.6</td>\n",
       "      <td>AMD Ryzen 3 Dual Core Processor</td>\n",
       "    </tr>\n",
       "    <tr>\n",
       "      <th>437</th>\n",
       "      <td>Lenovo IdeaPad 3 Core i3 11th Gen - (8 GB/512 ...</td>\n",
       "      <td>Intel Core i3 Processor (11th Gen)8 GB DDR4 RA...</td>\n",
       "      <td>8</td>\n",
       "      <td>DDR4</td>\n",
       "      <td>Windows</td>\n",
       "      <td>512 GB SSD</td>\n",
       "      <td>15.6</td>\n",
       "      <td>Intel Core i3 Processor</td>\n",
       "    </tr>\n",
       "    <tr>\n",
       "      <th>411</th>\n",
       "      <td>Lenovo IdeaPad 3 Core i3 11th Gen - (8 GB/512 ...</td>\n",
       "      <td>Intel Core i3 Processor (11th Gen)8 GB DDR4 RA...</td>\n",
       "      <td>8</td>\n",
       "      <td>DDR4</td>\n",
       "      <td>Windows</td>\n",
       "      <td>512 GB SSD</td>\n",
       "      <td>15.6</td>\n",
       "      <td>Intel Core i3 Processor</td>\n",
       "    </tr>\n",
       "  </tbody>\n",
       "</table>\n",
       "</div>"
      ],
      "text/plain": [
       "                                               Product  \\\n",
       "400  HP 14s Ryzen 5 Hexa Core 5500U - (8 GB/512 GB ...   \n",
       "334  MSI GF63 Thin Core i5 9th Gen - (8 GB/512 GB S...   \n",
       "238  DELL Inspiron Ryzen 3 Dual Core 3250U - (8 GB/...   \n",
       "437  Lenovo IdeaPad 3 Core i3 11th Gen - (8 GB/512 ...   \n",
       "411  Lenovo IdeaPad 3 Core i3 11th Gen - (8 GB/512 ...   \n",
       "\n",
       "                                               Feature  RAM RAMType       OS  \\\n",
       "400  AMD Ryzen 5 Hexa Core Processor8 GB DDR4 RAM64...    8    DDR4  Windows   \n",
       "334  Intel Core i5 Processor (9th Gen)8 GB DDR4 RAM...    8    DDR4  Windows   \n",
       "238  AMD Ryzen 3 Dual Core Processor8 GB DDR4 RAM64...    8    DDR4  Windows   \n",
       "437  Intel Core i3 Processor (11th Gen)8 GB DDR4 RA...    8    DDR4  Windows   \n",
       "411  Intel Core i3 Processor (11th Gen)8 GB DDR4 RA...    8    DDR4  Windows   \n",
       "\n",
       "        Storage  ScreenSize                    ProcessorName  \n",
       "400  512 GB SSD        15.6  AMD Ryzen 5 Hexa Core Processor  \n",
       "334  512 GB SSD        15.6          Intel Core i5 Processor  \n",
       "238  512 GB SSD        15.6  AMD Ryzen 3 Dual Core Processor  \n",
       "437  512 GB SSD        15.6          Intel Core i3 Processor  \n",
       "411  512 GB SSD        15.6          Intel Core i3 Processor  "
      ]
     },
     "execution_count": 140,
     "metadata": {},
     "output_type": "execute_result"
    }
   ],
   "source": [
    "X_test.head()"
   ]
  },
  {
   "cell_type": "code",
   "execution_count": 141,
   "id": "3afaa75e",
   "metadata": {},
   "outputs": [
    {
     "name": "stdout",
     "output_type": "stream",
     "text": [
      "<class 'pandas.core.frame.DataFrame'>\n",
      "Int64Index: 210 entries, 400 to 673\n",
      "Data columns (total 8 columns):\n",
      " #   Column         Non-Null Count  Dtype  \n",
      "---  ------         --------------  -----  \n",
      " 0   Product        210 non-null    object \n",
      " 1   Feature        210 non-null    object \n",
      " 2   RAM            210 non-null    int32  \n",
      " 3   RAMType        210 non-null    object \n",
      " 4   OS             210 non-null    object \n",
      " 5   Storage        210 non-null    object \n",
      " 6   ScreenSize     210 non-null    float64\n",
      " 7   ProcessorName  210 non-null    object \n",
      "dtypes: float64(1), int32(1), object(6)\n",
      "memory usage: 13.9+ KB\n"
     ]
    }
   ],
   "source": [
    "X_test.info()"
   ]
  },
  {
   "cell_type": "code",
   "execution_count": 142,
   "id": "be2b1c96",
   "metadata": {},
   "outputs": [
    {
     "data": {
      "text/html": [
       "<div>\n",
       "<style scoped>\n",
       "    .dataframe tbody tr th:only-of-type {\n",
       "        vertical-align: middle;\n",
       "    }\n",
       "\n",
       "    .dataframe tbody tr th {\n",
       "        vertical-align: top;\n",
       "    }\n",
       "\n",
       "    .dataframe thead th {\n",
       "        text-align: right;\n",
       "    }\n",
       "</style>\n",
       "<table border=\"1\" class=\"dataframe\">\n",
       "  <thead>\n",
       "    <tr style=\"text-align: right;\">\n",
       "      <th></th>\n",
       "      <th>Product</th>\n",
       "      <th>Feature</th>\n",
       "      <th>RAMType</th>\n",
       "      <th>OS</th>\n",
       "      <th>Storage</th>\n",
       "      <th>ProcessorName</th>\n",
       "    </tr>\n",
       "  </thead>\n",
       "  <tbody>\n",
       "    <tr>\n",
       "      <th>400</th>\n",
       "      <td>HP 14s Ryzen 5 Hexa Core 5500U - (8 GB/512 GB ...</td>\n",
       "      <td>AMD Ryzen 5 Hexa Core Processor8 GB DDR4 RAM64...</td>\n",
       "      <td>DDR4</td>\n",
       "      <td>Windows</td>\n",
       "      <td>512 GB SSD</td>\n",
       "      <td>AMD Ryzen 5 Hexa Core Processor</td>\n",
       "    </tr>\n",
       "    <tr>\n",
       "      <th>334</th>\n",
       "      <td>MSI GF63 Thin Core i5 9th Gen - (8 GB/512 GB S...</td>\n",
       "      <td>Intel Core i5 Processor (9th Gen)8 GB DDR4 RAM...</td>\n",
       "      <td>DDR4</td>\n",
       "      <td>Windows</td>\n",
       "      <td>512 GB SSD</td>\n",
       "      <td>Intel Core i5 Processor</td>\n",
       "    </tr>\n",
       "    <tr>\n",
       "      <th>238</th>\n",
       "      <td>DELL Inspiron Ryzen 3 Dual Core 3250U - (8 GB/...</td>\n",
       "      <td>AMD Ryzen 3 Dual Core Processor8 GB DDR4 RAM64...</td>\n",
       "      <td>DDR4</td>\n",
       "      <td>Windows</td>\n",
       "      <td>512 GB SSD</td>\n",
       "      <td>AMD Ryzen 3 Dual Core Processor</td>\n",
       "    </tr>\n",
       "    <tr>\n",
       "      <th>437</th>\n",
       "      <td>Lenovo IdeaPad 3 Core i3 11th Gen - (8 GB/512 ...</td>\n",
       "      <td>Intel Core i3 Processor (11th Gen)8 GB DDR4 RA...</td>\n",
       "      <td>DDR4</td>\n",
       "      <td>Windows</td>\n",
       "      <td>512 GB SSD</td>\n",
       "      <td>Intel Core i3 Processor</td>\n",
       "    </tr>\n",
       "    <tr>\n",
       "      <th>411</th>\n",
       "      <td>Lenovo IdeaPad 3 Core i3 11th Gen - (8 GB/512 ...</td>\n",
       "      <td>Intel Core i3 Processor (11th Gen)8 GB DDR4 RA...</td>\n",
       "      <td>DDR4</td>\n",
       "      <td>Windows</td>\n",
       "      <td>512 GB SSD</td>\n",
       "      <td>Intel Core i3 Processor</td>\n",
       "    </tr>\n",
       "  </tbody>\n",
       "</table>\n",
       "</div>"
      ],
      "text/plain": [
       "                                               Product  \\\n",
       "400  HP 14s Ryzen 5 Hexa Core 5500U - (8 GB/512 GB ...   \n",
       "334  MSI GF63 Thin Core i5 9th Gen - (8 GB/512 GB S...   \n",
       "238  DELL Inspiron Ryzen 3 Dual Core 3250U - (8 GB/...   \n",
       "437  Lenovo IdeaPad 3 Core i3 11th Gen - (8 GB/512 ...   \n",
       "411  Lenovo IdeaPad 3 Core i3 11th Gen - (8 GB/512 ...   \n",
       "\n",
       "                                               Feature RAMType       OS  \\\n",
       "400  AMD Ryzen 5 Hexa Core Processor8 GB DDR4 RAM64...    DDR4  Windows   \n",
       "334  Intel Core i5 Processor (9th Gen)8 GB DDR4 RAM...    DDR4  Windows   \n",
       "238  AMD Ryzen 3 Dual Core Processor8 GB DDR4 RAM64...    DDR4  Windows   \n",
       "437  Intel Core i3 Processor (11th Gen)8 GB DDR4 RA...    DDR4  Windows   \n",
       "411  Intel Core i3 Processor (11th Gen)8 GB DDR4 RA...    DDR4  Windows   \n",
       "\n",
       "        Storage                    ProcessorName  \n",
       "400  512 GB SSD  AMD Ryzen 5 Hexa Core Processor  \n",
       "334  512 GB SSD          Intel Core i5 Processor  \n",
       "238  512 GB SSD  AMD Ryzen 3 Dual Core Processor  \n",
       "437  512 GB SSD          Intel Core i3 Processor  \n",
       "411  512 GB SSD          Intel Core i3 Processor  "
      ]
     },
     "execution_count": 142,
     "metadata": {},
     "output_type": "execute_result"
    }
   ],
   "source": [
    "X_test_cat = X_test.select_dtypes(include=['object'])\n",
    "\n",
    "X_test_cat.head()"
   ]
  },
  {
   "cell_type": "code",
   "execution_count": 143,
   "id": "56749430",
   "metadata": {},
   "outputs": [
    {
     "data": {
      "text/html": [
       "<div>\n",
       "<style scoped>\n",
       "    .dataframe tbody tr th:only-of-type {\n",
       "        vertical-align: middle;\n",
       "    }\n",
       "\n",
       "    .dataframe tbody tr th {\n",
       "        vertical-align: top;\n",
       "    }\n",
       "\n",
       "    .dataframe thead th {\n",
       "        text-align: right;\n",
       "    }\n",
       "</style>\n",
       "<table border=\"1\" class=\"dataframe\">\n",
       "  <thead>\n",
       "    <tr style=\"text-align: right;\">\n",
       "      <th></th>\n",
       "      <th>ScreenSize</th>\n",
       "    </tr>\n",
       "  </thead>\n",
       "  <tbody>\n",
       "    <tr>\n",
       "      <th>400</th>\n",
       "      <td>15.6</td>\n",
       "    </tr>\n",
       "    <tr>\n",
       "      <th>334</th>\n",
       "      <td>15.6</td>\n",
       "    </tr>\n",
       "    <tr>\n",
       "      <th>238</th>\n",
       "      <td>15.6</td>\n",
       "    </tr>\n",
       "    <tr>\n",
       "      <th>437</th>\n",
       "      <td>15.6</td>\n",
       "    </tr>\n",
       "    <tr>\n",
       "      <th>411</th>\n",
       "      <td>15.6</td>\n",
       "    </tr>\n",
       "  </tbody>\n",
       "</table>\n",
       "</div>"
      ],
      "text/plain": [
       "     ScreenSize\n",
       "400        15.6\n",
       "334        15.6\n",
       "238        15.6\n",
       "437        15.6\n",
       "411        15.6"
      ]
     },
     "execution_count": 143,
     "metadata": {},
     "output_type": "execute_result"
    }
   ],
   "source": [
    "X_test_num = X_test.select_dtypes(include=['int64', 'float64'])\n",
    "\n",
    "X_test_num.head()"
   ]
  },
  {
   "cell_type": "code",
   "execution_count": 144,
   "id": "3362eea9",
   "metadata": {},
   "outputs": [
    {
     "data": {
      "text/html": [
       "<div>\n",
       "<style scoped>\n",
       "    .dataframe tbody tr th:only-of-type {\n",
       "        vertical-align: middle;\n",
       "    }\n",
       "\n",
       "    .dataframe tbody tr th {\n",
       "        vertical-align: top;\n",
       "    }\n",
       "\n",
       "    .dataframe thead th {\n",
       "        text-align: right;\n",
       "    }\n",
       "</style>\n",
       "<table border=\"1\" class=\"dataframe\">\n",
       "  <thead>\n",
       "    <tr style=\"text-align: right;\">\n",
       "      <th></th>\n",
       "      <th>ScreenSize</th>\n",
       "    </tr>\n",
       "  </thead>\n",
       "  <tbody>\n",
       "    <tr>\n",
       "      <th>400</th>\n",
       "      <td>0.465787</td>\n",
       "    </tr>\n",
       "    <tr>\n",
       "      <th>334</th>\n",
       "      <td>0.465787</td>\n",
       "    </tr>\n",
       "    <tr>\n",
       "      <th>238</th>\n",
       "      <td>0.465787</td>\n",
       "    </tr>\n",
       "    <tr>\n",
       "      <th>437</th>\n",
       "      <td>0.465787</td>\n",
       "    </tr>\n",
       "    <tr>\n",
       "      <th>411</th>\n",
       "      <td>0.465787</td>\n",
       "    </tr>\n",
       "  </tbody>\n",
       "</table>\n",
       "</div>"
      ],
      "text/plain": [
       "     ScreenSize\n",
       "400    0.465787\n",
       "334    0.465787\n",
       "238    0.465787\n",
       "437    0.465787\n",
       "411    0.465787"
      ]
     },
     "execution_count": 144,
     "metadata": {},
     "output_type": "execute_result"
    }
   ],
   "source": [
    "X_test_num_rescaled = pd.DataFrame(scaler.transform(X_test_num), \n",
    "                                   columns = X_test_num.columns, \n",
    "                                   index = X_test_num.index)\n",
    "\n",
    "X_test_num_rescaled.head()"
   ]
  },
  {
   "cell_type": "code",
   "execution_count": 145,
   "id": "967bab45",
   "metadata": {},
   "outputs": [
    {
     "data": {
      "text/html": [
       "<div>\n",
       "<style scoped>\n",
       "    .dataframe tbody tr th:only-of-type {\n",
       "        vertical-align: middle;\n",
       "    }\n",
       "\n",
       "    .dataframe tbody tr th {\n",
       "        vertical-align: top;\n",
       "    }\n",
       "\n",
       "    .dataframe thead th {\n",
       "        text-align: right;\n",
       "    }\n",
       "</style>\n",
       "<table border=\"1\" class=\"dataframe\">\n",
       "  <thead>\n",
       "    <tr style=\"text-align: right;\">\n",
       "      <th></th>\n",
       "    </tr>\n",
       "  </thead>\n",
       "  <tbody>\n",
       "    <tr>\n",
       "      <th>400</th>\n",
       "    </tr>\n",
       "    <tr>\n",
       "      <th>334</th>\n",
       "    </tr>\n",
       "    <tr>\n",
       "      <th>238</th>\n",
       "    </tr>\n",
       "    <tr>\n",
       "      <th>437</th>\n",
       "    </tr>\n",
       "    <tr>\n",
       "      <th>411</th>\n",
       "    </tr>\n",
       "  </tbody>\n",
       "</table>\n",
       "</div>"
      ],
      "text/plain": [
       "Empty DataFrame\n",
       "Columns: []\n",
       "Index: [400, 334, 238, 437, 411]"
      ]
     },
     "execution_count": 145,
     "metadata": {},
     "output_type": "execute_result"
    }
   ],
   "source": [
    "X_test_cat_le = pd.DataFrame(index = X_test_cat.index)\n",
    "\n",
    "X_test_cat_le.head()"
   ]
  },
  {
   "cell_type": "code",
   "execution_count": 146,
   "id": "9ba166d6",
   "metadata": {},
   "outputs": [
    {
     "data": {
      "text/html": [
       "<div>\n",
       "<style scoped>\n",
       "    .dataframe tbody tr th:only-of-type {\n",
       "        vertical-align: middle;\n",
       "    }\n",
       "\n",
       "    .dataframe tbody tr th {\n",
       "        vertical-align: top;\n",
       "    }\n",
       "\n",
       "    .dataframe thead th {\n",
       "        text-align: right;\n",
       "    }\n",
       "</style>\n",
       "<table border=\"1\" class=\"dataframe\">\n",
       "  <thead>\n",
       "    <tr style=\"text-align: right;\">\n",
       "      <th></th>\n",
       "      <th>RAMType</th>\n",
       "      <th>OS</th>\n",
       "      <th>Storage</th>\n",
       "    </tr>\n",
       "  </thead>\n",
       "  <tbody>\n",
       "    <tr>\n",
       "      <th>400</th>\n",
       "      <td>2</td>\n",
       "      <td>1</td>\n",
       "      <td>3</td>\n",
       "    </tr>\n",
       "    <tr>\n",
       "      <th>334</th>\n",
       "      <td>2</td>\n",
       "      <td>1</td>\n",
       "      <td>3</td>\n",
       "    </tr>\n",
       "    <tr>\n",
       "      <th>238</th>\n",
       "      <td>2</td>\n",
       "      <td>1</td>\n",
       "      <td>3</td>\n",
       "    </tr>\n",
       "    <tr>\n",
       "      <th>437</th>\n",
       "      <td>2</td>\n",
       "      <td>1</td>\n",
       "      <td>3</td>\n",
       "    </tr>\n",
       "    <tr>\n",
       "      <th>411</th>\n",
       "      <td>2</td>\n",
       "      <td>1</td>\n",
       "      <td>3</td>\n",
       "    </tr>\n",
       "  </tbody>\n",
       "</table>\n",
       "</div>"
      ],
      "text/plain": [
       "     RAMType  OS  Storage\n",
       "400        2   1        3\n",
       "334        2   1        3\n",
       "238        2   1        3\n",
       "437        2   1        3\n",
       "411        2   1        3"
      ]
     },
     "execution_count": 146,
     "metadata": {},
     "output_type": "execute_result"
    }
   ],
   "source": [
    "X_test_cat_le['RAMType'] = X_test_cat['RAMType'].apply(lambda x : RAMType_encoder[x])\n",
    "\n",
    "X_test_cat_le['OS'] = X_test_cat['OS'].apply(lambda x : OS_encoder[x])\n",
    "\n",
    "X_test_cat_le['Storage'] = X_test_cat['Storage'].apply(lambda x : Storage_encoder[x])\n",
    "\n",
    "X_test_cat_le.head()"
   ]
  },
  {
   "cell_type": "code",
   "execution_count": 147,
   "id": "fb6b92d4",
   "metadata": {},
   "outputs": [
    {
     "data": {
      "text/html": [
       "<div>\n",
       "<style scoped>\n",
       "    .dataframe tbody tr th:only-of-type {\n",
       "        vertical-align: middle;\n",
       "    }\n",
       "\n",
       "    .dataframe tbody tr th {\n",
       "        vertical-align: top;\n",
       "    }\n",
       "\n",
       "    .dataframe thead th {\n",
       "        text-align: right;\n",
       "    }\n",
       "</style>\n",
       "<table border=\"1\" class=\"dataframe\">\n",
       "  <thead>\n",
       "    <tr style=\"text-align: right;\">\n",
       "      <th></th>\n",
       "      <th>ScreenSize</th>\n",
       "      <th>RAMType</th>\n",
       "      <th>OS</th>\n",
       "      <th>Storage</th>\n",
       "    </tr>\n",
       "  </thead>\n",
       "  <tbody>\n",
       "    <tr>\n",
       "      <th>400</th>\n",
       "      <td>0.465787</td>\n",
       "      <td>2</td>\n",
       "      <td>1</td>\n",
       "      <td>3</td>\n",
       "    </tr>\n",
       "    <tr>\n",
       "      <th>334</th>\n",
       "      <td>0.465787</td>\n",
       "      <td>2</td>\n",
       "      <td>1</td>\n",
       "      <td>3</td>\n",
       "    </tr>\n",
       "    <tr>\n",
       "      <th>238</th>\n",
       "      <td>0.465787</td>\n",
       "      <td>2</td>\n",
       "      <td>1</td>\n",
       "      <td>3</td>\n",
       "    </tr>\n",
       "    <tr>\n",
       "      <th>437</th>\n",
       "      <td>0.465787</td>\n",
       "      <td>2</td>\n",
       "      <td>1</td>\n",
       "      <td>3</td>\n",
       "    </tr>\n",
       "    <tr>\n",
       "      <th>411</th>\n",
       "      <td>0.465787</td>\n",
       "      <td>2</td>\n",
       "      <td>1</td>\n",
       "      <td>3</td>\n",
       "    </tr>\n",
       "  </tbody>\n",
       "</table>\n",
       "</div>"
      ],
      "text/plain": [
       "     ScreenSize  RAMType  OS  Storage\n",
       "400    0.465787        2   1        3\n",
       "334    0.465787        2   1        3\n",
       "238    0.465787        2   1        3\n",
       "437    0.465787        2   1        3\n",
       "411    0.465787        2   1        3"
      ]
     },
     "execution_count": 147,
     "metadata": {},
     "output_type": "execute_result"
    }
   ],
   "source": [
    "X_test_transformed = pd.concat([X_test_num_rescaled, X_test_cat_le], axis=1)\n",
    "\n",
    "X_test_transformed.head()"
   ]
  },
  {
   "cell_type": "markdown",
   "id": "2c57f6ab",
   "metadata": {},
   "source": [
    "#### Linear Regression"
   ]
  },
  {
   "cell_type": "code",
   "execution_count": 148,
   "id": "1630d744",
   "metadata": {},
   "outputs": [
    {
     "data": {
      "text/html": [
       "<style>#sk-container-id-1 {color: black;background-color: white;}#sk-container-id-1 pre{padding: 0;}#sk-container-id-1 div.sk-toggleable {background-color: white;}#sk-container-id-1 label.sk-toggleable__label {cursor: pointer;display: block;width: 100%;margin-bottom: 0;padding: 0.3em;box-sizing: border-box;text-align: center;}#sk-container-id-1 label.sk-toggleable__label-arrow:before {content: \"▸\";float: left;margin-right: 0.25em;color: #696969;}#sk-container-id-1 label.sk-toggleable__label-arrow:hover:before {color: black;}#sk-container-id-1 div.sk-estimator:hover label.sk-toggleable__label-arrow:before {color: black;}#sk-container-id-1 div.sk-toggleable__content {max-height: 0;max-width: 0;overflow: hidden;text-align: left;background-color: #f0f8ff;}#sk-container-id-1 div.sk-toggleable__content pre {margin: 0.2em;color: black;border-radius: 0.25em;background-color: #f0f8ff;}#sk-container-id-1 input.sk-toggleable__control:checked~div.sk-toggleable__content {max-height: 200px;max-width: 100%;overflow: auto;}#sk-container-id-1 input.sk-toggleable__control:checked~label.sk-toggleable__label-arrow:before {content: \"▾\";}#sk-container-id-1 div.sk-estimator input.sk-toggleable__control:checked~label.sk-toggleable__label {background-color: #d4ebff;}#sk-container-id-1 div.sk-label input.sk-toggleable__control:checked~label.sk-toggleable__label {background-color: #d4ebff;}#sk-container-id-1 input.sk-hidden--visually {border: 0;clip: rect(1px 1px 1px 1px);clip: rect(1px, 1px, 1px, 1px);height: 1px;margin: -1px;overflow: hidden;padding: 0;position: absolute;width: 1px;}#sk-container-id-1 div.sk-estimator {font-family: monospace;background-color: #f0f8ff;border: 1px dotted black;border-radius: 0.25em;box-sizing: border-box;margin-bottom: 0.5em;}#sk-container-id-1 div.sk-estimator:hover {background-color: #d4ebff;}#sk-container-id-1 div.sk-parallel-item::after {content: \"\";width: 100%;border-bottom: 1px solid gray;flex-grow: 1;}#sk-container-id-1 div.sk-label:hover label.sk-toggleable__label {background-color: #d4ebff;}#sk-container-id-1 div.sk-serial::before {content: \"\";position: absolute;border-left: 1px solid gray;box-sizing: border-box;top: 0;bottom: 0;left: 50%;z-index: 0;}#sk-container-id-1 div.sk-serial {display: flex;flex-direction: column;align-items: center;background-color: white;padding-right: 0.2em;padding-left: 0.2em;position: relative;}#sk-container-id-1 div.sk-item {position: relative;z-index: 1;}#sk-container-id-1 div.sk-parallel {display: flex;align-items: stretch;justify-content: center;background-color: white;position: relative;}#sk-container-id-1 div.sk-item::before, #sk-container-id-1 div.sk-parallel-item::before {content: \"\";position: absolute;border-left: 1px solid gray;box-sizing: border-box;top: 0;bottom: 0;left: 50%;z-index: -1;}#sk-container-id-1 div.sk-parallel-item {display: flex;flex-direction: column;z-index: 1;position: relative;background-color: white;}#sk-container-id-1 div.sk-parallel-item:first-child::after {align-self: flex-end;width: 50%;}#sk-container-id-1 div.sk-parallel-item:last-child::after {align-self: flex-start;width: 50%;}#sk-container-id-1 div.sk-parallel-item:only-child::after {width: 0;}#sk-container-id-1 div.sk-dashed-wrapped {border: 1px dashed gray;margin: 0 0.4em 0.5em 0.4em;box-sizing: border-box;padding-bottom: 0.4em;background-color: white;}#sk-container-id-1 div.sk-label label {font-family: monospace;font-weight: bold;display: inline-block;line-height: 1.2em;}#sk-container-id-1 div.sk-label-container {text-align: center;}#sk-container-id-1 div.sk-container {/* jupyter's `normalize.less` sets `[hidden] { display: none; }` but bootstrap.min.css set `[hidden] { display: none !important; }` so we also need the `!important` here to be able to override the default hidden behavior on the sphinx rendered scikit-learn.org. See: https://github.com/scikit-learn/scikit-learn/issues/21755 */display: inline-block !important;position: relative;}#sk-container-id-1 div.sk-text-repr-fallback {display: none;}</style><div id=\"sk-container-id-1\" class=\"sk-top-container\"><div class=\"sk-text-repr-fallback\"><pre>LinearRegression()</pre><b>In a Jupyter environment, please rerun this cell to show the HTML representation or trust the notebook. <br />On GitHub, the HTML representation is unable to render, please try loading this page with nbviewer.org.</b></div><div class=\"sk-container\" hidden><div class=\"sk-item\"><div class=\"sk-estimator sk-toggleable\"><input class=\"sk-toggleable__control sk-hidden--visually\" id=\"sk-estimator-id-1\" type=\"checkbox\" checked><label for=\"sk-estimator-id-1\" class=\"sk-toggleable__label sk-toggleable__label-arrow\">LinearRegression</label><div class=\"sk-toggleable__content\"><pre>LinearRegression()</pre></div></div></div></div></div>"
      ],
      "text/plain": [
       "LinearRegression()"
      ]
     },
     "execution_count": 148,
     "metadata": {},
     "output_type": "execute_result"
    }
   ],
   "source": [
    "from sklearn.linear_model import LinearRegression\n",
    "regressor = LinearRegression()\n",
    "regressor.fit(X_train_transformed, y_train)"
   ]
  },
  {
   "cell_type": "code",
   "execution_count": 155,
   "id": "2f75012a",
   "metadata": {},
   "outputs": [],
   "source": [
    "y_test_pred = regressor.predict(X_test_transformed)"
   ]
  },
  {
   "cell_type": "code",
   "execution_count": 156,
   "id": "33d13e42",
   "metadata": {},
   "outputs": [
    {
     "data": {
      "text/html": [
       "<div>\n",
       "<style scoped>\n",
       "    .dataframe tbody tr th:only-of-type {\n",
       "        vertical-align: middle;\n",
       "    }\n",
       "\n",
       "    .dataframe tbody tr th {\n",
       "        vertical-align: top;\n",
       "    }\n",
       "\n",
       "    .dataframe thead th {\n",
       "        text-align: right;\n",
       "    }\n",
       "</style>\n",
       "<table border=\"1\" class=\"dataframe\">\n",
       "  <thead>\n",
       "    <tr style=\"text-align: right;\">\n",
       "      <th></th>\n",
       "      <th>Actual</th>\n",
       "      <th>Predicted</th>\n",
       "    </tr>\n",
       "  </thead>\n",
       "  <tbody>\n",
       "    <tr>\n",
       "      <th>400</th>\n",
       "      <td>10.868397</td>\n",
       "      <td>10.951413</td>\n",
       "    </tr>\n",
       "    <tr>\n",
       "      <th>334</th>\n",
       "      <td>10.976782</td>\n",
       "      <td>10.951413</td>\n",
       "    </tr>\n",
       "    <tr>\n",
       "      <th>238</th>\n",
       "      <td>10.601398</td>\n",
       "      <td>10.951413</td>\n",
       "    </tr>\n",
       "    <tr>\n",
       "      <th>437</th>\n",
       "      <td>10.596410</td>\n",
       "      <td>10.951413</td>\n",
       "    </tr>\n",
       "    <tr>\n",
       "      <th>411</th>\n",
       "      <td>10.596410</td>\n",
       "      <td>10.951413</td>\n",
       "    </tr>\n",
       "  </tbody>\n",
       "</table>\n",
       "</div>"
      ],
      "text/plain": [
       "        Actual  Predicted\n",
       "400  10.868397  10.951413\n",
       "334  10.976782  10.951413\n",
       "238  10.601398  10.951413\n",
       "437  10.596410  10.951413\n",
       "411  10.596410  10.951413"
      ]
     },
     "execution_count": 156,
     "metadata": {},
     "output_type": "execute_result"
    }
   ],
   "source": [
    "temp_df = pd.DataFrame({'Actual': y_test, 'Predicted': y_test_pred})\n",
    "\n",
    "temp_df.head()"
   ]
  },
  {
   "cell_type": "code",
   "execution_count": 157,
   "id": "8f693949",
   "metadata": {},
   "outputs": [
    {
     "data": {
      "text/plain": [
       "<AxesSubplot:xlabel='MRP', ylabel='Count'>"
      ]
     },
     "execution_count": 157,
     "metadata": {},
     "output_type": "execute_result"
    },
    {
     "data": {
      "image/png": "[encoded data removed]",
      "text/plain": [
       "<Figure size 432x288 with 1 Axes>"
      ]
     },
     "metadata": {
      "needs_background": "light"
     },
     "output_type": "display_data"
    }
   ],
   "source": [
    "sns.histplot(y_test, color='blue', alpha=0.5)\n",
    "sns.histplot(y_test_pred, color='red', alpha=0.5)"
   ]
  },
  {
   "cell_type": "code",
   "execution_count": 176,
   "id": "7946208b",
   "metadata": {},
   "outputs": [
    {
     "name": "stdout",
     "output_type": "stream",
     "text": [
      "Mean Absolute Error:  0.2772937997453458\n",
      "Mean Squared Error:  0.150798910868854\n",
      "Root Mean Squared Error:  0.3883283544487242\n",
      "R2 Error:  0.6096707409302164\n"
     ]
    }
   ],
   "source": [
    "from sklearn import metrics\n",
    "\n",
    "print('Mean Absolute Error: ', metrics.mean_absolute_error(y_test, y_test_pred))\n",
    "\n",
    "print('Mean Squared Error: ', metrics.mean_squared_error(y_test, y_test_pred))\n",
    "\n",
    "print('Root Mean Squared Error: ', np.sqrt(metrics.mean_squared_error(y_test, y_test_pred)))\n",
    "\n",
    "print( 'R2 Error: ', metrics.r2_score(y_test,y_test_pred))"
   ]
  },
  {
   "cell_type": "markdown",
   "id": "7437a6cf",
   "metadata": {},
   "source": [
    "##### KNN Regressor"
   ]
  },
  {
   "cell_type": "code",
   "execution_count": 165,
   "id": "fb56abe2",
   "metadata": {},
   "outputs": [
    {
     "data": {
      "text/html": [
       "<style>#sk-container-id-3 {color: black;background-color: white;}#sk-container-id-3 pre{padding: 0;}#sk-container-id-3 div.sk-toggleable {background-color: white;}#sk-container-id-3 label.sk-toggleable__label {cursor: pointer;display: block;width: 100%;margin-bottom: 0;padding: 0.3em;box-sizing: border-box;text-align: center;}#sk-container-id-3 label.sk-toggleable__label-arrow:before {content: \"▸\";float: left;margin-right: 0.25em;color: #696969;}#sk-container-id-3 label.sk-toggleable__label-arrow:hover:before {color: black;}#sk-container-id-3 div.sk-estimator:hover label.sk-toggleable__label-arrow:before {color: black;}#sk-container-id-3 div.sk-toggleable__content {max-height: 0;max-width: 0;overflow: hidden;text-align: left;background-color: #f0f8ff;}#sk-container-id-3 div.sk-toggleable__content pre {margin: 0.2em;color: black;border-radius: 0.25em;background-color: #f0f8ff;}#sk-container-id-3 input.sk-toggleable__control:checked~div.sk-toggleable__content {max-height: 200px;max-width: 100%;overflow: auto;}#sk-container-id-3 input.sk-toggleable__control:checked~label.sk-toggleable__label-arrow:before {content: \"▾\";}#sk-container-id-3 div.sk-estimator input.sk-toggleable__control:checked~label.sk-toggleable__label {background-color: #d4ebff;}#sk-container-id-3 div.sk-label input.sk-toggleable__control:checked~label.sk-toggleable__label {background-color: #d4ebff;}#sk-container-id-3 input.sk-hidden--visually {border: 0;clip: rect(1px 1px 1px 1px);clip: rect(1px, 1px, 1px, 1px);height: 1px;margin: -1px;overflow: hidden;padding: 0;position: absolute;width: 1px;}#sk-container-id-3 div.sk-estimator {font-family: monospace;background-color: #f0f8ff;border: 1px dotted black;border-radius: 0.25em;box-sizing: border-box;margin-bottom: 0.5em;}#sk-container-id-3 div.sk-estimator:hover {background-color: #d4ebff;}#sk-container-id-3 div.sk-parallel-item::after {content: \"\";width: 100%;border-bottom: 1px solid gray;flex-grow: 1;}#sk-container-id-3 div.sk-label:hover label.sk-toggleable__label {background-color: #d4ebff;}#sk-container-id-3 div.sk-serial::before {content: \"\";position: absolute;border-left: 1px solid gray;box-sizing: border-box;top: 0;bottom: 0;left: 50%;z-index: 0;}#sk-container-id-3 div.sk-serial {display: flex;flex-direction: column;align-items: center;background-color: white;padding-right: 0.2em;padding-left: 0.2em;position: relative;}#sk-container-id-3 div.sk-item {position: relative;z-index: 1;}#sk-container-id-3 div.sk-parallel {display: flex;align-items: stretch;justify-content: center;background-color: white;position: relative;}#sk-container-id-3 div.sk-item::before, #sk-container-id-3 div.sk-parallel-item::before {content: \"\";position: absolute;border-left: 1px solid gray;box-sizing: border-box;top: 0;bottom: 0;left: 50%;z-index: -1;}#sk-container-id-3 div.sk-parallel-item {display: flex;flex-direction: column;z-index: 1;position: relative;background-color: white;}#sk-container-id-3 div.sk-parallel-item:first-child::after {align-self: flex-end;width: 50%;}#sk-container-id-3 div.sk-parallel-item:last-child::after {align-self: flex-start;width: 50%;}#sk-container-id-3 div.sk-parallel-item:only-child::after {width: 0;}#sk-container-id-3 div.sk-dashed-wrapped {border: 1px dashed gray;margin: 0 0.4em 0.5em 0.4em;box-sizing: border-box;padding-bottom: 0.4em;background-color: white;}#sk-container-id-3 div.sk-label label {font-family: monospace;font-weight: bold;display: inline-block;line-height: 1.2em;}#sk-container-id-3 div.sk-label-container {text-align: center;}#sk-container-id-3 div.sk-container {/* jupyter's `normalize.less` sets `[hidden] { display: none; }` but bootstrap.min.css set `[hidden] { display: none !important; }` so we also need the `!important` here to be able to override the default hidden behavior on the sphinx rendered scikit-learn.org. See: https://github.com/scikit-learn/scikit-learn/issues/21755 */display: inline-block !important;position: relative;}#sk-container-id-3 div.sk-text-repr-fallback {display: none;}</style><div id=\"sk-container-id-3\" class=\"sk-top-container\"><div class=\"sk-text-repr-fallback\"><pre>KNeighborsRegressor()</pre><b>In a Jupyter environment, please rerun this cell to show the HTML representation or trust the notebook. <br />On GitHub, the HTML representation is unable to render, please try loading this page with nbviewer.org.</b></div><div class=\"sk-container\" hidden><div class=\"sk-item\"><div class=\"sk-estimator sk-toggleable\"><input class=\"sk-toggleable__control sk-hidden--visually\" id=\"sk-estimator-id-3\" type=\"checkbox\" checked><label for=\"sk-estimator-id-3\" class=\"sk-toggleable__label sk-toggleable__label-arrow\">KNeighborsRegressor</label><div class=\"sk-toggleable__content\"><pre>KNeighborsRegressor()</pre></div></div></div></div></div>"
      ],
      "text/plain": [
       "KNeighborsRegressor()"
      ]
     },
     "execution_count": 165,
     "metadata": {},
     "output_type": "execute_result"
    }
   ],
   "source": [
    "from sklearn.neighbors import KNeighborsRegressor\n",
    "regressor = KNeighborsRegressor()\n",
    "regressor.fit(X_train_transformed, y_train)\n"
   ]
  },
  {
   "cell_type": "code",
   "execution_count": 166,
   "id": "e571da5a",
   "metadata": {},
   "outputs": [],
   "source": [
    "y_test_pred = regressor.predict(X_test_transformed)"
   ]
  },
  {
   "cell_type": "code",
   "execution_count": 167,
   "id": "52bbf253",
   "metadata": {},
   "outputs": [
    {
     "data": {
      "text/html": [
       "<div>\n",
       "<style scoped>\n",
       "    .dataframe tbody tr th:only-of-type {\n",
       "        vertical-align: middle;\n",
       "    }\n",
       "\n",
       "    .dataframe tbody tr th {\n",
       "        vertical-align: top;\n",
       "    }\n",
       "\n",
       "    .dataframe thead th {\n",
       "        text-align: right;\n",
       "    }\n",
       "</style>\n",
       "<table border=\"1\" class=\"dataframe\">\n",
       "  <thead>\n",
       "    <tr style=\"text-align: right;\">\n",
       "      <th></th>\n",
       "      <th>Actual</th>\n",
       "      <th>Predicted</th>\n",
       "    </tr>\n",
       "  </thead>\n",
       "  <tbody>\n",
       "    <tr>\n",
       "      <th>400</th>\n",
       "      <td>10.868397</td>\n",
       "      <td>10.87231</td>\n",
       "    </tr>\n",
       "    <tr>\n",
       "      <th>334</th>\n",
       "      <td>10.976782</td>\n",
       "      <td>10.87231</td>\n",
       "    </tr>\n",
       "    <tr>\n",
       "      <th>238</th>\n",
       "      <td>10.601398</td>\n",
       "      <td>10.87231</td>\n",
       "    </tr>\n",
       "    <tr>\n",
       "      <th>437</th>\n",
       "      <td>10.596410</td>\n",
       "      <td>10.87231</td>\n",
       "    </tr>\n",
       "    <tr>\n",
       "      <th>411</th>\n",
       "      <td>10.596410</td>\n",
       "      <td>10.87231</td>\n",
       "    </tr>\n",
       "  </tbody>\n",
       "</table>\n",
       "</div>"
      ],
      "text/plain": [
       "        Actual  Predicted\n",
       "400  10.868397   10.87231\n",
       "334  10.976782   10.87231\n",
       "238  10.601398   10.87231\n",
       "437  10.596410   10.87231\n",
       "411  10.596410   10.87231"
      ]
     },
     "execution_count": 167,
     "metadata": {},
     "output_type": "execute_result"
    }
   ],
   "source": [
    "temp_df = pd.DataFrame({'Actual': y_test, 'Predicted': y_test_pred})\n",
    "\n",
    "temp_df.head()"
   ]
  },
  {
   "cell_type": "code",
   "execution_count": 168,
   "id": "c910d573",
   "metadata": {},
   "outputs": [
    {
     "data": {
      "text/plain": [
       "<AxesSubplot:xlabel='MRP', ylabel='Count'>"
      ]
     },
     "execution_count": 168,
     "metadata": {},
     "output_type": "execute_result"
    },
    {
     "data": {
      "image/png": "[encoded data removed]",
      "text/plain": [
       "<Figure size 432x288 with 1 Axes>"
      ]
     },
     "metadata": {
      "needs_background": "light"
     },
     "output_type": "display_data"
    }
   ],
   "source": [
    "sns.histplot(y_test, color='blue', alpha=0.5)\n",
    "sns.histplot(y_test_pred, color='red', alpha=0.5)"
   ]
  },
  {
   "cell_type": "code",
   "execution_count": 175,
   "id": "66424657",
   "metadata": {},
   "outputs": [
    {
     "name": "stdout",
     "output_type": "stream",
     "text": [
      "Mean Absolute Error:  0.2772937997453458\n",
      "Mean Squared Error:  0.150798910868854\n",
      "Root Mean Squared Error:  0.3883283544487242\n",
      "R2 Error:  0.6096707409302164\n"
     ]
    }
   ],
   "source": [
    "print('Mean Absolute Error: ', metrics.mean_absolute_error(y_test, y_test_pred))\n",
    "\n",
    "print('Mean Squared Error: ', metrics.mean_squared_error(y_test, y_test_pred))\n",
    "\n",
    "print('Root Mean Squared Error: ', np.sqrt(metrics.mean_squared_error(y_test, y_test_pred)))\n",
    "\n",
    "print( 'R2 Error: ', metrics.r2_score(y_test,y_test_pred))"
   ]
  },
  {
   "cell_type": "markdown",
   "id": "1bd5549d",
   "metadata": {},
   "source": [
    "##### DecisionTree Regression"
   ]
  },
  {
   "cell_type": "code",
   "execution_count": 170,
   "id": "0fa86a67",
   "metadata": {},
   "outputs": [
    {
     "data": {
      "text/html": [
       "<style>#sk-container-id-4 {color: black;background-color: white;}#sk-container-id-4 pre{padding: 0;}#sk-container-id-4 div.sk-toggleable {background-color: white;}#sk-container-id-4 label.sk-toggleable__label {cursor: pointer;display: block;width: 100%;margin-bottom: 0;padding: 0.3em;box-sizing: border-box;text-align: center;}#sk-container-id-4 label.sk-toggleable__label-arrow:before {content: \"▸\";float: left;margin-right: 0.25em;color: #696969;}#sk-container-id-4 label.sk-toggleable__label-arrow:hover:before {color: black;}#sk-container-id-4 div.sk-estimator:hover label.sk-toggleable__label-arrow:before {color: black;}#sk-container-id-4 div.sk-toggleable__content {max-height: 0;max-width: 0;overflow: hidden;text-align: left;background-color: #f0f8ff;}#sk-container-id-4 div.sk-toggleable__content pre {margin: 0.2em;color: black;border-radius: 0.25em;background-color: #f0f8ff;}#sk-container-id-4 input.sk-toggleable__control:checked~div.sk-toggleable__content {max-height: 200px;max-width: 100%;overflow: auto;}#sk-container-id-4 input.sk-toggleable__control:checked~label.sk-toggleable__label-arrow:before {content: \"▾\";}#sk-container-id-4 div.sk-estimator input.sk-toggleable__control:checked~label.sk-toggleable__label {background-color: #d4ebff;}#sk-container-id-4 div.sk-label input.sk-toggleable__control:checked~label.sk-toggleable__label {background-color: #d4ebff;}#sk-container-id-4 input.sk-hidden--visually {border: 0;clip: rect(1px 1px 1px 1px);clip: rect(1px, 1px, 1px, 1px);height: 1px;margin: -1px;overflow: hidden;padding: 0;position: absolute;width: 1px;}#sk-container-id-4 div.sk-estimator {font-family: monospace;background-color: #f0f8ff;border: 1px dotted black;border-radius: 0.25em;box-sizing: border-box;margin-bottom: 0.5em;}#sk-container-id-4 div.sk-estimator:hover {background-color: #d4ebff;}#sk-container-id-4 div.sk-parallel-item::after {content: \"\";width: 100%;border-bottom: 1px solid gray;flex-grow: 1;}#sk-container-id-4 div.sk-label:hover label.sk-toggleable__label {background-color: #d4ebff;}#sk-container-id-4 div.sk-serial::before {content: \"\";position: absolute;border-left: 1px solid gray;box-sizing: border-box;top: 0;bottom: 0;left: 50%;z-index: 0;}#sk-container-id-4 div.sk-serial {display: flex;flex-direction: column;align-items: center;background-color: white;padding-right: 0.2em;padding-left: 0.2em;position: relative;}#sk-container-id-4 div.sk-item {position: relative;z-index: 1;}#sk-container-id-4 div.sk-parallel {display: flex;align-items: stretch;justify-content: center;background-color: white;position: relative;}#sk-container-id-4 div.sk-item::before, #sk-container-id-4 div.sk-parallel-item::before {content: \"\";position: absolute;border-left: 1px solid gray;box-sizing: border-box;top: 0;bottom: 0;left: 50%;z-index: -1;}#sk-container-id-4 div.sk-parallel-item {display: flex;flex-direction: column;z-index: 1;position: relative;background-color: white;}#sk-container-id-4 div.sk-parallel-item:first-child::after {align-self: flex-end;width: 50%;}#sk-container-id-4 div.sk-parallel-item:last-child::after {align-self: flex-start;width: 50%;}#sk-container-id-4 div.sk-parallel-item:only-child::after {width: 0;}#sk-container-id-4 div.sk-dashed-wrapped {border: 1px dashed gray;margin: 0 0.4em 0.5em 0.4em;box-sizing: border-box;padding-bottom: 0.4em;background-color: white;}#sk-container-id-4 div.sk-label label {font-family: monospace;font-weight: bold;display: inline-block;line-height: 1.2em;}#sk-container-id-4 div.sk-label-container {text-align: center;}#sk-container-id-4 div.sk-container {/* jupyter's `normalize.less` sets `[hidden] { display: none; }` but bootstrap.min.css set `[hidden] { display: none !important; }` so we also need the `!important` here to be able to override the default hidden behavior on the sphinx rendered scikit-learn.org. See: https://github.com/scikit-learn/scikit-learn/issues/21755 */display: inline-block !important;position: relative;}#sk-container-id-4 div.sk-text-repr-fallback {display: none;}</style><div id=\"sk-container-id-4\" class=\"sk-top-container\"><div class=\"sk-text-repr-fallback\"><pre>DecisionTreeRegressor()</pre><b>In a Jupyter environment, please rerun this cell to show the HTML representation or trust the notebook. <br />On GitHub, the HTML representation is unable to render, please try loading this page with nbviewer.org.</b></div><div class=\"sk-container\" hidden><div class=\"sk-item\"><div class=\"sk-estimator sk-toggleable\"><input class=\"sk-toggleable__control sk-hidden--visually\" id=\"sk-estimator-id-4\" type=\"checkbox\" checked><label for=\"sk-estimator-id-4\" class=\"sk-toggleable__label sk-toggleable__label-arrow\">DecisionTreeRegressor</label><div class=\"sk-toggleable__content\"><pre>DecisionTreeRegressor()</pre></div></div></div></div></div>"
      ],
      "text/plain": [
       "DecisionTreeRegressor()"
      ]
     },
     "execution_count": 170,
     "metadata": {},
     "output_type": "execute_result"
    }
   ],
   "source": [
    "from sklearn.tree import DecisionTreeRegressor\n",
    "regressor = DecisionTreeRegressor()\n",
    "regressor.fit(X_train_transformed, y_train)\n"
   ]
  },
  {
   "cell_type": "code",
   "execution_count": 171,
   "id": "c379e4d7",
   "metadata": {},
   "outputs": [],
   "source": [
    "y_test_pred = regressor.predict(X_test_transformed)"
   ]
  },
  {
   "cell_type": "code",
   "execution_count": 172,
   "id": "be0962f1",
   "metadata": {},
   "outputs": [
    {
     "data": {
      "text/html": [
       "<div>\n",
       "<style scoped>\n",
       "    .dataframe tbody tr th:only-of-type {\n",
       "        vertical-align: middle;\n",
       "    }\n",
       "\n",
       "    .dataframe tbody tr th {\n",
       "        vertical-align: top;\n",
       "    }\n",
       "\n",
       "    .dataframe thead th {\n",
       "        text-align: right;\n",
       "    }\n",
       "</style>\n",
       "<table border=\"1\" class=\"dataframe\">\n",
       "  <thead>\n",
       "    <tr style=\"text-align: right;\">\n",
       "      <th></th>\n",
       "      <th>Actual</th>\n",
       "      <th>Predicted</th>\n",
       "    </tr>\n",
       "  </thead>\n",
       "  <tbody>\n",
       "    <tr>\n",
       "      <th>400</th>\n",
       "      <td>10.868397</td>\n",
       "      <td>10.836021</td>\n",
       "    </tr>\n",
       "    <tr>\n",
       "      <th>334</th>\n",
       "      <td>10.976782</td>\n",
       "      <td>10.836021</td>\n",
       "    </tr>\n",
       "    <tr>\n",
       "      <th>238</th>\n",
       "      <td>10.601398</td>\n",
       "      <td>10.836021</td>\n",
       "    </tr>\n",
       "    <tr>\n",
       "      <th>437</th>\n",
       "      <td>10.596410</td>\n",
       "      <td>10.836021</td>\n",
       "    </tr>\n",
       "    <tr>\n",
       "      <th>411</th>\n",
       "      <td>10.596410</td>\n",
       "      <td>10.836021</td>\n",
       "    </tr>\n",
       "  </tbody>\n",
       "</table>\n",
       "</div>"
      ],
      "text/plain": [
       "        Actual  Predicted\n",
       "400  10.868397  10.836021\n",
       "334  10.976782  10.836021\n",
       "238  10.601398  10.836021\n",
       "437  10.596410  10.836021\n",
       "411  10.596410  10.836021"
      ]
     },
     "execution_count": 172,
     "metadata": {},
     "output_type": "execute_result"
    }
   ],
   "source": [
    "temp_df = pd.DataFrame({'Actual': y_test, 'Predicted': y_test_pred})\n",
    "\n",
    "temp_df.head()"
   ]
  },
  {
   "cell_type": "code",
   "execution_count": 173,
   "id": "c34df780",
   "metadata": {},
   "outputs": [
    {
     "data": {
      "text/plain": [
       "<AxesSubplot:xlabel='MRP', ylabel='Count'>"
      ]
     },
     "execution_count": 173,
     "metadata": {},
     "output_type": "execute_result"
    },
    {
     "data": {
      "image/png": "[encoded data removed]",
      "text/plain": [
       "<Figure size 432x288 with 1 Axes>"
      ]
     },
     "metadata": {
      "needs_background": "light"
     },
     "output_type": "display_data"
    }
   ],
   "source": [
    "sns.histplot(y_test, color='blue', alpha=0.5)\n",
    "sns.histplot(y_test_pred, color='red', alpha=0.5)"
   ]
  },
  {
   "cell_type": "code",
   "execution_count": 174,
   "id": "adf67bd0",
   "metadata": {},
   "outputs": [
    {
     "name": "stdout",
     "output_type": "stream",
     "text": [
      "Mean Absolute Error:  0.2772937997453458\n",
      "Mean Squared Error:  0.150798910868854\n",
      "Root Mean Squared Error:  0.3883283544487242\n",
      "R2 Error:  0.6096707409302164\n"
     ]
    }
   ],
   "source": [
    "print('Mean Absolute Error: ', metrics.mean_absolute_error(y_test, y_test_pred))\n",
    "\n",
    "print('Mean Squared Error: ', metrics.mean_squared_error(y_test, y_test_pred))\n",
    "\n",
    "print('Root Mean Squared Error: ', np.sqrt(metrics.mean_squared_error(y_test, y_test_pred)))\n",
    "\n",
    "print( 'R2 Error: ', metrics.r2_score(y_test,y_test_pred))"
   ]
  },
  {
   "cell_type": "markdown",
   "id": "0258cca1",
   "metadata": {},
   "source": [
    "##### Random Forest Regression"
   ]
  },
  {
   "cell_type": "code",
   "execution_count": 159,
   "id": "0c5a5e2b",
   "metadata": {},
   "outputs": [
    {
     "data": {
      "text/html": [
       "<style>#sk-container-id-2 {color: black;background-color: white;}#sk-container-id-2 pre{padding: 0;}#sk-container-id-2 div.sk-toggleable {background-color: white;}#sk-container-id-2 label.sk-toggleable__label {cursor: pointer;display: block;width: 100%;margin-bottom: 0;padding: 0.3em;box-sizing: border-box;text-align: center;}#sk-container-id-2 label.sk-toggleable__label-arrow:before {content: \"▸\";float: left;margin-right: 0.25em;color: #696969;}#sk-container-id-2 label.sk-toggleable__label-arrow:hover:before {color: black;}#sk-container-id-2 div.sk-estimator:hover label.sk-toggleable__label-arrow:before {color: black;}#sk-container-id-2 div.sk-toggleable__content {max-height: 0;max-width: 0;overflow: hidden;text-align: left;background-color: #f0f8ff;}#sk-container-id-2 div.sk-toggleable__content pre {margin: 0.2em;color: black;border-radius: 0.25em;background-color: #f0f8ff;}#sk-container-id-2 input.sk-toggleable__control:checked~div.sk-toggleable__content {max-height: 200px;max-width: 100%;overflow: auto;}#sk-container-id-2 input.sk-toggleable__control:checked~label.sk-toggleable__label-arrow:before {content: \"▾\";}#sk-container-id-2 div.sk-estimator input.sk-toggleable__control:checked~label.sk-toggleable__label {background-color: #d4ebff;}#sk-container-id-2 div.sk-label input.sk-toggleable__control:checked~label.sk-toggleable__label {background-color: #d4ebff;}#sk-container-id-2 input.sk-hidden--visually {border: 0;clip: rect(1px 1px 1px 1px);clip: rect(1px, 1px, 1px, 1px);height: 1px;margin: -1px;overflow: hidden;padding: 0;position: absolute;width: 1px;}#sk-container-id-2 div.sk-estimator {font-family: monospace;background-color: #f0f8ff;border: 1px dotted black;border-radius: 0.25em;box-sizing: border-box;margin-bottom: 0.5em;}#sk-container-id-2 div.sk-estimator:hover {background-color: #d4ebff;}#sk-container-id-2 div.sk-parallel-item::after {content: \"\";width: 100%;border-bottom: 1px solid gray;flex-grow: 1;}#sk-container-id-2 div.sk-label:hover label.sk-toggleable__label {background-color: #d4ebff;}#sk-container-id-2 div.sk-serial::before {content: \"\";position: absolute;border-left: 1px solid gray;box-sizing: border-box;top: 0;bottom: 0;left: 50%;z-index: 0;}#sk-container-id-2 div.sk-serial {display: flex;flex-direction: column;align-items: center;background-color: white;padding-right: 0.2em;padding-left: 0.2em;position: relative;}#sk-container-id-2 div.sk-item {position: relative;z-index: 1;}#sk-container-id-2 div.sk-parallel {display: flex;align-items: stretch;justify-content: center;background-color: white;position: relative;}#sk-container-id-2 div.sk-item::before, #sk-container-id-2 div.sk-parallel-item::before {content: \"\";position: absolute;border-left: 1px solid gray;box-sizing: border-box;top: 0;bottom: 0;left: 50%;z-index: -1;}#sk-container-id-2 div.sk-parallel-item {display: flex;flex-direction: column;z-index: 1;position: relative;background-color: white;}#sk-container-id-2 div.sk-parallel-item:first-child::after {align-self: flex-end;width: 50%;}#sk-container-id-2 div.sk-parallel-item:last-child::after {align-self: flex-start;width: 50%;}#sk-container-id-2 div.sk-parallel-item:only-child::after {width: 0;}#sk-container-id-2 div.sk-dashed-wrapped {border: 1px dashed gray;margin: 0 0.4em 0.5em 0.4em;box-sizing: border-box;padding-bottom: 0.4em;background-color: white;}#sk-container-id-2 div.sk-label label {font-family: monospace;font-weight: bold;display: inline-block;line-height: 1.2em;}#sk-container-id-2 div.sk-label-container {text-align: center;}#sk-container-id-2 div.sk-container {/* jupyter's `normalize.less` sets `[hidden] { display: none; }` but bootstrap.min.css set `[hidden] { display: none !important; }` so we also need the `!important` here to be able to override the default hidden behavior on the sphinx rendered scikit-learn.org. See: https://github.com/scikit-learn/scikit-learn/issues/21755 */display: inline-block !important;position: relative;}#sk-container-id-2 div.sk-text-repr-fallback {display: none;}</style><div id=\"sk-container-id-2\" class=\"sk-top-container\"><div class=\"sk-text-repr-fallback\"><pre>RandomForestRegressor()</pre><b>In a Jupyter environment, please rerun this cell to show the HTML representation or trust the notebook. <br />On GitHub, the HTML representation is unable to render, please try loading this page with nbviewer.org.</b></div><div class=\"sk-container\" hidden><div class=\"sk-item\"><div class=\"sk-estimator sk-toggleable\"><input class=\"sk-toggleable__control sk-hidden--visually\" id=\"sk-estimator-id-2\" type=\"checkbox\" checked><label for=\"sk-estimator-id-2\" class=\"sk-toggleable__label sk-toggleable__label-arrow\">RandomForestRegressor</label><div class=\"sk-toggleable__content\"><pre>RandomForestRegressor()</pre></div></div></div></div></div>"
      ],
      "text/plain": [
       "RandomForestRegressor()"
      ]
     },
     "execution_count": 159,
     "metadata": {},
     "output_type": "execute_result"
    }
   ],
   "source": [
    "from sklearn.ensemble import RandomForestRegressor\n",
    "regressor = RandomForestRegressor()\n",
    "regressor.fit(X_train_transformed, y_train)"
   ]
  },
  {
   "cell_type": "code",
   "execution_count": 160,
   "id": "fc23e6ef",
   "metadata": {},
   "outputs": [],
   "source": [
    "y_test_pred = regressor.predict(X_test_transformed)"
   ]
  },
  {
   "cell_type": "code",
   "execution_count": 161,
   "id": "bc770775",
   "metadata": {},
   "outputs": [
    {
     "data": {
      "text/html": [
       "<div>\n",
       "<style scoped>\n",
       "    .dataframe tbody tr th:only-of-type {\n",
       "        vertical-align: middle;\n",
       "    }\n",
       "\n",
       "    .dataframe tbody tr th {\n",
       "        vertical-align: top;\n",
       "    }\n",
       "\n",
       "    .dataframe thead th {\n",
       "        text-align: right;\n",
       "    }\n",
       "</style>\n",
       "<table border=\"1\" class=\"dataframe\">\n",
       "  <thead>\n",
       "    <tr style=\"text-align: right;\">\n",
       "      <th></th>\n",
       "      <th>Actual</th>\n",
       "      <th>Predicted</th>\n",
       "    </tr>\n",
       "  </thead>\n",
       "  <tbody>\n",
       "    <tr>\n",
       "      <th>400</th>\n",
       "      <td>10.868397</td>\n",
       "      <td>10.839021</td>\n",
       "    </tr>\n",
       "    <tr>\n",
       "      <th>334</th>\n",
       "      <td>10.976782</td>\n",
       "      <td>10.839021</td>\n",
       "    </tr>\n",
       "    <tr>\n",
       "      <th>238</th>\n",
       "      <td>10.601398</td>\n",
       "      <td>10.839021</td>\n",
       "    </tr>\n",
       "    <tr>\n",
       "      <th>437</th>\n",
       "      <td>10.596410</td>\n",
       "      <td>10.839021</td>\n",
       "    </tr>\n",
       "    <tr>\n",
       "      <th>411</th>\n",
       "      <td>10.596410</td>\n",
       "      <td>10.839021</td>\n",
       "    </tr>\n",
       "  </tbody>\n",
       "</table>\n",
       "</div>"
      ],
      "text/plain": [
       "        Actual  Predicted\n",
       "400  10.868397  10.839021\n",
       "334  10.976782  10.839021\n",
       "238  10.601398  10.839021\n",
       "437  10.596410  10.839021\n",
       "411  10.596410  10.839021"
      ]
     },
     "execution_count": 161,
     "metadata": {},
     "output_type": "execute_result"
    }
   ],
   "source": [
    "temp_df = pd.DataFrame({'Actual': y_test, 'Predicted': y_test_pred})\n",
    "\n",
    "temp_df.head()"
   ]
  },
  {
   "cell_type": "code",
   "execution_count": 162,
   "id": "99505f33",
   "metadata": {},
   "outputs": [
    {
     "data": {
      "text/plain": [
       "<AxesSubplot:xlabel='MRP', ylabel='Count'>"
      ]
     },
     "execution_count": 162,
     "metadata": {},
     "output_type": "execute_result"
    },
    {
     "data": {
      "image/png": "[encoded data removed]",
      "text/plain": [
       "<Figure size 432x288 with 1 Axes>"
      ]
     },
     "metadata": {
      "needs_background": "light"
     },
     "output_type": "display_data"
    }
   ],
   "source": [
    "sns.histplot(y_test, color='blue', alpha=0.5)\n",
    "sns.histplot(y_test_pred, color='red', alpha=0.5)"
   ]
  },
  {
   "cell_type": "code",
   "execution_count": 163,
   "id": "f78b3f81",
   "metadata": {},
   "outputs": [
    {
     "name": "stdout",
     "output_type": "stream",
     "text": [
      "Mean Absolute Error:  0.2721693453114692\n",
      "Mean Squared Error:  0.1290339815937559\n",
      "Root Mean Squared Error:  0.3592130030967085\n",
      "R2 Error:  0.6660072798926471\n"
     ]
    }
   ],
   "source": [
    "print('Mean Absolute Error: ', metrics.mean_absolute_error(y_test, y_test_pred))\n",
    "\n",
    "print('Mean Squared Error: ', metrics.mean_squared_error(y_test, y_test_pred))\n",
    "\n",
    "print('Root Mean Squared Error: ', np.sqrt(metrics.mean_squared_error(y_test, y_test_pred)))\n",
    "\n",
    "print( 'R2 Error: ', metrics.r2_score(y_test,y_test_pred))"
   ]
  },
  {
   "cell_type": "code",
   "execution_count": null,
   "id": "d9d250ad",
   "metadata": {},
   "outputs": [],
   "source": []
  }
 ],
 "metadata": {
  "kernelspec": {
   "display_name": "Python 3 (ipykernel)",
   "language": "python",
   "name": "python3"
  },
  "language_info": {
   "codemirror_mode": {
    "name": "ipython",
    "version": 3
   },
   "file_extension": ".py",
   "mimetype": "text/x-python",
   "name": "python",
   "nbconvert_exporter": "python",
   "pygments_lexer": "ipython3",
   "version": "3.9.12"
  }
 },
 "nbformat": 4,
 "nbformat_minor": 5
}
